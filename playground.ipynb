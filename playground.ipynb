{
 "cells": [
  {
   "cell_type": "code",
   "execution_count": 2,
   "metadata": {},
   "outputs": [],
   "source": [
    "import pandas as pd\n",
    "\n",
    "frame = pd.read_pickle('D:/02_Studium/SBX/mad-recime/data/2022_03_19/recipePreProc_8.pkl')\n",
    "\n",
    "frame = frame.head(100).copy()\n",
    "\n",
    "frame.to_pickle('D:/02_Studium/SBX/mad-recime/data/2022_03_19/recipePreProc_8.pkl')"
   ]
  },
  {
   "cell_type": "code",
   "execution_count": 3,
   "metadata": {},
   "outputs": [
    {
     "data": {
      "text/html": [
       "<div>\n",
       "<style scoped>\n",
       "    .dataframe tbody tr th:only-of-type {\n",
       "        vertical-align: middle;\n",
       "    }\n",
       "\n",
       "    .dataframe tbody tr th {\n",
       "        vertical-align: top;\n",
       "    }\n",
       "\n",
       "    .dataframe thead th {\n",
       "        text-align: right;\n",
       "    }\n",
       "</style>\n",
       "<table border=\"1\" class=\"dataframe\">\n",
       "  <thead>\n",
       "    <tr style=\"text-align: right;\">\n",
       "      <th></th>\n",
       "      <th>title</th>\n",
       "      <th>instructions</th>\n",
       "      <th>amount</th>\n",
       "      <th>unit</th>\n",
       "      <th>ingredient</th>\n",
       "    </tr>\n",
       "    <tr>\n",
       "      <th>id</th>\n",
       "      <th></th>\n",
       "      <th></th>\n",
       "      <th></th>\n",
       "      <th></th>\n",
       "      <th></th>\n",
       "    </tr>\n",
       "  </thead>\n",
       "  <tbody>\n",
       "    <tr>\n",
       "      <th>f545b29525</th>\n",
       "      <td>Cheesie Chicken Delishisness Sandwich</td>\n",
       "      <td>0           Slice your roll and place on a bak...</td>\n",
       "      <td>[1.0, 1.0, 1.0, 1.0, 1.0, 1.0, 1.0, 1.0, 2.0, ...</td>\n",
       "      <td>[, , , , tablespoon, , , teaspoon, , ]</td>\n",
       "      <td>[roll, chicken pieces, salt, pepper, diced oni...</td>\n",
       "    </tr>\n",
       "    <tr>\n",
       "      <th>f545dc1c3b</th>\n",
       "      <td>Bob's Best Banana Bread</td>\n",
       "      <td>0                                 Preheat oven...</td>\n",
       "      <td>[3.0, 1.0, 1.0, 4.0, 1.5, 1.0, 1.0]</td>\n",
       "      <td>[, cup, , tablespoon, , teaspoon, teaspoon]</td>\n",
       "      <td>[bananas, sugar, egg, butter, all - purpose fl...</td>\n",
       "    </tr>\n",
       "    <tr>\n",
       "      <th>f545e0574d</th>\n",
       "      <td>Pickled Red Beet Eggs</td>\n",
       "      <td>0                                             ...</td>\n",
       "      <td>[1.0, 6.0, 0.5, 0.5, 0.5, 0.25, 1.0, 1.0, 1.0]</td>\n",
       "      <td>[cup, , , cup, cup, cup, teaspoon, teaspoon, ]</td>\n",
       "      <td>[beets, eggs, shallots, cider vinegar, white v...</td>\n",
       "    </tr>\n",
       "    <tr>\n",
       "      <th>f545e1165b</th>\n",
       "      <td>Cinema Sweet Popcorn</td>\n",
       "      <td>0    Pop your popcorn in you desired way with ...</td>\n",
       "      <td>[1.0, 1.25, 4.0, 0.25]</td>\n",
       "      <td>[cup, cup, tablespoon, teaspoon]</td>\n",
       "      <td>[popcorn, milk, sugar, vanilla extract]</td>\n",
       "    </tr>\n",
       "    <tr>\n",
       "      <th>f545f86e52</th>\n",
       "      <td>Healthy but Yummy Apple Bread</td>\n",
       "      <td>0    mix all dry ingredients together and set ...</td>\n",
       "      <td>[1.5, 1.5, 2.0, 1.0, 1.0, 0.5, 1.0, 4.0, 1.5, ...</td>\n",
       "      <td>[, , teaspoon, teaspoon, teaspoon, teaspoon, ,...</td>\n",
       "      <td>[all - purpose flour, whole wheat flour, cinna...</td>\n",
       "    </tr>\n",
       "    <tr>\n",
       "      <th>...</th>\n",
       "      <td>...</td>\n",
       "      <td>...</td>\n",
       "      <td>...</td>\n",
       "      <td>...</td>\n",
       "      <td>...</td>\n",
       "    </tr>\n",
       "    <tr>\n",
       "      <th>f54be6438a</th>\n",
       "      <td>Steamed Rice With Coconut and Lemon</td>\n",
       "      <td>0    In a pot with a tight-fitting lid (or ric...</td>\n",
       "      <td>[2.0, 2.5, 1.0, 14.0, 1.0]</td>\n",
       "      <td>[cup, , teaspoon, ounce, ]</td>\n",
       "      <td>[jasmine rice, stock, salt, coconut milk, lemon]</td>\n",
       "    </tr>\n",
       "    <tr>\n",
       "      <th>f54cf61506</th>\n",
       "      <td>All Natural Chocolate Chunk &amp; Almond Butter Wh...</td>\n",
       "      <td>0                                  Preheat ove...</td>\n",
       "      <td>[16.5, 0.33, 2.0, 0.25, 8.0, 2.0, 1.0, 0.5, 1....</td>\n",
       "      <td>[ounce, cup, , cup, ounce, cup, cup, cup, teas...</td>\n",
       "      <td>[gluten - free chocolate cake mix, water, eggs...</td>\n",
       "    </tr>\n",
       "    <tr>\n",
       "      <th>f54cfa24d8</th>\n",
       "      <td>Swedish Peppermint Caramels (Polkagriskola)</td>\n",
       "      <td>0    Put the peppermint candies into a plastic...</td>\n",
       "      <td>[4.0, 1.25, 1.0, 6.0, 3.0, 7.0]</td>\n",
       "      <td>[ounce, , cup, tablespoon, tablespoon, tablesp...</td>\n",
       "      <td>[peppermint candies, heavy cream, superfine su...</td>\n",
       "    </tr>\n",
       "    <tr>\n",
       "      <th>f54cfdd351</th>\n",
       "      <td>Salsa Verde</td>\n",
       "      <td>0    Stir together all ingredients in a bowl.\n",
       "...</td>\n",
       "      <td>[0.5, 9.0, 2.5, 6.0, 3.0, 1.0, 0.12]</td>\n",
       "      <td>[cup, , tablespoon, tablespoon, tablespoon, te...</td>\n",
       "      <td>[olive oil, anchovy fillets, capers, fresh fla...</td>\n",
       "    </tr>\n",
       "    <tr>\n",
       "      <th>f54d026d2f</th>\n",
       "      <td>Dj's Cottage Cheese Pudding</td>\n",
       "      <td>0                  Allow cottage cheese to dra...</td>\n",
       "      <td>[2.0, 3.0, 3.0, 0.75, 1.0, 0.5, 12.0, 1.5, 1.0...</td>\n",
       "      <td>[cup, , tablespoon, cup, teaspoon, teaspoon, o...</td>\n",
       "      <td>[small curd cottage cheese, eggs, white flour,...</td>\n",
       "    </tr>\n",
       "  </tbody>\n",
       "</table>\n",
       "<p>100 rows × 5 columns</p>\n",
       "</div>"
      ],
      "text/plain": [
       "                                                        title  \\\n",
       "id                                                              \n",
       "f545b29525              Cheesie Chicken Delishisness Sandwich   \n",
       "f545dc1c3b                            Bob's Best Banana Bread   \n",
       "f545e0574d                              Pickled Red Beet Eggs   \n",
       "f545e1165b                               Cinema Sweet Popcorn   \n",
       "f545f86e52                      Healthy but Yummy Apple Bread   \n",
       "...                                                       ...   \n",
       "f54be6438a                Steamed Rice With Coconut and Lemon   \n",
       "f54cf61506  All Natural Chocolate Chunk & Almond Butter Wh...   \n",
       "f54cfa24d8        Swedish Peppermint Caramels (Polkagriskola)   \n",
       "f54cfdd351                                        Salsa Verde   \n",
       "f54d026d2f                        Dj's Cottage Cheese Pudding   \n",
       "\n",
       "                                                 instructions  \\\n",
       "id                                                              \n",
       "f545b29525  0           Slice your roll and place on a bak...   \n",
       "f545dc1c3b  0                                 Preheat oven...   \n",
       "f545e0574d  0                                             ...   \n",
       "f545e1165b  0    Pop your popcorn in you desired way with ...   \n",
       "f545f86e52  0    mix all dry ingredients together and set ...   \n",
       "...                                                       ...   \n",
       "f54be6438a  0    In a pot with a tight-fitting lid (or ric...   \n",
       "f54cf61506  0                                  Preheat ove...   \n",
       "f54cfa24d8  0    Put the peppermint candies into a plastic...   \n",
       "f54cfdd351  0    Stir together all ingredients in a bowl.\n",
       "...   \n",
       "f54d026d2f  0                  Allow cottage cheese to dra...   \n",
       "\n",
       "                                                       amount  \\\n",
       "id                                                              \n",
       "f545b29525  [1.0, 1.0, 1.0, 1.0, 1.0, 1.0, 1.0, 1.0, 2.0, ...   \n",
       "f545dc1c3b                [3.0, 1.0, 1.0, 4.0, 1.5, 1.0, 1.0]   \n",
       "f545e0574d     [1.0, 6.0, 0.5, 0.5, 0.5, 0.25, 1.0, 1.0, 1.0]   \n",
       "f545e1165b                             [1.0, 1.25, 4.0, 0.25]   \n",
       "f545f86e52  [1.5, 1.5, 2.0, 1.0, 1.0, 0.5, 1.0, 4.0, 1.5, ...   \n",
       "...                                                       ...   \n",
       "f54be6438a                         [2.0, 2.5, 1.0, 14.0, 1.0]   \n",
       "f54cf61506  [16.5, 0.33, 2.0, 0.25, 8.0, 2.0, 1.0, 0.5, 1....   \n",
       "f54cfa24d8                    [4.0, 1.25, 1.0, 6.0, 3.0, 7.0]   \n",
       "f54cfdd351               [0.5, 9.0, 2.5, 6.0, 3.0, 1.0, 0.12]   \n",
       "f54d026d2f  [2.0, 3.0, 3.0, 0.75, 1.0, 0.5, 12.0, 1.5, 1.0...   \n",
       "\n",
       "                                                         unit  \\\n",
       "id                                                              \n",
       "f545b29525             [, , , , tablespoon, , , teaspoon, , ]   \n",
       "f545dc1c3b        [, cup, , tablespoon, , teaspoon, teaspoon]   \n",
       "f545e0574d     [cup, , , cup, cup, cup, teaspoon, teaspoon, ]   \n",
       "f545e1165b                   [cup, cup, tablespoon, teaspoon]   \n",
       "f545f86e52  [, , teaspoon, teaspoon, teaspoon, teaspoon, ,...   \n",
       "...                                                       ...   \n",
       "f54be6438a                         [cup, , teaspoon, ounce, ]   \n",
       "f54cf61506  [ounce, cup, , cup, ounce, cup, cup, cup, teas...   \n",
       "f54cfa24d8  [ounce, , cup, tablespoon, tablespoon, tablesp...   \n",
       "f54cfdd351  [cup, , tablespoon, tablespoon, tablespoon, te...   \n",
       "f54d026d2f  [cup, , tablespoon, cup, teaspoon, teaspoon, o...   \n",
       "\n",
       "                                                   ingredient  \n",
       "id                                                             \n",
       "f545b29525  [roll, chicken pieces, salt, pepper, diced oni...  \n",
       "f545dc1c3b  [bananas, sugar, egg, butter, all - purpose fl...  \n",
       "f545e0574d  [beets, eggs, shallots, cider vinegar, white v...  \n",
       "f545e1165b            [popcorn, milk, sugar, vanilla extract]  \n",
       "f545f86e52  [all - purpose flour, whole wheat flour, cinna...  \n",
       "...                                                       ...  \n",
       "f54be6438a   [jasmine rice, stock, salt, coconut milk, lemon]  \n",
       "f54cf61506  [gluten - free chocolate cake mix, water, eggs...  \n",
       "f54cfa24d8  [peppermint candies, heavy cream, superfine su...  \n",
       "f54cfdd351  [olive oil, anchovy fillets, capers, fresh fla...  \n",
       "f54d026d2f  [small curd cottage cheese, eggs, white flour,...  \n",
       "\n",
       "[100 rows x 5 columns]"
      ]
     },
     "execution_count": 3,
     "metadata": {},
     "output_type": "execute_result"
    }
   ],
   "source": [
    "pd.read_pickle('D:/02_Studium/SBX/mad-recime/data/2022_03_19/recipePreProc_8.pkl')"
   ]
  },
  {
   "cell_type": "code",
   "execution_count": null,
   "metadata": {},
   "outputs": [],
   "source": [
    "import torch\n",
    "\n",
    "x = torch.tensor([[1, 2, 3], [7, 5, 6]])\n",
    "y = torch.topk(x,1)[1]\n",
    "x.shape, y.shape\n",
    "\n",
    "y[0].item()"
   ]
  },
  {
   "cell_type": "code",
   "execution_count": 4,
   "metadata": {},
   "outputs": [
    {
     "data": {
      "text/plain": [
       "0.6666666666666666"
      ]
     },
     "execution_count": 4,
     "metadata": {},
     "output_type": "execute_result"
    }
   ],
   "source": [
    "from sklearn.metrics import accuracy_score\n",
    "import torch\n",
    "x = torch.tensor([1, 1, 3])\n",
    "y = torch.tensor([1, 2, 3])\n",
    "accuracy_score(x, y)"
   ]
  },
  {
   "cell_type": "code",
   "execution_count": 8,
   "metadata": {},
   "outputs": [
    {
     "data": {
      "text/plain": [
       "torch.Size([6])"
      ]
     },
     "execution_count": 8,
     "metadata": {},
     "output_type": "execute_result"
    }
   ],
   "source": [
    "x = torch.tensor([[1, 1, 3], [1, 1, 3]])\n",
    "y = x.view(-1)\n",
    "y.shape"
   ]
  },
  {
   "cell_type": "markdown",
   "metadata": {},
   "source": [
    "# Test Hugginface Tokenizer"
   ]
  },
  {
   "cell_type": "code",
   "execution_count": 31,
   "metadata": {},
   "outputs": [
    {
     "data": {
      "text/plain": [
       "\"[CLS] this is 2 - 3 a text's [SEP] represantion of 32° [SEP]\""
      ]
     },
     "execution_count": 31,
     "metadata": {},
     "output_type": "execute_result"
    }
   ],
   "source": [
    "from transformers import AutoTokenizer, DistilBertTokenizer, AutoModel\n",
    "\n",
    "tokenizer = AutoTokenizer.from_pretrained('bert-base-uncased')\n",
    "text =  ['This is 2-3 a text\\'s', 'represantion of 32°']\n",
    "\n",
    "encoded = tokenizer.encode(text, return_tensors='pt')\n",
    "encoded\n",
    "tokenizer.decode(encoded.squeeze())\n",
    "\n",
    "# AutoModel.from_pretrained('bert-base-uncased').config.vocab_size"
   ]
  },
  {
   "cell_type": "code",
   "execution_count": null,
   "metadata": {},
   "outputs": [],
   "source": [
    "# Decoding"
   ]
  },
  {
   "cell_type": "markdown",
   "metadata": {},
   "source": [
    "# Other"
   ]
  },
  {
   "cell_type": "code",
   "execution_count": 3,
   "metadata": {},
   "outputs": [
    {
     "name": "stdout",
     "output_type": "stream",
     "text": [
      "path\n",
      "32\n"
     ]
    }
   ],
   "source": [
    "def fun(data_dir: str = \"path/to/dir\", batch_size: int = 32):\n",
    "    print(data_dir)\n",
    "    print(batch_size)\n",
    "\n",
    "fun('path')"
   ]
  },
  {
   "cell_type": "code",
   "execution_count": 7,
   "metadata": {},
   "outputs": [
    {
     "name": "stdout",
     "output_type": "stream",
     "text": [
      "{'A': 3, 'B': 2, 'D': 4}\n"
     ]
    }
   ],
   "source": [
    "my_first_dict = {\"A\": 1, \"B\": 2}\n",
    "my_second_dict = {\"A\": 3, \"D\": 4}\n",
    "my_merged_dict = {**my_first_dict, **my_second_dict}\n",
    "\n",
    "print(my_merged_dict)"
   ]
  },
  {
   "cell_type": "code",
   "execution_count": null,
   "metadata": {},
   "outputs": [],
   "source": []
  }
 ],
 "metadata": {
  "interpreter": {
   "hash": "a78eccb40e61b98140ae1027d27413ec0b4019861790215488952e2bb9987dd2"
  },
  "kernelspec": {
   "display_name": "Python 3.9.7 ('madEnv')",
   "language": "python",
   "name": "python3"
  },
  "language_info": {
   "codemirror_mode": {
    "name": "ipython",
    "version": 3
   },
   "file_extension": ".py",
   "mimetype": "text/x-python",
   "name": "python",
   "nbconvert_exporter": "python",
   "pygments_lexer": "ipython3",
   "version": "3.9.7"
  },
  "orig_nbformat": 4
 },
 "nbformat": 4,
 "nbformat_minor": 2
}
