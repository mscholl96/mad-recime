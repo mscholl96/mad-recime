{
  "cells": [
    {
      "cell_type": "markdown",
      "metadata": {
        "id": "view-in-github",
        "colab_type": "text"
      },
      "source": [
        "<a href=\"https://colab.research.google.com/github/mscholl96/mad-recime/blob/recipe1M-parser/data/recipe1M/parser/ingEval.ipynb\" target=\"_parent\"><img src=\"https://colab.research.google.com/assets/colab-badge.svg\" alt=\"Open In Colab\"/></a>"
      ]
    },
    {
      "cell_type": "markdown",
      "source": [
        "[![Open In Colab](https://colab.research.google.com/assets/colab-badge.svg)](https://colab.research.google.com/github/googlecolab/colabtools/blob/master/notebooks/colab-github-demo.ipynb)\n",
        "\n",
        "# Ingredient Evaluation"
      ],
      "metadata": {
        "id": "jZMke415oHEb"
      }
    },
    {
      "cell_type": "code",
      "source": [
        "# network graph\n",
        "!pip install plotly\n",
        "!pip install chart-studio"
      ],
      "metadata": {
        "id": "COEs0t6bRSPX",
        "colab": {
          "base_uri": "https://localhost:8080/"
        },
        "outputId": "52e03406-3850-4932-a465-dd1792fb4ce5"
      },
      "execution_count": null,
      "outputs": [
        {
          "output_type": "stream",
          "name": "stdout",
          "text": [
            "Requirement already satisfied: plotly in /usr/local/lib/python3.7/dist-packages (5.5.0)\n",
            "Requirement already satisfied: tenacity>=6.2.0 in /usr/local/lib/python3.7/dist-packages (from plotly) (8.0.1)\n",
            "Requirement already satisfied: six in /usr/local/lib/python3.7/dist-packages (from plotly) (1.15.0)\n",
            "Requirement already satisfied: chart-studio in /usr/local/lib/python3.7/dist-packages (1.1.0)\n",
            "Requirement already satisfied: retrying>=1.3.3 in /usr/local/lib/python3.7/dist-packages (from chart-studio) (1.3.3)\n",
            "Requirement already satisfied: plotly in /usr/local/lib/python3.7/dist-packages (from chart-studio) (5.5.0)\n",
            "Requirement already satisfied: requests in /usr/local/lib/python3.7/dist-packages (from chart-studio) (2.23.0)\n",
            "Requirement already satisfied: six in /usr/local/lib/python3.7/dist-packages (from chart-studio) (1.15.0)\n",
            "Requirement already satisfied: tenacity>=6.2.0 in /usr/local/lib/python3.7/dist-packages (from plotly->chart-studio) (8.0.1)\n",
            "Requirement already satisfied: certifi>=2017.4.17 in /usr/local/lib/python3.7/dist-packages (from requests->chart-studio) (2021.10.8)\n",
            "Requirement already satisfied: chardet<4,>=3.0.2 in /usr/local/lib/python3.7/dist-packages (from requests->chart-studio) (3.0.4)\n",
            "Requirement already satisfied: idna<3,>=2.5 in /usr/local/lib/python3.7/dist-packages (from requests->chart-studio) (2.10)\n",
            "Requirement already satisfied: urllib3!=1.25.0,!=1.25.1,<1.26,>=1.21.1 in /usr/local/lib/python3.7/dist-packages (from requests->chart-studio) (1.24.3)\n"
          ]
        }
      ]
    },
    {
      "cell_type": "code",
      "execution_count": null,
      "metadata": {
        "id": "_i3aklcIxFC6"
      },
      "outputs": [],
      "source": [
        "import pandas as pd\n",
        "import numpy as np\n",
        "import itertools\n",
        "import re\n",
        "\n",
        "# network graph\n",
        "import plotly.graph_objects as go\n",
        "import networkx as nx\n",
        "from chart_studio import plotly\n",
        "from plotly.offline import download_plotlyjs, init_notebook_mode, iplot\n",
        "import plotly.graph_objs as go\n",
        "\n",
        "import random\n",
        "import matplotlib.pyplot as plt"
      ]
    },
    {
      "cell_type": "code",
      "source": [
        "from google.colab import drive\n",
        "drive.mount('/content/drive/')"
      ],
      "metadata": {
        "id": "WUtZZgDYTfWP",
        "colab": {
          "base_uri": "https://localhost:8080/"
        },
        "outputId": "3d1eb886-6563-4c54-8c42-500332900d17"
      },
      "execution_count": null,
      "outputs": [
        {
          "output_type": "stream",
          "name": "stdout",
          "text": [
            "Drive already mounted at /content/drive/; to attempt to forcibly remount, call drive.mount(\"/content/drive/\", force_remount=True).\n"
          ]
        }
      ]
    },
    {
      "cell_type": "code",
      "source": [
        "FILE_DIR = 'drive/My Drive/_Master/09_KI_ML/TP2/Datasets/Recipe1M/'"
      ],
      "metadata": {
        "id": "2lVnMX4ZUw52"
      },
      "execution_count": null,
      "outputs": []
    },
    {
      "cell_type": "markdown",
      "source": [
        "# Get valid recipes from pickle"
      ],
      "metadata": {
        "id": "sgp_MBhnWuqe"
      }
    },
    {
      "cell_type": "code",
      "source": [
        "baseFrame = pd.read_pickle(FILE_DIR + '20220126/recipes_valid.pkl')\n",
        "baseFrame.head()"
      ],
      "metadata": {
        "colab": {
          "base_uri": "https://localhost:8080/",
          "height": 238
        },
        "id": "KJLIl-rvUh6C",
        "outputId": "aa4fb095-167b-47a5-96ba-6d045e48e625"
      },
      "execution_count": null,
      "outputs": [
        {
          "output_type": "execute_result",
          "data": {
            "text/html": [
              "\n",
              "  <div id=\"df-0a3caba5-4448-4d6f-9b2c-7fd1b8e35cfd\">\n",
              "    <div class=\"colab-df-container\">\n",
              "      <div>\n",
              "<style scoped>\n",
              "    .dataframe tbody tr th:only-of-type {\n",
              "        vertical-align: middle;\n",
              "    }\n",
              "\n",
              "    .dataframe tbody tr th {\n",
              "        vertical-align: top;\n",
              "    }\n",
              "\n",
              "    .dataframe thead th {\n",
              "        text-align: right;\n",
              "    }\n",
              "</style>\n",
              "<table border=\"1\" class=\"dataframe\">\n",
              "  <thead>\n",
              "    <tr style=\"text-align: right;\">\n",
              "      <th></th>\n",
              "      <th>title</th>\n",
              "      <th>ingredients</th>\n",
              "      <th>instructions</th>\n",
              "    </tr>\n",
              "    <tr>\n",
              "      <th>id</th>\n",
              "      <th></th>\n",
              "      <th></th>\n",
              "      <th></th>\n",
              "    </tr>\n",
              "  </thead>\n",
              "  <tbody>\n",
              "    <tr>\n",
              "      <th>000033e39b</th>\n",
              "      <td>Dilly Macaroni Salad Recipe</td>\n",
              "      <td>amount        unit       ingredient\n",
              "0    1....</td>\n",
              "      <td>0    Cook macaroni according to package direct...</td>\n",
              "    </tr>\n",
              "    <tr>\n",
              "      <th>000035f7ed</th>\n",
              "      <td>Gazpacho</td>\n",
              "      <td>amount unit          ingredient\n",
              "0     8.0  ...</td>\n",
              "      <td>0    Add the tomatoes to a food processor with...</td>\n",
              "    </tr>\n",
              "    <tr>\n",
              "      <th>00003a70b1</th>\n",
              "      <td>Crunchy Onion Potato Bake</td>\n",
              "      <td>amount unit            ingredient\n",
              "0     1.0...</td>\n",
              "      <td>0              Preheat oven to 350 degrees Fah...</td>\n",
              "    </tr>\n",
              "    <tr>\n",
              "      <th>00004320bb</th>\n",
              "      <td>Cool 'n Easy Creamy Watermelon Pie</td>\n",
              "      <td>amount unit            ingredient\n",
              "0     1.0...</td>\n",
              "      <td>0     Dissolve Jello in boiling water.\n",
              "1      ...</td>\n",
              "    </tr>\n",
              "    <tr>\n",
              "      <th>0000631d90</th>\n",
              "      <td>Easy Tropical Beef Skillet</td>\n",
              "      <td>amount        unit             ingredient\n",
              "0...</td>\n",
              "      <td>0    In a large skillet, toast the coconut ove...</td>\n",
              "    </tr>\n",
              "  </tbody>\n",
              "</table>\n",
              "</div>\n",
              "      <button class=\"colab-df-convert\" onclick=\"convertToInteractive('df-0a3caba5-4448-4d6f-9b2c-7fd1b8e35cfd')\"\n",
              "              title=\"Convert this dataframe to an interactive table.\"\n",
              "              style=\"display:none;\">\n",
              "        \n",
              "  <svg xmlns=\"http://www.w3.org/2000/svg\" height=\"24px\"viewBox=\"0 0 24 24\"\n",
              "       width=\"24px\">\n",
              "    <path d=\"M0 0h24v24H0V0z\" fill=\"none\"/>\n",
              "    <path d=\"M18.56 5.44l.94 2.06.94-2.06 2.06-.94-2.06-.94-.94-2.06-.94 2.06-2.06.94zm-11 1L8.5 8.5l.94-2.06 2.06-.94-2.06-.94L8.5 2.5l-.94 2.06-2.06.94zm10 10l.94 2.06.94-2.06 2.06-.94-2.06-.94-.94-2.06-.94 2.06-2.06.94z\"/><path d=\"M17.41 7.96l-1.37-1.37c-.4-.4-.92-.59-1.43-.59-.52 0-1.04.2-1.43.59L10.3 9.45l-7.72 7.72c-.78.78-.78 2.05 0 2.83L4 21.41c.39.39.9.59 1.41.59.51 0 1.02-.2 1.41-.59l7.78-7.78 2.81-2.81c.8-.78.8-2.07 0-2.86zM5.41 20L4 18.59l7.72-7.72 1.47 1.35L5.41 20z\"/>\n",
              "  </svg>\n",
              "      </button>\n",
              "      \n",
              "  <style>\n",
              "    .colab-df-container {\n",
              "      display:flex;\n",
              "      flex-wrap:wrap;\n",
              "      gap: 12px;\n",
              "    }\n",
              "\n",
              "    .colab-df-convert {\n",
              "      background-color: #E8F0FE;\n",
              "      border: none;\n",
              "      border-radius: 50%;\n",
              "      cursor: pointer;\n",
              "      display: none;\n",
              "      fill: #1967D2;\n",
              "      height: 32px;\n",
              "      padding: 0 0 0 0;\n",
              "      width: 32px;\n",
              "    }\n",
              "\n",
              "    .colab-df-convert:hover {\n",
              "      background-color: #E2EBFA;\n",
              "      box-shadow: 0px 1px 2px rgba(60, 64, 67, 0.3), 0px 1px 3px 1px rgba(60, 64, 67, 0.15);\n",
              "      fill: #174EA6;\n",
              "    }\n",
              "\n",
              "    [theme=dark] .colab-df-convert {\n",
              "      background-color: #3B4455;\n",
              "      fill: #D2E3FC;\n",
              "    }\n",
              "\n",
              "    [theme=dark] .colab-df-convert:hover {\n",
              "      background-color: #434B5C;\n",
              "      box-shadow: 0px 1px 3px 1px rgba(0, 0, 0, 0.15);\n",
              "      filter: drop-shadow(0px 1px 2px rgba(0, 0, 0, 0.3));\n",
              "      fill: #FFFFFF;\n",
              "    }\n",
              "  </style>\n",
              "\n",
              "      <script>\n",
              "        const buttonEl =\n",
              "          document.querySelector('#df-0a3caba5-4448-4d6f-9b2c-7fd1b8e35cfd button.colab-df-convert');\n",
              "        buttonEl.style.display =\n",
              "          google.colab.kernel.accessAllowed ? 'block' : 'none';\n",
              "\n",
              "        async function convertToInteractive(key) {\n",
              "          const element = document.querySelector('#df-0a3caba5-4448-4d6f-9b2c-7fd1b8e35cfd');\n",
              "          const dataTable =\n",
              "            await google.colab.kernel.invokeFunction('convertToInteractive',\n",
              "                                                     [key], {});\n",
              "          if (!dataTable) return;\n",
              "\n",
              "          const docLinkHtml = 'Like what you see? Visit the ' +\n",
              "            '<a target=\"_blank\" href=https://colab.research.google.com/notebooks/data_table.ipynb>data table notebook</a>'\n",
              "            + ' to learn more about interactive tables.';\n",
              "          element.innerHTML = '';\n",
              "          dataTable['output_type'] = 'display_data';\n",
              "          await google.colab.output.renderOutput(dataTable, element);\n",
              "          const docLink = document.createElement('div');\n",
              "          docLink.innerHTML = docLinkHtml;\n",
              "          element.appendChild(docLink);\n",
              "        }\n",
              "      </script>\n",
              "    </div>\n",
              "  </div>\n",
              "  "
            ],
            "text/plain": [
              "                                         title  ...                                       instructions\n",
              "id                                              ...                                                   \n",
              "000033e39b         Dilly Macaroni Salad Recipe  ...  0    Cook macaroni according to package direct...\n",
              "000035f7ed                            Gazpacho  ...  0    Add the tomatoes to a food processor with...\n",
              "00003a70b1           Crunchy Onion Potato Bake  ...  0              Preheat oven to 350 degrees Fah...\n",
              "00004320bb  Cool 'n Easy Creamy Watermelon Pie  ...  0     Dissolve Jello in boiling water.\n",
              "1      ...\n",
              "0000631d90          Easy Tropical Beef Skillet  ...  0    In a large skillet, toast the coconut ove...\n",
              "\n",
              "[5 rows x 3 columns]"
            ]
          },
          "metadata": {},
          "execution_count": 36
        }
      ]
    },
    {
      "cell_type": "markdown",
      "source": [
        "## Create ingredient Frame"
      ],
      "metadata": {
        "id": "tWSDGckgLeF9"
      }
    },
    {
      "cell_type": "code",
      "source": [
        "#ingredient normalization TODO: add instructions here to have the full frame\n",
        "def flatten_ing(row):\n",
        "  return np.column_stack((row['amount'].tolist(), row['unit'].tolist(), row['ingredient'].tolist()))\n",
        "\n",
        "tempSeries = baseFrame['ingredients'].apply(lambda x: flatten_ing(x)).explode()\n",
        "baseFrame  = pd.DataFrame(tempSeries.tolist(), index=tempSeries.index, columns=['amount', 'unit', 'ingredient'])\n",
        "\n",
        "# free space\n",
        "del tempSeries\n",
        "\n",
        "baseFrame"
      ],
      "metadata": {
        "id": "DraVBVdk0XYg",
        "colab": {
          "base_uri": "https://localhost:8080/",
          "height": 269
        },
        "outputId": "fa7007ad-303f-42e8-da5d-cb366fe9c636"
      },
      "execution_count": null,
      "outputs": [
        {
          "output_type": "execute_result",
          "data": {
            "text/html": [
              "\n",
              "  <div id=\"df-d23102c9-0bea-462e-a953-b80f96e55d01\">\n",
              "    <div class=\"colab-df-container\">\n",
              "      <div>\n",
              "<style scoped>\n",
              "    .dataframe tbody tr th:only-of-type {\n",
              "        vertical-align: middle;\n",
              "    }\n",
              "\n",
              "    .dataframe tbody tr th {\n",
              "        vertical-align: top;\n",
              "    }\n",
              "\n",
              "    .dataframe thead th {\n",
              "        text-align: right;\n",
              "    }\n",
              "</style>\n",
              "<table border=\"1\" class=\"dataframe\">\n",
              "  <thead>\n",
              "    <tr style=\"text-align: right;\">\n",
              "      <th></th>\n",
              "      <th>amount</th>\n",
              "      <th>unit</th>\n",
              "      <th>ingredient</th>\n",
              "    </tr>\n",
              "    <tr>\n",
              "      <th>id</th>\n",
              "      <th></th>\n",
              "      <th></th>\n",
              "      <th></th>\n",
              "    </tr>\n",
              "  </thead>\n",
              "  <tbody>\n",
              "    <tr>\n",
              "      <th>000033e39b</th>\n",
              "      <td>1.0</td>\n",
              "      <td>cup</td>\n",
              "      <td>elbow macaroni</td>\n",
              "    </tr>\n",
              "    <tr>\n",
              "      <th>000033e39b</th>\n",
              "      <td>1.0</td>\n",
              "      <td>cup</td>\n",
              "      <td>american cheese</td>\n",
              "    </tr>\n",
              "    <tr>\n",
              "      <th>000033e39b</th>\n",
              "      <td>0.5</td>\n",
              "      <td>cup</td>\n",
              "      <td>celery</td>\n",
              "    </tr>\n",
              "    <tr>\n",
              "      <th>000033e39b</th>\n",
              "      <td>0.5</td>\n",
              "      <td>cup</td>\n",
              "      <td>green pepper</td>\n",
              "    </tr>\n",
              "    <tr>\n",
              "      <th>000033e39b</th>\n",
              "      <td>3.0</td>\n",
              "      <td>tablespoon</td>\n",
              "      <td>pimento</td>\n",
              "    </tr>\n",
              "    <tr>\n",
              "      <th>...</th>\n",
              "      <td>...</td>\n",
              "      <td>...</td>\n",
              "      <td>...</td>\n",
              "    </tr>\n",
              "    <tr>\n",
              "      <th>5aad55ecb6</th>\n",
              "      <td>4.0</td>\n",
              "      <td>cup</td>\n",
              "      <td>water</td>\n",
              "    </tr>\n",
              "    <tr>\n",
              "      <th>5aad55ecb6</th>\n",
              "      <td>1.0</td>\n",
              "      <td></td>\n",
              "      <td>frozen cranberry</td>\n",
              "    </tr>\n",
              "    <tr>\n",
              "      <th>5aad55ecb6</th>\n",
              "      <td>1.0</td>\n",
              "      <td>cup</td>\n",
              "      <td>fresh mint leaf</td>\n",
              "    </tr>\n",
              "    <tr>\n",
              "      <th>5aad55ecb6</th>\n",
              "      <td>0.5</td>\n",
              "      <td>cup</td>\n",
              "      <td>sugar</td>\n",
              "    </tr>\n",
              "    <tr>\n",
              "      <th>5aad55ecb6</th>\n",
              "      <td>1.0</td>\n",
              "      <td></td>\n",
              "      <td>mint sprig</td>\n",
              "    </tr>\n",
              "  </tbody>\n",
              "</table>\n",
              "<p>2691096 rows × 3 columns</p>\n",
              "</div>\n",
              "      <button class=\"colab-df-convert\" onclick=\"convertToInteractive('df-d23102c9-0bea-462e-a953-b80f96e55d01')\"\n",
              "              title=\"Convert this dataframe to an interactive table.\"\n",
              "              style=\"display:none;\">\n",
              "        \n",
              "  <svg xmlns=\"http://www.w3.org/2000/svg\" height=\"24px\"viewBox=\"0 0 24 24\"\n",
              "       width=\"24px\">\n",
              "    <path d=\"M0 0h24v24H0V0z\" fill=\"none\"/>\n",
              "    <path d=\"M18.56 5.44l.94 2.06.94-2.06 2.06-.94-2.06-.94-.94-2.06-.94 2.06-2.06.94zm-11 1L8.5 8.5l.94-2.06 2.06-.94-2.06-.94L8.5 2.5l-.94 2.06-2.06.94zm10 10l.94 2.06.94-2.06 2.06-.94-2.06-.94-.94-2.06-.94 2.06-2.06.94z\"/><path d=\"M17.41 7.96l-1.37-1.37c-.4-.4-.92-.59-1.43-.59-.52 0-1.04.2-1.43.59L10.3 9.45l-7.72 7.72c-.78.78-.78 2.05 0 2.83L4 21.41c.39.39.9.59 1.41.59.51 0 1.02-.2 1.41-.59l7.78-7.78 2.81-2.81c.8-.78.8-2.07 0-2.86zM5.41 20L4 18.59l7.72-7.72 1.47 1.35L5.41 20z\"/>\n",
              "  </svg>\n",
              "      </button>\n",
              "      \n",
              "  <style>\n",
              "    .colab-df-container {\n",
              "      display:flex;\n",
              "      flex-wrap:wrap;\n",
              "      gap: 12px;\n",
              "    }\n",
              "\n",
              "    .colab-df-convert {\n",
              "      background-color: #E8F0FE;\n",
              "      border: none;\n",
              "      border-radius: 50%;\n",
              "      cursor: pointer;\n",
              "      display: none;\n",
              "      fill: #1967D2;\n",
              "      height: 32px;\n",
              "      padding: 0 0 0 0;\n",
              "      width: 32px;\n",
              "    }\n",
              "\n",
              "    .colab-df-convert:hover {\n",
              "      background-color: #E2EBFA;\n",
              "      box-shadow: 0px 1px 2px rgba(60, 64, 67, 0.3), 0px 1px 3px 1px rgba(60, 64, 67, 0.15);\n",
              "      fill: #174EA6;\n",
              "    }\n",
              "\n",
              "    [theme=dark] .colab-df-convert {\n",
              "      background-color: #3B4455;\n",
              "      fill: #D2E3FC;\n",
              "    }\n",
              "\n",
              "    [theme=dark] .colab-df-convert:hover {\n",
              "      background-color: #434B5C;\n",
              "      box-shadow: 0px 1px 3px 1px rgba(0, 0, 0, 0.15);\n",
              "      filter: drop-shadow(0px 1px 2px rgba(0, 0, 0, 0.3));\n",
              "      fill: #FFFFFF;\n",
              "    }\n",
              "  </style>\n",
              "\n",
              "      <script>\n",
              "        const buttonEl =\n",
              "          document.querySelector('#df-d23102c9-0bea-462e-a953-b80f96e55d01 button.colab-df-convert');\n",
              "        buttonEl.style.display =\n",
              "          google.colab.kernel.accessAllowed ? 'block' : 'none';\n",
              "\n",
              "        async function convertToInteractive(key) {\n",
              "          const element = document.querySelector('#df-d23102c9-0bea-462e-a953-b80f96e55d01');\n",
              "          const dataTable =\n",
              "            await google.colab.kernel.invokeFunction('convertToInteractive',\n",
              "                                                     [key], {});\n",
              "          if (!dataTable) return;\n",
              "\n",
              "          const docLinkHtml = 'Like what you see? Visit the ' +\n",
              "            '<a target=\"_blank\" href=https://colab.research.google.com/notebooks/data_table.ipynb>data table notebook</a>'\n",
              "            + ' to learn more about interactive tables.';\n",
              "          element.innerHTML = '';\n",
              "          dataTable['output_type'] = 'display_data';\n",
              "          await google.colab.output.renderOutput(dataTable, element);\n",
              "          const docLink = document.createElement('div');\n",
              "          docLink.innerHTML = docLinkHtml;\n",
              "          element.appendChild(docLink);\n",
              "        }\n",
              "      </script>\n",
              "    </div>\n",
              "  </div>\n",
              "  "
            ],
            "text/plain": [
              "           amount        unit        ingredient\n",
              "id                                             \n",
              "000033e39b    1.0         cup    elbow macaroni\n",
              "000033e39b    1.0         cup   american cheese\n",
              "000033e39b    0.5         cup            celery\n",
              "000033e39b    0.5         cup      green pepper\n",
              "000033e39b    3.0  tablespoon           pimento\n",
              "...           ...         ...               ...\n",
              "5aad55ecb6    4.0         cup             water\n",
              "5aad55ecb6    1.0              frozen cranberry\n",
              "5aad55ecb6    1.0         cup   fresh mint leaf\n",
              "5aad55ecb6    0.5         cup             sugar\n",
              "5aad55ecb6    1.0                    mint sprig\n",
              "\n",
              "[2691096 rows x 3 columns]"
            ]
          },
          "metadata": {},
          "execution_count": 46
        },
        {
          "output_type": "stream",
          "name": "stdout",
          "text": [
            "Warning: total number of rows (2691096) exceeds max_rows (20000). Limiting to first (20000) rows.\n"
          ]
        }
      ]
    },
    {
      "cell_type": "markdown",
      "source": [
        "## Recreate frame structure"
      ],
      "metadata": {
        "id": "46NSd3GHLiQV"
      }
    },
    {
      "cell_type": "code",
      "source": [
        "# TBD"
      ],
      "metadata": {
        "id": "GVcyEgHYLnYS"
      },
      "execution_count": null,
      "outputs": []
    },
    {
      "cell_type": "markdown",
      "source": [
        "## Postprocessing\n",
        "As both the original datasets and the parsed output have ingredients that are not normed, are parsed incorrectly or not easily understandable, a postprocessing step to fix these is implemented.\n",
        "\n",
        "This shall cover:\n",
        "* norm **\\\"** to **' - inch'**\n",
        "* norm **[0-9] inch** to **[0-9] - inch**\n",
        "* add **cream** to **half - and - half** to make ingredient clear\n",
        "* fixup issue of pattern lib (**flour** singularized falsely to **flmy**)\n",
        "\n",
        "Things to be done in parsing:\n",
        "* empty ingredient cells\n",
        "*\n"
      ],
      "metadata": {
        "id": "NZ_XIyHrLn6L"
      }
    },
    {
      "cell_type": "code",
      "source": [
        "re.sub(r'\\d\"', r'%d - inch', '9\" crust')\n",
        "teststr = '9 inch'\n",
        "re.findall('[0-9]\"', teststr)"
      ],
      "metadata": {
        "id": "FhfONNAB9_H0"
      },
      "execution_count": null,
      "outputs": []
    },
    {
      "cell_type": "code",
      "source": [
        "def postproc_ings(row):\n",
        "  #ingredient = re.sub(r'[0-9]\"', re.findall('[0-9]\"', ingredient)[0].replace('\"', ' - inch'), ingredient) # to be done\n",
        "  # removal \" to inch\n",
        "  ingredient = row['ingredient']\n",
        "  ingredient = re.sub(r'\"', ' - inch', ingredient)\n",
        "  # replacement 'half and half' to 'half and half cream'\n",
        "  ingredient = re.sub(r'half - and - half(?!cream)$', 'half - and - half cream', ingredient)\n",
        "  return ingredient\n",
        "\n",
        "# baseFrame['ingredient'] = baseFrame.apply(lambda row: postproc_ings(row), axis=1)\n",
        "# baseFrame"
      ],
      "metadata": {
        "id": "AEj3xhjyHwgG"
      },
      "execution_count": null,
      "outputs": []
    },
    {
      "cell_type": "markdown",
      "source": [
        "# Ingredient evaluation\n"
      ],
      "metadata": {
        "id": "yBA3x5xCb6fe"
      }
    },
    {
      "cell_type": "markdown",
      "source": [
        "## Analysis of preparsed ingredients"
      ],
      "metadata": {
        "id": "7lf7O3W5auVx"
      }
    },
    {
      "cell_type": "code",
      "source": [
        "baseFrame['ingredient'].value_counts().to_frame().rename(columns={'ingredient': 'count'}).rename_axis('ingredient')"
      ],
      "metadata": {
        "colab": {
          "base_uri": "https://localhost:8080/",
          "height": 2268
        },
        "id": "PiillPmigLG_",
        "outputId": "135fd742-ada9-4cbd-eef2-ba461cfacc9c"
      },
      "execution_count": null,
      "outputs": [
        {
          "output_type": "execute_result",
          "data": {
            "text/html": [
              "\n",
              "  <div id=\"df-dbedbd6b-c2fd-446a-b27e-e924fe61b118\">\n",
              "    <div class=\"colab-df-container\">\n",
              "      <div>\n",
              "<style scoped>\n",
              "    .dataframe tbody tr th:only-of-type {\n",
              "        vertical-align: middle;\n",
              "    }\n",
              "\n",
              "    .dataframe tbody tr th {\n",
              "        vertical-align: top;\n",
              "    }\n",
              "\n",
              "    .dataframe thead th {\n",
              "        text-align: right;\n",
              "    }\n",
              "</style>\n",
              "<table border=\"1\" class=\"dataframe\">\n",
              "  <thead>\n",
              "    <tr style=\"text-align: right;\">\n",
              "      <th></th>\n",
              "      <th>count</th>\n",
              "    </tr>\n",
              "    <tr>\n",
              "      <th>ingredient</th>\n",
              "      <th></th>\n",
              "    </tr>\n",
              "  </thead>\n",
              "  <tbody>\n",
              "    <tr>\n",
              "      <th>salt</th>\n",
              "      <td>106669</td>\n",
              "    </tr>\n",
              "    <tr>\n",
              "      <th>butter</th>\n",
              "      <td>70662</td>\n",
              "    </tr>\n",
              "    <tr>\n",
              "      <th>egg</th>\n",
              "      <td>67046</td>\n",
              "    </tr>\n",
              "    <tr>\n",
              "      <th>sugar</th>\n",
              "      <td>62738</td>\n",
              "    </tr>\n",
              "    <tr>\n",
              "      <th>onion</th>\n",
              "      <td>54943</td>\n",
              "    </tr>\n",
              "    <tr>\n",
              "      <th>...</th>\n",
              "      <td>...</td>\n",
              "    </tr>\n",
              "    <tr>\n",
              "      <th>nut crunch topping</th>\n",
              "      <td>1</td>\n",
              "    </tr>\n",
              "    <tr>\n",
              "      <th>heineken lager beer</th>\n",
              "      <td>1</td>\n",
              "    </tr>\n",
              "    <tr>\n",
              "      <th>hershey candy corn kiss</th>\n",
              "      <td>1</td>\n",
              "    </tr>\n",
              "    <tr>\n",
              "      <th>vegan edam cheese</th>\n",
              "      <td>1</td>\n",
              "    </tr>\n",
              "    <tr>\n",
              "      <th>hormel wurst</th>\n",
              "      <td>1</td>\n",
              "    </tr>\n",
              "  </tbody>\n",
              "</table>\n",
              "<p>13715 rows × 1 columns</p>\n",
              "</div>\n",
              "      <button class=\"colab-df-convert\" onclick=\"convertToInteractive('df-dbedbd6b-c2fd-446a-b27e-e924fe61b118')\"\n",
              "              title=\"Convert this dataframe to an interactive table.\"\n",
              "              style=\"display:none;\">\n",
              "        \n",
              "  <svg xmlns=\"http://www.w3.org/2000/svg\" height=\"24px\"viewBox=\"0 0 24 24\"\n",
              "       width=\"24px\">\n",
              "    <path d=\"M0 0h24v24H0V0z\" fill=\"none\"/>\n",
              "    <path d=\"M18.56 5.44l.94 2.06.94-2.06 2.06-.94-2.06-.94-.94-2.06-.94 2.06-2.06.94zm-11 1L8.5 8.5l.94-2.06 2.06-.94-2.06-.94L8.5 2.5l-.94 2.06-2.06.94zm10 10l.94 2.06.94-2.06 2.06-.94-2.06-.94-.94-2.06-.94 2.06-2.06.94z\"/><path d=\"M17.41 7.96l-1.37-1.37c-.4-.4-.92-.59-1.43-.59-.52 0-1.04.2-1.43.59L10.3 9.45l-7.72 7.72c-.78.78-.78 2.05 0 2.83L4 21.41c.39.39.9.59 1.41.59.51 0 1.02-.2 1.41-.59l7.78-7.78 2.81-2.81c.8-.78.8-2.07 0-2.86zM5.41 20L4 18.59l7.72-7.72 1.47 1.35L5.41 20z\"/>\n",
              "  </svg>\n",
              "      </button>\n",
              "      \n",
              "  <style>\n",
              "    .colab-df-container {\n",
              "      display:flex;\n",
              "      flex-wrap:wrap;\n",
              "      gap: 12px;\n",
              "    }\n",
              "\n",
              "    .colab-df-convert {\n",
              "      background-color: #E8F0FE;\n",
              "      border: none;\n",
              "      border-radius: 50%;\n",
              "      cursor: pointer;\n",
              "      display: none;\n",
              "      fill: #1967D2;\n",
              "      height: 32px;\n",
              "      padding: 0 0 0 0;\n",
              "      width: 32px;\n",
              "    }\n",
              "\n",
              "    .colab-df-convert:hover {\n",
              "      background-color: #E2EBFA;\n",
              "      box-shadow: 0px 1px 2px rgba(60, 64, 67, 0.3), 0px 1px 3px 1px rgba(60, 64, 67, 0.15);\n",
              "      fill: #174EA6;\n",
              "    }\n",
              "\n",
              "    [theme=dark] .colab-df-convert {\n",
              "      background-color: #3B4455;\n",
              "      fill: #D2E3FC;\n",
              "    }\n",
              "\n",
              "    [theme=dark] .colab-df-convert:hover {\n",
              "      background-color: #434B5C;\n",
              "      box-shadow: 0px 1px 3px 1px rgba(0, 0, 0, 0.15);\n",
              "      filter: drop-shadow(0px 1px 2px rgba(0, 0, 0, 0.3));\n",
              "      fill: #FFFFFF;\n",
              "    }\n",
              "  </style>\n",
              "\n",
              "      <script>\n",
              "        const buttonEl =\n",
              "          document.querySelector('#df-dbedbd6b-c2fd-446a-b27e-e924fe61b118 button.colab-df-convert');\n",
              "        buttonEl.style.display =\n",
              "          google.colab.kernel.accessAllowed ? 'block' : 'none';\n",
              "\n",
              "        async function convertToInteractive(key) {\n",
              "          const element = document.querySelector('#df-dbedbd6b-c2fd-446a-b27e-e924fe61b118');\n",
              "          const dataTable =\n",
              "            await google.colab.kernel.invokeFunction('convertToInteractive',\n",
              "                                                     [key], {});\n",
              "          if (!dataTable) return;\n",
              "\n",
              "          const docLinkHtml = 'Like what you see? Visit the ' +\n",
              "            '<a target=\"_blank\" href=https://colab.research.google.com/notebooks/data_table.ipynb>data table notebook</a>'\n",
              "            + ' to learn more about interactive tables.';\n",
              "          element.innerHTML = '';\n",
              "          dataTable['output_type'] = 'display_data';\n",
              "          await google.colab.output.renderOutput(dataTable, element);\n",
              "          const docLink = document.createElement('div');\n",
              "          docLink.innerHTML = docLinkHtml;\n",
              "          element.appendChild(docLink);\n",
              "        }\n",
              "      </script>\n",
              "    </div>\n",
              "  </div>\n",
              "  "
            ],
            "text/plain": [
              "                          count\n",
              "ingredient                     \n",
              "salt                     106669\n",
              "butter                    70662\n",
              "egg                       67046\n",
              "sugar                     62738\n",
              "onion                     54943\n",
              "...                         ...\n",
              "nut crunch topping            1\n",
              "heineken lager beer           1\n",
              "hershey candy corn kiss       1\n",
              "vegan edam cheese             1\n",
              "hormel wurst                  1\n",
              "\n",
              "[13715 rows x 1 columns]"
            ]
          },
          "metadata": {},
          "execution_count": 70
        }
      ]
    },
    {
      "cell_type": "markdown",
      "source": [
        "## Clustering of ingredients\n",
        "https://towardsdatascience.com/clustering-product-names-with-python-part-1-f9418f8705c8"
      ],
      "metadata": {
        "id": "uImk1fTkalmT"
      }
    },
    {
      "cell_type": "code",
      "source": [
        ""
      ],
      "metadata": {
        "id": "69P1L4V-ak-2"
      },
      "execution_count": null,
      "outputs": []
    },
    {
      "cell_type": "markdown",
      "source": [
        "## Create ingredient frame"
      ],
      "metadata": {
        "id": "tM_3SBtFYiK1"
      }
    },
    {
      "cell_type": "code",
      "source": [
        "# brakedown into lists \n",
        "ingList = baseFrame.groupby(level=0).aggregate(lambda x: x.unique().tolist()) # https://stackoverflow.com/questions/19530568/can-pandas-groupby-aggregate-into-a-list-rather-than-sum-mean-etc/24112443\n",
        "ingList"
      ],
      "metadata": {
        "id": "LzqJEUZEYhhd"
      },
      "execution_count": null,
      "outputs": []
    },
    {
      "cell_type": "markdown",
      "source": [
        "# Ingredient dependencies"
      ],
      "metadata": {
        "id": "Boi7TjmhHea_"
      }
    },
    {
      "cell_type": "code",
      "source": [
        "def get_ingredient_combinations(ings):\n",
        "  '''create list of ingredient combination tuples for each recipe'''\n",
        "  tup = list(itertools.product(ings, ings)) # https://stackoverflow.com/questions/4709510/itertools-product-speed-up\n",
        "  tup = list(map(lambda x: sorted(x), tup))\n",
        "  tup.sort()\n",
        "  return tup\n",
        "\n",
        "# create flattened list with ingredient combination tuples\n",
        "ingList['ingredient'] = ingList.apply(lambda row: get_ingredient_combinations(row['ingredient']), axis=1)\n",
        "ingEdgeList = pd.DataFrame(ingList['ingredient'].explode())\n",
        "\n",
        "# create ingredient node frame and clean it up (duplicates, combinations with itself)\n",
        "ingEdgeList[['ing1', 'ing2']] = pd.DataFrame(ingEdgeList['ingredient'].tolist(), index=ingEdgeList.index)\n",
        "ingEdgeList.drop_duplicates(subset=['ing1', 'ing2'], inplace=True)\n",
        "ingEdgeList = ingEdgeList[ingEdgeList['ing1'] != ingEdgeList['ing2']]\n",
        "\n",
        "ingEdgeList"
      ],
      "metadata": {
        "id": "5gscxCQz3Bvl"
      },
      "execution_count": null,
      "outputs": []
    },
    {
      "cell_type": "markdown",
      "source": [
        "## Count Edges"
      ],
      "metadata": {
        "id": "AOZFi_vzIlRc"
      }
    },
    {
      "cell_type": "code",
      "source": [
        "edgeZwerg = ingEdgeList.groupby(['ing1', 'ing2']).size().to_frame('count').reset_index()\n",
        "edgeZwerg"
      ],
      "metadata": {
        "id": "oaNdF7cmnhkV"
      },
      "execution_count": null,
      "outputs": []
    },
    {
      "cell_type": "markdown",
      "source": [
        "## Count ingredient appearances"
      ],
      "metadata": {
        "id": "NsjxF7-SIod0"
      }
    },
    {
      "cell_type": "code",
      "source": [
        "nodeZwerg = ingEdgeList.drop_duplicates(['idx','ing1'])\n",
        "nodeZwerg = nodeZwerg.groupby(['ing1']).size().to_frame('count').reset_index()\n",
        "nodeZwerg"
      ],
      "metadata": {
        "id": "XJ105HsY9JOk"
      },
      "execution_count": null,
      "outputs": []
    },
    {
      "cell_type": "markdown",
      "source": [
        "# Plot\n",
        "## Static Graph\n",
        "* https://stackoverflow.com/questions/21207872/construct-networkx-graph-from-pandas-dataframe\n",
        "* https://networkx.org/documentation/networkx-1.10/reference/introduction.html\n",
        "* https://networkx.org/documentation/stable/reference/drawing.html\n",
        "* https://www.youtube.com/watch?v=9aZiwuQTo-4&ab_channel=AnalystRising\n"
      ],
      "metadata": {
        "id": "bGherZLsB8tx"
      }
    },
    {
      "cell_type": "code",
      "source": [
        "\n",
        "# nxG = nx.from_pandas_edgelist(edgeZwerg, 'ing1', 'ing2')\n",
        "nxG = nx.from_pandas_edgelist(ingEdgeList.head(1000), 'ing1', 'ing2')\n",
        "\n",
        "plt.figure(1, figsize=(10,5))\n",
        "# pos = nx.random_layout(nxG, seed=42)\n",
        "pos = nx.draw_kamada_kawai(nxG, node_size=80, font_size=10, with_labels=True)\n",
        "\n",
        "nxG.nodes()"
      ],
      "metadata": {
        "id": "rT_5GBb2MEab"
      },
      "execution_count": null,
      "outputs": []
    },
    {
      "cell_type": "markdown",
      "source": [
        "## Plot interactive connection graph\n",
        "\n",
        "* https://plotly.com/python/network-graphs/\n",
        "\n"
      ],
      "metadata": {
        "id": "FDUttROIB1-R"
      }
    },
    {
      "cell_type": "code",
      "source": [
        "# https://www.kaggle.com/anand0427/network-graph-with-at-t-data-using-plotly\n",
        "\n",
        "# Getting node positions\n",
        "# pos = nx.spring_layout(nxG)\n",
        "pos = nx.kamada_kawai_layout(nxG)\n",
        "\n",
        "#Adding positions of the nodes to the graph¶\n",
        "for n, p in pos.items():\n",
        "    nxG.nodes[n]['pos'] = p\n",
        "\n",
        "# Adding nodes and edges to the plotly api\n",
        "edge_trace = go.Scatter(\n",
        "    x=[],\n",
        "    y=[],\n",
        "    line=dict(width=0.5,color='#888'),\n",
        "    hoverinfo='none',\n",
        "    mode='lines')\n",
        "\n",
        "for edge in nxG.edges():\n",
        "    x0, y0 = nxG.nodes[edge[0]]['pos']\n",
        "    x1, y1 = nxG.nodes[edge[1]]['pos']\n",
        "    edge_trace['x'] += tuple([x0, x1, None])\n",
        "    edge_trace['y'] += tuple([y0, y1, None])\n",
        "\n",
        "node_trace = go.Scatter(\n",
        "    x=[],\n",
        "    y=[],\n",
        "    text=[],\n",
        "    mode='markers',\n",
        "    hoverinfo='text',\n",
        "    marker=dict(\n",
        "        showscale=True,\n",
        "        colorscale='YlGnBu',\n",
        "        reversescale=True,\n",
        "        color=[],\n",
        "        size=15,\n",
        "        colorbar=dict(\n",
        "            thickness=10,\n",
        "            title='Node Connections',\n",
        "            xanchor='left',\n",
        "            titleside='right'\n",
        "        ),\n",
        "        line=dict(width=0)))\n",
        "\n",
        "for node in nxG.nodes():\n",
        "    x, y = nxG.nodes[node]['pos']\n",
        "    node_trace['x'] += tuple([x])\n",
        "    node_trace['y'] += tuple([y])\n",
        "\n",
        "\n",
        "# Coloring nodes\n",
        "for node, adjacencies in enumerate(nxG.adjacency()):\n",
        "    node_trace['marker']['color']+=tuple([len(adjacencies[1])])\n",
        "    node_info = adjacencies[0] +' # of connections: '+str(len(adjacencies[1]))\n",
        "    node_trace['text']+=tuple([node_info])\n",
        "\n",
        "\n",
        "# Plotting the figure\n",
        "fig = go.Figure(data=[edge_trace, node_trace],\n",
        "             layout=go.Layout(\n",
        "                title='<br>Ingredient Connections',\n",
        "                titlefont=dict(size=16),\n",
        "                showlegend=False,\n",
        "                hovermode='closest',\n",
        "                margin=dict(b=20,l=5,r=5,t=40),\n",
        "                annotations=[ dict(\n",
        "                    text=\"No. of connections\",\n",
        "                    showarrow=False,\n",
        "                    xref=\"paper\", yref=\"paper\") ],\n",
        "                xaxis=dict(showgrid=False, zeroline=False, showticklabels=False),\n",
        "                yaxis=dict(showgrid=False, zeroline=False, showticklabels=False)))\n",
        "\n",
        "iplot(fig)\n",
        "\n",
        "# plotly.plot(fig)"
      ],
      "metadata": {
        "id": "KWl2lXAxBTbc"
      },
      "execution_count": null,
      "outputs": []
    }
  ],
  "metadata": {
    "interpreter": {
      "hash": "0c8a1bae5d334f5a25fa0c8c26e12c4821d7dc0816c2aa0955ea6e9dc2769bbc"
    },
    "kernelspec": {
      "display_name": "Python 3.8.12 64-bit ('env': venv)",
      "language": "python",
      "name": "python3"
    },
    "language_info": {
      "codemirror_mode": {
        "name": "ipython",
        "version": 3
      },
      "file_extension": ".py",
      "mimetype": "text/x-python",
      "name": "python",
      "nbconvert_exporter": "python",
      "pygments_lexer": "ipython3",
      "version": "3.8.12"
    },
    "orig_nbformat": 4,
    "colab": {
      "name": "ingEval.ipynb",
      "provenance": [],
      "collapsed_sections": [],
      "machine_shape": "hm",
      "include_colab_link": true
    }
  },
  "nbformat": 4,
  "nbformat_minor": 0
}