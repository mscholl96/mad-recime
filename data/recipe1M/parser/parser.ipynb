{
  "cells": [
    {
      "cell_type": "markdown",
      "metadata": {
        "id": "legF7h2yMvy5"
      },
      "source": [
        "# Recipe1M parser"
      ]
    },
    {
      "cell_type": "code",
      "execution_count": null,
      "metadata": {},
      "outputs": [],
      "source": [
        "!pip install quantulum3\n",
        "!pip install stemming"
      ]
    },
    {
      "cell_type": "code",
      "execution_count": null,
      "metadata": {
        "colab": {
          "base_uri": "https://localhost:8080/"
        },
        "id": "c19YiEPuNDjN",
        "outputId": "f1479ca4-c801-4aff-c4c6-8ae7ca80d7a1"
      },
      "outputs": [],
      "source": [
        "# Add GDrive\n",
        "from google.colab import drive\n",
        "import sys\n",
        "drive.mount('/content/drive/')\n",
        "sys.path.append('/content/drive/My Drive/Datasets/Recipe1M/')"
      ]
    },
    {
      "cell_type": "code",
      "execution_count": null,
      "metadata": {
        "colab": {
          "base_uri": "https://localhost:8080/"
        },
        "id": "INSDCTl3Mvy-",
        "outputId": "ab977476-b35b-4b21-c98a-b737b51016c3"
      },
      "outputs": [],
      "source": [
        "import pandas as pd\n",
        "import re\n",
        "from recipe import Recipe\n",
        "\n",
        "FILE_DIR = '../'\n",
        "#FILE_DIR = '/content/drive/My Drive/Datasets/Recipe1M/'"
      ]
    },
    {
      "cell_type": "markdown",
      "metadata": {
        "id": "yaAYmrtLMvy_"
      },
      "source": [
        "## Recipe1M data\n",
        "Recipe1M comes with various json files containing crawled recipes from the web. For our project, two of them are interesting:\n",
        "* layer1.json: Contains all recipes to their full extend\n",
        "  \n",
        "  ![layer1](https://github.com/mscholl96/mad-recime/blob/recipe1M-parser/data/recipe1M/dataset-analysis/layer1_puml.png?raw=1)\n",
        "\n",
        "* det_ingrs.json: Only contains recipe ID, parsed ingredients and validity flag for parsing \n",
        "  \n",
        "  ![det_ingrs](https://github.com/mscholl96/mad-recime/blob/recipe1M-parser/data/recipe1M/dataset-analysis/det_ingrs_puml.png?raw=1)\n",
        "\n",
        "In our first attempt we want to make use of the parsed ingredient list and only consider recipes, where all ingredients are marked valid. The parsed ingredients don't contain amounts, so our parser has to kind of merge content of both files. Extracting ingredients from one and their amount and unit from the other file."
      ]
    },
    {
      "cell_type": "markdown",
      "metadata": {
        "id": "4rllGc9GMvzA"
      },
      "source": [
        "## Preprocessing\n",
        "Removal of all invalid sets from ingredient and full data json to reduce memory. Use pickle instead of json."
      ]
    },
    {
      "cell_type": "code",
      "execution_count": null,
      "metadata": {
        "colab": {
          "base_uri": "https://localhost:8080/"
        },
        "id": "jFZgOjpsMvzB",
        "outputId": "ba012a57-08c8-4290-88cb-943d8f187a8e"
      },
      "outputs": [],
      "source": [
        "ingredient_file = FILE_DIR + 'ingSub.json'\n",
        "layer1_file = FILE_DIR + 'layer1_stripped.json'\n",
        "\n",
        "ingredient_out = FILE_DIR + 'det_ingrs_valid.pkl'\n",
        "layer1_out = FILE_DIR + 'layer1_valid.pkl'\n",
        "\n",
        "# Removal of all elements in ingredient json which contain invalid entries according to the data set\n",
        "ingredient_data = pd.read_json(ingredient_file).set_index('id')\n",
        "recipe_raw_data = pd.read_json(layer1_file).set_index('id')\n",
        "\n",
        "# Get indices of ingredients which contain false valid flags \n",
        "indices = ingredient_data[[True if any(x == False for x in row) else False for row in ingredient_data['valid']]].index\n",
        "\n",
        "# Drop indices from ingredient data\n",
        "ingredient_data = ingredient_data.drop(indices).drop(columns=['valid'])\n",
        "\n",
        "# Remove data from raw recipes where id matches\n",
        "recipe_mod = recipe_raw_data.drop(indices).drop(columns=['url', 'partition'])\n",
        "\n",
        "# Remove fractions from raw ingredients\n",
        "fractionRegex = re.compile(\"[0-9]+/[0-9]+\")\n",
        "for _, recipe in recipe_mod.iterrows():\n",
        "    ingredients_mod = []\n",
        "    for ingredient in recipe['ingredients']:\n",
        "        ingredient_mod = \"\"\n",
        "        for word in ingredient['text'].split(' '):\n",
        "            match = re.match(fractionRegex, word)\n",
        "            if match:\n",
        "                numbers = match.group(0).split('/')\n",
        "\n",
        "                float_representation = int(numbers[0])/int(numbers[1])\n",
        "                ingredient_mod += f'{float_representation} '\n",
        "            else:\n",
        "                ingredient_mod += f'{word} '\n",
        "        ingredients_mod.append({'text': ingredient_mod})\n",
        "    recipe['ingredients'] = ingredients_mod\n",
        "\n",
        "# Save data to pickle (it's faster)\n",
        "ingredient_data.to_pickle(ingredient_out)\n",
        "recipe_mod.to_pickle(layer1_out)\n",
        "\n",
        "recipe_mod.head(5)\n"
      ]
    },
    {
      "cell_type": "markdown",
      "metadata": {
        "id": "-2CdKidCMvzD"
      },
      "source": [
        "## Actual parsing"
      ]
    },
    {
      "cell_type": "code",
      "execution_count": null,
      "metadata": {
        "colab": {
          "base_uri": "https://localhost:8080/",
          "height": 557
        },
        "id": "FIwcCgC_Agn5",
        "outputId": "7f98dcfe-13d8-4b76-8dd4-782bc350d282"
      },
      "outputs": [],
      "source": [
        "recipes = []\n",
        "# Sort by ID, \n",
        "data = pd.read_pickle(FILE_DIR + 'layer1_valid.pkl')\n",
        "print(f'Total number of recipes: {len(data)}')\n",
        "data.head(5)\n"
      ]
    },
    {
      "cell_type": "code",
      "execution_count": null,
      "metadata": {
        "colab": {
          "base_uri": "https://localhost:8080/",
          "height": 333
        },
        "id": "w9llAFd7F_gQ",
        "outputId": "740cd829-c40b-431d-844c-1b24b4ab6256"
      },
      "outputs": [],
      "source": [
        "ingredient_data = pd.read_pickle(FILE_DIR + 'det_ingrs_valid.pkl')\n",
        "print(f'Total number of ingredients: {len(ingredient_data)}')\n",
        "ingredient_data.head(5)"
      ]
    },
    {
      "cell_type": "code",
      "execution_count": null,
      "metadata": {
        "colab": {
          "base_uri": "https://localhost:8080/"
        },
        "id": "cwWV1pDuMvzD",
        "outputId": "0f271164-3631-43d2-e3d6-cb32a26e536b"
      },
      "outputs": [],
      "source": [
        "for idx, ingredients in ingredient_data.iterrows():\n",
        "    \n",
        "    raw_recipe = data.loc[idx]\n",
        "    recipe = Recipe(idx)\n",
        "    \n",
        "    # Continue if parser didn't parse\n",
        "    if False == recipe.parse_ingredients(ingredients['ingredients']):\n",
        "        continue\n",
        "\n",
        "    # Continue if parser didn't parse\n",
        "    if False == recipe.parse_instructions(raw_recipe['instructions']):\n",
        "        continue\n",
        "      \n",
        "    recipe.get_ingredient_amounts(raw_recipe['ingredients'])\n",
        "\n",
        "    recipe.title = raw_recipe['title']\n",
        "    recipes.append(recipe)"
      ]
    },
    {
      "cell_type": "code",
      "execution_count": null,
      "metadata": {
        "colab": {
          "base_uri": "https://localhost:8080/",
          "height": 3567
        },
        "id": "UjWz9BUS_xCq",
        "outputId": "5645b8c5-afbd-45b0-a0a0-46f4c94a70b8"
      },
      "outputs": [],
      "source": [
        "# Try to clean up\n",
        "del ingredient_data, data\n",
        "\n",
        "# Create data frame in the end (according to Stackoverflow this is faster)                \n",
        "df = pd.DataFrame([vars(r) for r in recipes]).set_index('id')\n",
        "df.to_pickle(FILE_DIR + 'recipes_valid.pkl')\n",
        "df.to_json(FILE_DIR + 'recipes_valid.json', indent=2, orient='records')\n",
        "df.head(10)"
      ]
    }
  ],
  "metadata": {
    "colab": {
      "machine_shape": "hm",
      "name": "parser.ipynb",
      "provenance": []
    },
    "interpreter": {
      "hash": "0c8a1bae5d334f5a25fa0c8c26e12c4821d7dc0816c2aa0955ea6e9dc2769bbc"
    },
    "kernelspec": {
      "display_name": "Python 3.8.12 64-bit ('env': venv)",
      "language": "python",
      "name": "python3"
    },
    "language_info": {
      "codemirror_mode": {
        "name": "ipython",
        "version": 3
      },
      "file_extension": ".py",
      "mimetype": "text/x-python",
      "name": "python",
      "nbconvert_exporter": "python",
      "pygments_lexer": "ipython3",
      "version": "3.8.12"
    },
    "orig_nbformat": 4
  },
  "nbformat": 4,
  "nbformat_minor": 0
}
