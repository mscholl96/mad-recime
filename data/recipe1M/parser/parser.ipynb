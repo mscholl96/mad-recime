{
 "cells": [
  {
   "cell_type": "code",
   "execution_count": 1,
   "metadata": {},
   "outputs": [],
   "source": [
    "import sys\n",
    "sys.path.append('../modules')\n",
    "from classes import Recipe\n",
    "import json\n"
   ]
  },
  {
   "cell_type": "code",
   "execution_count": 3,
   "metadata": {},
   "outputs": [
    {
     "name": "stdout",
     "output_type": "stream",
     "text": [
      "Total number of recipes: 30\n",
      "Number of valid recipes: 21\n",
      "ID: 000033e39b \n",
      "Title: Dilly Macaroni Salad Recipe \n",
      "Ingredients: [Ingredient: (1.0; centavo; elbow macaroni), Ingredient: (1; ; American cheese), Ingredient: (0.5; centavo; celery), Ingredient: (1; ; green peppers), Ingredient: (1; ; pimentos), Ingredient: (0.5; centavo; mayonnaise), Ingredient: (1.0; tablespoon; vinegar), Ingredient: (0.75; teaspoon; salt), Ingredient: (0.5; teaspoon; dry dill weed)] \n",
      "Instructions ['Cook macaroni according to package directions; drain well.', 'Cold.', 'Combine macaroni, cheese cubes, celery, green pepper and pimento.', 'Blend together mayonnaise or possibly salad dressing, vinegar, salt and dill weed; add in to macaroni mix.', 'Toss lightly.', 'Cover and refrigeratewell.', 'Serve salad in lettuce lined bowl if you like.', 'Makes 6 servings.']\n",
      "ID: 000035f7ed \n",
      "Title: Gazpacho \n",
      "Ingredients: [Ingredient: (8.0; ; tomatoes), Ingredient: (1; ; kosher salt), Ingredient: (1.0; ; red onion), Ingredient: (1.0; ; green bell pepper), Ingredient: (1.0; ; red bell pepper), Ingredient: (1.0; ; yellow bell pepper), Ingredient: (0.5; ; cucumber), Ingredient: (1; ; olive oil), Ingredient: (3.0; ; fresh basil)] \n",
      "Instructions ['Add the tomatoes to a food processor with a pinch of salt and puree until smooth.', 'Combine the onions, bell peppers and cucumbers with the tomato puree in a large bowl.', 'Chill at least 1 hour.', 'Drizzle with olive oil, garnish with chopped basil and serve.']\n",
      "ID: 00003a70b1 \n",
      "Title: Crunchy Onion Potato Bake \n",
      "Ingredients: [Ingredient: (1; ; milk), Ingredient: (1; ; water), Ingredient: (14.0; cup; butter), Ingredient: (1.0; ; mashed potatoes), Ingredient: (1.0; ; whole kernel corn), Ingredient: (1.0; cup; cheddar cheese), Ingredient: (1; ; French - fried onions)] \n",
      "Instructions ['Preheat oven to 350 degrees Fahrenheit.', 'Spray pan with non stick cooking spray.', 'Heat milk, water and butter to boiling; stir in contents of both pouches of potatoes; let stand one minute.', 'Stir in corn.', 'Spoon half the potato mixture in pan.', 'Sprinkle half each of cheese and onions; top with remaining potatoes.', 'Sprinkle with remaining cheese and onions.', 'Bake 10 to 15 minutes until cheese is melted.', 'Enjoy !']\n",
      "ID: 00004320bb \n",
      "Title: Cool 'n Easy Creamy Watermelon Pie \n",
      "Ingredients: [Ingredient: (1.0; ; watermelon gelatin), Ingredient: (14.0; cup; boiling water), Ingredient: (1; ; Cool Whip), Ingredient: (2.0; cubic cup; seedless watermelon), Ingredient: (1.0; ; graham cracker crust)] \n",
      "Instructions ['Dissolve Jello in boiling water.', 'Allow to cool to room temp.', 'Whisk in Cool Whip.', 'Fold in watermelon.', 'Spoon into crust.', 'Chill for 2-3 hours or overnight.', 'Yum!']\n",
      "ID: 0000631d90 \n",
      "Title: Easy Tropical Beef Skillet \n",
      "Ingredients: [Ingredient: (12.0; cup; shredded coconut), Ingredient: (1.0; pound-mass; lean ground beef), Ingredient: (1.5; tablespoon; fresh garlic), Ingredient: (1; ; salt and black pepper), Ingredient: (1.0; tablespoon; lemon juice), Ingredient: (1.0; tablespoon; soy sauce), Ingredient: (2.0; tablespoon; cornstarch), Ingredient: (1.0; ; pineapple chunks), Ingredient: (1.0; ; mandarin oranges), Ingredient: (12.0; cup; cashew nuts)] \n",
      "Instructions ['In a large skillet, toast the coconut over medium heat, until golden and crisp; set aside.', 'Brown ground beef and garlic in the same skillet; drain well.', 'Add salt, pepper lemon juice and soy sauce.', 'In a small bowl combine the cornstarch with reserved pineapple and mandarin orange liquids; stir well until smooth then add to ground beef and cook over medium heat for 5 mins, stirring constantly, until mixture is thickened.', 'Stir in the pineapple and mandarin oranges; cook 2-3 mins, or until thoroughly heated.', 'Serve over noodles or rice, and sprinkle with more toasted coconut and cashew nuts.']\n"
     ]
    }
   ],
   "source": [
    "recipes = []\n",
    "\n",
    "data = json.load(open('../layer1_stripped.json'))\n",
    "num_recipes = len(data)\n",
    "print(f'Total number of recipes: {num_recipes}')\n",
    "\n",
    "ingredient_data = json.load(open('../ingSub.json'))\n",
    "\n",
    "for elem in ingredient_data:\n",
    "    isValid = all(x == True for x in elem['valid'])\n",
    "    if isValid:\n",
    "        recipe = Recipe(elem['id'])\n",
    "        recipe.parse_ingredients(elem['ingredients'])\n",
    "        \n",
    "        for raw_recipe in data:\n",
    "            if raw_recipe['id'] == recipe.id:\n",
    "                recipe.get_ingredient_amounts(raw_recipe['ingredients'])\n",
    "                recipe.parse_instructions(raw_recipe['instructions'])\n",
    "\n",
    "                if len(recipe.instructions) > 0 and len(recipe.ingredients) > 0:\n",
    "                    recipe.title = raw_recipe['title']\n",
    "                    recipes.append(recipe)\n",
    "\n",
    "print(f'Number of valid recipes: {len(recipes)}')\n",
    "\n",
    "for i in range(0,5):\n",
    "    print(recipes[i])"
   ]
  }
 ],
 "metadata": {
  "interpreter": {
   "hash": "0c8a1bae5d334f5a25fa0c8c26e12c4821d7dc0816c2aa0955ea6e9dc2769bbc"
  },
  "kernelspec": {
   "display_name": "Python 3.8.12 64-bit ('env': venv)",
   "language": "python",
   "name": "python3"
  },
  "language_info": {
   "codemirror_mode": {
    "name": "ipython",
    "version": 3
   },
   "file_extension": ".py",
   "mimetype": "text/x-python",
   "name": "python",
   "nbconvert_exporter": "python",
   "pygments_lexer": "ipython3",
   "version": "3.8.12"
  },
  "orig_nbformat": 4
 },
 "nbformat": 4,
 "nbformat_minor": 2
}
