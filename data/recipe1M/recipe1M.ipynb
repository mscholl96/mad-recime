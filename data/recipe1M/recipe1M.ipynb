{
 "cells": [
  {
   "cell_type": "markdown",
   "metadata": {},
   "source": [
    "# [Recipe1M](http://im2recipe.csail.mit.edu) data set analysis\n",
    "Analysis of dataset should contain: \n",
    "* [Plantuml](https://plantuml.com/de/json) diagram of json structure \n",
    "* Amount of recipes\n",
    "* Plots:\n",
    " * Num of Instructions\n",
    " * Num of Ingredients\n",
    " * Most used words in Instructions\n",
    " * Most used words in Ingedients\n",
    " * (Optional) Kind of dish"
   ]
  },
  {
   "cell_type": "code",
   "execution_count": null,
   "metadata": {},
   "outputs": [],
   "source": []
  }
 ],
 "metadata": {
  "language_info": {
   "name": "python"
  },
  "orig_nbformat": 4
 },
 "nbformat": 4,
 "nbformat_minor": 2
}
