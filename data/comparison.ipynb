{
 "cells": [
  {
   "cell_type": "code",
   "execution_count": 1,
   "metadata": {},
   "outputs": [],
   "source": [
    "# Import python librarys\n",
    "import json\n",
    "import re\n",
    "import matplotlib.pyplot as plt"
   ]
  },
  {
   "cell_type": "code",
   "execution_count": 2,
   "metadata": {},
   "outputs": [],
   "source": [
    "# Load data of recipe box\n",
    "data_recipeBox_ar = json.load(open('recipeBox/.recipeBox/recipes_raw_nosource_ar.json'))\n",
    "data_recipeBox_epi = json.load(open('recipeBox/.recipeBox/recipes_raw_nosource_epi.json'))\n",
    "data_recipeBox_fn = json.load(open('recipeBox/.recipeBox/recipes_raw_nosource_fn.json'))\n",
    "\n",
    "# Join dicts of different websites scraped in recipe box\n",
    "data_recipeBox = {**data_recipeBox_ar, **data_recipeBox_epi, **data_recipeBox_fn}\n",
    "\n",
    "# Load data of recipe1M\n",
    "data_recipe1M = json.load(open('recipe1M/.recipe1M/layer1.json'))"
   ]
  },
  {
   "cell_type": "code",
   "execution_count": 3,
   "metadata": {},
   "outputs": [],
   "source": [
    "titles_recipeBox = []\n",
    "for recipe in data_recipeBox.values():\n",
    "    if recipe:\n",
    "        if recipe['title']:\n",
    "            titles_recipeBox.append(recipe['title'])"
   ]
  },
  {
   "cell_type": "code",
   "execution_count": 4,
   "metadata": {},
   "outputs": [],
   "source": [
    "titles_recipe1M = []\n",
    "for recipe in data_recipe1M:\n",
    "    if recipe:\n",
    "        if recipe['title']:\n",
    "            titles_recipe1M.append(recipe['title'])"
   ]
  },
  {
   "cell_type": "code",
   "execution_count": 5,
   "metadata": {},
   "outputs": [],
   "source": [
    "titles_recipeBox_set = set(titles_recipeBox)\n",
    "titles_recipe1M_set = set(titles_recipe1M)\n",
    "titles_duplicated = titles_recipeBox_set & titles_recipe1M_set"
   ]
  },
  {
   "cell_type": "code",
   "execution_count": 6,
   "metadata": {},
   "outputs": [
    {
     "name": "stdout",
     "output_type": "stream",
     "text": [
      "124595\n",
      "114281\n",
      "1029720\n",
      "809994\n",
      "74995\n"
     ]
    }
   ],
   "source": [
    "print(len(titles_recipeBox))\n",
    "print(len(titles_recipeBox_set))\n",
    "print(len(titles_recipe1M))\n",
    "print(len(titles_recipe1M_set))\n",
    "print(len(titles_duplicated))"
   ]
  }
 ],
 "metadata": {
  "interpreter": {
   "hash": "bb875f4a3a3b27879a30076b84fa05114b199e04f8f3aeee4f2ba73a2af38a98"
  },
  "kernelspec": {
   "display_name": "Python 3.6.9 64-bit ('recime': conda)",
   "language": "python",
   "name": "python3"
  },
  "language_info": {
   "codemirror_mode": {
    "name": "ipython",
    "version": 3
   },
   "file_extension": ".py",
   "mimetype": "text/x-python",
   "name": "python",
   "nbconvert_exporter": "python",
   "pygments_lexer": "ipython3",
   "version": "3.6.9"
  },
  "orig_nbformat": 4
 },
 "nbformat": 4,
 "nbformat_minor": 2
}
