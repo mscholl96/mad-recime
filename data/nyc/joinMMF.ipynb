{
 "cells": [
  {
   "cell_type": "code",
   "execution_count": 17,
   "metadata": {},
   "outputs": [
    {
     "name": "stdout",
     "output_type": "stream",
     "text": [
      "77\n",
      "['.nyc/Soup.mmf', '.nyc/misc2600.mmf', '.nyc/Pasta.mmf', '.nyc/Chilis.mmf', '.nyc/Noodles.mmf', '.nyc/Usenet.mmf', '.nyc/Dips.mmf', '.nyc/asparagu.mmf', '.nyc/Mmgsotw1.mmf', '.nyc/allrecip.mmf', '.nyc/Lentil.mmf', '.nyc/Cheese.mmf', '.nyc/barley.mmf', '.nyc/biscotti.mmf', '.nyc/cheddar.mmf', '.nyc/welsh.mmf', '.nyc/mm2155re.mmf', '.nyc/cakes02.mmf', '.nyc/Mmice.mmf', '.nyc/brisket.mmf', '.nyc/Filetmig.mmf', '.nyc/Kids.mmf', '.nyc/German1.mmf', '.nyc/apetizer.mmf', '.nyc/brownric.mmf', '.nyc/Soup2.mmf', '.nyc/Chickenb.mmf', '.nyc/Mushside.mmf', '.nyc/Diab722.mmf', '.nyc/ENGLISH.MMF', '.nyc/VEGAN6.MMF', '.nyc/VEG&SAL.MMF', '.nyc/MM_GC_NY.MMF', '.nyc/CHICKWNG.MMF', '.nyc/RAISINBE.MMF', '.nyc/GERMAN1-2.MMF', '.nyc/HOLIDAY.MMF', '.nyc/CHOCLATE.MMF', '.nyc/GERMAN2.MMF', '.nyc/MEXICAN.MMF', '.nyc/CARIBOU.MMF', '.nyc/mmfilip/Mmfilip.mmf', '.nyc/mm1000j/Mm13000j.mmf', '.nyc/mmcanuck/Canada.mmf', '.nyc/swordfis/Swordfis.mmf', '.nyc/mm1000k/Mm13000k.mmf', '.nyc/turkey/Turkey.mmf', '.nyc/mmvegy/Mmvegy.mmf', '.nyc/porkchop/Porkchop.mmf', '.nyc/mm_vegan/Vegan.mmf', '.nyc/mmmicwv2/Mmmicwv2.mmf', '.nyc/porkgr/Porkgr.mmf', '.nyc/porkroas/Porkroas.mmf', '.nyc/mm0222-2/0222-2.mmf', '.nyc/mmbread/Sour.mmf', '.nyc/ccakes/Ccakes.mmf', '.nyc/cburg2/stephen2.mmf', '.nyc/porktend/Porktend.mmf', '.nyc/mmdrinks/Drinks.mmf', '.nyc/ethiopia/Ethiopia.mmf', '.nyc/usdafood/Usdafood.mmf', '.nyc/diabetic/Diabetic.mmf', '.nyc/mm1000i/Mm13000i.mmf', '.nyc/mm1000g/Mm13000g.mmf', '.nyc/mm1000f/Mm13000f.mmf', '.nyc/mm1000a/Mm13000a.mmf', '.nyc/mm1000h/Mm13000h.mmf', '.nyc/mmcyber5/Mmcyber5.mmf', '.nyc/londontn/Londontn.mmf', '.nyc/mmmicwv1/Mmmicwv1.mmf', '.nyc/mm0222-1/0222-1.mmf', '.nyc/fruits/Fruits.mmf', '.nyc/wildrice/Wildrice.mmf', '.nyc/mmchic/Mmchick.mmf', '.nyc/garlic/Garlic.mmf', '.nyc/vegan2/Vegan2.mmf', '.nyc/spaghett/Spaghett.mmf']\n"
     ]
    }
   ],
   "source": [
    "import glob\n",
    "\n",
    "\n",
    "recipesList = glob.glob(\".nyc/*.mmf\")\n",
    "recipesList += glob.glob(\".nyc/*.MMF\")\n",
    "recipesList += glob.glob(\".nyc/*/*.mmf\")\n",
    "recipesList += glob.glob(\".nyc/*/*.MMF\")\n",
    "print(len(recipesList))\n",
    "print(recipesList)"
   ]
  },
  {
   "cell_type": "code",
   "execution_count": 20,
   "metadata": {},
   "outputs": [
    {
     "name": "stdout",
     "output_type": "stream",
     "text": [
      ".nyc/Soup.mmf\n",
      ".nyc/misc2600.mmf\n",
      ".nyc/Pasta.mmf\n",
      ".nyc/Chilis.mmf\n",
      ".nyc/Noodles.mmf\n",
      ".nyc/Usenet.mmf\n",
      ".nyc/Dips.mmf\n",
      ".nyc/asparagu.mmf\n",
      ".nyc/Mmgsotw1.mmf\n",
      ".nyc/allrecip.mmf\n",
      ".nyc/Lentil.mmf\n",
      ".nyc/Cheese.mmf\n",
      ".nyc/barley.mmf\n",
      ".nyc/biscotti.mmf\n",
      ".nyc/cheddar.mmf\n",
      ".nyc/welsh.mmf\n",
      ".nyc/mm2155re.mmf\n",
      ".nyc/cakes02.mmf\n",
      ".nyc/Mmice.mmf\n",
      ".nyc/brisket.mmf\n",
      ".nyc/Filetmig.mmf\n",
      ".nyc/Kids.mmf\n",
      ".nyc/German1.mmf\n",
      ".nyc/apetizer.mmf\n",
      ".nyc/brownric.mmf\n",
      ".nyc/Soup2.mmf\n",
      ".nyc/Chickenb.mmf\n",
      ".nyc/Mushside.mmf\n",
      ".nyc/Diab722.mmf\n",
      ".nyc/ENGLISH.MMF\n",
      ".nyc/VEGAN6.MMF\n",
      ".nyc/VEG&SAL.MMF\n",
      ".nyc/MM_GC_NY.MMF\n",
      ".nyc/CHICKWNG.MMF\n",
      ".nyc/RAISINBE.MMF\n",
      ".nyc/GERMAN1-2.MMF\n",
      ".nyc/HOLIDAY.MMF\n",
      ".nyc/CHOCLATE.MMF\n",
      ".nyc/GERMAN2.MMF\n",
      ".nyc/MEXICAN.MMF\n",
      ".nyc/CARIBOU.MMF\n",
      ".nyc/mmfilip/Mmfilip.mmf\n",
      ".nyc/mm1000j/Mm13000j.mmf\n",
      ".nyc/mmcanuck/Canada.mmf\n",
      ".nyc/swordfis/Swordfis.mmf\n",
      ".nyc/mm1000k/Mm13000k.mmf\n",
      ".nyc/turkey/Turkey.mmf\n",
      ".nyc/mmvegy/Mmvegy.mmf\n",
      ".nyc/porkchop/Porkchop.mmf\n",
      ".nyc/mm_vegan/Vegan.mmf\n",
      ".nyc/mmmicwv2/Mmmicwv2.mmf\n",
      ".nyc/porkgr/Porkgr.mmf\n",
      ".nyc/porkroas/Porkroas.mmf\n",
      ".nyc/mm0222-2/0222-2.mmf\n",
      ".nyc/mmbread/Sour.mmf\n",
      ".nyc/ccakes/Ccakes.mmf\n",
      ".nyc/cburg2/stephen2.mmf\n",
      ".nyc/porktend/Porktend.mmf\n",
      ".nyc/mmdrinks/Drinks.mmf\n",
      ".nyc/ethiopia/Ethiopia.mmf\n",
      ".nyc/usdafood/Usdafood.mmf\n",
      ".nyc/diabetic/Diabetic.mmf\n",
      ".nyc/mm1000i/Mm13000i.mmf\n",
      ".nyc/mm1000g/Mm13000g.mmf\n",
      ".nyc/mm1000f/Mm13000f.mmf\n",
      ".nyc/mm1000a/Mm13000a.mmf\n",
      ".nyc/mm1000h/Mm13000h.mmf\n",
      ".nyc/mmcyber5/Mmcyber5.mmf\n",
      ".nyc/londontn/Londontn.mmf\n",
      ".nyc/mmmicwv1/Mmmicwv1.mmf\n",
      ".nyc/mm0222-1/0222-1.mmf\n",
      ".nyc/fruits/Fruits.mmf\n",
      ".nyc/wildrice/Wildrice.mmf\n",
      ".nyc/mmchic/Mmchick.mmf\n",
      ".nyc/garlic/Garlic.mmf\n",
      ".nyc/vegan2/Vegan2.mmf\n",
      ".nyc/spaghett/Spaghett.mmf\n"
     ]
    }
   ],
   "source": [
    "data = \"\"\n",
    "for recipe in recipesList:\n",
    "    with open(recipe, encoding='cp437') as reci:\n",
    "        print(recipe)\n",
    "        data += reci.read()\n",
    "        data += \"\\n\"\n",
    "\n",
    "\n",
    "\n",
    "with open(\".nyc/joined.mmf\", \"w\") as out:\n",
    "    out.write(data)"
   ]
  },
  {
   "cell_type": "code",
   "execution_count": null,
   "metadata": {},
   "outputs": [],
   "source": []
  }
 ],
 "metadata": {
  "interpreter": {
   "hash": "bb875f4a3a3b27879a30076b84fa05114b199e04f8f3aeee4f2ba73a2af38a98"
  },
  "kernelspec": {
   "display_name": "Python 3.6.9 64-bit ('recime': conda)",
   "language": "python",
   "name": "python3"
  },
  "language_info": {
   "codemirror_mode": {
    "name": "ipython",
    "version": 3
   },
   "file_extension": ".py",
   "mimetype": "text/x-python",
   "name": "python",
   "nbconvert_exporter": "python",
   "pygments_lexer": "ipython3",
   "version": "3.6.9"
  },
  "orig_nbformat": 4
 },
 "nbformat": 4,
 "nbformat_minor": 2
}
