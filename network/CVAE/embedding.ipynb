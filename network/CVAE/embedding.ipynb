{
 "cells": [
  {
   "cell_type": "markdown",
   "metadata": {},
   "source": [
    "# Embedding for the recime dataset\n",
    "Oriented on: https://medium.com/spikelab/learning-embeddings-for-your-machine-learning-model-a6cb4bc6542e\n",
    "\n",
    "Train a embedding where the model tries to predict the amount of elements over the dataset. "
   ]
  },
  {
   "cell_type": "code",
   "execution_count": 38,
   "metadata": {},
   "outputs": [
    {
     "name": "stdout",
     "output_type": "stream",
     "text": [
      "cpu\n"
     ]
    }
   ],
   "source": [
    "import torch\n",
    "import pandas as pd\n",
    "import numpy as np\n",
    "\n",
    "device = torch.device('cuda' if torch.cuda.is_available() else 'cpu')\n",
    "print(device)"
   ]
  },
  {
   "cell_type": "code",
   "execution_count": 13,
   "metadata": {},
   "outputs": [],
   "source": [
    "class ReciMeEmbedding(torch.nn.Module):\n",
    "    def __init__(self, input_dim):\n",
    "        super(ReciMeEmbedding, self).__init__()\n",
    "\n",
    "        self.emb = torch.nn.Embedding(input_dim, 300)\n",
    "\n",
    "        self.network = torch.nn.Sequential(\n",
    "            torch.nn.Linear(300, 100),\n",
    "            torch.nn.ReLU(),\n",
    "            torch.nn.Linear(100, 25),\n",
    "            torch.nn.ReLU(),\n",
    "            torch.nn.Linear(25, 5),\n",
    "            torch.nn.ReLU(),\n",
    "            torch.nn.Linear(5, 1),\n",
    "            torch.nn.ReLU(),\n",
    "            torch.nn.Linear(1, 1)\n",
    "        )\n",
    "\n",
    "    def forward(self, x):\n",
    "        emb = self.emb(x)\n",
    "        return self.network(emb)"
   ]
  },
  {
   "cell_type": "code",
   "execution_count": 2,
   "metadata": {},
   "outputs": [],
   "source": [
    "import pickle\n",
    "ingrDict = pickle.load(open('data/ingredients_ingredientDict.pkl', 'rb'))\n",
    "ingrAmountDict = pickle.load(open('data/ingredients_ingredientAmountDict.pkl', 'rb'))"
   ]
  },
  {
   "cell_type": "code",
   "execution_count": 25,
   "metadata": {},
   "outputs": [
    {
     "data": {
      "text/plain": [
       "(17936, 1)"
      ]
     },
     "execution_count": 25,
     "metadata": {},
     "output_type": "execute_result"
    }
   ],
   "source": [
    "np.array(list(ingrAmountDict.values())).reshape(-1,1).shape"
   ]
  },
  {
   "cell_type": "code",
   "execution_count": 31,
   "metadata": {},
   "outputs": [
    {
     "data": {
      "text/plain": [
       "(17936,)"
      ]
     },
     "execution_count": 31,
     "metadata": {},
     "output_type": "execute_result"
    }
   ],
   "source": [
    "scaledAmounts.reshape(-1,).shape"
   ]
  },
  {
   "cell_type": "code",
   "execution_count": 82,
   "metadata": {},
   "outputs": [],
   "source": [
    "from sklearn.preprocessing import MinMaxScaler\n",
    "\n",
    "scaler = MinMaxScaler()\n",
    "scaledAmounts = scaler.fit_transform(np.array(list(ingrAmountDict.values())).reshape(-1,1))\n",
    "\n",
    "dataList = []\n",
    "\n",
    "for key in ingrDict.keys():\n",
    "    dataList.append((int(ingrDict[key]),scaledAmounts.reshape(-1,)[list(ingrAmountDict.keys()).index(key)].astype('float32')))"
   ]
  },
  {
   "cell_type": "code",
   "execution_count": 90,
   "metadata": {},
   "outputs": [],
   "source": [
    "model = ReciMeEmbedding(len(dataList)).to(device)\n",
    "optimizer = torch.optim.Adam(model.parameters(), lr=1e-3)\n",
    "loss_fn = torch.nn.MSELoss()"
   ]
  },
  {
   "cell_type": "code",
   "execution_count": 91,
   "metadata": {},
   "outputs": [],
   "source": [
    "dataSet = torch.utils.data.DataLoader(dataset=dataList)"
   ]
  },
  {
   "cell_type": "code",
   "execution_count": 92,
   "metadata": {},
   "outputs": [],
   "source": [
    "def train(epoch):\n",
    "    epochLoss = 0.0\n",
    "    for data in dataSet:\n",
    "        optimizer.zero_grad()\n",
    "        data[0].to(device)\n",
    "        data[1].to(device)\n",
    "        y = model(data[0])\n",
    "        loss = loss_fn(y[0], data[1])\n",
    "        epochLoss += loss.item()\n",
    "        loss.backward()\n",
    "        optimizer.step()\n",
    "    print(f\"Epoch: {epoch}, Loss: {epochLoss/len(dataSet)}\")"
   ]
  },
  {
   "cell_type": "code",
   "execution_count": 94,
   "metadata": {},
   "outputs": [
    {
     "name": "stdout",
     "output_type": "stream",
     "text": [
      "Epoch: 1, Loss: 0.00017793885318376405\n",
      "Epoch: 2, Loss: 0.0001778548964262649\n"
     ]
    }
   ],
   "source": [
    "epochs = 2\n",
    "\n",
    "for epoch in range(1, epochs+1):\n",
    "    train(epoch)"
   ]
  },
  {
   "cell_type": "code",
   "execution_count": null,
   "metadata": {},
   "outputs": [],
   "source": []
  }
 ],
 "metadata": {
  "interpreter": {
   "hash": "cd59187470aa0851275bf2a965a5127af0e75db59a2500865218cdea7d760c82"
  },
  "kernelspec": {
   "display_name": "Python 3.7.11 ('recime_new')",
   "language": "python",
   "name": "python3"
  },
  "language_info": {
   "codemirror_mode": {
    "name": "ipython",
    "version": 3
   },
   "file_extension": ".py",
   "mimetype": "text/x-python",
   "name": "python",
   "nbconvert_exporter": "python",
   "pygments_lexer": "ipython3",
   "version": "3.7.11"
  },
  "orig_nbformat": 4
 },
 "nbformat": 4,
 "nbformat_minor": 2
}
