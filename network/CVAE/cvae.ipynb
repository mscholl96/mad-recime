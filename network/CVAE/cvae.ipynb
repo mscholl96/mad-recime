{
  "cells": [
    {
      "cell_type": "markdown",
      "metadata": {
        "id": "view-in-github",
        "colab_type": "text"
      },
      "source": [
        "<a href=\"https://colab.research.google.com/github/mscholl96/mad-recime/blob/network_CVAE/network/CVAE/cvae.ipynb\" target=\"_parent\"><img src=\"https://colab.research.google.com/assets/colab-badge.svg\" alt=\"Open In Colab\"/></a>"
      ]
    },
    {
      "cell_type": "markdown",
      "metadata": {
        "id": "zapniU98wzMW"
      },
      "source": [
        "# Conditional variational autoencoder\n",
        "Variational autoencoder for tabular data, oriented upon: https://lschmiddey.github.io/fastpages_/2021/03/14/tabular-data-variational-autoencoder.html \n",
        "\n",
        "Adopted with one hot encoding for tabular data\n",
        "## Load Json Database of recipes"
      ]
    },
    {
      "cell_type": "code",
      "execution_count": 1,
      "metadata": {
        "colab": {
          "base_uri": "https://localhost:8080/"
        },
        "id": "2zTkqc12wzMc",
        "outputId": "940df7c9-ea9f-42f2-d53d-526fdae679df"
      },
      "outputs": [
        {
          "output_type": "stream",
          "name": "stdout",
          "text": [
            "Drive already mounted at /content/drive; to attempt to forcibly remount, call drive.mount(\"/content/drive\", force_remount=True).\n"
          ]
        }
      ],
      "source": [
        "from google.colab import drive\n",
        "drive.mount('/content/drive')"
      ]
    },
    {
      "cell_type": "code",
      "execution_count": 2,
      "metadata": {
        "id": "qDBTBpLsXtTO"
      },
      "outputs": [],
      "source": [
        "dataPath = '/content/drive/MyDrive/TP2/Datasets/Recipe1M/2022_02_11/ingredients_complete.pkl'\n",
        "embeddingPath = '/content/drive/MyDrive/TP2/Datasets/Recipe1M/vocab.bin'\n",
        "unitDictPath = '/content/drive/MyDrive/TP2/Datasets/Recipe1M/2022_02_11/ingredients_unitDict.pkl'\n",
        "modelOutPath = \"/content/drive/MyDrive/TP2/Network/VAE/vae.pt\"\n",
        "import sys\n",
        "sys.path.append(dataPath)"
      ]
    },
    {
      "cell_type": "code",
      "execution_count": null,
      "metadata": {
        "id": "_e61O0YAwzMd"
      },
      "outputs": [],
      "source": [
        "dataPath = 'data/ingredients_complete_2k.pkl'\n",
        "embeddingPath = 'data/vocab.bin'\n",
        "unitDictPath = 'data/ingredients_unitDict.pkl'"
      ]
    },
    {
      "cell_type": "code",
      "execution_count": 3,
      "metadata": {
        "colab": {
          "base_uri": "https://localhost:8080/"
        },
        "id": "FkkejbegwzMd",
        "outputId": "96cf87f1-9f86-4142-b2de-2d7dd353eac8"
      },
      "outputs": [
        {
          "output_type": "stream",
          "name": "stdout",
          "text": [
            "Index(['000033e39b', '000035f7ed', '00003a70b1', '00004320bb', '0000631d90',\n",
            "       '000075604a', '00007bfd16', '000095fc1d', '0000973574', '0000b1e2b5',\n",
            "       ...\n",
            "       'ffff606358', 'ffff70ccee', 'ffff728423', 'ffff72b421', 'ffff7f3e9f',\n",
            "       'ffff89d1ae', 'ffffbb45d2', 'ffffcd4444', 'ffffd533d7', 'ffffdea29a'],\n",
            "      dtype='object', name='id', length=834840)\n",
            "834840\n"
          ]
        }
      ],
      "source": [
        "import pickle\n",
        "import pandas as pd\n",
        "\n",
        "with open(dataPath, 'rb') as f:\n",
        "    pklData = pickle.load(f)\n",
        "\n",
        "print(pklData.keys())\n",
        "print(len(pklData))"
      ]
    },
    {
      "cell_type": "markdown",
      "metadata": {
        "id": "3woTtbf9wzMe"
      },
      "source": [
        "## Convert list of ingredients to pandas dataframe and one hot encode the dataframe."
      ]
    },
    {
      "cell_type": "code",
      "execution_count": 4,
      "metadata": {
        "colab": {
          "base_uri": "https://localhost:8080/"
        },
        "id": "A7kjo-mMGYBU",
        "outputId": "3e0e57c2-3be5-4c8c-b5d4-e69c220b896a"
      },
      "outputs": [
        {
          "output_type": "stream",
          "name": "stdout",
          "text": [
            "Requirement already satisfied: word2vec in /usr/local/lib/python3.7/dist-packages (0.11.1)\n",
            "Requirement already satisfied: numpy>=1.9.2 in /usr/local/lib/python3.7/dist-packages (from word2vec) (1.21.5)\n",
            "Requirement already satisfied: joblib in /usr/local/lib/python3.7/dist-packages (from word2vec) (1.1.0)\n"
          ]
        }
      ],
      "source": [
        "!pip install word2vec"
      ]
    },
    {
      "cell_type": "code",
      "execution_count": 5,
      "metadata": {
        "id": "d1HzhTL5EUPd"
      },
      "outputs": [],
      "source": [
        "from src.ReciMePreprocessor import ReciMePreprocessor\n",
        "\n",
        "preprocessor = ReciMePreprocessor(embeddingPath, unitDictPath)\n",
        "#pklData = pklData[:2000]\n",
        "#processedInput = preprocessor.preProcessInput(pklData['ingredients'])"
      ]
    },
    {
      "cell_type": "markdown",
      "metadata": {
        "id": "CBKbgRf-wzMg"
      },
      "source": [
        "## VAE\n",
        "### Setup"
      ]
    },
    {
      "cell_type": "code",
      "execution_count": 6,
      "metadata": {
        "colab": {
          "base_uri": "https://localhost:8080/"
        },
        "id": "a5CjNvLnwzMg",
        "outputId": "38916bd7-461d-4bfe-b6b3-7b9c6b9bc1f7"
      },
      "outputs": [
        {
          "output_type": "stream",
          "name": "stdout",
          "text": [
            "cuda\n"
          ]
        }
      ],
      "source": [
        "# Import pytorch dependencies\n",
        "import torch\n",
        "from torch import optim\n",
        "from torch.utils.data import DataLoader\n",
        "\n",
        "# Import additional libraries\n",
        "import pandas as pd\n",
        "import numpy as np\n",
        "from sklearn.model_selection import train_test_split\n",
        "\n",
        "# Import custom autoencoder\n",
        "from src.ReciMeEncoder import ReciMeEncoder\n",
        "\n",
        "# Import custom helper functions\n",
        "from src.networkUtils import CustomLoss, DataBuilder\n",
        "\n",
        "device = torch.device('cuda' if torch.cuda.is_available() else 'cpu')\n",
        "print(device)"
      ]
    },
    {
      "cell_type": "markdown",
      "metadata": {
        "id": "DR6u1q3lwzMg"
      },
      "source": [
        "### Setup Datasets + Hyperparameters"
      ]
    },
    {
      "cell_type": "code",
      "execution_count": 7,
      "metadata": {
        "id": "yle-AZJ6wzMh"
      },
      "outputs": [],
      "source": [
        "# One hot encoding without embedding and using sparse frame\n",
        "train_data, test_data =  train_test_split(pklData, test_size=0.3, random_state=42)\n",
        "batch_size = 2048\n",
        "# Definition of batches\n",
        "train_builder = DataBuilder(train_data, preprocessor)\n",
        "test_builder = DataBuilder(test_data, preprocessor)\n",
        "\n",
        "trainloader=DataLoader(dataset=train_builder, batch_size=batch_size, collate_fn=train_builder.customCollate)\n",
        "testloader=DataLoader(dataset=test_builder, batch_size=batch_size, collate_fn=test_builder.customCollate)"
      ]
    },
    {
      "cell_type": "code",
      "execution_count": 8,
      "metadata": {
        "colab": {
          "base_uri": "https://localhost:8080/"
        },
        "id": "oD_T2VYFwzMh",
        "outputId": "e785f7d9-319f-470c-868b-f502d51f9948"
      },
      "outputs": [
        {
          "output_type": "stream",
          "name": "stdout",
          "text": [
            "ReciMeEncoder(\n",
            "  (encoderStack): Sequential(\n",
            "    (0): _ReLUBatchNormLinear(\n",
            "      (layer): Sequential(\n",
            "        (0): Linear(in_features=6360, out_features=12000, bias=True)\n",
            "        (1): BatchNorm1d(12000, eps=1e-05, momentum=0.1, affine=True, track_running_stats=True)\n",
            "        (2): ReLU()\n",
            "      )\n",
            "    )\n",
            "    (1): _ReLUBatchNormLinear(\n",
            "      (layer): Sequential(\n",
            "        (0): Linear(in_features=12000, out_features=8000, bias=True)\n",
            "        (1): BatchNorm1d(8000, eps=1e-05, momentum=0.1, affine=True, track_running_stats=True)\n",
            "        (2): ReLU()\n",
            "      )\n",
            "    )\n",
            "    (2): _ReLUBatchNormLinear(\n",
            "      (layer): Sequential(\n",
            "        (0): Linear(in_features=8000, out_features=4000, bias=True)\n",
            "        (1): BatchNorm1d(4000, eps=1e-05, momentum=0.1, affine=True, track_running_stats=True)\n",
            "        (2): ReLU()\n",
            "      )\n",
            "    )\n",
            "  )\n",
            "  (muStack): Linear(in_features=4000, out_features=4000, bias=True)\n",
            "  (logvarStack): Linear(in_features=4000, out_features=4000, bias=True)\n",
            "  (decoderStack): Sequential(\n",
            "    (0): _ReLUBatchNormLinear(\n",
            "      (layer): Sequential(\n",
            "        (0): Linear(in_features=4000, out_features=8000, bias=True)\n",
            "        (1): BatchNorm1d(8000, eps=1e-05, momentum=0.1, affine=True, track_running_stats=True)\n",
            "        (2): ReLU()\n",
            "      )\n",
            "    )\n",
            "    (1): _ReLUBatchNormLinear(\n",
            "      (layer): Sequential(\n",
            "        (0): Linear(in_features=8000, out_features=12000, bias=True)\n",
            "        (1): BatchNorm1d(12000, eps=1e-05, momentum=0.1, affine=True, track_running_stats=True)\n",
            "        (2): ReLU()\n",
            "      )\n",
            "    )\n",
            "    (2): _ReLUBatchNormLinear(\n",
            "      (layer): Sequential(\n",
            "        (0): Linear(in_features=12000, out_features=6360, bias=True)\n",
            "        (1): BatchNorm1d(6360, eps=1e-05, momentum=0.1, affine=True, track_running_stats=True)\n",
            "        (2): Tanh()\n",
            "      )\n",
            "    )\n",
            "  )\n",
            ")\n"
          ]
        }
      ],
      "source": [
        "paramList = [train_builder.customCollate([train_builder[0]]).shape[1], 12000, 8000, 4000]\n",
        "\n",
        "model = ReciMeEncoder(paramList, useBatchNorm=True, actFunc=torch.nn.ReLU(), outFunc=torch.nn.Tanh()).to(device)\n",
        "print(model)\n",
        "optimizer = optim.Adam(model.parameters(), lr=1e-3)\n",
        "loss_mse = CustomLoss()"
      ]
    },
    {
      "cell_type": "markdown",
      "metadata": {
        "id": "CH1FyiqXwzMi"
      },
      "source": [
        "### Train Model"
      ]
    },
    {
      "cell_type": "code",
      "execution_count": 9,
      "metadata": {
        "id": "zkHZycy2wzMi"
      },
      "outputs": [],
      "source": [
        "epochs = 100\n",
        "log_interval = 5\n",
        "val_losses = []\n",
        "train_losses = []\n",
        "train_losses_MSE = []\n",
        "train_losses_KLD = []\n",
        "test_losses = []"
      ]
    },
    {
      "cell_type": "code",
      "execution_count": null,
      "metadata": {
        "id": "_Nw6yXRbws6-"
      },
      "outputs": [],
      "source": [
        "def train_otherloss(epoch):\n",
        "    model.train()\n",
        "    for batch_idx, data in enumerate(trainloader):\n",
        "        data = data.to(device)\n",
        "        optimizer.zero_grad()\n",
        "        recon_batch, mu, logvar = model(data)\n",
        "        loss_MSE, loss_KLD, loss = loss_mse(recon_batch, data, mu, logvar)\n",
        "        loss.backward()\n",
        "        loss_itm = loss.item()\n",
        "        train_loss = loss_itm\n",
        "        train_loss_MSE = loss_MSE.item()\n",
        "        train_loss_KLD = loss_KLD.item()\n",
        "        train_losses.append(train_loss)\n",
        "        train_losses_MSE.append(train_loss_MSE)\n",
        "        train_losses_KLD.append(train_loss_KLD)\n",
        "        optimizer.step()\n",
        "    if epoch % log_interval == 0:        \n",
        "        print('====> Epoch: {} Average training loss: {:.5f}, MSE: {:.5f}, KLD: {:.5f}'.format(\n",
        "            epoch, train_loss, \n",
        "            train_loss_MSE , \n",
        "            train_loss_KLD))"
      ]
    },
    {
      "cell_type": "code",
      "execution_count": null,
      "metadata": {
        "id": "2ROmciOcws6_"
      },
      "outputs": [],
      "source": [
        "def test_otherloss(epoch):\n",
        "    with torch.no_grad():\n",
        "        for batch_idx, data in enumerate(testloader):\n",
        "            data = data.to(device)\n",
        "            optimizer.zero_grad()\n",
        "            recon_batch, mu, logvar = model(data)\n",
        "            loss_MSE, loss_KLD, loss = loss_mse(recon_batch, data, mu, logvar)\n",
        "            loss_itm = loss.item()\n",
        "            test_loss = loss_itm\n",
        "            test_loss_MSE = loss_MSE\n",
        "            test_loss_KLD = loss_KLD\n",
        "            test_losses.append(test_loss)\n",
        "        if epoch % log_interval == 0:        \n",
        "            print('====> Epoch: {} Average test loss: {:.4f}, MSE: {:.4f}, KLD: {:.4f}'.format(\n",
        "                epoch, test_loss, \n",
        "                test_loss_MSE, \n",
        "                test_loss_KLD))"
      ]
    },
    {
      "cell_type": "code",
      "execution_count": 10,
      "metadata": {
        "id": "dyZzQCtwwzMj"
      },
      "outputs": [],
      "source": [
        "def train(epoch):\n",
        "    model.train()\n",
        "    train_loss = 0\n",
        "    train_loss_MSE = 0\n",
        "    train_loss_KLD = 0\n",
        "    for batch_idx, data in enumerate(trainloader):\n",
        "        data = data.to(device)\n",
        "        optimizer.zero_grad()\n",
        "        recon_batch, mu, logvar = model(data)\n",
        "        loss_MSE, loss_KLD, loss = loss_mse(recon_batch, data, mu, logvar)\n",
        "        loss.backward()\n",
        "        loss_itm = loss.item()\n",
        "        train_loss += loss_itm\n",
        "        train_loss_MSE += loss_MSE.item()\n",
        "        train_loss_KLD += loss_KLD.item()\n",
        "        optimizer.step()\n",
        "    if epoch % log_interval == 0:        \n",
        "        print('====> Epoch: {} Average training loss: {:.5f}, MSE: {:.5f}, KLD: {:.5f}'.format(\n",
        "            epoch, batch_size*train_loss / len(trainloader.dataset), \n",
        "            batch_size*train_loss_MSE / len(trainloader.dataset), \n",
        "            batch_size*train_loss_KLD / len(trainloader.dataset)))\n",
        "    train_losses.append(batch_size*train_loss / len(trainloader.dataset))\n",
        "    train_losses_MSE.append(batch_size*train_loss_MSE / len(trainloader.dataset))\n",
        "    train_losses_KLD.append(batch_size*train_loss_KLD / len(trainloader.dataset))\n"
      ]
    },
    {
      "cell_type": "code",
      "execution_count": 11,
      "metadata": {
        "id": "NtNNh601wzMj"
      },
      "outputs": [],
      "source": [
        "def test(epoch):\n",
        "    with torch.no_grad():\n",
        "        test_loss = 0\n",
        "        test_loss_MSE = 0\n",
        "        test_loss_KLD = 0\n",
        "        for batch_idx, data in enumerate(testloader):\n",
        "            data = data.to(device)\n",
        "            optimizer.zero_grad()\n",
        "            recon_batch, mu, logvar = model(data)\n",
        "            loss_MSE, loss_KLD, loss = loss_mse(recon_batch, data, mu, logvar)\n",
        "            loss_itm = loss.item()\n",
        "            test_loss += loss_itm\n",
        "            test_loss_MSE += loss_MSE.item()\n",
        "            test_loss_KLD += loss_KLD.item()\n",
        "        if epoch % log_interval == 0:        \n",
        "            print('====> Epoch: {} Average test loss: {:.4f}, MSE: {:.4f}, KLD: {:.4f}'.format(\n",
        "                epoch, batch_size*test_loss / len(testloader.dataset), \n",
        "                batch_size*test_loss_MSE / len(testloader.dataset), \n",
        "                batch_size*test_loss_KLD / len(testloader.dataset)))\n",
        "        test_losses.append(batch_size*test_loss / len(testloader.dataset))"
      ]
    },
    {
      "cell_type": "code",
      "execution_count": 12,
      "metadata": {
        "colab": {
          "base_uri": "https://localhost:8080/"
        },
        "id": "ascBDVv1wzMk",
        "outputId": "5366ce6c-463a-428e-94f6-96278d946e2f"
      },
      "outputs": [
        {
          "output_type": "stream",
          "name": "stdout",
          "text": [
            "1\n",
            "2\n",
            "3\n",
            "4\n",
            "5\n",
            "====> Epoch: 5 Average training loss: 384.08967, MSE: 237.31948, KLD: 146.77019\n",
            "====> Epoch: 5 Average test loss: 240.0261, MSE: 232.0768, KLD: 7.9493\n",
            "6\n",
            "7\n",
            "8\n",
            "9\n",
            "10\n",
            "====> Epoch: 10 Average training loss: 221.10657, MSE: 215.31645, KLD: 5.79012\n",
            "====> Epoch: 10 Average test loss: 222.6751, MSE: 216.2403, KLD: 6.4348\n",
            "11\n",
            "12\n",
            "13\n",
            "14\n",
            "15\n",
            "====> Epoch: 15 Average training loss: 219.83599, MSE: 214.04302, KLD: 5.79298\n",
            "====> Epoch: 15 Average test loss: 220.7154, MSE: 214.8267, KLD: 5.8887\n",
            "16\n",
            "17\n",
            "18\n",
            "19\n",
            "20\n",
            "====> Epoch: 20 Average training loss: 165.09410, MSE: 158.62317, KLD: 6.47093\n",
            "====> Epoch: 20 Average test loss: 163.7466, MSE: 158.4209, KLD: 5.3257\n",
            "21\n",
            "22\n",
            "23\n",
            "24\n",
            "25\n",
            "====> Epoch: 25 Average training loss: 197.27254, MSE: 142.36030, KLD: 54.91224\n",
            "====> Epoch: 25 Average test loss: 182.7073, MSE: 144.9806, KLD: 37.7268\n",
            "26\n",
            "27\n",
            "28\n",
            "29\n",
            "30\n",
            "====> Epoch: 30 Average training loss: 131.63200, MSE: 124.50658, KLD: 7.12543\n",
            "====> Epoch: 30 Average test loss: 129.9779, MSE: 125.2060, KLD: 4.7719\n",
            "31\n",
            "32\n",
            "33\n",
            "34\n",
            "35\n",
            "====> Epoch: 35 Average training loss: 125.86714, MSE: 120.50132, KLD: 5.36582\n",
            "====> Epoch: 35 Average test loss: 126.4953, MSE: 121.4216, KLD: 5.0737\n",
            "36\n",
            "37\n",
            "38\n",
            "39\n",
            "40\n",
            "====> Epoch: 40 Average training loss: 134.21237, MSE: 121.35003, KLD: 12.86234\n",
            "====> Epoch: 40 Average test loss: 127.1620, MSE: 120.4568, KLD: 6.7052\n",
            "41\n",
            "42\n",
            "43\n",
            "44\n",
            "45\n",
            "====> Epoch: 45 Average training loss: 123.35273, MSE: 118.08237, KLD: 5.27036\n",
            "====> Epoch: 45 Average test loss: 123.9823, MSE: 118.8043, KLD: 5.1779\n",
            "46\n",
            "47\n",
            "48\n",
            "49\n",
            "50\n",
            "====> Epoch: 50 Average training loss: 122.78012, MSE: 117.52725, KLD: 5.25287\n",
            "====> Epoch: 50 Average test loss: 123.6477, MSE: 117.9868, KLD: 5.6609\n",
            "51\n",
            "52\n",
            "53\n",
            "54\n",
            "55\n",
            "====> Epoch: 55 Average training loss: 122.59606, MSE: 117.34321, KLD: 5.25284\n",
            "====> Epoch: 55 Average test loss: 123.1168, MSE: 117.5687, KLD: 5.5481\n",
            "56\n",
            "57\n",
            "58\n",
            "59\n",
            "60\n",
            "====> Epoch: 60 Average training loss: 122.47220, MSE: 117.11773, KLD: 5.35447\n",
            "====> Epoch: 60 Average test loss: 122.9954, MSE: 117.7056, KLD: 5.2897\n",
            "61\n",
            "62\n",
            "63\n",
            "64\n",
            "65\n",
            "====> Epoch: 65 Average training loss: 121.86471, MSE: 115.77507, KLD: 6.08963\n",
            "====> Epoch: 65 Average test loss: 122.2423, MSE: 116.3186, KLD: 5.9237\n",
            "66\n",
            "67\n",
            "68\n",
            "69\n",
            "70\n",
            "====> Epoch: 70 Average training loss: 121.49451, MSE: 115.39777, KLD: 6.09674\n",
            "====> Epoch: 70 Average test loss: 121.9462, MSE: 115.8281, KLD: 6.1182\n",
            "71\n",
            "72\n",
            "73\n",
            "74\n",
            "75\n",
            "====> Epoch: 75 Average training loss: 120.74763, MSE: 114.01232, KLD: 6.73531\n",
            "====> Epoch: 75 Average test loss: 121.1885, MSE: 114.3133, KLD: 6.8752\n",
            "76\n",
            "77\n",
            "78\n",
            "79\n",
            "80\n",
            "====> Epoch: 80 Average training loss: 120.10294, MSE: 112.60037, KLD: 7.50257\n",
            "====> Epoch: 80 Average test loss: 120.5677, MSE: 112.8952, KLD: 7.6724\n",
            "81\n",
            "82\n",
            "83\n",
            "84\n",
            "85\n",
            "====> Epoch: 85 Average training loss: 119.65932, MSE: 111.62593, KLD: 8.03339\n",
            "====> Epoch: 85 Average test loss: 120.1825, MSE: 112.3606, KLD: 7.8219\n",
            "86\n",
            "87\n",
            "88\n",
            "89\n",
            "90\n",
            "====> Epoch: 90 Average training loss: 119.33091, MSE: 110.92500, KLD: 8.40591\n",
            "====> Epoch: 90 Average test loss: 119.8050, MSE: 111.1907, KLD: 8.6143\n",
            "91\n",
            "92\n",
            "93\n",
            "94\n",
            "95\n",
            "====> Epoch: 95 Average training loss: 119.08897, MSE: 110.36910, KLD: 8.71987\n",
            "====> Epoch: 95 Average test loss: 119.5717, MSE: 110.8104, KLD: 8.7612\n",
            "96\n",
            "97\n",
            "98\n",
            "99\n",
            "100\n",
            "====> Epoch: 100 Average training loss: 118.79280, MSE: 109.70586, KLD: 9.08694\n",
            "====> Epoch: 100 Average test loss: 119.2955, MSE: 110.0249, KLD: 9.2706\n"
          ]
        }
      ],
      "source": [
        "for epoch in range(1,epochs+1):\n",
        "    print(epoch)\n",
        "    train(epoch)\n",
        "    test(epoch)\n",
        "    if epoch % log_interval == 0:\n",
        "        torch.save({\n",
        "            'epoch': epoch,\n",
        "            'model_state_dict': model.state_dict(),\n",
        "            'optimizer_state_dict': optimizer.state_dict(),\n",
        "            'loss': (train_losses, test_losses),\n",
        "            }, modelOutPath)"
      ]
    },
    {
      "cell_type": "code",
      "execution_count": 13,
      "metadata": {
        "colab": {
          "base_uri": "https://localhost:8080/",
          "height": 286
        },
        "id": "NyRyzB8zws7B",
        "outputId": "4a552aec-dcb2-45da-d130-8ac396304f72"
      },
      "outputs": [
        {
          "output_type": "execute_result",
          "data": {
            "text/plain": [
              "(0.0, 500.0)"
            ]
          },
          "metadata": {},
          "execution_count": 13
        },
        {
          "output_type": "display_data",
          "data": {
            "text/plain": [
              "<Figure size 432x288 with 1 Axes>"
            ],
            "image/png": "[encoded data removed]"
          },
          "metadata": {
            "needs_background": "light"
          }
        }
      ],
      "source": [
        "import matplotlib.pyplot as plt\n",
        "plt.plot(train_losses)\n",
        "plt.plot(train_losses_MSE)\n",
        "plt.plot(train_losses_KLD)\n",
        "plt.legend(['Train', 'Train_MSE', 'Train_KLD'])\n",
        "plt.ylim([0,500])"
      ]
    },
    {
      "cell_type": "code",
      "execution_count": 14,
      "metadata": {
        "colab": {
          "base_uri": "https://localhost:8080/",
          "height": 286
        },
        "id": "stl8-ACfwzMk",
        "outputId": "88735d11-436c-4119-97f3-f3a476fba80a"
      },
      "outputs": [
        {
          "output_type": "execute_result",
          "data": {
            "text/plain": [
              "(0.0, 500.0)"
            ]
          },
          "metadata": {},
          "execution_count": 14
        },
        {
          "output_type": "display_data",
          "data": {
            "text/plain": [
              "<Figure size 432x288 with 1 Axes>"
            ],
            "image/png": "[encoded data removed]"
          },
          "metadata": {
            "needs_background": "light"
          }
        }
      ],
      "source": [
        "import matplotlib.pyplot as plt\n",
        "plt.plot(test_losses)\n",
        "plt.plot(train_losses)\n",
        "plt.legend(['Test', 'Train'])\n",
        "plt.ylim([0,500])"
      ]
    },
    {
      "cell_type": "code",
      "source": [
        "torch.save({\n",
        "    'epoch': epoch,\n",
        "    'model_state_dict': model.state_dict(),\n",
        "    'optimizer_state_dict': optimizer.state_dict(),\n",
        "    'loss': (train_losses, test_losses),\n",
        "    }, \"/content/drive/MyDrive/TP2/Network/VAE/vae_100epoch.pt\")"
      ],
      "metadata": {
        "id": "nw8EuDS5Gs-T"
      },
      "execution_count": 15,
      "outputs": []
    },
    {
      "cell_type": "markdown",
      "metadata": {
        "id": "YYvu9HekwzMm"
      },
      "source": [
        "### Draw random samples form latent space and generate new data"
      ]
    },
    {
      "cell_type": "code",
      "execution_count": 16,
      "metadata": {
        "id": "xxoWJ_IWEUPj"
      },
      "outputs": [],
      "source": [
        "with torch.no_grad():\n",
        "    for batch_idx, data in enumerate(testloader):\n",
        "        data = data.to(device)\n",
        "        optimizer.zero_grad()\n",
        "        recon_batch, mu, logvar = model(data)\n",
        "        break"
      ]
    },
    {
      "cell_type": "code",
      "execution_count": 17,
      "metadata": {
        "colab": {
          "base_uri": "https://localhost:8080/",
          "height": 669
        },
        "id": "o-l_00KswzMn",
        "outputId": "b1e82728-8f45-4b89-8738-1500cee38319"
      },
      "outputs": [
        {
          "output_type": "execute_result",
          "data": {
            "text/plain": [
              "         amount        unit     ingredient\n",
              "0   0.046789646    teaspoon          flour\n",
              "1   0.007748604    teaspoon          sugar\n",
              "2     1.7422438    teaspoon  baking_powder\n",
              "3    0.06824732  centimetre           </s>\n",
              "4    0.06556511  centimetre           eggs\n",
              "5   0.068843365  centimetre          flour\n",
              "6    0.08434057  centimetre          flour\n",
              "7    0.97095966  tablespoon    baking_soda\n",
              "8   0.035762787  tablespoon           salt\n",
              "9     0.0834465    teaspoon           salt\n",
              "10   0.19669533    teaspoon           </s>\n",
              "11    0.1963973    teaspoon           </s>\n",
              "12   0.15705824    teaspoon       crockpot\n",
              "13     4.890561    teaspoon       buttered\n",
              "14    3.1384826    teaspoon               \n",
              "15    0.1180172    teaspoon               \n",
              "16   0.09149313    teaspoon               \n",
              "17   0.14603138    teaspoon               \n",
              "18   0.07003546  tablespoon               \n",
              "19   0.15228987    teaspoon               "
            ],
            "text/html": [
              "\n",
              "  <div id=\"df-98a79bf6-2d4e-4c56-9b1b-7e61eed0f585\">\n",
              "    <div class=\"colab-df-container\">\n",
              "      <div>\n",
              "<style scoped>\n",
              "    .dataframe tbody tr th:only-of-type {\n",
              "        vertical-align: middle;\n",
              "    }\n",
              "\n",
              "    .dataframe tbody tr th {\n",
              "        vertical-align: top;\n",
              "    }\n",
              "\n",
              "    .dataframe thead th {\n",
              "        text-align: right;\n",
              "    }\n",
              "</style>\n",
              "<table border=\"1\" class=\"dataframe\">\n",
              "  <thead>\n",
              "    <tr style=\"text-align: right;\">\n",
              "      <th></th>\n",
              "      <th>amount</th>\n",
              "      <th>unit</th>\n",
              "      <th>ingredient</th>\n",
              "    </tr>\n",
              "  </thead>\n",
              "  <tbody>\n",
              "    <tr>\n",
              "      <th>0</th>\n",
              "      <td>0.046789646</td>\n",
              "      <td>teaspoon</td>\n",
              "      <td>flour</td>\n",
              "    </tr>\n",
              "    <tr>\n",
              "      <th>1</th>\n",
              "      <td>0.007748604</td>\n",
              "      <td>teaspoon</td>\n",
              "      <td>sugar</td>\n",
              "    </tr>\n",
              "    <tr>\n",
              "      <th>2</th>\n",
              "      <td>1.7422438</td>\n",
              "      <td>teaspoon</td>\n",
              "      <td>baking_powder</td>\n",
              "    </tr>\n",
              "    <tr>\n",
              "      <th>3</th>\n",
              "      <td>0.06824732</td>\n",
              "      <td>centimetre</td>\n",
              "      <td>&lt;/s&gt;</td>\n",
              "    </tr>\n",
              "    <tr>\n",
              "      <th>4</th>\n",
              "      <td>0.06556511</td>\n",
              "      <td>centimetre</td>\n",
              "      <td>eggs</td>\n",
              "    </tr>\n",
              "    <tr>\n",
              "      <th>5</th>\n",
              "      <td>0.068843365</td>\n",
              "      <td>centimetre</td>\n",
              "      <td>flour</td>\n",
              "    </tr>\n",
              "    <tr>\n",
              "      <th>6</th>\n",
              "      <td>0.08434057</td>\n",
              "      <td>centimetre</td>\n",
              "      <td>flour</td>\n",
              "    </tr>\n",
              "    <tr>\n",
              "      <th>7</th>\n",
              "      <td>0.97095966</td>\n",
              "      <td>tablespoon</td>\n",
              "      <td>baking_soda</td>\n",
              "    </tr>\n",
              "    <tr>\n",
              "      <th>8</th>\n",
              "      <td>0.035762787</td>\n",
              "      <td>tablespoon</td>\n",
              "      <td>salt</td>\n",
              "    </tr>\n",
              "    <tr>\n",
              "      <th>9</th>\n",
              "      <td>0.0834465</td>\n",
              "      <td>teaspoon</td>\n",
              "      <td>salt</td>\n",
              "    </tr>\n",
              "    <tr>\n",
              "      <th>10</th>\n",
              "      <td>0.19669533</td>\n",
              "      <td>teaspoon</td>\n",
              "      <td>&lt;/s&gt;</td>\n",
              "    </tr>\n",
              "    <tr>\n",
              "      <th>11</th>\n",
              "      <td>0.1963973</td>\n",
              "      <td>teaspoon</td>\n",
              "      <td>&lt;/s&gt;</td>\n",
              "    </tr>\n",
              "    <tr>\n",
              "      <th>12</th>\n",
              "      <td>0.15705824</td>\n",
              "      <td>teaspoon</td>\n",
              "      <td>crockpot</td>\n",
              "    </tr>\n",
              "    <tr>\n",
              "      <th>13</th>\n",
              "      <td>4.890561</td>\n",
              "      <td>teaspoon</td>\n",
              "      <td>buttered</td>\n",
              "    </tr>\n",
              "    <tr>\n",
              "      <th>14</th>\n",
              "      <td>3.1384826</td>\n",
              "      <td>teaspoon</td>\n",
              "      <td></td>\n",
              "    </tr>\n",
              "    <tr>\n",
              "      <th>15</th>\n",
              "      <td>0.1180172</td>\n",
              "      <td>teaspoon</td>\n",
              "      <td></td>\n",
              "    </tr>\n",
              "    <tr>\n",
              "      <th>16</th>\n",
              "      <td>0.09149313</td>\n",
              "      <td>teaspoon</td>\n",
              "      <td></td>\n",
              "    </tr>\n",
              "    <tr>\n",
              "      <th>17</th>\n",
              "      <td>0.14603138</td>\n",
              "      <td>teaspoon</td>\n",
              "      <td></td>\n",
              "    </tr>\n",
              "    <tr>\n",
              "      <th>18</th>\n",
              "      <td>0.07003546</td>\n",
              "      <td>tablespoon</td>\n",
              "      <td></td>\n",
              "    </tr>\n",
              "    <tr>\n",
              "      <th>19</th>\n",
              "      <td>0.15228987</td>\n",
              "      <td>teaspoon</td>\n",
              "      <td></td>\n",
              "    </tr>\n",
              "  </tbody>\n",
              "</table>\n",
              "</div>\n",
              "      <button class=\"colab-df-convert\" onclick=\"convertToInteractive('df-98a79bf6-2d4e-4c56-9b1b-7e61eed0f585')\"\n",
              "              title=\"Convert this dataframe to an interactive table.\"\n",
              "              style=\"display:none;\">\n",
              "        \n",
              "  <svg xmlns=\"http://www.w3.org/2000/svg\" height=\"24px\"viewBox=\"0 0 24 24\"\n",
              "       width=\"24px\">\n",
              "    <path d=\"M0 0h24v24H0V0z\" fill=\"none\"/>\n",
              "    <path d=\"M18.56 5.44l.94 2.06.94-2.06 2.06-.94-2.06-.94-.94-2.06-.94 2.06-2.06.94zm-11 1L8.5 8.5l.94-2.06 2.06-.94-2.06-.94L8.5 2.5l-.94 2.06-2.06.94zm10 10l.94 2.06.94-2.06 2.06-.94-2.06-.94-.94-2.06-.94 2.06-2.06.94z\"/><path d=\"M17.41 7.96l-1.37-1.37c-.4-.4-.92-.59-1.43-.59-.52 0-1.04.2-1.43.59L10.3 9.45l-7.72 7.72c-.78.78-.78 2.05 0 2.83L4 21.41c.39.39.9.59 1.41.59.51 0 1.02-.2 1.41-.59l7.78-7.78 2.81-2.81c.8-.78.8-2.07 0-2.86zM5.41 20L4 18.59l7.72-7.72 1.47 1.35L5.41 20z\"/>\n",
              "  </svg>\n",
              "      </button>\n",
              "      \n",
              "  <style>\n",
              "    .colab-df-container {\n",
              "      display:flex;\n",
              "      flex-wrap:wrap;\n",
              "      gap: 12px;\n",
              "    }\n",
              "\n",
              "    .colab-df-convert {\n",
              "      background-color: #E8F0FE;\n",
              "      border: none;\n",
              "      border-radius: 50%;\n",
              "      cursor: pointer;\n",
              "      display: none;\n",
              "      fill: #1967D2;\n",
              "      height: 32px;\n",
              "      padding: 0 0 0 0;\n",
              "      width: 32px;\n",
              "    }\n",
              "\n",
              "    .colab-df-convert:hover {\n",
              "      background-color: #E2EBFA;\n",
              "      box-shadow: 0px 1px 2px rgba(60, 64, 67, 0.3), 0px 1px 3px 1px rgba(60, 64, 67, 0.15);\n",
              "      fill: #174EA6;\n",
              "    }\n",
              "\n",
              "    [theme=dark] .colab-df-convert {\n",
              "      background-color: #3B4455;\n",
              "      fill: #D2E3FC;\n",
              "    }\n",
              "\n",
              "    [theme=dark] .colab-df-convert:hover {\n",
              "      background-color: #434B5C;\n",
              "      box-shadow: 0px 1px 3px 1px rgba(0, 0, 0, 0.15);\n",
              "      filter: drop-shadow(0px 1px 2px rgba(0, 0, 0, 0.3));\n",
              "      fill: #FFFFFF;\n",
              "    }\n",
              "  </style>\n",
              "\n",
              "      <script>\n",
              "        const buttonEl =\n",
              "          document.querySelector('#df-98a79bf6-2d4e-4c56-9b1b-7e61eed0f585 button.colab-df-convert');\n",
              "        buttonEl.style.display =\n",
              "          google.colab.kernel.accessAllowed ? 'block' : 'none';\n",
              "\n",
              "        async function convertToInteractive(key) {\n",
              "          const element = document.querySelector('#df-98a79bf6-2d4e-4c56-9b1b-7e61eed0f585');\n",
              "          const dataTable =\n",
              "            await google.colab.kernel.invokeFunction('convertToInteractive',\n",
              "                                                     [key], {});\n",
              "          if (!dataTable) return;\n",
              "\n",
              "          const docLinkHtml = 'Like what you see? Visit the ' +\n",
              "            '<a target=\"_blank\" href=https://colab.research.google.com/notebooks/data_table.ipynb>data table notebook</a>'\n",
              "            + ' to learn more about interactive tables.';\n",
              "          element.innerHTML = '';\n",
              "          dataTable['output_type'] = 'display_data';\n",
              "          await google.colab.output.renderOutput(dataTable, element);\n",
              "          const docLink = document.createElement('div');\n",
              "          docLink.innerHTML = docLinkHtml;\n",
              "          element.appendChild(docLink);\n",
              "        }\n",
              "      </script>\n",
              "    </div>\n",
              "  </div>\n",
              "  "
            ]
          },
          "metadata": {},
          "execution_count": 17
        }
      ],
      "source": [
        "sigma = torch.exp(logvar/2)\n",
        "# sample z from q\n",
        "no_samples = 20\n",
        "q = torch.distributions.Normal(mu.mean(axis=0), sigma.mean(axis=0))\n",
        "z = q.rsample(sample_shape=torch.Size([no_samples]))\n",
        "\n",
        "with torch.no_grad():\n",
        "    pred = model.decode(z).cpu().numpy()\n",
        "\n",
        "df = preprocessor.decodeOutput(pred)\n",
        "df[0]"
      ]
    }
  ],
  "metadata": {
    "accelerator": "GPU",
    "colab": {
      "machine_shape": "hm",
      "name": "cvae.ipynb",
      "provenance": [],
      "include_colab_link": true
    },
    "interpreter": {
      "hash": "bb875f4a3a3b27879a30076b84fa05114b199e04f8f3aeee4f2ba73a2af38a98"
    },
    "kernelspec": {
      "display_name": "Python 3.6.9 64-bit ('recime': conda)",
      "language": "python",
      "name": "python3"
    },
    "language_info": {
      "codemirror_mode": {
        "name": "ipython",
        "version": 3
      },
      "file_extension": ".py",
      "mimetype": "text/x-python",
      "name": "python",
      "nbconvert_exporter": "python",
      "pygments_lexer": "ipython3",
      "version": "3.7.11"
    },
    "orig_nbformat": 4
  },
  "nbformat": 4,
  "nbformat_minor": 0
}