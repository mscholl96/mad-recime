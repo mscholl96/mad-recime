{
  "cells": [
    {
      "cell_type": "markdown",
      "metadata": {
        "id": "view-in-github",
        "colab_type": "text"
      },
      "source": [
        "<a href=\"https://colab.research.google.com/github/mscholl96/mad-recime/blob/network_CVAE/network/CVAE/cvae.ipynb\" target=\"_parent\"><img src=\"https://colab.research.google.com/assets/colab-badge.svg\" alt=\"Open In Colab\"/></a>"
      ]
    },
    {
      "cell_type": "markdown",
      "metadata": {
        "id": "zapniU98wzMW"
      },
      "source": [
        "# Conditional variational autoencoder\n",
        "Variational autoencoder for tabular data, oriented upon: https://lschmiddey.github.io/fastpages_/2021/03/14/tabular-data-variational-autoencoder.html \n",
        "\n",
        "Adopted with one hot encoding for tabular data\n",
        "## Load Json Database of recipes"
      ]
    },
    {
      "cell_type": "code",
      "execution_count": 1,
      "metadata": {
        "colab": {
          "base_uri": "https://localhost:8080/"
        },
        "id": "2zTkqc12wzMc",
        "outputId": "36816fdc-9976-4280-f6fc-d2e5783b1894"
      },
      "outputs": [
        {
          "output_type": "stream",
          "name": "stdout",
          "text": [
            "Drive already mounted at /content/drive; to attempt to forcibly remount, call drive.mount(\"/content/drive\", force_remount=True).\n"
          ]
        }
      ],
      "source": [
        "from google.colab import drive\n",
        "drive.mount('/content/drive')\n",
        "dataPath = '/content/drive/MyDrive/TP2/Datasets/Recipe1M/2022_02_11/recipes_valid_0.pkl'\n",
        "import sys\n",
        "sys.path.append(dataPath)"
      ]
    },
    {
      "cell_type": "code",
      "execution_count": null,
      "metadata": {
        "id": "_e61O0YAwzMd"
      },
      "outputs": [],
      "source": [
        "dataPath = 'data/recipes_valid_0.pkl'"
      ]
    },
    {
      "cell_type": "code",
      "execution_count": 2,
      "metadata": {
        "colab": {
          "base_uri": "https://localhost:8080/"
        },
        "id": "FkkejbegwzMd",
        "outputId": "181c1551-cb15-4e17-d488-c72994a2294f"
      },
      "outputs": [
        {
          "output_type": "stream",
          "name": "stdout",
          "text": [
            "Index(['title', 'ingredients', 'instructions'], dtype='object')\n",
            "100000\n"
          ]
        }
      ],
      "source": [
        "import pickle\n",
        "import pandas as pd\n",
        "\n",
        "with open(dataPath, 'rb') as f:\n",
        "    pklData = pd.DataFrame(pickle.load(f))\n",
        "\n",
        "print(pklData.keys())\n",
        "print(len(pklData))"
      ]
    },
    {
      "cell_type": "markdown",
      "metadata": {
        "id": "3woTtbf9wzMe"
      },
      "source": [
        "## Convert list of ingredients to pandas dataframe and one hot encode the dataframe."
      ]
    },
    {
      "cell_type": "code",
      "execution_count": 3,
      "metadata": {
        "colab": {
          "base_uri": "https://localhost:8080/"
        },
        "id": "A7kjo-mMGYBU",
        "outputId": "d2672c37-3e25-4f44-e0c0-68ed7b1d90bf"
      },
      "outputs": [
        {
          "output_type": "stream",
          "name": "stdout",
          "text": [
            "Collecting word2vec\n",
            "  Downloading word2vec-0.11.1.tar.gz (42 kB)\n",
            "\u001b[?25l\r\u001b[K     |███████▊                        | 10 kB 22.1 MB/s eta 0:00:01\r\u001b[K     |███████████████▌                | 20 kB 28.5 MB/s eta 0:00:01\r\u001b[K     |███████████████████████▎        | 30 kB 19.8 MB/s eta 0:00:01\r\u001b[K     |███████████████████████████████ | 40 kB 16.4 MB/s eta 0:00:01\r\u001b[K     |████████████████████████████████| 42 kB 795 kB/s \n",
            "\u001b[?25h  Installing build dependencies ... \u001b[?25l\u001b[?25hdone\n",
            "  Getting requirements to build wheel ... \u001b[?25l\u001b[?25hdone\n",
            "    Preparing wheel metadata ... \u001b[?25l\u001b[?25hdone\n",
            "Requirement already satisfied: joblib in /usr/local/lib/python3.7/dist-packages (from word2vec) (1.1.0)\n",
            "Requirement already satisfied: numpy>=1.9.2 in /usr/local/lib/python3.7/dist-packages (from word2vec) (1.21.5)\n",
            "Building wheels for collected packages: word2vec\n",
            "  Building wheel for word2vec (PEP 517) ... \u001b[?25l\u001b[?25hdone\n",
            "  Created wheel for word2vec: filename=word2vec-0.11.1-py2.py3-none-any.whl size=156420 sha256=3591c5f1338e1124c0fe16fa803900036c78cf7e01775c3967817f5703020e3b\n",
            "  Stored in directory: /root/.cache/pip/wheels/c9/c0/d4/29d797817e268124a32b6cf8beb8b8fe87b86f099d5a049e61\n",
            "Successfully built word2vec\n",
            "Installing collected packages: word2vec\n",
            "Successfully installed word2vec-0.11.1\n"
          ]
        }
      ],
      "source": [
        "!pip install word2vec"
      ]
    },
    {
      "cell_type": "code",
      "execution_count": 3,
      "metadata": {
        "id": "d1HzhTL5EUPd"
      },
      "outputs": [],
      "source": [
        "from ReciMePreprocessor import ReciMePreprocessor\n",
        "\n",
        "preprocessor = ReciMePreprocessor('/content/drive/MyDrive/TP2/Datasets/Recipe1M/vocab.bin')\n",
        "#pklData = pklData[:2000]\n",
        "out = preprocessor.preProcessInput(pklData['ingredients'])"
      ]
    },
    {
      "cell_type": "markdown",
      "metadata": {
        "id": "CBKbgRf-wzMg"
      },
      "source": [
        "## VAE\n",
        "### Setup"
      ]
    },
    {
      "cell_type": "code",
      "execution_count": 4,
      "metadata": {
        "colab": {
          "base_uri": "https://localhost:8080/"
        },
        "id": "a5CjNvLnwzMg",
        "outputId": "5a8e09d8-a420-474d-8dc6-bd7c746d13f3"
      },
      "outputs": [
        {
          "output_type": "stream",
          "name": "stdout",
          "text": [
            "cuda\n"
          ]
        }
      ],
      "source": [
        "# Import pytorch dependencies\n",
        "import torch\n",
        "from torch import optim\n",
        "from torch.utils.data import DataLoader\n",
        "\n",
        "# Import additional libraries\n",
        "import pandas as pd\n",
        "import numpy as np\n",
        "\n",
        "# Import custom autoencoder\n",
        "from ReciMeEncoder import ReciMeEncoder, RmeParameters\n",
        "from ReciMeEncoder_unstacked import ReciMeEncoder_unstacked\n",
        "\n",
        "# Import custom helper functions\n",
        "from networkUtils import DataBuilder, standardize_data\n",
        "\n",
        "device = torch.device('cuda' if torch.cuda.is_available() else 'cpu')\n",
        "print(device)"
      ]
    },
    {
      "cell_type": "code",
      "execution_count": 5,
      "metadata": {
        "id": "3qKdykwCws66"
      },
      "outputs": [],
      "source": [
        "import torch.nn as nn\n",
        "\n",
        "class CustomLoss(nn.Module):\n",
        "    def __init__(self):\n",
        "        super(CustomLoss, self).__init__()\n",
        "        self.mse_loss = nn.MSELoss(reduction='none')\n",
        "    \n",
        "    def forward(self, x_recon, x, mu, logvar):\n",
        "        loss_MSE = self.mse_loss(x_recon, x).sum(axis=1)\n",
        "        loss_MSE = loss_MSE.mean()\n",
        "        loss_KLD = -0.5 * torch.sum(1 + logvar - mu**2 - torch.exp(logvar), axis=1)\n",
        "        loss_KLD = loss_KLD.mean()\n",
        "\n",
        "        return loss_MSE, loss_KLD, loss_MSE + loss_KLD"
      ]
    },
    {
      "cell_type": "code",
      "execution_count": 8,
      "metadata": {
        "id": "j2suV_iWws66",
        "outputId": "68805d5b-92c2-4b09-e187-0312beca15f2",
        "colab": {
          "base_uri": "https://localhost:8080/"
        }
      },
      "outputs": [
        {
          "output_type": "execute_result",
          "data": {
            "text/plain": [
              "torch.Size([])"
            ]
          },
          "metadata": {},
          "execution_count": 8
        }
      ],
      "source": [
        "loss = CustomLoss()\n",
        "\n",
        "mat1 = torch.Tensor(np.zeros((1024,6400)))\n",
        "mat2 = torch.Tensor(np.ones((1024,6400)))\n",
        "\n",
        "mse, kld, l = loss(mat2, mat1, torch.tensor(np.zeros((1024,128))), torch.tensor(np.zeros((1024,128))))\n",
        "mse.shape"
      ]
    },
    {
      "cell_type": "markdown",
      "metadata": {
        "id": "DR6u1q3lwzMg"
      },
      "source": [
        "### Setup Datasets + Hyperparameters"
      ]
    },
    {
      "cell_type": "code",
      "execution_count": 6,
      "metadata": {
        "id": "yle-AZJ6wzMh"
      },
      "outputs": [],
      "source": [
        "# One hot encoding without embedding and using sparse frame\n",
        "train_data, test_data, scaler =  standardize_data(out)\n",
        "batch_size = 512\n",
        "# Train/Testdataset split is defined in the DataBuilder\n",
        "traindata_set=DataBuilder(train_data, standardizer=scaler)\n",
        "testdata_set=DataBuilder(test_data, standardizer=scaler)\n",
        "# Definition of batches\n",
        "trainloader=DataLoader(dataset=traindata_set,batch_size=batch_size)\n",
        "testloader=DataLoader(dataset=testdata_set,batch_size=batch_size)"
      ]
    },
    {
      "cell_type": "code",
      "execution_count": 7,
      "metadata": {
        "id": "oD_T2VYFwzMh",
        "outputId": "843e505e-637f-4b68-aa4f-4d1a9f1e0814",
        "colab": {
          "base_uri": "https://localhost:8080/"
        }
      },
      "outputs": [
        {
          "output_type": "stream",
          "name": "stdout",
          "text": [
            "ReciMeEncoder(\n",
            "  (encoderStack): Sequential(\n",
            "    (0): _ReLUBatchNormLinear(\n",
            "      (layer): Sequential(\n",
            "        (0): Linear(in_features=6360, out_features=10000, bias=True)\n",
            "        (1): BatchNorm1d(10000, eps=1e-05, momentum=0.1, affine=True, track_running_stats=True)\n",
            "        (2): ReLU()\n",
            "      )\n",
            "    )\n",
            "    (1): _ReLUBatchNormLinear(\n",
            "      (layer): Sequential(\n",
            "        (0): Linear(in_features=10000, out_features=7000, bias=True)\n",
            "        (1): BatchNorm1d(7000, eps=1e-05, momentum=0.1, affine=True, track_running_stats=True)\n",
            "        (2): ReLU()\n",
            "      )\n",
            "    )\n",
            "    (2): _ReLUBatchNormLinear(\n",
            "      (layer): Sequential(\n",
            "        (0): Linear(in_features=7000, out_features=4000, bias=True)\n",
            "        (1): BatchNorm1d(4000, eps=1e-05, momentum=0.1, affine=True, track_running_stats=True)\n",
            "        (2): ReLU()\n",
            "      )\n",
            "    )\n",
            "    (3): _ReLUBatchNormLinear(\n",
            "      (layer): Sequential(\n",
            "        (0): Linear(in_features=4000, out_features=2500, bias=True)\n",
            "        (1): BatchNorm1d(2500, eps=1e-05, momentum=0.1, affine=True, track_running_stats=True)\n",
            "        (2): ReLU()\n",
            "      )\n",
            "    )\n",
            "  )\n",
            "  (muStack): Linear(in_features=2500, out_features=2500, bias=True)\n",
            "  (logvarStack): Linear(in_features=2500, out_features=2500, bias=True)\n",
            "  (decoderStack): Sequential(\n",
            "    (0): _ReLUBatchNormLinear(\n",
            "      (layer): Sequential(\n",
            "        (0): Linear(in_features=2500, out_features=4000, bias=True)\n",
            "        (1): BatchNorm1d(4000, eps=1e-05, momentum=0.1, affine=True, track_running_stats=True)\n",
            "        (2): ReLU()\n",
            "      )\n",
            "    )\n",
            "    (1): _ReLUBatchNormLinear(\n",
            "      (layer): Sequential(\n",
            "        (0): Linear(in_features=4000, out_features=7000, bias=True)\n",
            "        (1): BatchNorm1d(7000, eps=1e-05, momentum=0.1, affine=True, track_running_stats=True)\n",
            "        (2): ReLU()\n",
            "      )\n",
            "    )\n",
            "    (2): _ReLUBatchNormLinear(\n",
            "      (layer): Sequential(\n",
            "        (0): Linear(in_features=7000, out_features=10000, bias=True)\n",
            "        (1): BatchNorm1d(10000, eps=1e-05, momentum=0.1, affine=True, track_running_stats=True)\n",
            "        (2): ReLU()\n",
            "      )\n",
            "    )\n",
            "    (3): Linear(in_features=10000, out_features=6360, bias=True)\n",
            "  )\n",
            ")\n"
          ]
        }
      ],
      "source": [
        "params = RmeParameters(testdata_set.x.shape[1], 10000, 7000, 4000, 2500)\n",
        "\n",
        "model = ReciMeEncoder(params).to(device)\n",
        "print(model)\n",
        "optimizer = optim.Adam(model.parameters(), lr=1e-3)\n",
        "loss_mse = CustomLoss()"
      ]
    },
    {
      "cell_type": "markdown",
      "metadata": {
        "id": "CH1FyiqXwzMi"
      },
      "source": [
        "### Train Model"
      ]
    },
    {
      "cell_type": "code",
      "execution_count": 8,
      "metadata": {
        "id": "zkHZycy2wzMi"
      },
      "outputs": [],
      "source": [
        "epochs = 100\n",
        "log_interval = 5\n",
        "val_losses = []\n",
        "train_losses = []\n",
        "train_losses_MSE = []\n",
        "train_losses_KLD = []\n",
        "test_losses = []"
      ]
    },
    {
      "cell_type": "code",
      "execution_count": 12,
      "metadata": {
        "id": "_Nw6yXRbws6-"
      },
      "outputs": [],
      "source": [
        "def train_otherloss(epoch):\n",
        "    model.train()\n",
        "    for batch_idx, data in enumerate(trainloader):\n",
        "        data = data.to(device)\n",
        "        optimizer.zero_grad()\n",
        "        recon_batch, mu, logvar = model(data)\n",
        "        loss_MSE, loss_KLD, loss = loss_mse(recon_batch, data, mu, logvar)\n",
        "        loss.backward()\n",
        "        loss_itm = loss.item()\n",
        "        train_loss = loss_itm\n",
        "        train_loss_MSE = loss_MSE.item()\n",
        "        train_loss_KLD = loss_KLD.item()\n",
        "        train_losses.append(train_loss)\n",
        "        train_losses_MSE.append(train_loss_MSE)\n",
        "        train_losses_KLD.append(train_loss_KLD)\n",
        "        optimizer.step()\n",
        "    if epoch % log_interval == 0:        \n",
        "        print('====> Epoch: {} Average training loss: {:.5f}, MSE: {:.5f}, KLD: {:.5f}'.format(\n",
        "            epoch, train_loss, \n",
        "            train_loss_MSE , \n",
        "            train_loss_KLD))"
      ]
    },
    {
      "cell_type": "code",
      "execution_count": 13,
      "metadata": {
        "id": "2ROmciOcws6_"
      },
      "outputs": [],
      "source": [
        "def test_otherloss(epoch):\n",
        "    with torch.no_grad():\n",
        "        for batch_idx, data in enumerate(testloader):\n",
        "            data = data.to(device)\n",
        "            optimizer.zero_grad()\n",
        "            recon_batch, mu, logvar = model(data)\n",
        "            loss_MSE, loss_KLD, loss = loss_mse(recon_batch, data, mu, logvar)\n",
        "            loss_itm = loss.item()\n",
        "            test_loss = loss_itm\n",
        "            test_loss_MSE = loss_MSE\n",
        "            test_loss_KLD = loss_KLD\n",
        "            test_losses.append(test_loss)\n",
        "        if epoch % log_interval == 0:        \n",
        "            print('====> Epoch: {} Average test loss: {:.4f}, MSE: {:.4f}, KLD: {:.4f}'.format(\n",
        "                epoch, test_loss, \n",
        "                test_loss_MSE, \n",
        "                test_loss_KLD))"
      ]
    },
    {
      "cell_type": "code",
      "execution_count": 9,
      "metadata": {
        "id": "dyZzQCtwwzMj"
      },
      "outputs": [],
      "source": [
        "def train(epoch):\n",
        "    model.train()\n",
        "    train_loss = 0\n",
        "    train_loss_MSE = 0\n",
        "    train_loss_KLD = 0\n",
        "    for batch_idx, data in enumerate(trainloader):\n",
        "        data = data.to(device)\n",
        "        optimizer.zero_grad()\n",
        "        recon_batch, mu, logvar = model(data)\n",
        "        loss_MSE, loss_KLD, loss = loss_mse(recon_batch, data, mu, logvar)\n",
        "        loss.backward()\n",
        "        loss_itm = loss.item()\n",
        "        train_loss += loss_itm\n",
        "        train_loss_MSE += loss_MSE.item()\n",
        "        train_loss_KLD += loss_KLD.item()\n",
        "        optimizer.step()\n",
        "    if epoch % log_interval == 0:        \n",
        "        print('====> Epoch: {} Average training loss: {:.5f}, MSE: {:.5f}, KLD: {:.5f}'.format(\n",
        "            epoch, train_loss / len(trainloader.dataset), \n",
        "            train_loss_MSE / len(trainloader.dataset), \n",
        "            train_loss_KLD / len(trainloader.dataset)))\n",
        "        train_losses.append(train_loss / len(trainloader.dataset))\n",
        "        train_losses_MSE.append(train_loss_MSE / len(trainloader.dataset))\n",
        "        train_losses_KLD.append(train_loss_KLD / len(trainloader.dataset))\n"
      ]
    },
    {
      "cell_type": "code",
      "execution_count": 10,
      "metadata": {
        "id": "NtNNh601wzMj"
      },
      "outputs": [],
      "source": [
        "def test(epoch):\n",
        "    with torch.no_grad():\n",
        "        test_loss = 0\n",
        "        test_loss_MSE = 0\n",
        "        test_loss_KLD = 0\n",
        "        for batch_idx, data in enumerate(testloader):\n",
        "            data = data.to(device)\n",
        "            optimizer.zero_grad()\n",
        "            recon_batch, mu, logvar = model(data)\n",
        "            loss_MSE, loss_KLD, loss = loss_mse(recon_batch, data, mu, logvar)\n",
        "            loss_itm = loss.item()\n",
        "            test_loss += loss_itm\n",
        "            test_loss_MSE += loss_MSE.item()\n",
        "            test_loss_KLD += loss_KLD.item()\n",
        "        if epoch % log_interval == 0:        \n",
        "            print('====> Epoch: {} Average test loss: {:.4f}, MSE: {:.4f}, KLD: {:.4f}'.format(\n",
        "                epoch, test_loss / len(testloader.dataset), \n",
        "                test_loss_MSE / len(testloader.dataset), \n",
        "                test_loss_KLD / len(testloader.dataset)))\n",
        "            test_losses.append(test_loss / len(testloader.dataset))"
      ]
    },
    {
      "cell_type": "code",
      "execution_count": 11,
      "metadata": {
        "colab": {
          "base_uri": "https://localhost:8080/"
        },
        "id": "ascBDVv1wzMk",
        "outputId": "6df5452d-722d-4631-cdbf-851fedc16287"
      },
      "outputs": [
        {
          "output_type": "stream",
          "name": "stdout",
          "text": [
            "====> Epoch: 5 Average training loss: 10.84688, MSE: 10.36403, KLD: 0.48285\n",
            "====> Epoch: 5 Average test loss: 11.0215, MSE: 10.6916, KLD: 0.3298\n",
            "====> Epoch: 10 Average training loss: 10.51210, MSE: 10.15926, KLD: 0.35284\n",
            "====> Epoch: 10 Average test loss: 12.3587, MSE: 12.0316, KLD: 0.3271\n",
            "====> Epoch: 15 Average training loss: 10.24858, MSE: 10.07606, KLD: 0.17252\n",
            "====> Epoch: 15 Average test loss: 11.1687, MSE: 11.0133, KLD: 0.1554\n",
            "====> Epoch: 20 Average training loss: 9.97325, MSE: 9.86850, KLD: 0.10475\n",
            "====> Epoch: 20 Average test loss: 12.3593, MSE: 12.2169, KLD: 0.1424\n",
            "====> Epoch: 25 Average training loss: 10.00605, MSE: 9.88934, KLD: 0.11671\n",
            "====> Epoch: 25 Average test loss: 10.0460, MSE: 9.9738, KLD: 0.0723\n",
            "====> Epoch: 30 Average training loss: 9.54085, MSE: 9.48066, KLD: 0.06019\n",
            "====> Epoch: 30 Average test loss: 10.0033, MSE: 9.9469, KLD: 0.0565\n",
            "====> Epoch: 35 Average training loss: 9.83066, MSE: 9.73204, KLD: 0.09862\n",
            "====> Epoch: 35 Average test loss: 10.0895, MSE: 9.9205, KLD: 0.1691\n",
            "====> Epoch: 40 Average training loss: 9.57805, MSE: 9.51311, KLD: 0.06494\n",
            "====> Epoch: 40 Average test loss: 10.3120, MSE: 10.2463, KLD: 0.0657\n",
            "====> Epoch: 45 Average training loss: 10.05463, MSE: 9.92283, KLD: 0.13180\n",
            "====> Epoch: 45 Average test loss: 11.0285, MSE: 10.9128, KLD: 0.1156\n",
            "====> Epoch: 50 Average training loss: 9.27531, MSE: 9.23044, KLD: 0.04488\n",
            "====> Epoch: 50 Average test loss: 9.6622, MSE: 9.6168, KLD: 0.0454\n",
            "====> Epoch: 55 Average training loss: 9.23978, MSE: 9.17342, KLD: 0.06636\n",
            "====> Epoch: 55 Average test loss: 9.6341, MSE: 9.5657, KLD: 0.0683\n",
            "====> Epoch: 60 Average training loss: 9.08307, MSE: 9.03098, KLD: 0.05209\n",
            "====> Epoch: 60 Average test loss: 9.6303, MSE: 9.5788, KLD: 0.0515\n",
            "====> Epoch: 65 Average training loss: 9.01717, MSE: 8.95852, KLD: 0.05865\n",
            "====> Epoch: 65 Average test loss: 9.5282, MSE: 9.4753, KLD: 0.0529\n",
            "====> Epoch: 70 Average training loss: 8.95626, MSE: 8.88801, KLD: 0.06825\n",
            "====> Epoch: 70 Average test loss: 9.4269, MSE: 9.3669, KLD: 0.0600\n",
            "====> Epoch: 75 Average training loss: 8.85079, MSE: 8.78727, KLD: 0.06352\n",
            "====> Epoch: 75 Average test loss: 9.4019, MSE: 9.3387, KLD: 0.0632\n",
            "====> Epoch: 80 Average training loss: 8.77380, MSE: 8.70997, KLD: 0.06383\n",
            "====> Epoch: 80 Average test loss: 9.2955, MSE: 9.2325, KLD: 0.0630\n",
            "====> Epoch: 85 Average training loss: 8.72204, MSE: 8.63871, KLD: 0.08333\n",
            "====> Epoch: 85 Average test loss: 9.2978, MSE: 9.2295, KLD: 0.0684\n",
            "====> Epoch: 90 Average training loss: 8.59254, MSE: 8.52305, KLD: 0.06949\n",
            "====> Epoch: 90 Average test loss: 9.1884, MSE: 9.1209, KLD: 0.0676\n",
            "====> Epoch: 95 Average training loss: 8.52524, MSE: 8.44353, KLD: 0.08171\n",
            "====> Epoch: 95 Average test loss: 9.1584, MSE: 9.0843, KLD: 0.0741\n",
            "====> Epoch: 100 Average training loss: 8.39836, MSE: 8.31672, KLD: 0.08164\n",
            "====> Epoch: 100 Average test loss: 9.1380, MSE: 9.0580, KLD: 0.0799\n"
          ]
        }
      ],
      "source": [
        "for epoch in range(1,epochs+1):\n",
        "    train(epoch)\n",
        "    test(epoch)"
      ]
    },
    {
      "cell_type": "code",
      "execution_count": 22,
      "metadata": {
        "id": "NyRyzB8zws7B",
        "outputId": "408b614a-abeb-4ebc-cb16-a4b66597f8cc",
        "colab": {
          "base_uri": "https://localhost:8080/",
          "height": 282
        }
      },
      "outputs": [
        {
          "output_type": "execute_result",
          "data": {
            "text/plain": [
              "<matplotlib.legend.Legend at 0x7fdf51ff52d0>"
            ]
          },
          "metadata": {},
          "execution_count": 22
        },
        {
          "output_type": "display_data",
          "data": {
            "image/png": "[encoded data removed]",
            "text/plain": [
              "<Figure size 432x288 with 1 Axes>"
            ]
          },
          "metadata": {
            "needs_background": "light"
          }
        }
      ],
      "source": [
        "import matplotlib.pyplot as plt\n",
        "plt.plot(train_losses)\n",
        "plt.plot(train_losses_MSE)\n",
        "plt.plot(train_losses_KLD)\n",
        "plt.legend(['Train', 'Train_MSE', 'Train_KLD'])\n",
        "#plt.ylim([0,100])"
      ]
    },
    {
      "cell_type": "code",
      "execution_count": 13,
      "metadata": {
        "colab": {
          "base_uri": "https://localhost:8080/",
          "height": 283
        },
        "id": "stl8-ACfwzMk",
        "outputId": "917e51aa-e9fd-42bb-b879-e47f22f3e3bf"
      },
      "outputs": [
        {
          "output_type": "execute_result",
          "data": {
            "text/plain": [
              "<matplotlib.legend.Legend at 0x7fdf5d775e50>"
            ]
          },
          "metadata": {},
          "execution_count": 13
        },
        {
          "output_type": "display_data",
          "data": {
            "image/png": "[encoded data removed]",
            "text/plain": [
              "<Figure size 432x288 with 1 Axes>"
            ]
          },
          "metadata": {
            "needs_background": "light"
          }
        }
      ],
      "source": [
        "import matplotlib.pyplot as plt\n",
        "plt.plot(test_losses)\n",
        "plt.plot(train_losses)\n",
        "plt.legend(['Test', 'Train'])"
      ]
    },
    {
      "cell_type": "markdown",
      "metadata": {
        "id": "YYvu9HekwzMm"
      },
      "source": [
        "### Draw random samples form latent space and generate new data"
      ]
    },
    {
      "cell_type": "code",
      "execution_count": 14,
      "metadata": {
        "id": "xxoWJ_IWEUPj"
      },
      "outputs": [],
      "source": [
        "with torch.no_grad():\n",
        "    for batch_idx, data in enumerate(testloader):\n",
        "        data = data.to(device)\n",
        "        optimizer.zero_grad()\n",
        "        recon_batch, mu, logvar = model(data)"
      ]
    },
    {
      "cell_type": "code",
      "execution_count": 15,
      "metadata": {
        "id": "o-l_00KswzMn"
      },
      "outputs": [],
      "source": [
        "sigma = torch.exp(logvar/2)\n",
        "# sample z from q\n",
        "no_samples = 20\n",
        "q = torch.distributions.Normal(mu.mean(axis=0), sigma.mean(axis=0))\n",
        "z = q.rsample(sample_shape=torch.Size([no_samples]))"
      ]
    },
    {
      "cell_type": "code",
      "execution_count": 16,
      "metadata": {
        "id": "hXeISFOtwzMn"
      },
      "outputs": [],
      "source": [
        "scaler = trainloader.dataset.standardizer\n",
        "\n",
        "with torch.no_grad():\n",
        "    pred = model.decode(z).cpu().numpy()\n",
        "\n",
        "fake_data = scaler.inverse_transform(pred)\n",
        "df_fake = pd.DataFrame(fake_data)"
      ]
    },
    {
      "cell_type": "code",
      "execution_count": 17,
      "metadata": {
        "colab": {
          "base_uri": "https://localhost:8080/",
          "height": 297
        },
        "id": "t36HAyPorImY",
        "outputId": "12e13e53-45cd-46dc-de18-a522107ab891"
      },
      "outputs": [
        {
          "output_type": "execute_result",
          "data": {
            "text/html": [
              "\n",
              "  <div id=\"df-3adc9ea2-259f-4a61-a8bb-0e7e2d3ce491\">\n",
              "    <div class=\"colab-df-container\">\n",
              "      <div>\n",
              "<style scoped>\n",
              "    .dataframe tbody tr th:only-of-type {\n",
              "        vertical-align: middle;\n",
              "    }\n",
              "\n",
              "    .dataframe tbody tr th {\n",
              "        vertical-align: top;\n",
              "    }\n",
              "\n",
              "    .dataframe thead th {\n",
              "        text-align: right;\n",
              "    }\n",
              "</style>\n",
              "<table border=\"1\" class=\"dataframe\">\n",
              "  <thead>\n",
              "    <tr style=\"text-align: right;\">\n",
              "      <th></th>\n",
              "      <th>0</th>\n",
              "      <th>1</th>\n",
              "      <th>2</th>\n",
              "      <th>3</th>\n",
              "      <th>4</th>\n",
              "      <th>5</th>\n",
              "      <th>6</th>\n",
              "      <th>7</th>\n",
              "      <th>8</th>\n",
              "      <th>9</th>\n",
              "      <th>...</th>\n",
              "      <th>6350</th>\n",
              "      <th>6351</th>\n",
              "      <th>6352</th>\n",
              "      <th>6353</th>\n",
              "      <th>6354</th>\n",
              "      <th>6355</th>\n",
              "      <th>6356</th>\n",
              "      <th>6357</th>\n",
              "      <th>6358</th>\n",
              "      <th>6359</th>\n",
              "    </tr>\n",
              "  </thead>\n",
              "  <tbody>\n",
              "    <tr>\n",
              "      <th>0</th>\n",
              "      <td>-40.899158</td>\n",
              "      <td>13.102093</td>\n",
              "      <td>-73.577713</td>\n",
              "      <td>-82.653664</td>\n",
              "      <td>13.583007</td>\n",
              "      <td>26.483810</td>\n",
              "      <td>4.119952</td>\n",
              "      <td>12.353475</td>\n",
              "      <td>-8.538115</td>\n",
              "      <td>-25.258942</td>\n",
              "      <td>...</td>\n",
              "      <td>-0.038755</td>\n",
              "      <td>0.037693</td>\n",
              "      <td>0.020685</td>\n",
              "      <td>-0.040307</td>\n",
              "      <td>0.058093</td>\n",
              "      <td>-0.111225</td>\n",
              "      <td>-0.039768</td>\n",
              "      <td>-0.030146</td>\n",
              "      <td>-0.035825</td>\n",
              "      <td>0.073516</td>\n",
              "    </tr>\n",
              "    <tr>\n",
              "      <th>1</th>\n",
              "      <td>50.178753</td>\n",
              "      <td>3.940034</td>\n",
              "      <td>6.853186</td>\n",
              "      <td>15.064278</td>\n",
              "      <td>25.867081</td>\n",
              "      <td>-10.794014</td>\n",
              "      <td>-2.811655</td>\n",
              "      <td>5.676308</td>\n",
              "      <td>1.816841</td>\n",
              "      <td>18.201195</td>\n",
              "      <td>...</td>\n",
              "      <td>-0.019991</td>\n",
              "      <td>0.023966</td>\n",
              "      <td>0.015217</td>\n",
              "      <td>-0.021757</td>\n",
              "      <td>0.045798</td>\n",
              "      <td>-0.071661</td>\n",
              "      <td>-0.022350</td>\n",
              "      <td>-0.021869</td>\n",
              "      <td>-0.025966</td>\n",
              "      <td>0.047028</td>\n",
              "    </tr>\n",
              "    <tr>\n",
              "      <th>2</th>\n",
              "      <td>-52.502029</td>\n",
              "      <td>-50.674248</td>\n",
              "      <td>-40.677860</td>\n",
              "      <td>-31.987591</td>\n",
              "      <td>32.910072</td>\n",
              "      <td>-43.357807</td>\n",
              "      <td>7.553607</td>\n",
              "      <td>-9.793768</td>\n",
              "      <td>-17.457294</td>\n",
              "      <td>-5.863964</td>\n",
              "      <td>...</td>\n",
              "      <td>-0.026833</td>\n",
              "      <td>0.033370</td>\n",
              "      <td>0.016745</td>\n",
              "      <td>-0.035986</td>\n",
              "      <td>0.066069</td>\n",
              "      <td>-0.115142</td>\n",
              "      <td>-0.035795</td>\n",
              "      <td>-0.030272</td>\n",
              "      <td>-0.035018</td>\n",
              "      <td>0.078438</td>\n",
              "    </tr>\n",
              "    <tr>\n",
              "      <th>3</th>\n",
              "      <td>21.017576</td>\n",
              "      <td>8.196781</td>\n",
              "      <td>8.738047</td>\n",
              "      <td>10.651892</td>\n",
              "      <td>1.584730</td>\n",
              "      <td>0.864948</td>\n",
              "      <td>1.810024</td>\n",
              "      <td>2.500293</td>\n",
              "      <td>0.944762</td>\n",
              "      <td>5.853861</td>\n",
              "      <td>...</td>\n",
              "      <td>-0.021209</td>\n",
              "      <td>0.025383</td>\n",
              "      <td>0.017370</td>\n",
              "      <td>-0.025804</td>\n",
              "      <td>0.048614</td>\n",
              "      <td>-0.077501</td>\n",
              "      <td>-0.023757</td>\n",
              "      <td>-0.022041</td>\n",
              "      <td>-0.028485</td>\n",
              "      <td>0.051506</td>\n",
              "    </tr>\n",
              "    <tr>\n",
              "      <th>4</th>\n",
              "      <td>41.757931</td>\n",
              "      <td>8.138694</td>\n",
              "      <td>-6.592222</td>\n",
              "      <td>-3.561291</td>\n",
              "      <td>81.288490</td>\n",
              "      <td>-17.349588</td>\n",
              "      <td>18.657906</td>\n",
              "      <td>22.497259</td>\n",
              "      <td>26.508406</td>\n",
              "      <td>33.977726</td>\n",
              "      <td>...</td>\n",
              "      <td>-0.039651</td>\n",
              "      <td>0.037043</td>\n",
              "      <td>0.019965</td>\n",
              "      <td>-0.026270</td>\n",
              "      <td>0.068334</td>\n",
              "      <td>-0.099510</td>\n",
              "      <td>-0.037570</td>\n",
              "      <td>-0.030885</td>\n",
              "      <td>-0.031552</td>\n",
              "      <td>0.072102</td>\n",
              "    </tr>\n",
              "  </tbody>\n",
              "</table>\n",
              "<p>5 rows × 6360 columns</p>\n",
              "</div>\n",
              "      <button class=\"colab-df-convert\" onclick=\"convertToInteractive('df-3adc9ea2-259f-4a61-a8bb-0e7e2d3ce491')\"\n",
              "              title=\"Convert this dataframe to an interactive table.\"\n",
              "              style=\"display:none;\">\n",
              "        \n",
              "  <svg xmlns=\"http://www.w3.org/2000/svg\" height=\"24px\"viewBox=\"0 0 24 24\"\n",
              "       width=\"24px\">\n",
              "    <path d=\"M0 0h24v24H0V0z\" fill=\"none\"/>\n",
              "    <path d=\"M18.56 5.44l.94 2.06.94-2.06 2.06-.94-2.06-.94-.94-2.06-.94 2.06-2.06.94zm-11 1L8.5 8.5l.94-2.06 2.06-.94-2.06-.94L8.5 2.5l-.94 2.06-2.06.94zm10 10l.94 2.06.94-2.06 2.06-.94-2.06-.94-.94-2.06-.94 2.06-2.06.94z\"/><path d=\"M17.41 7.96l-1.37-1.37c-.4-.4-.92-.59-1.43-.59-.52 0-1.04.2-1.43.59L10.3 9.45l-7.72 7.72c-.78.78-.78 2.05 0 2.83L4 21.41c.39.39.9.59 1.41.59.51 0 1.02-.2 1.41-.59l7.78-7.78 2.81-2.81c.8-.78.8-2.07 0-2.86zM5.41 20L4 18.59l7.72-7.72 1.47 1.35L5.41 20z\"/>\n",
              "  </svg>\n",
              "      </button>\n",
              "      \n",
              "  <style>\n",
              "    .colab-df-container {\n",
              "      display:flex;\n",
              "      flex-wrap:wrap;\n",
              "      gap: 12px;\n",
              "    }\n",
              "\n",
              "    .colab-df-convert {\n",
              "      background-color: #E8F0FE;\n",
              "      border: none;\n",
              "      border-radius: 50%;\n",
              "      cursor: pointer;\n",
              "      display: none;\n",
              "      fill: #1967D2;\n",
              "      height: 32px;\n",
              "      padding: 0 0 0 0;\n",
              "      width: 32px;\n",
              "    }\n",
              "\n",
              "    .colab-df-convert:hover {\n",
              "      background-color: #E2EBFA;\n",
              "      box-shadow: 0px 1px 2px rgba(60, 64, 67, 0.3), 0px 1px 3px 1px rgba(60, 64, 67, 0.15);\n",
              "      fill: #174EA6;\n",
              "    }\n",
              "\n",
              "    [theme=dark] .colab-df-convert {\n",
              "      background-color: #3B4455;\n",
              "      fill: #D2E3FC;\n",
              "    }\n",
              "\n",
              "    [theme=dark] .colab-df-convert:hover {\n",
              "      background-color: #434B5C;\n",
              "      box-shadow: 0px 1px 3px 1px rgba(0, 0, 0, 0.15);\n",
              "      filter: drop-shadow(0px 1px 2px rgba(0, 0, 0, 0.3));\n",
              "      fill: #FFFFFF;\n",
              "    }\n",
              "  </style>\n",
              "\n",
              "      <script>\n",
              "        const buttonEl =\n",
              "          document.querySelector('#df-3adc9ea2-259f-4a61-a8bb-0e7e2d3ce491 button.colab-df-convert');\n",
              "        buttonEl.style.display =\n",
              "          google.colab.kernel.accessAllowed ? 'block' : 'none';\n",
              "\n",
              "        async function convertToInteractive(key) {\n",
              "          const element = document.querySelector('#df-3adc9ea2-259f-4a61-a8bb-0e7e2d3ce491');\n",
              "          const dataTable =\n",
              "            await google.colab.kernel.invokeFunction('convertToInteractive',\n",
              "                                                     [key], {});\n",
              "          if (!dataTable) return;\n",
              "\n",
              "          const docLinkHtml = 'Like what you see? Visit the ' +\n",
              "            '<a target=\"_blank\" href=https://colab.research.google.com/notebooks/data_table.ipynb>data table notebook</a>'\n",
              "            + ' to learn more about interactive tables.';\n",
              "          element.innerHTML = '';\n",
              "          dataTable['output_type'] = 'display_data';\n",
              "          await google.colab.output.renderOutput(dataTable, element);\n",
              "          const docLink = document.createElement('div');\n",
              "          docLink.innerHTML = docLinkHtml;\n",
              "          element.appendChild(docLink);\n",
              "        }\n",
              "      </script>\n",
              "    </div>\n",
              "  </div>\n",
              "  "
            ],
            "text/plain": [
              "        0          1          2          3          4          5     \\\n",
              "0 -40.899158  13.102093 -73.577713 -82.653664  13.583007  26.483810   \n",
              "1  50.178753   3.940034   6.853186  15.064278  25.867081 -10.794014   \n",
              "2 -52.502029 -50.674248 -40.677860 -31.987591  32.910072 -43.357807   \n",
              "3  21.017576   8.196781   8.738047  10.651892   1.584730   0.864948   \n",
              "4  41.757931   8.138694  -6.592222  -3.561291  81.288490 -17.349588   \n",
              "\n",
              "        6          7          8          9     ...      6350      6351  \\\n",
              "0   4.119952  12.353475  -8.538115 -25.258942  ... -0.038755  0.037693   \n",
              "1  -2.811655   5.676308   1.816841  18.201195  ... -0.019991  0.023966   \n",
              "2   7.553607  -9.793768 -17.457294  -5.863964  ... -0.026833  0.033370   \n",
              "3   1.810024   2.500293   0.944762   5.853861  ... -0.021209  0.025383   \n",
              "4  18.657906  22.497259  26.508406  33.977726  ... -0.039651  0.037043   \n",
              "\n",
              "       6352      6353      6354      6355      6356      6357      6358  \\\n",
              "0  0.020685 -0.040307  0.058093 -0.111225 -0.039768 -0.030146 -0.035825   \n",
              "1  0.015217 -0.021757  0.045798 -0.071661 -0.022350 -0.021869 -0.025966   \n",
              "2  0.016745 -0.035986  0.066069 -0.115142 -0.035795 -0.030272 -0.035018   \n",
              "3  0.017370 -0.025804  0.048614 -0.077501 -0.023757 -0.022041 -0.028485   \n",
              "4  0.019965 -0.026270  0.068334 -0.099510 -0.037570 -0.030885 -0.031552   \n",
              "\n",
              "       6359  \n",
              "0  0.073516  \n",
              "1  0.047028  \n",
              "2  0.078438  \n",
              "3  0.051506  \n",
              "4  0.072102  \n",
              "\n",
              "[5 rows x 6360 columns]"
            ]
          },
          "metadata": {},
          "execution_count": 17
        }
      ],
      "source": [
        "df_fake.head()"
      ]
    },
    {
      "cell_type": "code",
      "execution_count": 18,
      "metadata": {
        "colab": {
          "base_uri": "https://localhost:8080/"
        },
        "id": "QQxp_k9FEUPk",
        "outputId": "4330329c-8e44-4da6-f921-27b4cfbf55cd"
      },
      "outputs": [
        {
          "output_type": "stream",
          "name": "stdout",
          "text": [
            "(20, 6360)\n",
            "<class 'numpy.ndarray'>\n"
          ]
        }
      ],
      "source": [
        "print(fake_data.shape)\n",
        "print(type(fake_data))"
      ]
    },
    {
      "cell_type": "code",
      "execution_count": 19,
      "metadata": {
        "id": "fGIuz8vJEUPk"
      },
      "outputs": [],
      "source": [
        "def inverseOneHotEncoding(encoded: np.ndarray, dictionary: dict) -> np.ndarray:\n",
        "    output = []\n",
        "    for row in encoded:\n",
        "        rowTransformed = np.reshape(row, (20,-1))\n",
        "        rowString = []\n",
        "        indexTransformed = np.argmax(rowTransformed, axis=1) + 1\n",
        "        for index in indexTransformed:\n",
        "            if (index in dictionary.values()):\n",
        "                rowString.append(list(dictionary.keys())[list(dictionary.values()).index(index)])\n",
        "            else:\n",
        "                rowString.append(\"\")\n",
        "        output.append(rowString)\n",
        "    return np.array(output)"
      ]
    },
    {
      "cell_type": "code",
      "execution_count": 20,
      "metadata": {
        "id": "cX5P1wV6EUPl"
      },
      "outputs": [],
      "source": [
        "def inverseEmbedding(embedded: np.ndarray, dictionary: dict) -> np.ndarray:\n",
        "    output = []\n",
        "    for row in embedded:\n",
        "        outputRows = []\n",
        "        for rowTransformed in np.reshape(row, (20,-1)):\n",
        "            rowTransformed = torch.Tensor(rowTransformed)\n",
        "            distance = torch.norm(preprocessor.emb.weight.data - rowTransformed, dim=1)\n",
        "            nearest = torch.argmin(distance)\n",
        "            index = nearest.item()\n",
        "            if index:\n",
        "                outputRows.append(list(dictionary.keys())[list(dictionary.values()).index(index)])\n",
        "            else:\n",
        "                outputRows.append(\"\")\n",
        "        output.append(outputRows)\n",
        "\n",
        "    return np.array(output)"
      ]
    },
    {
      "cell_type": "code",
      "execution_count": 21,
      "metadata": {
        "colab": {
          "base_uri": "https://localhost:8080/",
          "height": 669
        },
        "id": "nz90yVggEUPm",
        "outputId": "d18f2f2c-69be-4443-9e42-3fce93884071"
      },
      "outputs": [
        {
          "output_type": "execute_result",
          "data": {
            "text/html": [
              "\n",
              "  <div id=\"df-dd8ae1e8-b13e-4c2f-8365-152315403d71\">\n",
              "    <div class=\"colab-df-container\">\n",
              "      <div>\n",
              "<style scoped>\n",
              "    .dataframe tbody tr th:only-of-type {\n",
              "        vertical-align: middle;\n",
              "    }\n",
              "\n",
              "    .dataframe tbody tr th {\n",
              "        vertical-align: top;\n",
              "    }\n",
              "\n",
              "    .dataframe thead th {\n",
              "        text-align: right;\n",
              "    }\n",
              "</style>\n",
              "<table border=\"1\" class=\"dataframe\">\n",
              "  <thead>\n",
              "    <tr style=\"text-align: right;\">\n",
              "      <th></th>\n",
              "      <th>amount</th>\n",
              "      <th>unit</th>\n",
              "      <th>ingredient</th>\n",
              "    </tr>\n",
              "  </thead>\n",
              "  <tbody>\n",
              "    <tr>\n",
              "      <th>0</th>\n",
              "      <td>-40.89916</td>\n",
              "      <td>pound-mass</td>\n",
              "      <td>eggs</td>\n",
              "    </tr>\n",
              "    <tr>\n",
              "      <th>1</th>\n",
              "      <td>13.102093</td>\n",
              "      <td>cup</td>\n",
              "      <td>brown_sugar</td>\n",
              "    </tr>\n",
              "    <tr>\n",
              "      <th>2</th>\n",
              "      <td>-73.57771</td>\n",
              "      <td></td>\n",
              "      <td>flour</td>\n",
              "    </tr>\n",
              "    <tr>\n",
              "      <th>3</th>\n",
              "      <td>-82.65366</td>\n",
              "      <td></td>\n",
              "      <td>onions</td>\n",
              "    </tr>\n",
              "    <tr>\n",
              "      <th>4</th>\n",
              "      <td>13.583007</td>\n",
              "      <td></td>\n",
              "      <td>garlic_cloves</td>\n",
              "    </tr>\n",
              "    <tr>\n",
              "      <th>5</th>\n",
              "      <td>26.48381</td>\n",
              "      <td>teaspoon</td>\n",
              "      <td>pepper</td>\n",
              "    </tr>\n",
              "    <tr>\n",
              "      <th>6</th>\n",
              "      <td>4.1199517</td>\n",
              "      <td>teaspoon</td>\n",
              "      <td>fistful</td>\n",
              "    </tr>\n",
              "    <tr>\n",
              "      <th>7</th>\n",
              "      <td>12.353475</td>\n",
              "      <td>cup</td>\n",
              "      <td>nor</td>\n",
              "    </tr>\n",
              "    <tr>\n",
              "      <th>8</th>\n",
              "      <td>-8.538115</td>\n",
              "      <td>cup</td>\n",
              "      <td>vanilla_extract</td>\n",
              "    </tr>\n",
              "    <tr>\n",
              "      <th>9</th>\n",
              "      <td>-25.258942</td>\n",
              "      <td>cup</td>\n",
              "      <td></td>\n",
              "    </tr>\n",
              "    <tr>\n",
              "      <th>10</th>\n",
              "      <td>-27.806328</td>\n",
              "      <td>tablespoon</td>\n",
              "      <td></td>\n",
              "    </tr>\n",
              "    <tr>\n",
              "      <th>11</th>\n",
              "      <td>-17.894777</td>\n",
              "      <td>teaspoon</td>\n",
              "      <td>salt</td>\n",
              "    </tr>\n",
              "    <tr>\n",
              "      <th>12</th>\n",
              "      <td>-8.575244</td>\n",
              "      <td>teaspoon</td>\n",
              "      <td></td>\n",
              "    </tr>\n",
              "    <tr>\n",
              "      <th>13</th>\n",
              "      <td>-9.426775</td>\n",
              "      <td>teaspoon</td>\n",
              "      <td></td>\n",
              "    </tr>\n",
              "    <tr>\n",
              "      <th>14</th>\n",
              "      <td>-0.050723772</td>\n",
              "      <td>gallon</td>\n",
              "      <td></td>\n",
              "    </tr>\n",
              "    <tr>\n",
              "      <th>15</th>\n",
              "      <td>-8.161006</td>\n",
              "      <td></td>\n",
              "      <td>salt</td>\n",
              "    </tr>\n",
              "    <tr>\n",
              "      <th>16</th>\n",
              "      <td>-3.6638234</td>\n",
              "      <td></td>\n",
              "      <td></td>\n",
              "    </tr>\n",
              "    <tr>\n",
              "      <th>17</th>\n",
              "      <td>-3.992887</td>\n",
              "      <td>package</td>\n",
              "      <td></td>\n",
              "    </tr>\n",
              "    <tr>\n",
              "      <th>18</th>\n",
              "      <td>-6.45642</td>\n",
              "      <td>drop</td>\n",
              "      <td></td>\n",
              "    </tr>\n",
              "    <tr>\n",
              "      <th>19</th>\n",
              "      <td>-4.688241</td>\n",
              "      <td>package</td>\n",
              "      <td></td>\n",
              "    </tr>\n",
              "  </tbody>\n",
              "</table>\n",
              "</div>\n",
              "      <button class=\"colab-df-convert\" onclick=\"convertToInteractive('df-dd8ae1e8-b13e-4c2f-8365-152315403d71')\"\n",
              "              title=\"Convert this dataframe to an interactive table.\"\n",
              "              style=\"display:none;\">\n",
              "        \n",
              "  <svg xmlns=\"http://www.w3.org/2000/svg\" height=\"24px\"viewBox=\"0 0 24 24\"\n",
              "       width=\"24px\">\n",
              "    <path d=\"M0 0h24v24H0V0z\" fill=\"none\"/>\n",
              "    <path d=\"M18.56 5.44l.94 2.06.94-2.06 2.06-.94-2.06-.94-.94-2.06-.94 2.06-2.06.94zm-11 1L8.5 8.5l.94-2.06 2.06-.94-2.06-.94L8.5 2.5l-.94 2.06-2.06.94zm10 10l.94 2.06.94-2.06 2.06-.94-2.06-.94-.94-2.06-.94 2.06-2.06.94z\"/><path d=\"M17.41 7.96l-1.37-1.37c-.4-.4-.92-.59-1.43-.59-.52 0-1.04.2-1.43.59L10.3 9.45l-7.72 7.72c-.78.78-.78 2.05 0 2.83L4 21.41c.39.39.9.59 1.41.59.51 0 1.02-.2 1.41-.59l7.78-7.78 2.81-2.81c.8-.78.8-2.07 0-2.86zM5.41 20L4 18.59l7.72-7.72 1.47 1.35L5.41 20z\"/>\n",
              "  </svg>\n",
              "      </button>\n",
              "      \n",
              "  <style>\n",
              "    .colab-df-container {\n",
              "      display:flex;\n",
              "      flex-wrap:wrap;\n",
              "      gap: 12px;\n",
              "    }\n",
              "\n",
              "    .colab-df-convert {\n",
              "      background-color: #E8F0FE;\n",
              "      border: none;\n",
              "      border-radius: 50%;\n",
              "      cursor: pointer;\n",
              "      display: none;\n",
              "      fill: #1967D2;\n",
              "      height: 32px;\n",
              "      padding: 0 0 0 0;\n",
              "      width: 32px;\n",
              "    }\n",
              "\n",
              "    .colab-df-convert:hover {\n",
              "      background-color: #E2EBFA;\n",
              "      box-shadow: 0px 1px 2px rgba(60, 64, 67, 0.3), 0px 1px 3px 1px rgba(60, 64, 67, 0.15);\n",
              "      fill: #174EA6;\n",
              "    }\n",
              "\n",
              "    [theme=dark] .colab-df-convert {\n",
              "      background-color: #3B4455;\n",
              "      fill: #D2E3FC;\n",
              "    }\n",
              "\n",
              "    [theme=dark] .colab-df-convert:hover {\n",
              "      background-color: #434B5C;\n",
              "      box-shadow: 0px 1px 3px 1px rgba(0, 0, 0, 0.15);\n",
              "      filter: drop-shadow(0px 1px 2px rgba(0, 0, 0, 0.3));\n",
              "      fill: #FFFFFF;\n",
              "    }\n",
              "  </style>\n",
              "\n",
              "      <script>\n",
              "        const buttonEl =\n",
              "          document.querySelector('#df-dd8ae1e8-b13e-4c2f-8365-152315403d71 button.colab-df-convert');\n",
              "        buttonEl.style.display =\n",
              "          google.colab.kernel.accessAllowed ? 'block' : 'none';\n",
              "\n",
              "        async function convertToInteractive(key) {\n",
              "          const element = document.querySelector('#df-dd8ae1e8-b13e-4c2f-8365-152315403d71');\n",
              "          const dataTable =\n",
              "            await google.colab.kernel.invokeFunction('convertToInteractive',\n",
              "                                                     [key], {});\n",
              "          if (!dataTable) return;\n",
              "\n",
              "          const docLinkHtml = 'Like what you see? Visit the ' +\n",
              "            '<a target=\"_blank\" href=https://colab.research.google.com/notebooks/data_table.ipynb>data table notebook</a>'\n",
              "            + ' to learn more about interactive tables.';\n",
              "          element.innerHTML = '';\n",
              "          dataTable['output_type'] = 'display_data';\n",
              "          await google.colab.output.renderOutput(dataTable, element);\n",
              "          const docLink = document.createElement('div');\n",
              "          docLink.innerHTML = docLinkHtml;\n",
              "          element.appendChild(docLink);\n",
              "        }\n",
              "      </script>\n",
              "    </div>\n",
              "  </div>\n",
              "  "
            ],
            "text/plain": [
              "          amount        unit       ingredient\n",
              "0      -40.89916  pound-mass             eggs\n",
              "1      13.102093         cup      brown_sugar\n",
              "2      -73.57771                        flour\n",
              "3      -82.65366                       onions\n",
              "4      13.583007                garlic_cloves\n",
              "5       26.48381    teaspoon           pepper\n",
              "6      4.1199517    teaspoon          fistful\n",
              "7      12.353475         cup              nor\n",
              "8      -8.538115         cup  vanilla_extract\n",
              "9     -25.258942         cup                 \n",
              "10    -27.806328  tablespoon                 \n",
              "11    -17.894777    teaspoon             salt\n",
              "12     -8.575244    teaspoon                 \n",
              "13     -9.426775    teaspoon                 \n",
              "14  -0.050723772      gallon                 \n",
              "15     -8.161006                         salt\n",
              "16    -3.6638234                             \n",
              "17     -3.992887     package                 \n",
              "18      -6.45642        drop                 \n",
              "19     -4.688241     package                 "
            ]
          },
          "metadata": {},
          "execution_count": 21
        }
      ],
      "source": [
        "def decodeOutput(output: np.ndarray):\n",
        "    # Split output into amounts, units and ingredients \n",
        "    amounts = output[:, :20]\n",
        "    amountColumns = ['amount_' + str(sub) for sub in list(range(0,20))]\n",
        "    units = output[:, 20:len(preprocessor.unitDict)*20+20]\n",
        "    unitColumns = ['unit_' + str(sub) for sub in list(range(0,20))]\n",
        "    ingredients = output[:, len(preprocessor.unitDict)*20+20:]\n",
        "    ingredientColumns = ['ingredient_' + str(sub) for sub in list(range(0,20))]\n",
        "    unitsDecoded = inverseOneHotEncoding(units, preprocessor.unitDict)\n",
        "    ingredientsDecoded = inverseEmbedding(ingredients, preprocessor.ingredientDict)\n",
        "    outputFrame = []\n",
        "    for index in range(len(amounts)):\n",
        "        array = np.stack((amounts[index], unitsDecoded[index], ingredientsDecoded[index]),axis=1)\n",
        "        outputFrame.append(pd.DataFrame(array, columns=[\"amount\", \"unit\", \"ingredient\"]))\n",
        "    return outputFrame\n",
        "\n",
        "df = decodeOutput(fake_data)\n",
        "df[0]"
      ]
    },
    {
      "cell_type": "code",
      "execution_count": 60,
      "metadata": {
        "colab": {
          "base_uri": "https://localhost:8080/",
          "height": 375
        },
        "id": "2dh-6TeiEUPm",
        "outputId": "fd748f0e-837c-497e-aed3-4e5f3408f074"
      },
      "outputs": [
        {
          "output_type": "error",
          "ename": "TypeError",
          "evalue": "ignored",
          "traceback": [
            "\u001b[0;31m---------------------------------------------------------------------------\u001b[0m",
            "\u001b[0;31mTypeError\u001b[0m                                 Traceback (most recent call last)",
            "\u001b[0;32m<ipython-input-60-855489e86102>\u001b[0m in \u001b[0;36m<module>\u001b[0;34m()\u001b[0m\n\u001b[1;32m      3\u001b[0m \u001b[0mdataEmbedded\u001b[0m \u001b[0;34m=\u001b[0m \u001b[0mnp\u001b[0m\u001b[0;34m.\u001b[0m\u001b[0marray\u001b[0m\u001b[0;34m(\u001b[0m\u001b[0mpreprocessor\u001b[0m\u001b[0;34m.\u001b[0m\u001b[0mpreProcessInput\u001b[0m\u001b[0;34m(\u001b[0m\u001b[0mdata\u001b[0m\u001b[0;34m)\u001b[0m\u001b[0;34m)\u001b[0m\u001b[0;34m\u001b[0m\u001b[0;34m\u001b[0m\u001b[0m\n\u001b[1;32m      4\u001b[0m \u001b[0;34m\u001b[0m\u001b[0m\n\u001b[0;32m----> 5\u001b[0;31m \u001b[0my\u001b[0m\u001b[0;34m,\u001b[0m \u001b[0mmu\u001b[0m\u001b[0;34m,\u001b[0m \u001b[0mlogvar\u001b[0m \u001b[0;34m=\u001b[0m \u001b[0mmodel\u001b[0m\u001b[0;34m(\u001b[0m\u001b[0mdataEmbedded\u001b[0m\u001b[0;34m)\u001b[0m\u001b[0;34m\u001b[0m\u001b[0;34m\u001b[0m\u001b[0m\n\u001b[0m\u001b[1;32m      6\u001b[0m \u001b[0;34m\u001b[0m\u001b[0m\n\u001b[1;32m      7\u001b[0m \u001b[0;34m\u001b[0m\u001b[0m\n",
            "\u001b[0;32m/usr/local/lib/python3.7/dist-packages/torch/nn/modules/module.py\u001b[0m in \u001b[0;36m_call_impl\u001b[0;34m(self, *input, **kwargs)\u001b[0m\n\u001b[1;32m   1100\u001b[0m         if not (self._backward_hooks or self._forward_hooks or self._forward_pre_hooks or _global_backward_hooks\n\u001b[1;32m   1101\u001b[0m                 or _global_forward_hooks or _global_forward_pre_hooks):\n\u001b[0;32m-> 1102\u001b[0;31m             \u001b[0;32mreturn\u001b[0m \u001b[0mforward_call\u001b[0m\u001b[0;34m(\u001b[0m\u001b[0;34m*\u001b[0m\u001b[0minput\u001b[0m\u001b[0;34m,\u001b[0m \u001b[0;34m**\u001b[0m\u001b[0mkwargs\u001b[0m\u001b[0;34m)\u001b[0m\u001b[0;34m\u001b[0m\u001b[0;34m\u001b[0m\u001b[0m\n\u001b[0m\u001b[1;32m   1103\u001b[0m         \u001b[0;31m# Do not call functions when jit is used\u001b[0m\u001b[0;34m\u001b[0m\u001b[0;34m\u001b[0m\u001b[0;34m\u001b[0m\u001b[0m\n\u001b[1;32m   1104\u001b[0m         \u001b[0mfull_backward_hooks\u001b[0m\u001b[0;34m,\u001b[0m \u001b[0mnon_full_backward_hooks\u001b[0m \u001b[0;34m=\u001b[0m \u001b[0;34m[\u001b[0m\u001b[0;34m]\u001b[0m\u001b[0;34m,\u001b[0m \u001b[0;34m[\u001b[0m\u001b[0;34m]\u001b[0m\u001b[0;34m\u001b[0m\u001b[0;34m\u001b[0m\u001b[0m\n",
            "\u001b[0;32m/content/ReciMeEncoder_unstacked.py\u001b[0m in \u001b[0;36mforward\u001b[0;34m(self, x)\u001b[0m\n\u001b[1;32m     65\u001b[0m \u001b[0;34m\u001b[0m\u001b[0m\n\u001b[1;32m     66\u001b[0m     \u001b[0;32mdef\u001b[0m \u001b[0mforward\u001b[0m\u001b[0;34m(\u001b[0m\u001b[0mself\u001b[0m\u001b[0;34m,\u001b[0m \u001b[0mx\u001b[0m\u001b[0;34m)\u001b[0m\u001b[0;34m:\u001b[0m\u001b[0;34m\u001b[0m\u001b[0;34m\u001b[0m\u001b[0m\n\u001b[0;32m---> 67\u001b[0;31m         \u001b[0mmu\u001b[0m\u001b[0;34m,\u001b[0m \u001b[0mlogvar\u001b[0m \u001b[0;34m=\u001b[0m \u001b[0mself\u001b[0m\u001b[0;34m.\u001b[0m\u001b[0mencode\u001b[0m\u001b[0;34m(\u001b[0m\u001b[0mx\u001b[0m\u001b[0;34m)\u001b[0m\u001b[0;34m\u001b[0m\u001b[0;34m\u001b[0m\u001b[0m\n\u001b[0m\u001b[1;32m     68\u001b[0m         \u001b[0mz\u001b[0m \u001b[0;34m=\u001b[0m \u001b[0mself\u001b[0m\u001b[0;34m.\u001b[0m\u001b[0mreparametrize\u001b[0m\u001b[0;34m(\u001b[0m\u001b[0mmu\u001b[0m\u001b[0;34m,\u001b[0m \u001b[0mlogvar\u001b[0m\u001b[0;34m)\u001b[0m\u001b[0;34m\u001b[0m\u001b[0;34m\u001b[0m\u001b[0m\n\u001b[1;32m     69\u001b[0m         \u001b[0my\u001b[0m \u001b[0;34m=\u001b[0m \u001b[0mself\u001b[0m\u001b[0;34m.\u001b[0m\u001b[0mdecode\u001b[0m\u001b[0;34m(\u001b[0m\u001b[0mz\u001b[0m\u001b[0;34m)\u001b[0m\u001b[0;34m\u001b[0m\u001b[0;34m\u001b[0m\u001b[0m\n",
            "\u001b[0;32m/content/ReciMeEncoder_unstacked.py\u001b[0m in \u001b[0;36mencode\u001b[0;34m(self, x)\u001b[0m\n\u001b[1;32m     48\u001b[0m \u001b[0;34m\u001b[0m\u001b[0m\n\u001b[1;32m     49\u001b[0m     \u001b[0;32mdef\u001b[0m \u001b[0mencode\u001b[0m\u001b[0;34m(\u001b[0m\u001b[0mself\u001b[0m\u001b[0;34m,\u001b[0m \u001b[0mx\u001b[0m\u001b[0;34m)\u001b[0m\u001b[0;34m:\u001b[0m\u001b[0;34m\u001b[0m\u001b[0;34m\u001b[0m\u001b[0m\n\u001b[0;32m---> 50\u001b[0;31m         \u001b[0mlatent_space\u001b[0m \u001b[0;34m=\u001b[0m \u001b[0mself\u001b[0m\u001b[0;34m.\u001b[0m\u001b[0mencoderStack\u001b[0m\u001b[0;34m(\u001b[0m\u001b[0mx\u001b[0m\u001b[0;34m)\u001b[0m\u001b[0;34m\u001b[0m\u001b[0;34m\u001b[0m\u001b[0m\n\u001b[0m\u001b[1;32m     51\u001b[0m         \u001b[0mmu\u001b[0m \u001b[0;34m=\u001b[0m \u001b[0mself\u001b[0m\u001b[0;34m.\u001b[0m\u001b[0mmuStack\u001b[0m\u001b[0;34m(\u001b[0m\u001b[0mlatent_space\u001b[0m\u001b[0;34m)\u001b[0m\u001b[0;34m\u001b[0m\u001b[0;34m\u001b[0m\u001b[0m\n\u001b[1;32m     52\u001b[0m         \u001b[0mlogvar\u001b[0m \u001b[0;34m=\u001b[0m \u001b[0mself\u001b[0m\u001b[0;34m.\u001b[0m\u001b[0mlogvarStack\u001b[0m\u001b[0;34m(\u001b[0m\u001b[0mlatent_space\u001b[0m\u001b[0;34m)\u001b[0m\u001b[0;34m\u001b[0m\u001b[0;34m\u001b[0m\u001b[0m\n",
            "\u001b[0;32m/usr/local/lib/python3.7/dist-packages/torch/nn/modules/module.py\u001b[0m in \u001b[0;36m_call_impl\u001b[0;34m(self, *input, **kwargs)\u001b[0m\n\u001b[1;32m   1100\u001b[0m         if not (self._backward_hooks or self._forward_hooks or self._forward_pre_hooks or _global_backward_hooks\n\u001b[1;32m   1101\u001b[0m                 or _global_forward_hooks or _global_forward_pre_hooks):\n\u001b[0;32m-> 1102\u001b[0;31m             \u001b[0;32mreturn\u001b[0m \u001b[0mforward_call\u001b[0m\u001b[0;34m(\u001b[0m\u001b[0;34m*\u001b[0m\u001b[0minput\u001b[0m\u001b[0;34m,\u001b[0m \u001b[0;34m**\u001b[0m\u001b[0mkwargs\u001b[0m\u001b[0;34m)\u001b[0m\u001b[0;34m\u001b[0m\u001b[0;34m\u001b[0m\u001b[0m\n\u001b[0m\u001b[1;32m   1103\u001b[0m         \u001b[0;31m# Do not call functions when jit is used\u001b[0m\u001b[0;34m\u001b[0m\u001b[0;34m\u001b[0m\u001b[0;34m\u001b[0m\u001b[0m\n\u001b[1;32m   1104\u001b[0m         \u001b[0mfull_backward_hooks\u001b[0m\u001b[0;34m,\u001b[0m \u001b[0mnon_full_backward_hooks\u001b[0m \u001b[0;34m=\u001b[0m \u001b[0;34m[\u001b[0m\u001b[0;34m]\u001b[0m\u001b[0;34m,\u001b[0m \u001b[0;34m[\u001b[0m\u001b[0;34m]\u001b[0m\u001b[0;34m\u001b[0m\u001b[0;34m\u001b[0m\u001b[0m\n",
            "\u001b[0;32m/usr/local/lib/python3.7/dist-packages/torch/nn/modules/container.py\u001b[0m in \u001b[0;36mforward\u001b[0;34m(self, input)\u001b[0m\n\u001b[1;32m    139\u001b[0m     \u001b[0;32mdef\u001b[0m \u001b[0mforward\u001b[0m\u001b[0;34m(\u001b[0m\u001b[0mself\u001b[0m\u001b[0;34m,\u001b[0m \u001b[0minput\u001b[0m\u001b[0;34m)\u001b[0m\u001b[0;34m:\u001b[0m\u001b[0;34m\u001b[0m\u001b[0;34m\u001b[0m\u001b[0m\n\u001b[1;32m    140\u001b[0m         \u001b[0;32mfor\u001b[0m \u001b[0mmodule\u001b[0m \u001b[0;32min\u001b[0m \u001b[0mself\u001b[0m\u001b[0;34m:\u001b[0m\u001b[0;34m\u001b[0m\u001b[0;34m\u001b[0m\u001b[0m\n\u001b[0;32m--> 141\u001b[0;31m             \u001b[0minput\u001b[0m \u001b[0;34m=\u001b[0m \u001b[0mmodule\u001b[0m\u001b[0;34m(\u001b[0m\u001b[0minput\u001b[0m\u001b[0;34m)\u001b[0m\u001b[0;34m\u001b[0m\u001b[0;34m\u001b[0m\u001b[0m\n\u001b[0m\u001b[1;32m    142\u001b[0m         \u001b[0;32mreturn\u001b[0m \u001b[0minput\u001b[0m\u001b[0;34m\u001b[0m\u001b[0;34m\u001b[0m\u001b[0m\n\u001b[1;32m    143\u001b[0m \u001b[0;34m\u001b[0m\u001b[0m\n",
            "\u001b[0;32m/usr/local/lib/python3.7/dist-packages/torch/nn/modules/module.py\u001b[0m in \u001b[0;36m_call_impl\u001b[0;34m(self, *input, **kwargs)\u001b[0m\n\u001b[1;32m   1100\u001b[0m         if not (self._backward_hooks or self._forward_hooks or self._forward_pre_hooks or _global_backward_hooks\n\u001b[1;32m   1101\u001b[0m                 or _global_forward_hooks or _global_forward_pre_hooks):\n\u001b[0;32m-> 1102\u001b[0;31m             \u001b[0;32mreturn\u001b[0m \u001b[0mforward_call\u001b[0m\u001b[0;34m(\u001b[0m\u001b[0;34m*\u001b[0m\u001b[0minput\u001b[0m\u001b[0;34m,\u001b[0m \u001b[0;34m**\u001b[0m\u001b[0mkwargs\u001b[0m\u001b[0;34m)\u001b[0m\u001b[0;34m\u001b[0m\u001b[0;34m\u001b[0m\u001b[0m\n\u001b[0m\u001b[1;32m   1103\u001b[0m         \u001b[0;31m# Do not call functions when jit is used\u001b[0m\u001b[0;34m\u001b[0m\u001b[0;34m\u001b[0m\u001b[0;34m\u001b[0m\u001b[0m\n\u001b[1;32m   1104\u001b[0m         \u001b[0mfull_backward_hooks\u001b[0m\u001b[0;34m,\u001b[0m \u001b[0mnon_full_backward_hooks\u001b[0m \u001b[0;34m=\u001b[0m \u001b[0;34m[\u001b[0m\u001b[0;34m]\u001b[0m\u001b[0;34m,\u001b[0m \u001b[0;34m[\u001b[0m\u001b[0;34m]\u001b[0m\u001b[0;34m\u001b[0m\u001b[0;34m\u001b[0m\u001b[0m\n",
            "\u001b[0;32m/usr/local/lib/python3.7/dist-packages/torch/nn/modules/linear.py\u001b[0m in \u001b[0;36mforward\u001b[0;34m(self, input)\u001b[0m\n\u001b[1;32m    101\u001b[0m \u001b[0;34m\u001b[0m\u001b[0m\n\u001b[1;32m    102\u001b[0m     \u001b[0;32mdef\u001b[0m \u001b[0mforward\u001b[0m\u001b[0;34m(\u001b[0m\u001b[0mself\u001b[0m\u001b[0;34m,\u001b[0m \u001b[0minput\u001b[0m\u001b[0;34m:\u001b[0m \u001b[0mTensor\u001b[0m\u001b[0;34m)\u001b[0m \u001b[0;34m->\u001b[0m \u001b[0mTensor\u001b[0m\u001b[0;34m:\u001b[0m\u001b[0;34m\u001b[0m\u001b[0;34m\u001b[0m\u001b[0m\n\u001b[0;32m--> 103\u001b[0;31m         \u001b[0;32mreturn\u001b[0m \u001b[0mF\u001b[0m\u001b[0;34m.\u001b[0m\u001b[0mlinear\u001b[0m\u001b[0;34m(\u001b[0m\u001b[0minput\u001b[0m\u001b[0;34m,\u001b[0m \u001b[0mself\u001b[0m\u001b[0;34m.\u001b[0m\u001b[0mweight\u001b[0m\u001b[0;34m,\u001b[0m \u001b[0mself\u001b[0m\u001b[0;34m.\u001b[0m\u001b[0mbias\u001b[0m\u001b[0;34m)\u001b[0m\u001b[0;34m\u001b[0m\u001b[0;34m\u001b[0m\u001b[0m\n\u001b[0m\u001b[1;32m    104\u001b[0m \u001b[0;34m\u001b[0m\u001b[0m\n\u001b[1;32m    105\u001b[0m     \u001b[0;32mdef\u001b[0m \u001b[0mextra_repr\u001b[0m\u001b[0;34m(\u001b[0m\u001b[0mself\u001b[0m\u001b[0;34m)\u001b[0m \u001b[0;34m->\u001b[0m \u001b[0mstr\u001b[0m\u001b[0;34m:\u001b[0m\u001b[0;34m\u001b[0m\u001b[0;34m\u001b[0m\u001b[0m\n",
            "\u001b[0;32m/usr/local/lib/python3.7/dist-packages/torch/nn/functional.py\u001b[0m in \u001b[0;36mlinear\u001b[0;34m(input, weight, bias)\u001b[0m\n\u001b[1;32m   1846\u001b[0m     \u001b[0;32mif\u001b[0m \u001b[0mhas_torch_function_variadic\u001b[0m\u001b[0;34m(\u001b[0m\u001b[0minput\u001b[0m\u001b[0;34m,\u001b[0m \u001b[0mweight\u001b[0m\u001b[0;34m,\u001b[0m \u001b[0mbias\u001b[0m\u001b[0;34m)\u001b[0m\u001b[0;34m:\u001b[0m\u001b[0;34m\u001b[0m\u001b[0;34m\u001b[0m\u001b[0m\n\u001b[1;32m   1847\u001b[0m         \u001b[0;32mreturn\u001b[0m \u001b[0mhandle_torch_function\u001b[0m\u001b[0;34m(\u001b[0m\u001b[0mlinear\u001b[0m\u001b[0;34m,\u001b[0m \u001b[0;34m(\u001b[0m\u001b[0minput\u001b[0m\u001b[0;34m,\u001b[0m \u001b[0mweight\u001b[0m\u001b[0;34m,\u001b[0m \u001b[0mbias\u001b[0m\u001b[0;34m)\u001b[0m\u001b[0;34m,\u001b[0m \u001b[0minput\u001b[0m\u001b[0;34m,\u001b[0m \u001b[0mweight\u001b[0m\u001b[0;34m,\u001b[0m \u001b[0mbias\u001b[0m\u001b[0;34m=\u001b[0m\u001b[0mbias\u001b[0m\u001b[0;34m)\u001b[0m\u001b[0;34m\u001b[0m\u001b[0;34m\u001b[0m\u001b[0m\n\u001b[0;32m-> 1848\u001b[0;31m     \u001b[0;32mreturn\u001b[0m \u001b[0mtorch\u001b[0m\u001b[0;34m.\u001b[0m\u001b[0m_C\u001b[0m\u001b[0;34m.\u001b[0m\u001b[0m_nn\u001b[0m\u001b[0;34m.\u001b[0m\u001b[0mlinear\u001b[0m\u001b[0;34m(\u001b[0m\u001b[0minput\u001b[0m\u001b[0;34m,\u001b[0m \u001b[0mweight\u001b[0m\u001b[0;34m,\u001b[0m \u001b[0mbias\u001b[0m\u001b[0;34m)\u001b[0m\u001b[0;34m\u001b[0m\u001b[0;34m\u001b[0m\u001b[0m\n\u001b[0m\u001b[1;32m   1849\u001b[0m \u001b[0;34m\u001b[0m\u001b[0m\n\u001b[1;32m   1850\u001b[0m \u001b[0;34m\u001b[0m\u001b[0m\n",
            "\u001b[0;31mTypeError\u001b[0m: linear(): argument 'input' (position 1) must be Tensor, not numpy.ndarray"
          ]
        }
      ],
      "source": [
        "data = pklData[:1]['ingredients']\n",
        "\n",
        "dataEmbedded = np.array(preprocessor.preProcessInput(data))\n",
        "\n",
        "y, mu, logvar = model(dataEmbedded)\n",
        "\n",
        "\n",
        "dataReconverted = decodeOutput(dataEmbedded)\n",
        "pd.concat([dataReconverted[0], data[0].add_prefix(\"orig_\")], axis=1)"
      ]
    },
    {
      "cell_type": "code",
      "execution_count": null,
      "metadata": {
        "colab": {
          "base_uri": "https://localhost:8080/"
        },
        "id": "V6pqjuU7EUPm",
        "outputId": "d6a17114-e7be-4141-950a-430664a20db8"
      },
      "outputs": [
        {
          "name": "stdout",
          "output_type": "stream",
          "text": [
            "dry_dill_weed\n",
            "dill_weed\n",
            "weed\n"
          ]
        }
      ],
      "source": [
        "string = \"dry dill weed\"\n",
        "name_words = string.lower().split(' ')\n",
        "for i in range(len(name_words)):\n",
        "    print('_'.join(name_words[i:]))"
      ]
    },
    {
      "cell_type": "code",
      "execution_count": null,
      "metadata": {
        "colab": {
          "base_uri": "https://localhost:8080/"
        },
        "id": "XlXnAae3EUPn",
        "outputId": "f375967d-b038-47e4-a679-74c9560579aa"
      },
      "outputs": [
        {
          "name": "stdout",
          "output_type": "stream",
          "text": [
            "torch.Size([1, 100])\n",
            "torch.Size([1000, 100])\n"
          ]
        }
      ],
      "source": [
        "embeddings = torch.nn.Embedding(1000, 100)\n",
        "my_sample = torch.randn(1, 100)\n",
        "distance = torch.norm(embeddings.weight.data - my_sample, dim=1)\n",
        "nearest = torch.argmin(distance)\n",
        "print(my_sample.shape)\n",
        "print(embeddings.weight.data.shape)"
      ]
    },
    {
      "cell_type": "code",
      "execution_count": null,
      "metadata": {
        "colab": {
          "base_uri": "https://localhost:8080/",
          "height": 249
        },
        "id": "NQ6kN0hQwzMo",
        "outputId": "24965326-6d74-4404-b2b2-a17b3d31c806"
      },
      "outputs": [
        {
          "ename": "NameError",
          "evalue": "ignored",
          "output_type": "error",
          "traceback": [
            "\u001b[0;31m---------------------------------------------------------------------------\u001b[0m",
            "\u001b[0;31mNameError\u001b[0m                                 Traceback (most recent call last)",
            "\u001b[0;32m<ipython-input-24-48604f2e68b7>\u001b[0m in \u001b[0;36m<module>\u001b[0;34m()\u001b[0m\n\u001b[0;32m----> 1\u001b[0;31m \u001b[0mdf_fake_stripped\u001b[0m \u001b[0;34m=\u001b[0m \u001b[0mdf_fake\u001b[0m\u001b[0;34m.\u001b[0m\u001b[0mdrop\u001b[0m\u001b[0;34m(\u001b[0m\u001b[0mcolumns\u001b[0m\u001b[0;34m=\u001b[0m\u001b[0mdropColumns\u001b[0m\u001b[0;34m)\u001b[0m\u001b[0;34m\u001b[0m\u001b[0;34m\u001b[0m\u001b[0m\n\u001b[0m\u001b[1;32m      2\u001b[0m \u001b[0mdf_fake_stripped_decoded\u001b[0m \u001b[0;34m=\u001b[0m \u001b[0mpd\u001b[0m\u001b[0;34m.\u001b[0m\u001b[0mDataFrame\u001b[0m\u001b[0;34m(\u001b[0m\u001b[0mdata\u001b[0m\u001b[0;34m=\u001b[0m\u001b[0menc\u001b[0m\u001b[0;34m.\u001b[0m\u001b[0minverse_transform\u001b[0m\u001b[0;34m(\u001b[0m\u001b[0mdf_fake_stripped\u001b[0m\u001b[0;34m)\u001b[0m\u001b[0;34m,\u001b[0m \u001b[0mcolumns\u001b[0m\u001b[0;34m=\u001b[0m\u001b[0mframeStripped_cols\u001b[0m\u001b[0;34m)\u001b[0m\u001b[0;34m\u001b[0m\u001b[0;34m\u001b[0m\u001b[0m\n\u001b[1;32m      3\u001b[0m \u001b[0mdf_fake_decoded\u001b[0m \u001b[0;34m=\u001b[0m \u001b[0mpd\u001b[0m\u001b[0;34m.\u001b[0m\u001b[0mconcat\u001b[0m\u001b[0;34m(\u001b[0m\u001b[0;34m[\u001b[0m\u001b[0mdf_fake\u001b[0m\u001b[0;34m[\u001b[0m\u001b[0mdropColumns\u001b[0m\u001b[0;34m]\u001b[0m\u001b[0;34m,\u001b[0m \u001b[0mdf_fake_stripped_decoded\u001b[0m\u001b[0;34m]\u001b[0m\u001b[0;34m,\u001b[0m \u001b[0maxis\u001b[0m\u001b[0;34m=\u001b[0m\u001b[0;36m1\u001b[0m\u001b[0;34m)\u001b[0m\u001b[0;34m\u001b[0m\u001b[0;34m\u001b[0m\u001b[0m\n\u001b[1;32m      4\u001b[0m \u001b[0mdf_fake_decoded\u001b[0m\u001b[0;34m\u001b[0m\u001b[0;34m\u001b[0m\u001b[0m\n",
            "\u001b[0;31mNameError\u001b[0m: name 'dropColumns' is not defined"
          ]
        }
      ],
      "source": [
        "df_fake_stripped = df_fake.drop(columns=dropColumns)\n",
        "df_fake_stripped_decoded = pd.DataFrame(data=enc.inverse_transform(df_fake_stripped), columns=frameStripped_cols)\n",
        "df_fake_decoded = pd.concat([df_fake[dropColumns], df_fake_stripped_decoded], axis=1)\n",
        "df_fake_decoded"
      ]
    },
    {
      "cell_type": "code",
      "execution_count": null,
      "metadata": {
        "id": "Jbh1MGDCwzMo"
      },
      "outputs": [],
      "source": [
        "class Ingredient:\n",
        "    def __init__(self, amount, unit, ingredient) -> None:\n",
        "        self.amount = amount\n",
        "        self.unit = unit\n",
        "        self.ingredient = ingredient\n",
        "\n",
        "    def __repr__(self) -> str:\n",
        "        return \"\\nAmount: \" + str(self.amount) + \"\\n Unit: \" + str(self.unit) + \"\\n Ingredient: \" + str(self.ingredient)\n",
        "\n",
        "recipes = []\n",
        "lenIngredients = int(len(df_fake_decoded.columns)/3)\n",
        "for value in df_fake_decoded.values:\n",
        "    ingredients = []\n",
        "    for index in range(0,lenIngredients):\n",
        "        frame = []\n",
        "        frame.append(value[index])\n",
        "        frame.append(value[(2*index)+lenIngredients])\n",
        "        frame.append(value[(2*index+1)+lenIngredients])\n",
        "        ingredients.append(frame)\n",
        "    recipes.append(ingredients)\n",
        "\n",
        "pd.DataFrame(recipes)"
      ]
    },
    {
      "cell_type": "code",
      "execution_count": null,
      "metadata": {
        "id": "lNbXCbGPwzMp"
      },
      "outputs": [],
      "source": [
        ""
      ]
    }
  ],
  "metadata": {
    "accelerator": "GPU",
    "colab": {
      "machine_shape": "hm",
      "name": "cvae.ipynb",
      "provenance": [],
      "include_colab_link": true
    },
    "interpreter": {
      "hash": "bb875f4a3a3b27879a30076b84fa05114b199e04f8f3aeee4f2ba73a2af38a98"
    },
    "kernelspec": {
      "display_name": "Python 3.6.9 64-bit ('recime': conda)",
      "language": "python",
      "name": "python3"
    },
    "language_info": {
      "codemirror_mode": {
        "name": "ipython",
        "version": 3
      },
      "file_extension": ".py",
      "mimetype": "text/x-python",
      "name": "python",
      "nbconvert_exporter": "python",
      "pygments_lexer": "ipython3",
      "version": "3.7.11"
    },
    "orig_nbformat": 4
  },
  "nbformat": 4,
  "nbformat_minor": 0
}