{
 "cells": [
  {
   "cell_type": "code",
   "execution_count": 4,
   "metadata": {},
   "outputs": [
    {
     "name": "stdout",
     "output_type": "stream",
     "text": [
      "[{'title': 'Pink Sangria', 'ingredients': [{'ingredient': 'rose wine', 'amount': 750, 'unit': 'ml', 'instruction': 'chilled'}, {'ingredient': 'brandy', 'amount': 14, 'unit': 'cup', 'instruction': ''}, {'ingredient': 'orange liqueur', 'amount': 14, 'unit': 'cup', 'instruction': ''}, {'ingredient': 'white cranberry juice', 'amount': 2, 'unit': 'cup', 'instruction': ''}, {'ingredient': 'orange', 'amount': 1, 'unit': '', 'instruction': 'sliced'}, {'ingredient': 'lemon', 'amount': 1, 'unit': '', 'instruction': 'sliced'}, {'ingredient': 'Sprite', 'amount': 355, 'unit': 'ml', 'instruction': ''}], 'instructions': [{'instruction': 'In a pitcher, combine all the ingredients except the soft drink and ice cubes.'}, {'instruction': 'Refrigerate for 1 hour.'}, {'instruction': 'Add the soft drink and ice just before serving.'}]}]\n"
     ]
    }
   ],
   "source": [
    "import json\n",
    "import sys\n",
    "sys.path.append('../..')\n",
    "\n",
    "from utils import validateJson\n",
    "\n",
    "testJson = \"\"\"\n",
    "[\n",
    "  {\n",
    "    \"title\": \"Pink Sangria\",\n",
    "    \"ingredients\": [\n",
    "      {\n",
    "        \"ingredient\": \"rose wine\",\n",
    "        \"amount\": 750,\n",
    "        \"unit\": \"ml\",\n",
    "        \"instruction\": \"chilled\"\n",
    "      },\n",
    "      {\n",
    "        \"ingredient\": \"brandy\",\n",
    "        \"amount\": 14,\n",
    "        \"unit\": \"cup\",\n",
    "        \"instruction\": \"\"\n",
    "      },\n",
    "      {\n",
    "        \"ingredient\": \"orange liqueur\",\n",
    "        \"amount\": 14,\n",
    "        \"unit\": \"cup\",\n",
    "        \"instruction\": \"\"\n",
    "      },\n",
    "      {\n",
    "        \"ingredient\": \"white cranberry juice\",\n",
    "        \"amount\": 2,\n",
    "        \"unit\": \"cup\",\n",
    "        \"instruction\": \"\"\n",
    "      },\n",
    "      {\n",
    "        \"ingredient\": \"orange\",\n",
    "        \"amount\": 1,\n",
    "        \"unit\": \"\",\n",
    "        \"instruction\": \"sliced\"\n",
    "      },\n",
    "      {\n",
    "        \"ingredient\": \"lemon\",\n",
    "        \"amount\": 1,\n",
    "        \"unit\": \"\",\n",
    "        \"instruction\": \"sliced\"\n",
    "      },\n",
    "      {\n",
    "        \"ingredient\": \"Sprite\",\n",
    "        \"amount\": 355,\n",
    "        \"unit\": \"ml\",\n",
    "        \"instruction\": \"\"\n",
    "      }\n",
    "    ],\n",
    "    \"instructions\": [\n",
    "      {\n",
    "        \"instruction\": \"In a pitcher, combine all the ingredients except the soft drink and ice cubes.\"\n",
    "      },\n",
    "      {\n",
    "        \"instruction\": \"Refrigerate for 1 hour.\"\n",
    "      },\n",
    "      {\n",
    "        \"instruction\": \"Add the soft drink and ice just before serving.\"\n",
    "      }\n",
    "    ]\n",
    "  }\n",
    "]\n",
    "\"\"\"\n",
    "\n",
    "jsonData = json.loads(testJson)\n",
    "validateJson.validateRecimeJson(jsonData)"
   ]
  },
  {
   "cell_type": "code",
   "execution_count": null,
   "metadata": {},
   "outputs": [],
   "source": []
  }
 ],
 "metadata": {
  "interpreter": {
   "hash": "bb875f4a3a3b27879a30076b84fa05114b199e04f8f3aeee4f2ba73a2af38a98"
  },
  "kernelspec": {
   "display_name": "Python 3.6.9 64-bit ('recime': conda)",
   "language": "python",
   "name": "python3"
  },
  "language_info": {
   "codemirror_mode": {
    "name": "ipython",
    "version": 3
   },
   "file_extension": ".py",
   "mimetype": "text/x-python",
   "name": "python",
   "nbconvert_exporter": "python",
   "pygments_lexer": "ipython3",
   "version": "3.6.9"
  },
  "orig_nbformat": 4
 },
 "nbformat": 4,
 "nbformat_minor": 2
}
