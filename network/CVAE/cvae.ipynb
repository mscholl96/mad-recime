{
  "cells": [
    {
      "cell_type": "markdown",
      "metadata": {
        "id": "view-in-github",
        "colab_type": "text"
      },
      "source": [
        "<a href=\"https://colab.research.google.com/github/mscholl96/mad-recime/blob/network_CVAE/network/CVAE/cvae.ipynb\" target=\"_parent\"><img src=\"https://colab.research.google.com/assets/colab-badge.svg\" alt=\"Open In Colab\"/></a>"
      ]
    },
    {
      "cell_type": "markdown",
      "metadata": {
        "id": "zapniU98wzMW"
      },
      "source": [
        "# Conditional variational autoencoder\n",
        "Variational autoencoder for tabular data, oriented upon: https://lschmiddey.github.io/fastpages_/2021/03/14/tabular-data-variational-autoencoder.html \n",
        "\n",
        "Adopted with one hot encoding for tabular data\n",
        "## Load Json Database of recipes"
      ]
    },
    {
      "cell_type": "code",
      "execution_count": 1,
      "metadata": {
        "colab": {
          "base_uri": "https://localhost:8080/"
        },
        "id": "2zTkqc12wzMc",
        "outputId": "f8f2f6eb-4944-4b2c-e022-5728e25ad916"
      },
      "outputs": [
        {
          "output_type": "stream",
          "name": "stdout",
          "text": [
            "Drive already mounted at /content/drive; to attempt to forcibly remount, call drive.mount(\"/content/drive\", force_remount=True).\n"
          ]
        }
      ],
      "source": [
        "from google.colab import drive\n",
        "drive.mount('/content/drive')"
      ]
    },
    {
      "cell_type": "code",
      "execution_count": 2,
      "metadata": {
        "id": "qDBTBpLsXtTO"
      },
      "outputs": [],
      "source": [
        "dataPath = '/content/drive/MyDrive/TP2/Datasets/Recipe1M/2022_03_19/ingredients_complete.pkl'\n",
        "embeddingPath = '/content/drive/MyDrive/TP2/Datasets/Recipe1M/vocab.bin'\n",
        "unitDictPath = '/content/drive/MyDrive/TP2/Datasets/Recipe1M/2022_03_19/ingredients_unitDict.pkl'\n",
        "modelOutPath = \"/content/drive/MyDrive/TP2/Network/VAE/cvae.pt\"\n",
        "import sys\n",
        "sys.path.append(dataPath)"
      ]
    },
    {
      "cell_type": "code",
      "execution_count": null,
      "metadata": {
        "id": "_e61O0YAwzMd"
      },
      "outputs": [],
      "source": [
        "dataPath = 'data/ingredients_complete_2k.pkl'\n",
        "embeddingPath = 'data/vocab.bin'\n",
        "unitDictPath = 'data/ingredients_unitDict.pkl'\n",
        "modelOutPath = 'model/cvae.pt'"
      ]
    },
    {
      "cell_type": "code",
      "execution_count": 3,
      "metadata": {
        "colab": {
          "base_uri": "https://localhost:8080/"
        },
        "id": "FkkejbegwzMd",
        "outputId": "e5aaffe9-2a3c-47e2-968e-0cd48cdb83b6"
      },
      "outputs": [
        {
          "output_type": "stream",
          "name": "stdout",
          "text": [
            "Index(['000033e39b', '000035f7ed', '00003a70b1', '00004320bb', '0000631d90',\n",
            "       '000075604a', '00007bfd16', '000095fc1d', '0000973574', '0000b1e2b5',\n",
            "       ...\n",
            "       'ffff606358', 'ffff70ccee', 'ffff728423', 'ffff72b421', 'ffff7f3e9f',\n",
            "       'ffff89d1ae', 'ffffbb45d2', 'ffffcd4444', 'ffffd533d7', 'ffffdea29a'],\n",
            "      dtype='object', name='id', length=834726)\n",
            "834726\n"
          ]
        }
      ],
      "source": [
        "import pickle\n",
        "\n",
        "with open(dataPath, 'rb') as f:\n",
        "    pklData = pickle.load(f)\n",
        "\n",
        "print(pklData.keys())\n",
        "print(len(pklData))"
      ]
    },
    {
      "cell_type": "markdown",
      "metadata": {
        "id": "3woTtbf9wzMe"
      },
      "source": [
        "## Convert list of ingredients to pandas dataframe and one hot encode the dataframe."
      ]
    },
    {
      "cell_type": "code",
      "execution_count": 4,
      "metadata": {
        "colab": {
          "base_uri": "https://localhost:8080/"
        },
        "id": "A7kjo-mMGYBU",
        "outputId": "4e4dda85-36ac-4acf-96e6-ede6a4aac1c3"
      },
      "outputs": [
        {
          "output_type": "stream",
          "name": "stdout",
          "text": [
            "Collecting word2vec\n",
            "  Downloading word2vec-0.11.1.tar.gz (42 kB)\n",
            "\u001b[?25l\r\u001b[K     |███████▊                        | 10 kB 20.9 MB/s eta 0:00:01\r\u001b[K     |███████████████▌                | 20 kB 10.4 MB/s eta 0:00:01\r\u001b[K     |███████████████████████▎        | 30 kB 9.0 MB/s eta 0:00:01\r\u001b[K     |███████████████████████████████ | 40 kB 8.3 MB/s eta 0:00:01\r\u001b[K     |████████████████████████████████| 42 kB 593 kB/s \n",
            "\u001b[?25h  Installing build dependencies ... \u001b[?25l\u001b[?25hdone\n",
            "  Getting requirements to build wheel ... \u001b[?25l\u001b[?25hdone\n",
            "    Preparing wheel metadata ... \u001b[?25l\u001b[?25hdone\n",
            "Requirement already satisfied: joblib in /usr/local/lib/python3.7/dist-packages (from word2vec) (1.1.0)\n",
            "Requirement already satisfied: numpy>=1.9.2 in /usr/local/lib/python3.7/dist-packages (from word2vec) (1.21.5)\n",
            "Building wheels for collected packages: word2vec\n",
            "  Building wheel for word2vec (PEP 517) ... \u001b[?25l\u001b[?25hdone\n",
            "  Created wheel for word2vec: filename=word2vec-0.11.1-py2.py3-none-any.whl size=156420 sha256=f9fcc54047d4f9898939452e4454f63d7c051b49bb9ee0a3ec75ae87da7c3196\n",
            "  Stored in directory: /root/.cache/pip/wheels/c9/c0/d4/29d797817e268124a32b6cf8beb8b8fe87b86f099d5a049e61\n",
            "Successfully built word2vec\n",
            "Installing collected packages: word2vec\n",
            "Successfully installed word2vec-0.11.1\n"
          ]
        }
      ],
      "source": [
        "!pip install word2vec"
      ]
    },
    {
      "cell_type": "code",
      "execution_count": 4,
      "metadata": {
        "id": "d1HzhTL5EUPd"
      },
      "outputs": [],
      "source": [
        "from src.ReciMePreprocessor import ReciMePreprocessor\n",
        "\n",
        "preprocessor = ReciMePreprocessor(embeddingPath, unitDictPath)"
      ]
    },
    {
      "cell_type": "markdown",
      "metadata": {
        "id": "CBKbgRf-wzMg"
      },
      "source": [
        "## VAE\n",
        "### Setup"
      ]
    },
    {
      "cell_type": "code",
      "execution_count": 5,
      "metadata": {
        "colab": {
          "base_uri": "https://localhost:8080/"
        },
        "id": "a5CjNvLnwzMg",
        "outputId": "5d9b4f33-1c46-4a29-a4d9-ac0427bb2dc3"
      },
      "outputs": [
        {
          "output_type": "stream",
          "name": "stdout",
          "text": [
            "cuda\n"
          ]
        }
      ],
      "source": [
        "# Import pytorch dependencies\n",
        "import torch\n",
        "from torch import optim\n",
        "from torch.utils.data import DataLoader\n",
        "\n",
        "# Import additional libraries\n",
        "import pandas as pd\n",
        "import numpy as np\n",
        "from sklearn.model_selection import train_test_split\n",
        "\n",
        "# Import custom autoencoder\n",
        "from src.ReciMeEncoder import ReciMeEncoder\n",
        "from src.ReciMeConditionalEncoder import ReciMeConditionalEncoder\n",
        "\n",
        "# Import custom helper functions\n",
        "from src.networkUtils import CustomLoss, DataBuilder, test, train\n",
        "\n",
        "device = torch.device('cuda' if torch.cuda.is_available() else 'cpu')\n",
        "print(device)"
      ]
    },
    {
      "cell_type": "markdown",
      "metadata": {
        "id": "DR6u1q3lwzMg"
      },
      "source": [
        "### Setup Datasets + Hyperparameters"
      ]
    },
    {
      "cell_type": "code",
      "execution_count": 6,
      "metadata": {
        "id": "yle-AZJ6wzMh"
      },
      "outputs": [],
      "source": [
        "# One hot encoding without embedding and using sparse frame\n",
        "train_data, test_data =  train_test_split(pklData, test_size=0.3, random_state=42)\n",
        "batch_size = 256\n",
        "# Definition of batches\n",
        "train_builder = DataBuilder(train_data, preprocessor)\n",
        "test_builder = DataBuilder(test_data, preprocessor)\n",
        "\n",
        "trainloader=DataLoader(dataset=train_builder, batch_size=batch_size, collate_fn=train_builder.customCollate)\n",
        "testloader=DataLoader(dataset=test_builder, batch_size=batch_size, collate_fn=test_builder.customCollate)"
      ]
    },
    {
      "cell_type": "code",
      "execution_count": 7,
      "metadata": {
        "colab": {
          "base_uri": "https://localhost:8080/"
        },
        "id": "oD_T2VYFwzMh",
        "outputId": "bcedb63b-c6d1-4c4c-b323-829ebbb6a1a0"
      },
      "outputs": [
        {
          "output_type": "stream",
          "name": "stdout",
          "text": [
            "ReciMeConditionalEncoder(\n",
            "  (encoderStack): Sequential(\n",
            "    (0): _BatchNormLinear(\n",
            "      (layer): Sequential(\n",
            "        (0): Linear(in_features=6660, out_features=10000, bias=True)\n",
            "        (1): BatchNorm1d(10000, eps=1e-05, momentum=0.1, affine=True, track_running_stats=True)\n",
            "        (2): ReLU()\n",
            "      )\n",
            "    )\n",
            "    (1): _BatchNormLinear(\n",
            "      (layer): Sequential(\n",
            "        (0): Linear(in_features=10000, out_features=8000, bias=True)\n",
            "        (1): BatchNorm1d(8000, eps=1e-05, momentum=0.1, affine=True, track_running_stats=True)\n",
            "        (2): ReLU()\n",
            "      )\n",
            "    )\n",
            "    (2): _BatchNormLinear(\n",
            "      (layer): Sequential(\n",
            "        (0): Linear(in_features=8000, out_features=6000, bias=True)\n",
            "        (1): BatchNorm1d(6000, eps=1e-05, momentum=0.1, affine=True, track_running_stats=True)\n",
            "        (2): ReLU()\n",
            "      )\n",
            "    )\n",
            "    (3): _BatchNormLinear(\n",
            "      (layer): Sequential(\n",
            "        (0): Linear(in_features=6000, out_features=4000, bias=True)\n",
            "        (1): BatchNorm1d(4000, eps=1e-05, momentum=0.1, affine=True, track_running_stats=True)\n",
            "        (2): ReLU()\n",
            "      )\n",
            "    )\n",
            "  )\n",
            "  (muStack): Linear(in_features=4000, out_features=4000, bias=True)\n",
            "  (logvarStack): Linear(in_features=4000, out_features=4000, bias=True)\n",
            "  (decoderStack): Sequential(\n",
            "    (0): _BatchNormLinear(\n",
            "      (layer): Sequential(\n",
            "        (0): Linear(in_features=4300, out_features=6000, bias=True)\n",
            "        (1): BatchNorm1d(6000, eps=1e-05, momentum=0.1, affine=True, track_running_stats=True)\n",
            "        (2): ReLU()\n",
            "      )\n",
            "    )\n",
            "    (1): _BatchNormLinear(\n",
            "      (layer): Sequential(\n",
            "        (0): Linear(in_features=6000, out_features=8000, bias=True)\n",
            "        (1): BatchNorm1d(8000, eps=1e-05, momentum=0.1, affine=True, track_running_stats=True)\n",
            "        (2): ReLU()\n",
            "      )\n",
            "    )\n",
            "    (2): _BatchNormLinear(\n",
            "      (layer): Sequential(\n",
            "        (0): Linear(in_features=8000, out_features=10000, bias=True)\n",
            "        (1): BatchNorm1d(10000, eps=1e-05, momentum=0.1, affine=True, track_running_stats=True)\n",
            "        (2): ReLU()\n",
            "      )\n",
            "    )\n",
            "    (3): _BatchNormLinear(\n",
            "      (layer): Sequential(\n",
            "        (0): Linear(in_features=10000, out_features=6360, bias=True)\n",
            "        (1): BatchNorm1d(6360, eps=1e-05, momentum=0.1, affine=True, track_running_stats=True)\n",
            "        (2): Tanh()\n",
            "      )\n",
            "    )\n",
            "  )\n",
            ")\n"
          ]
        }
      ],
      "source": [
        "paramList = [train_builder.customCollate([train_builder[0]]).shape[1], 10000, 8000, 6000, 4000]\n",
        "\n",
        "model = ReciMeConditionalEncoder(paramList, 300, useBatchNorm=True, actFunc=torch.nn.ReLU(), outFunc=torch.nn.Tanh()).to(device)\n",
        "print(model)\n",
        "optimizer = optim.Adam(model.parameters(), lr=1e-3)\n",
        "loss_fn = CustomLoss()"
      ]
    },
    {
      "cell_type": "markdown",
      "metadata": {
        "id": "CH1FyiqXwzMi"
      },
      "source": [
        "### Train Model"
      ]
    },
    {
      "cell_type": "code",
      "execution_count": 8,
      "metadata": {
        "id": "zkHZycy2wzMi"
      },
      "outputs": [],
      "source": [
        "epochs = 100\n",
        "log_interval = 5\n",
        "val_losses = []\n",
        "train_losses = []\n",
        "train_losses_MSE = []\n",
        "train_losses_KLD = []\n",
        "test_losses = []\n",
        "test_losses_MSE = []\n",
        "test_losses_KLD = []"
      ]
    },
    {
      "cell_type": "code",
      "execution_count": 9,
      "metadata": {
        "colab": {
          "base_uri": "https://localhost:8080/"
        },
        "id": "ascBDVv1wzMk",
        "outputId": "c83b457f-4df4-425f-f5a1-121f675b61fa"
      },
      "outputs": [
        {
          "output_type": "stream",
          "name": "stdout",
          "text": [
            "1\n",
            "2\n",
            "3\n",
            "4\n",
            "5\n",
            "====> Epoch: 5 Average training loss: 115.03951, MSE: 110.31785, KLD: 4.72166\n",
            "====> Epoch: 5 Average test loss: 113.3769, MSE: 108.5601, KLD: 4.8168\n",
            "6\n",
            "7\n",
            "8\n",
            "9\n",
            "10\n",
            "====> Epoch: 10 Average training loss: 110.55143, MSE: 105.52672, KLD: 5.02472\n",
            "====> Epoch: 10 Average test loss: 110.8206, MSE: 105.6948, KLD: 5.1258\n",
            "11\n",
            "12\n",
            "13\n",
            "14\n",
            "15\n",
            "====> Epoch: 15 Average training loss: 109.79049, MSE: 104.70115, KLD: 5.08934\n",
            "====> Epoch: 15 Average test loss: 110.7047, MSE: 105.8014, KLD: 4.9033\n",
            "16\n",
            "17\n",
            "18\n",
            "19\n",
            "20\n",
            "====> Epoch: 20 Average training loss: 109.27513, MSE: 104.13428, KLD: 5.14085\n",
            "====> Epoch: 20 Average test loss: 110.7762, MSE: 105.6783, KLD: 5.0979\n",
            "21\n",
            "22\n",
            "23\n",
            "24\n",
            "25\n",
            "====> Epoch: 25 Average training loss: 108.69848, MSE: 103.32346, KLD: 5.37502\n",
            "====> Epoch: 25 Average test loss: 110.8289, MSE: 105.1516, KLD: 5.6773\n",
            "26\n",
            "27\n",
            "28\n",
            "29\n",
            "30\n",
            "====> Epoch: 30 Average training loss: 107.86274, MSE: 102.06273, KLD: 5.80002\n",
            "====> Epoch: 30 Average test loss: 110.6565, MSE: 104.9926, KLD: 5.6639\n",
            "31\n",
            "32\n",
            "33\n",
            "34\n",
            "35\n",
            "====> Epoch: 35 Average training loss: 107.38598, MSE: 101.49175, KLD: 5.89423\n",
            "====> Epoch: 35 Average test loss: 110.9213, MSE: 105.1391, KLD: 5.7822\n",
            "36\n",
            "37\n",
            "38\n",
            "39\n",
            "40\n",
            "====> Epoch: 40 Average training loss: 106.92162, MSE: 100.93481, KLD: 5.98681\n",
            "====> Epoch: 40 Average test loss: 111.3250, MSE: 105.3116, KLD: 6.0134\n",
            "41\n",
            "42\n",
            "43\n",
            "44\n",
            "45\n",
            "====> Epoch: 45 Average training loss: 106.36080, MSE: 100.24874, KLD: 6.11205\n",
            "====> Epoch: 45 Average test loss: 111.7521, MSE: 105.3087, KLD: 6.4434\n",
            "46\n",
            "47\n",
            "48\n",
            "49\n",
            "50\n",
            "====> Epoch: 50 Average training loss: 105.77472, MSE: 99.52312, KLD: 6.25160\n",
            "====> Epoch: 50 Average test loss: 112.1487, MSE: 105.9963, KLD: 6.1524\n",
            "51\n",
            "52\n",
            "53\n",
            "54\n",
            "55\n",
            "====> Epoch: 55 Average training loss: 105.16669, MSE: 98.80157, KLD: 6.36512\n",
            "====> Epoch: 55 Average test loss: 112.5976, MSE: 105.9397, KLD: 6.6579\n",
            "56\n",
            "57\n",
            "58\n",
            "59\n",
            "60\n",
            "====> Epoch: 60 Average training loss: 104.53091, MSE: 97.96182, KLD: 6.56909\n",
            "====> Epoch: 60 Average test loss: 112.9713, MSE: 106.3333, KLD: 6.6380\n",
            "61\n",
            "62\n",
            "63\n",
            "64\n",
            "65\n",
            "====> Epoch: 65 Average training loss: 103.91283, MSE: 97.14637, KLD: 6.76645\n",
            "====> Epoch: 65 Average test loss: 113.4067, MSE: 106.6741, KLD: 6.7325\n",
            "66\n",
            "67\n",
            "68\n",
            "69\n",
            "70\n",
            "====> Epoch: 70 Average training loss: 103.30073, MSE: 96.40842, KLD: 6.89230\n",
            "====> Epoch: 70 Average test loss: 114.3575, MSE: 106.8433, KLD: 7.5142\n",
            "71\n",
            "72\n",
            "73\n",
            "74\n",
            "75\n",
            "====> Epoch: 75 Average training loss: 102.72422, MSE: 95.73198, KLD: 6.99224\n",
            "====> Epoch: 75 Average test loss: 115.3740, MSE: 107.4378, KLD: 7.9361\n",
            "76\n",
            "77\n",
            "78\n",
            "79\n",
            "80\n",
            "====> Epoch: 80 Average training loss: 102.18855, MSE: 95.10145, KLD: 7.08710\n",
            "====> Epoch: 80 Average test loss: 170.0744, MSE: 107.6886, KLD: 62.3857\n",
            "81\n",
            "82\n",
            "83\n",
            "84\n",
            "85\n",
            "====> Epoch: 85 Average training loss: 101.65631, MSE: 94.48826, KLD: 7.16805\n",
            "====> Epoch: 85 Average test loss: 131.4976, MSE: 108.5522, KLD: 22.9454\n",
            "86\n",
            "87\n",
            "88\n",
            "89\n",
            "90\n",
            "====> Epoch: 90 Average training loss: 101.14551, MSE: 93.88657, KLD: 7.25895\n",
            "====> Epoch: 90 Average test loss: 141.8389, MSE: 108.6754, KLD: 33.1635\n",
            "91\n",
            "92\n",
            "93\n",
            "94\n",
            "95\n",
            "====> Epoch: 95 Average training loss: 100.67766, MSE: 93.32669, KLD: 7.35097\n",
            "====> Epoch: 95 Average test loss: 124.7057, MSE: 109.0802, KLD: 15.6255\n",
            "96\n",
            "97\n",
            "98\n",
            "99\n",
            "100\n",
            "====> Epoch: 100 Average training loss: 100.21985, MSE: 92.79942, KLD: 7.42043\n",
            "====> Epoch: 100 Average test loss: 132.8528, MSE: 109.6206, KLD: 23.2322\n"
          ]
        }
      ],
      "source": [
        "for epoch in range(1,epochs+1):\n",
        "    print(epoch)\n",
        "    train_return = train(epoch, batch_size, log_interval, model, trainloader, device, optimizer, loss_fn, True)\n",
        "    train_losses.append(train_return[0])\n",
        "    train_losses_MSE.append(train_return[1])\n",
        "    train_losses_KLD.append(train_return[2])\n",
        "    test_return = test(epoch, batch_size, log_interval, model, testloader, device, optimizer, loss_fn, True)\n",
        "    test_losses.append(test_return[0])\n",
        "    test_losses_MSE.append(test_return[1])\n",
        "    test_losses_KLD.append(test_return[2])\n",
        "    if epoch % log_interval == 0:\n",
        "        torch.save({\n",
        "            'epoch': epoch,\n",
        "            'model_state_dict': model.state_dict(),\n",
        "            'optimizer_state_dict': optimizer.state_dict(),\n",
        "            'loss': (train_losses, test_losses),\n",
        "            }, modelOutPath)"
      ]
    },
    {
      "cell_type": "code",
      "execution_count": 10,
      "metadata": {
        "colab": {
          "base_uri": "https://localhost:8080/",
          "height": 286
        },
        "id": "NyRyzB8zws7B",
        "outputId": "664f7041-2157-4c27-c7a6-e2f7415ed4e0"
      },
      "outputs": [
        {
          "output_type": "execute_result",
          "data": {
            "text/plain": [
              "(0.0, 500.0)"
            ]
          },
          "metadata": {},
          "execution_count": 10
        },
        {
          "output_type": "display_data",
          "data": {
            "text/plain": [
              "<Figure size 432x288 with 1 Axes>"
            ],
            "image/png": "[encoded data removed]"
          },
          "metadata": {
            "needs_background": "light"
          }
        }
      ],
      "source": [
        "import matplotlib.pyplot as plt\n",
        "plt.plot(train_losses)\n",
        "plt.plot(train_losses_MSE)\n",
        "plt.plot(train_losses_KLD)\n",
        "plt.legend(['Train', 'Train_MSE', 'Train_KLD'])\n",
        "plt.ylim([0,500])"
      ]
    },
    {
      "cell_type": "code",
      "execution_count": 11,
      "metadata": {
        "colab": {
          "base_uri": "https://localhost:8080/",
          "height": 286
        },
        "id": "stl8-ACfwzMk",
        "outputId": "f75b0eb1-ab62-4ccf-87b9-5157c224dd4d"
      },
      "outputs": [
        {
          "output_type": "execute_result",
          "data": {
            "text/plain": [
              "(0.0, 500.0)"
            ]
          },
          "metadata": {},
          "execution_count": 11
        },
        {
          "output_type": "display_data",
          "data": {
            "text/plain": [
              "<Figure size 432x288 with 1 Axes>"
            ],
            "image/png": "[encoded data removed]"
          },
          "metadata": {
            "needs_background": "light"
          }
        }
      ],
      "source": [
        "import matplotlib.pyplot as plt\n",
        "plt.plot(test_losses)\n",
        "plt.plot(train_losses)\n",
        "plt.legend(['Test', 'Train'])\n",
        "plt.ylim([0,500])"
      ]
    },
    {
      "cell_type": "code",
      "execution_count": null,
      "metadata": {
        "id": "nw8EuDS5Gs-T"
      },
      "outputs": [],
      "source": [
        "torch.save({\n",
        "    'epoch': epoch,\n",
        "    'model_state_dict': model.state_dict(),\n",
        "    'optimizer_state_dict': optimizer.state_dict(),\n",
        "    'loss': (train_losses, test_losses),\n",
        "    }, \"/content/drive/MyDrive/TP2/Network/VAE/cvae_100epoch.pt\")"
      ]
    },
    {
      "cell_type": "markdown",
      "metadata": {
        "id": "YYvu9HekwzMm"
      },
      "source": [
        "### Draw random samples form latent space and generate new data"
      ]
    },
    {
      "cell_type": "code",
      "execution_count": 18,
      "metadata": {
        "id": "xxoWJ_IWEUPj",
        "outputId": "65b5bb48-8027-4003-d4f0-6f92ab3cfa74",
        "colab": {
          "base_uri": "https://localhost:8080/",
          "height": 334
        }
      },
      "outputs": [
        {
          "output_type": "error",
          "ename": "TypeError",
          "evalue": "ignored",
          "traceback": [
            "\u001b[0;31m---------------------------------------------------------------------------\u001b[0m",
            "\u001b[0;31mTypeError\u001b[0m                                 Traceback (most recent call last)",
            "\u001b[0;32m<ipython-input-18-40c75f379158>\u001b[0m in \u001b[0;36m<module>\u001b[0;34m()\u001b[0m\n\u001b[1;32m      3\u001b[0m         \u001b[0moptimizer\u001b[0m\u001b[0;34m.\u001b[0m\u001b[0mzero_grad\u001b[0m\u001b[0;34m(\u001b[0m\u001b[0;34m)\u001b[0m\u001b[0;34m\u001b[0m\u001b[0;34m\u001b[0m\u001b[0m\n\u001b[1;32m      4\u001b[0m         \u001b[0mdata\u001b[0m \u001b[0;34m=\u001b[0m \u001b[0mdata\u001b[0m\u001b[0;34m.\u001b[0m\u001b[0mto\u001b[0m\u001b[0;34m(\u001b[0m\u001b[0mdevice\u001b[0m\u001b[0;34m)\u001b[0m\u001b[0;34m\u001b[0m\u001b[0;34m\u001b[0m\u001b[0m\n\u001b[0;32m----> 5\u001b[0;31m         \u001b[0mrecon_batch\u001b[0m\u001b[0;34m,\u001b[0m \u001b[0mmu\u001b[0m\u001b[0;34m,\u001b[0m \u001b[0mlogvar\u001b[0m \u001b[0;34m=\u001b[0m \u001b[0mmodel\u001b[0m\u001b[0;34m(\u001b[0m\u001b[0mdata\u001b[0m\u001b[0;34m)\u001b[0m\u001b[0;34m\u001b[0m\u001b[0;34m\u001b[0m\u001b[0m\n\u001b[0m\u001b[1;32m      6\u001b[0m         \u001b[0;32mbreak\u001b[0m\u001b[0;34m\u001b[0m\u001b[0;34m\u001b[0m\u001b[0m\n",
            "\u001b[0;32m/usr/local/lib/python3.7/dist-packages/torch/nn/modules/module.py\u001b[0m in \u001b[0;36m_call_impl\u001b[0;34m(self, *input, **kwargs)\u001b[0m\n\u001b[1;32m   1100\u001b[0m         if not (self._backward_hooks or self._forward_hooks or self._forward_pre_hooks or _global_backward_hooks\n\u001b[1;32m   1101\u001b[0m                 or _global_forward_hooks or _global_forward_pre_hooks):\n\u001b[0;32m-> 1102\u001b[0;31m             \u001b[0;32mreturn\u001b[0m \u001b[0mforward_call\u001b[0m\u001b[0;34m(\u001b[0m\u001b[0;34m*\u001b[0m\u001b[0minput\u001b[0m\u001b[0;34m,\u001b[0m \u001b[0;34m**\u001b[0m\u001b[0mkwargs\u001b[0m\u001b[0;34m)\u001b[0m\u001b[0;34m\u001b[0m\u001b[0;34m\u001b[0m\u001b[0m\n\u001b[0m\u001b[1;32m   1103\u001b[0m         \u001b[0;31m# Do not call functions when jit is used\u001b[0m\u001b[0;34m\u001b[0m\u001b[0;34m\u001b[0m\u001b[0;34m\u001b[0m\u001b[0m\n\u001b[1;32m   1104\u001b[0m         \u001b[0mfull_backward_hooks\u001b[0m\u001b[0;34m,\u001b[0m \u001b[0mnon_full_backward_hooks\u001b[0m \u001b[0;34m=\u001b[0m \u001b[0;34m[\u001b[0m\u001b[0;34m]\u001b[0m\u001b[0;34m,\u001b[0m \u001b[0;34m[\u001b[0m\u001b[0;34m]\u001b[0m\u001b[0;34m\u001b[0m\u001b[0;34m\u001b[0m\u001b[0m\n",
            "\u001b[0;31mTypeError\u001b[0m: forward() missing 1 required positional argument: 'c'"
          ]
        }
      ],
      "source": [
        "with torch.no_grad():\n",
        "    for batch_idx, data in enumerate(testloader):\n",
        "        optimizer.zero_grad()\n",
        "        data = data.to(device)\n",
        "        recon_batch, mu, logvar = model(data)\n",
        "        break"
      ]
    },
    {
      "cell_type": "code",
      "execution_count": null,
      "metadata": {
        "colab": {
          "base_uri": "https://localhost:8080/",
          "height": 669
        },
        "id": "o-l_00KswzMn",
        "outputId": "b1e82728-8f45-4b89-8738-1500cee38319"
      },
      "outputs": [
        {
          "data": {
            "text/html": [
              "\n",
              "  <div id=\"df-98a79bf6-2d4e-4c56-9b1b-7e61eed0f585\">\n",
              "    <div class=\"colab-df-container\">\n",
              "      <div>\n",
              "<style scoped>\n",
              "    .dataframe tbody tr th:only-of-type {\n",
              "        vertical-align: middle;\n",
              "    }\n",
              "\n",
              "    .dataframe tbody tr th {\n",
              "        vertical-align: top;\n",
              "    }\n",
              "\n",
              "    .dataframe thead th {\n",
              "        text-align: right;\n",
              "    }\n",
              "</style>\n",
              "<table border=\"1\" class=\"dataframe\">\n",
              "  <thead>\n",
              "    <tr style=\"text-align: right;\">\n",
              "      <th></th>\n",
              "      <th>amount</th>\n",
              "      <th>unit</th>\n",
              "      <th>ingredient</th>\n",
              "    </tr>\n",
              "  </thead>\n",
              "  <tbody>\n",
              "    <tr>\n",
              "      <th>0</th>\n",
              "      <td>0.046789646</td>\n",
              "      <td>teaspoon</td>\n",
              "      <td>flour</td>\n",
              "    </tr>\n",
              "    <tr>\n",
              "      <th>1</th>\n",
              "      <td>0.007748604</td>\n",
              "      <td>teaspoon</td>\n",
              "      <td>sugar</td>\n",
              "    </tr>\n",
              "    <tr>\n",
              "      <th>2</th>\n",
              "      <td>1.7422438</td>\n",
              "      <td>teaspoon</td>\n",
              "      <td>baking_powder</td>\n",
              "    </tr>\n",
              "    <tr>\n",
              "      <th>3</th>\n",
              "      <td>0.06824732</td>\n",
              "      <td>centimetre</td>\n",
              "      <td>&lt;/s&gt;</td>\n",
              "    </tr>\n",
              "    <tr>\n",
              "      <th>4</th>\n",
              "      <td>0.06556511</td>\n",
              "      <td>centimetre</td>\n",
              "      <td>eggs</td>\n",
              "    </tr>\n",
              "    <tr>\n",
              "      <th>5</th>\n",
              "      <td>0.068843365</td>\n",
              "      <td>centimetre</td>\n",
              "      <td>flour</td>\n",
              "    </tr>\n",
              "    <tr>\n",
              "      <th>6</th>\n",
              "      <td>0.08434057</td>\n",
              "      <td>centimetre</td>\n",
              "      <td>flour</td>\n",
              "    </tr>\n",
              "    <tr>\n",
              "      <th>7</th>\n",
              "      <td>0.97095966</td>\n",
              "      <td>tablespoon</td>\n",
              "      <td>baking_soda</td>\n",
              "    </tr>\n",
              "    <tr>\n",
              "      <th>8</th>\n",
              "      <td>0.035762787</td>\n",
              "      <td>tablespoon</td>\n",
              "      <td>salt</td>\n",
              "    </tr>\n",
              "    <tr>\n",
              "      <th>9</th>\n",
              "      <td>0.0834465</td>\n",
              "      <td>teaspoon</td>\n",
              "      <td>salt</td>\n",
              "    </tr>\n",
              "    <tr>\n",
              "      <th>10</th>\n",
              "      <td>0.19669533</td>\n",
              "      <td>teaspoon</td>\n",
              "      <td>&lt;/s&gt;</td>\n",
              "    </tr>\n",
              "    <tr>\n",
              "      <th>11</th>\n",
              "      <td>0.1963973</td>\n",
              "      <td>teaspoon</td>\n",
              "      <td>&lt;/s&gt;</td>\n",
              "    </tr>\n",
              "    <tr>\n",
              "      <th>12</th>\n",
              "      <td>0.15705824</td>\n",
              "      <td>teaspoon</td>\n",
              "      <td>crockpot</td>\n",
              "    </tr>\n",
              "    <tr>\n",
              "      <th>13</th>\n",
              "      <td>4.890561</td>\n",
              "      <td>teaspoon</td>\n",
              "      <td>buttered</td>\n",
              "    </tr>\n",
              "    <tr>\n",
              "      <th>14</th>\n",
              "      <td>3.1384826</td>\n",
              "      <td>teaspoon</td>\n",
              "      <td></td>\n",
              "    </tr>\n",
              "    <tr>\n",
              "      <th>15</th>\n",
              "      <td>0.1180172</td>\n",
              "      <td>teaspoon</td>\n",
              "      <td></td>\n",
              "    </tr>\n",
              "    <tr>\n",
              "      <th>16</th>\n",
              "      <td>0.09149313</td>\n",
              "      <td>teaspoon</td>\n",
              "      <td></td>\n",
              "    </tr>\n",
              "    <tr>\n",
              "      <th>17</th>\n",
              "      <td>0.14603138</td>\n",
              "      <td>teaspoon</td>\n",
              "      <td></td>\n",
              "    </tr>\n",
              "    <tr>\n",
              "      <th>18</th>\n",
              "      <td>0.07003546</td>\n",
              "      <td>tablespoon</td>\n",
              "      <td></td>\n",
              "    </tr>\n",
              "    <tr>\n",
              "      <th>19</th>\n",
              "      <td>0.15228987</td>\n",
              "      <td>teaspoon</td>\n",
              "      <td></td>\n",
              "    </tr>\n",
              "  </tbody>\n",
              "</table>\n",
              "</div>\n",
              "      <button class=\"colab-df-convert\" onclick=\"convertToInteractive('df-98a79bf6-2d4e-4c56-9b1b-7e61eed0f585')\"\n",
              "              title=\"Convert this dataframe to an interactive table.\"\n",
              "              style=\"display:none;\">\n",
              "        \n",
              "  <svg xmlns=\"http://www.w3.org/2000/svg\" height=\"24px\"viewBox=\"0 0 24 24\"\n",
              "       width=\"24px\">\n",
              "    <path d=\"M0 0h24v24H0V0z\" fill=\"none\"/>\n",
              "    <path d=\"M18.56 5.44l.94 2.06.94-2.06 2.06-.94-2.06-.94-.94-2.06-.94 2.06-2.06.94zm-11 1L8.5 8.5l.94-2.06 2.06-.94-2.06-.94L8.5 2.5l-.94 2.06-2.06.94zm10 10l.94 2.06.94-2.06 2.06-.94-2.06-.94-.94-2.06-.94 2.06-2.06.94z\"/><path d=\"M17.41 7.96l-1.37-1.37c-.4-.4-.92-.59-1.43-.59-.52 0-1.04.2-1.43.59L10.3 9.45l-7.72 7.72c-.78.78-.78 2.05 0 2.83L4 21.41c.39.39.9.59 1.41.59.51 0 1.02-.2 1.41-.59l7.78-7.78 2.81-2.81c.8-.78.8-2.07 0-2.86zM5.41 20L4 18.59l7.72-7.72 1.47 1.35L5.41 20z\"/>\n",
              "  </svg>\n",
              "      </button>\n",
              "      \n",
              "  <style>\n",
              "    .colab-df-container {\n",
              "      display:flex;\n",
              "      flex-wrap:wrap;\n",
              "      gap: 12px;\n",
              "    }\n",
              "\n",
              "    .colab-df-convert {\n",
              "      background-color: #E8F0FE;\n",
              "      border: none;\n",
              "      border-radius: 50%;\n",
              "      cursor: pointer;\n",
              "      display: none;\n",
              "      fill: #1967D2;\n",
              "      height: 32px;\n",
              "      padding: 0 0 0 0;\n",
              "      width: 32px;\n",
              "    }\n",
              "\n",
              "    .colab-df-convert:hover {\n",
              "      background-color: #E2EBFA;\n",
              "      box-shadow: 0px 1px 2px rgba(60, 64, 67, 0.3), 0px 1px 3px 1px rgba(60, 64, 67, 0.15);\n",
              "      fill: #174EA6;\n",
              "    }\n",
              "\n",
              "    [theme=dark] .colab-df-convert {\n",
              "      background-color: #3B4455;\n",
              "      fill: #D2E3FC;\n",
              "    }\n",
              "\n",
              "    [theme=dark] .colab-df-convert:hover {\n",
              "      background-color: #434B5C;\n",
              "      box-shadow: 0px 1px 3px 1px rgba(0, 0, 0, 0.15);\n",
              "      filter: drop-shadow(0px 1px 2px rgba(0, 0, 0, 0.3));\n",
              "      fill: #FFFFFF;\n",
              "    }\n",
              "  </style>\n",
              "\n",
              "      <script>\n",
              "        const buttonEl =\n",
              "          document.querySelector('#df-98a79bf6-2d4e-4c56-9b1b-7e61eed0f585 button.colab-df-convert');\n",
              "        buttonEl.style.display =\n",
              "          google.colab.kernel.accessAllowed ? 'block' : 'none';\n",
              "\n",
              "        async function convertToInteractive(key) {\n",
              "          const element = document.querySelector('#df-98a79bf6-2d4e-4c56-9b1b-7e61eed0f585');\n",
              "          const dataTable =\n",
              "            await google.colab.kernel.invokeFunction('convertToInteractive',\n",
              "                                                     [key], {});\n",
              "          if (!dataTable) return;\n",
              "\n",
              "          const docLinkHtml = 'Like what you see? Visit the ' +\n",
              "            '<a target=\"_blank\" href=https://colab.research.google.com/notebooks/data_table.ipynb>data table notebook</a>'\n",
              "            + ' to learn more about interactive tables.';\n",
              "          element.innerHTML = '';\n",
              "          dataTable['output_type'] = 'display_data';\n",
              "          await google.colab.output.renderOutput(dataTable, element);\n",
              "          const docLink = document.createElement('div');\n",
              "          docLink.innerHTML = docLinkHtml;\n",
              "          element.appendChild(docLink);\n",
              "        }\n",
              "      </script>\n",
              "    </div>\n",
              "  </div>\n",
              "  "
            ],
            "text/plain": [
              "         amount        unit     ingredient\n",
              "0   0.046789646    teaspoon          flour\n",
              "1   0.007748604    teaspoon          sugar\n",
              "2     1.7422438    teaspoon  baking_powder\n",
              "3    0.06824732  centimetre           </s>\n",
              "4    0.06556511  centimetre           eggs\n",
              "5   0.068843365  centimetre          flour\n",
              "6    0.08434057  centimetre          flour\n",
              "7    0.97095966  tablespoon    baking_soda\n",
              "8   0.035762787  tablespoon           salt\n",
              "9     0.0834465    teaspoon           salt\n",
              "10   0.19669533    teaspoon           </s>\n",
              "11    0.1963973    teaspoon           </s>\n",
              "12   0.15705824    teaspoon       crockpot\n",
              "13     4.890561    teaspoon       buttered\n",
              "14    3.1384826    teaspoon               \n",
              "15    0.1180172    teaspoon               \n",
              "16   0.09149313    teaspoon               \n",
              "17   0.14603138    teaspoon               \n",
              "18   0.07003546  tablespoon               \n",
              "19   0.15228987    teaspoon               "
            ]
          },
          "execution_count": 17,
          "metadata": {},
          "output_type": "execute_result"
        }
      ],
      "source": [
        "sigma = torch.exp(logvar/2)\n",
        "# sample z from q\n",
        "no_samples = 20\n",
        "q = torch.distributions.Normal(mu.mean(axis=0), sigma.mean(axis=0))\n",
        "z = q.rsample(sample_shape=torch.Size([no_samples]))\n",
        "\n",
        "with torch.no_grad():\n",
        "    pred = model.decode(z).cpu().numpy()\n",
        "\n",
        "df = preprocessor.decodeOutput(pred)\n",
        "df[0]"
      ]
    },
    {
      "cell_type": "code",
      "execution_count": 12,
      "metadata": {
        "id": "4T4OrGK5ZwqS"
      },
      "outputs": [],
      "source": [
        "with torch.no_grad():\n",
        "    for batch_idx, data in enumerate(testloader):\n",
        "        optimizer.zero_grad()\n",
        "        conditional = testloader.dataset.preProcessor.getConditional(data).to(device)\n",
        "        data = data.to(device)\n",
        "        recon_batch, mu, logvar = model(data, conditional)\n",
        "        break"
      ]
    },
    {
      "cell_type": "code",
      "execution_count": 47,
      "metadata": {
        "id": "FmzuQbHtZwqT",
        "outputId": "17abc82b-48d8-495c-c2b1-ceef8dd74a22",
        "colab": {
          "base_uri": "https://localhost:8080/",
          "height": 669
        }
      },
      "outputs": [
        {
          "output_type": "execute_result",
          "data": {
            "text/plain": [
              "         amount         unit ingredient\n",
              "0     30.009747                 MINUTES\n",
              "1     13.296604                   empty\n",
              "2      8.279383                properly\n",
              "3      8.434951                        \n",
              "4     7.9140067                        \n",
              "5      7.841885        ounce           \n",
              "6     1.0409951         gram           \n",
              "7      5.173981       gallon           \n",
              "8     1.0210276                        \n",
              "9    0.89615583          cup           \n",
              "10    0.5850196                        \n",
              "11   0.33676624          cup           \n",
              "12   0.24288893          cup           \n",
              "13   0.35256147          cup           \n",
              "14   0.20831823   centimetre           \n",
              "15   0.72032213  fluid ounce           \n",
              "16  0.103116035   centimetre           \n",
              "17   0.32275915  fluid ounce           \n",
              "18  0.077188015         pint           \n",
              "19    0.2515316        quart           "
            ],
            "text/html": [
              "\n",
              "  <div id=\"df-7c2e0a7b-a1f9-4295-bb5f-526a1a4ea059\">\n",
              "    <div class=\"colab-df-container\">\n",
              "      <div>\n",
              "<style scoped>\n",
              "    .dataframe tbody tr th:only-of-type {\n",
              "        vertical-align: middle;\n",
              "    }\n",
              "\n",
              "    .dataframe tbody tr th {\n",
              "        vertical-align: top;\n",
              "    }\n",
              "\n",
              "    .dataframe thead th {\n",
              "        text-align: right;\n",
              "    }\n",
              "</style>\n",
              "<table border=\"1\" class=\"dataframe\">\n",
              "  <thead>\n",
              "    <tr style=\"text-align: right;\">\n",
              "      <th></th>\n",
              "      <th>amount</th>\n",
              "      <th>unit</th>\n",
              "      <th>ingredient</th>\n",
              "    </tr>\n",
              "  </thead>\n",
              "  <tbody>\n",
              "    <tr>\n",
              "      <th>0</th>\n",
              "      <td>30.009747</td>\n",
              "      <td></td>\n",
              "      <td>MINUTES</td>\n",
              "    </tr>\n",
              "    <tr>\n",
              "      <th>1</th>\n",
              "      <td>13.296604</td>\n",
              "      <td></td>\n",
              "      <td>empty</td>\n",
              "    </tr>\n",
              "    <tr>\n",
              "      <th>2</th>\n",
              "      <td>8.279383</td>\n",
              "      <td></td>\n",
              "      <td>properly</td>\n",
              "    </tr>\n",
              "    <tr>\n",
              "      <th>3</th>\n",
              "      <td>8.434951</td>\n",
              "      <td></td>\n",
              "      <td></td>\n",
              "    </tr>\n",
              "    <tr>\n",
              "      <th>4</th>\n",
              "      <td>7.9140067</td>\n",
              "      <td></td>\n",
              "      <td></td>\n",
              "    </tr>\n",
              "    <tr>\n",
              "      <th>5</th>\n",
              "      <td>7.841885</td>\n",
              "      <td>ounce</td>\n",
              "      <td></td>\n",
              "    </tr>\n",
              "    <tr>\n",
              "      <th>6</th>\n",
              "      <td>1.0409951</td>\n",
              "      <td>gram</td>\n",
              "      <td></td>\n",
              "    </tr>\n",
              "    <tr>\n",
              "      <th>7</th>\n",
              "      <td>5.173981</td>\n",
              "      <td>gallon</td>\n",
              "      <td></td>\n",
              "    </tr>\n",
              "    <tr>\n",
              "      <th>8</th>\n",
              "      <td>1.0210276</td>\n",
              "      <td></td>\n",
              "      <td></td>\n",
              "    </tr>\n",
              "    <tr>\n",
              "      <th>9</th>\n",
              "      <td>0.89615583</td>\n",
              "      <td>cup</td>\n",
              "      <td></td>\n",
              "    </tr>\n",
              "    <tr>\n",
              "      <th>10</th>\n",
              "      <td>0.5850196</td>\n",
              "      <td></td>\n",
              "      <td></td>\n",
              "    </tr>\n",
              "    <tr>\n",
              "      <th>11</th>\n",
              "      <td>0.33676624</td>\n",
              "      <td>cup</td>\n",
              "      <td></td>\n",
              "    </tr>\n",
              "    <tr>\n",
              "      <th>12</th>\n",
              "      <td>0.24288893</td>\n",
              "      <td>cup</td>\n",
              "      <td></td>\n",
              "    </tr>\n",
              "    <tr>\n",
              "      <th>13</th>\n",
              "      <td>0.35256147</td>\n",
              "      <td>cup</td>\n",
              "      <td></td>\n",
              "    </tr>\n",
              "    <tr>\n",
              "      <th>14</th>\n",
              "      <td>0.20831823</td>\n",
              "      <td>centimetre</td>\n",
              "      <td></td>\n",
              "    </tr>\n",
              "    <tr>\n",
              "      <th>15</th>\n",
              "      <td>0.72032213</td>\n",
              "      <td>fluid ounce</td>\n",
              "      <td></td>\n",
              "    </tr>\n",
              "    <tr>\n",
              "      <th>16</th>\n",
              "      <td>0.103116035</td>\n",
              "      <td>centimetre</td>\n",
              "      <td></td>\n",
              "    </tr>\n",
              "    <tr>\n",
              "      <th>17</th>\n",
              "      <td>0.32275915</td>\n",
              "      <td>fluid ounce</td>\n",
              "      <td></td>\n",
              "    </tr>\n",
              "    <tr>\n",
              "      <th>18</th>\n",
              "      <td>0.077188015</td>\n",
              "      <td>pint</td>\n",
              "      <td></td>\n",
              "    </tr>\n",
              "    <tr>\n",
              "      <th>19</th>\n",
              "      <td>0.2515316</td>\n",
              "      <td>quart</td>\n",
              "      <td></td>\n",
              "    </tr>\n",
              "  </tbody>\n",
              "</table>\n",
              "</div>\n",
              "      <button class=\"colab-df-convert\" onclick=\"convertToInteractive('df-7c2e0a7b-a1f9-4295-bb5f-526a1a4ea059')\"\n",
              "              title=\"Convert this dataframe to an interactive table.\"\n",
              "              style=\"display:none;\">\n",
              "        \n",
              "  <svg xmlns=\"http://www.w3.org/2000/svg\" height=\"24px\"viewBox=\"0 0 24 24\"\n",
              "       width=\"24px\">\n",
              "    <path d=\"M0 0h24v24H0V0z\" fill=\"none\"/>\n",
              "    <path d=\"M18.56 5.44l.94 2.06.94-2.06 2.06-.94-2.06-.94-.94-2.06-.94 2.06-2.06.94zm-11 1L8.5 8.5l.94-2.06 2.06-.94-2.06-.94L8.5 2.5l-.94 2.06-2.06.94zm10 10l.94 2.06.94-2.06 2.06-.94-2.06-.94-.94-2.06-.94 2.06-2.06.94z\"/><path d=\"M17.41 7.96l-1.37-1.37c-.4-.4-.92-.59-1.43-.59-.52 0-1.04.2-1.43.59L10.3 9.45l-7.72 7.72c-.78.78-.78 2.05 0 2.83L4 21.41c.39.39.9.59 1.41.59.51 0 1.02-.2 1.41-.59l7.78-7.78 2.81-2.81c.8-.78.8-2.07 0-2.86zM5.41 20L4 18.59l7.72-7.72 1.47 1.35L5.41 20z\"/>\n",
              "  </svg>\n",
              "      </button>\n",
              "      \n",
              "  <style>\n",
              "    .colab-df-container {\n",
              "      display:flex;\n",
              "      flex-wrap:wrap;\n",
              "      gap: 12px;\n",
              "    }\n",
              "\n",
              "    .colab-df-convert {\n",
              "      background-color: #E8F0FE;\n",
              "      border: none;\n",
              "      border-radius: 50%;\n",
              "      cursor: pointer;\n",
              "      display: none;\n",
              "      fill: #1967D2;\n",
              "      height: 32px;\n",
              "      padding: 0 0 0 0;\n",
              "      width: 32px;\n",
              "    }\n",
              "\n",
              "    .colab-df-convert:hover {\n",
              "      background-color: #E2EBFA;\n",
              "      box-shadow: 0px 1px 2px rgba(60, 64, 67, 0.3), 0px 1px 3px 1px rgba(60, 64, 67, 0.15);\n",
              "      fill: #174EA6;\n",
              "    }\n",
              "\n",
              "    [theme=dark] .colab-df-convert {\n",
              "      background-color: #3B4455;\n",
              "      fill: #D2E3FC;\n",
              "    }\n",
              "\n",
              "    [theme=dark] .colab-df-convert:hover {\n",
              "      background-color: #434B5C;\n",
              "      box-shadow: 0px 1px 3px 1px rgba(0, 0, 0, 0.15);\n",
              "      filter: drop-shadow(0px 1px 2px rgba(0, 0, 0, 0.3));\n",
              "      fill: #FFFFFF;\n",
              "    }\n",
              "  </style>\n",
              "\n",
              "      <script>\n",
              "        const buttonEl =\n",
              "          document.querySelector('#df-7c2e0a7b-a1f9-4295-bb5f-526a1a4ea059 button.colab-df-convert');\n",
              "        buttonEl.style.display =\n",
              "          google.colab.kernel.accessAllowed ? 'block' : 'none';\n",
              "\n",
              "        async function convertToInteractive(key) {\n",
              "          const element = document.querySelector('#df-7c2e0a7b-a1f9-4295-bb5f-526a1a4ea059');\n",
              "          const dataTable =\n",
              "            await google.colab.kernel.invokeFunction('convertToInteractive',\n",
              "                                                     [key], {});\n",
              "          if (!dataTable) return;\n",
              "\n",
              "          const docLinkHtml = 'Like what you see? Visit the ' +\n",
              "            '<a target=\"_blank\" href=https://colab.research.google.com/notebooks/data_table.ipynb>data table notebook</a>'\n",
              "            + ' to learn more about interactive tables.';\n",
              "          element.innerHTML = '';\n",
              "          dataTable['output_type'] = 'display_data';\n",
              "          await google.colab.output.renderOutput(dataTable, element);\n",
              "          const docLink = document.createElement('div');\n",
              "          docLink.innerHTML = docLinkHtml;\n",
              "          element.appendChild(docLink);\n",
              "        }\n",
              "      </script>\n",
              "    </div>\n",
              "  </div>\n",
              "  "
            ]
          },
          "metadata": {},
          "execution_count": 47
        }
      ],
      "source": [
        "sigma = torch.exp(logvar/2)\n",
        "# sample z from q\n",
        "no_samples = 2\n",
        "q = torch.distributions.Normal(mu.mean(axis=0), sigma.mean(axis=0))\n",
        "z = q.rsample(sample_shape=torch.Size([no_samples]))\n",
        "\n",
        "ingredient_cond = 'flour'\n",
        "\n",
        "ingredient_cond_words = ingredient_cond.lower().split(\" \")\n",
        "for i in range(len(ingredient_cond_words)):\n",
        "    name_ind = preprocessor.ingredientDict.get(\"_\".join(ingredient_cond_words[i:]))\n",
        "    if name_ind:\n",
        "        ingredient_cond_int = name_ind\n",
        "        break\n",
        "ingredient_cond_emb = preprocessor.emb(torch.LongTensor([ingredient_cond_int]*no_samples)).to(device)\n",
        "\n",
        "with torch.no_grad():\n",
        "    pred = model.decode(z, ingredient_cond_emb).cpu().numpy()\n",
        "\n",
        "df = preprocessor.decodeOutput(pred)\n",
        "df[0]"
      ]
    },
    {
      "cell_type": "code",
      "execution_count": 22,
      "metadata": {
        "id": "SS2INc3gZwqT"
      },
      "outputs": [],
      "source": [
        ""
      ]
    }
  ],
  "metadata": {
    "accelerator": "GPU",
    "colab": {
      "machine_shape": "hm",
      "name": "cvae.ipynb",
      "provenance": [],
      "include_colab_link": true
    },
    "interpreter": {
      "hash": "bb875f4a3a3b27879a30076b84fa05114b199e04f8f3aeee4f2ba73a2af38a98"
    },
    "kernelspec": {
      "display_name": "Python 3.6.9 64-bit ('recime': conda)",
      "language": "python",
      "name": "python3"
    },
    "language_info": {
      "codemirror_mode": {
        "name": "ipython",
        "version": 3
      },
      "file_extension": ".py",
      "mimetype": "text/x-python",
      "name": "python",
      "nbconvert_exporter": "python",
      "pygments_lexer": "ipython3",
      "version": "3.7.11"
    },
    "orig_nbformat": 4
  },
  "nbformat": 4,
  "nbformat_minor": 0
}