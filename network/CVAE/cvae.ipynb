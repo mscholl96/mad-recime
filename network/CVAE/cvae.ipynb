{
  "cells": [
    {
      "cell_type": "markdown",
      "metadata": {
        "colab_type": "text",
        "id": "view-in-github"
      },
      "source": [
        "<a href=\"https://colab.research.google.com/github/mscholl96/mad-recime/blob/network_CVAE/network/CVAE/cvae.ipynb\" target=\"_parent\"><img src=\"https://colab.research.google.com/assets/colab-badge.svg\" alt=\"Open In Colab\"/></a>"
      ]
    },
    {
      "cell_type": "markdown",
      "metadata": {
        "id": "zapniU98wzMW"
      },
      "source": [
        "# Conditional variational autoencoder\n",
        "Variational autoencoder for tabular data, oriented upon: https://lschmiddey.github.io/fastpages_/2021/03/14/tabular-data-variational-autoencoder.html \n",
        "\n",
        "Adopted with one hot encoding for tabular data\n",
        "## Load Json Database of recipes"
      ]
    },
    {
      "cell_type": "code",
      "execution_count": 1,
      "metadata": {
        "colab": {
          "base_uri": "https://localhost:8080/"
        },
        "id": "2zTkqc12wzMc",
        "outputId": "36816fdc-9976-4280-f6fc-d2e5783b1894"
      },
      "outputs": [
        {
          "name": "stdout",
          "output_type": "stream",
          "text": [
            "Drive already mounted at /content/drive; to attempt to forcibly remount, call drive.mount(\"/content/drive\", force_remount=True).\n"
          ]
        }
      ],
      "source": [
        "from google.colab import drive\n",
        "drive.mount('/content/drive')\n",
        "import sys\n",
        "sys.path.append(dataPath)"
      ]
    },
    {
      "cell_type": "code",
      "execution_count": null,
      "metadata": {},
      "outputs": [],
      "source": [
        "dataPath = '/content/drive/MyDrive/TP2/Datasets/Recipe1M/2022_02_11/recipes_valid_0.pkl'\n",
        "embeddingPath = '/content/drive/MyDrive/TP2/Datasets/Recipe1M/vocab.bin'"
      ]
    },
    {
      "cell_type": "code",
      "execution_count": 3,
      "metadata": {
        "id": "_e61O0YAwzMd"
      },
      "outputs": [],
      "source": [
        "dataPath = 'data/recipes_valid_0.pkl'\n",
        "embeddingPath = 'data/vocab.bin'"
      ]
    },
    {
      "cell_type": "code",
      "execution_count": 4,
      "metadata": {
        "colab": {
          "base_uri": "https://localhost:8080/"
        },
        "id": "FkkejbegwzMd",
        "outputId": "181c1551-cb15-4e17-d488-c72994a2294f"
      },
      "outputs": [
        {
          "name": "stdout",
          "output_type": "stream",
          "text": [
            "Index(['title', 'ingredients', 'instructions'], dtype='object')\n",
            "100000\n"
          ]
        }
      ],
      "source": [
        "import pickle\n",
        "import pandas as pd\n",
        "\n",
        "with open(dataPath, 'rb') as f:\n",
        "    pklData = pd.DataFrame(pickle.load(f))\n",
        "\n",
        "print(pklData.keys())\n",
        "print(len(pklData))"
      ]
    },
    {
      "cell_type": "markdown",
      "metadata": {
        "id": "3woTtbf9wzMe"
      },
      "source": [
        "## Convert list of ingredients to pandas dataframe and one hot encode the dataframe."
      ]
    },
    {
      "cell_type": "code",
      "execution_count": 3,
      "metadata": {
        "colab": {
          "base_uri": "https://localhost:8080/"
        },
        "id": "A7kjo-mMGYBU",
        "outputId": "d2672c37-3e25-4f44-e0c0-68ed7b1d90bf"
      },
      "outputs": [
        {
          "name": "stdout",
          "output_type": "stream",
          "text": [
            "Collecting word2vec\n",
            "  Downloading word2vec-0.11.1.tar.gz (42 kB)\n",
            "\u001b[?25l\r\u001b[K     |███████▊                        | 10 kB 22.1 MB/s eta 0:00:01\r\u001b[K     |███████████████▌                | 20 kB 28.5 MB/s eta 0:00:01\r\u001b[K     |███████████████████████▎        | 30 kB 19.8 MB/s eta 0:00:01\r\u001b[K     |███████████████████████████████ | 40 kB 16.4 MB/s eta 0:00:01\r\u001b[K     |████████████████████████████████| 42 kB 795 kB/s \n",
            "\u001b[?25h  Installing build dependencies ... \u001b[?25l\u001b[?25hdone\n",
            "  Getting requirements to build wheel ... \u001b[?25l\u001b[?25hdone\n",
            "    Preparing wheel metadata ... \u001b[?25l\u001b[?25hdone\n",
            "Requirement already satisfied: joblib in /usr/local/lib/python3.7/dist-packages (from word2vec) (1.1.0)\n",
            "Requirement already satisfied: numpy>=1.9.2 in /usr/local/lib/python3.7/dist-packages (from word2vec) (1.21.5)\n",
            "Building wheels for collected packages: word2vec\n",
            "  Building wheel for word2vec (PEP 517) ... \u001b[?25l\u001b[?25hdone\n",
            "  Created wheel for word2vec: filename=word2vec-0.11.1-py2.py3-none-any.whl size=156420 sha256=3591c5f1338e1124c0fe16fa803900036c78cf7e01775c3967817f5703020e3b\n",
            "  Stored in directory: /root/.cache/pip/wheels/c9/c0/d4/29d797817e268124a32b6cf8beb8b8fe87b86f099d5a049e61\n",
            "Successfully built word2vec\n",
            "Installing collected packages: word2vec\n",
            "Successfully installed word2vec-0.11.1\n"
          ]
        }
      ],
      "source": [
        "!pip install word2vec"
      ]
    },
    {
      "cell_type": "code",
      "execution_count": 5,
      "metadata": {
        "id": "d1HzhTL5EUPd"
      },
      "outputs": [],
      "source": [
        "from src.ReciMePreprocessor import ReciMePreprocessor\n",
        "\n",
        "preprocessor = ReciMePreprocessor(embeddingPath)\n",
        "pklData = pklData[:2000]\n",
        "processedInput = preprocessor.preProcessInput(pklData['ingredients'])"
      ]
    },
    {
      "cell_type": "markdown",
      "metadata": {
        "id": "CBKbgRf-wzMg"
      },
      "source": [
        "## VAE\n",
        "### Setup"
      ]
    },
    {
      "cell_type": "code",
      "execution_count": 6,
      "metadata": {
        "colab": {
          "base_uri": "https://localhost:8080/"
        },
        "id": "a5CjNvLnwzMg",
        "outputId": "5a8e09d8-a420-474d-8dc6-bd7c746d13f3"
      },
      "outputs": [
        {
          "name": "stdout",
          "output_type": "stream",
          "text": [
            "cpu\n"
          ]
        }
      ],
      "source": [
        "# Import pytorch dependencies\n",
        "import torch\n",
        "from torch import optim\n",
        "from torch.utils.data import DataLoader\n",
        "\n",
        "# Import additional libraries\n",
        "import pandas as pd\n",
        "import numpy as np\n",
        "from sklearn.model_selection import train_test_split\n",
        "\n",
        "# Import custom autoencoder\n",
        "from src.ReciMeEncoder import ReciMeEncoder\n",
        "from src.ReciMeEncoder_unstacked import ReciMeEncoder_unstacked\n",
        "\n",
        "# Import custom helper functions\n",
        "from src.networkUtils import CustomLoss\n",
        "\n",
        "device = torch.device('cuda' if torch.cuda.is_available() else 'cpu')\n",
        "print(device)"
      ]
    },
    {
      "cell_type": "markdown",
      "metadata": {
        "id": "DR6u1q3lwzMg"
      },
      "source": [
        "### Setup Datasets + Hyperparameters"
      ]
    },
    {
      "cell_type": "code",
      "execution_count": 7,
      "metadata": {
        "id": "yle-AZJ6wzMh"
      },
      "outputs": [],
      "source": [
        "# One hot encoding without embedding and using sparse frame\n",
        "train_data, test_data =  train_test_split(processedInput, test_size=0.3, random_state=42)\n",
        "batch_size = 512\n",
        "# Definition of batches\n",
        "trainloader=DataLoader(dataset=torch.FloatTensor(train_data),batch_size=batch_size)\n",
        "testloader=DataLoader(dataset=torch.FloatTensor(test_data),batch_size=batch_size)"
      ]
    },
    {
      "cell_type": "code",
      "execution_count": 8,
      "metadata": {},
      "outputs": [
        {
          "name": "stdout",
          "output_type": "stream",
          "text": [
            "tensor(1.)\n",
            "tensor(-1.)\n",
            "tensor(1.)\n",
            "tensor(-1.)\n",
            "tensor(1.)\n",
            "tensor(-1.)\n"
          ]
        }
      ],
      "source": [
        "for data in trainloader:\n",
        "    print(torch.max(data))\n",
        "    print(torch.min(data))"
      ]
    },
    {
      "cell_type": "code",
      "execution_count": 9,
      "metadata": {
        "colab": {
          "base_uri": "https://localhost:8080/"
        },
        "id": "oD_T2VYFwzMh",
        "outputId": "843e505e-637f-4b68-aa4f-4d1a9f1e0814"
      },
      "outputs": [
        {
          "name": "stdout",
          "output_type": "stream",
          "text": [
            "ReciMeEncoder(\n",
            "  (encoderStack): Sequential(\n",
            "    (0): _ReLUBatchNormLinear(\n",
            "      (layer): Sequential(\n",
            "        (0): Linear(in_features=6360, out_features=15000, bias=True)\n",
            "        (1): LeakyReLU(negative_slope=0.01)\n",
            "      )\n",
            "    )\n",
            "    (1): _ReLUBatchNormLinear(\n",
            "      (layer): Sequential(\n",
            "        (0): Linear(in_features=15000, out_features=10000, bias=True)\n",
            "        (1): LeakyReLU(negative_slope=0.01)\n",
            "      )\n",
            "    )\n",
            "    (2): _ReLUBatchNormLinear(\n",
            "      (layer): Sequential(\n",
            "        (0): Linear(in_features=10000, out_features=7000, bias=True)\n",
            "        (1): LeakyReLU(negative_slope=0.01)\n",
            "      )\n",
            "    )\n",
            "    (3): _ReLUBatchNormLinear(\n",
            "      (layer): Sequential(\n",
            "        (0): Linear(in_features=7000, out_features=4000, bias=True)\n",
            "        (1): LeakyReLU(negative_slope=0.01)\n",
            "      )\n",
            "    )\n",
            "    (4): _ReLUBatchNormLinear(\n",
            "      (layer): Sequential(\n",
            "        (0): Linear(in_features=4000, out_features=2500, bias=True)\n",
            "        (1): LeakyReLU(negative_slope=0.01)\n",
            "      )\n",
            "    )\n",
            "  )\n",
            "  (muStack): Linear(in_features=2500, out_features=2500, bias=True)\n",
            "  (logvarStack): Linear(in_features=2500, out_features=2500, bias=True)\n",
            "  (decoderStack): Sequential(\n",
            "    (0): _ReLUBatchNormLinear(\n",
            "      (layer): Sequential(\n",
            "        (0): Linear(in_features=2500, out_features=4000, bias=True)\n",
            "        (1): LeakyReLU(negative_slope=0.01)\n",
            "      )\n",
            "    )\n",
            "    (1): _ReLUBatchNormLinear(\n",
            "      (layer): Sequential(\n",
            "        (0): Linear(in_features=4000, out_features=7000, bias=True)\n",
            "        (1): LeakyReLU(negative_slope=0.01)\n",
            "      )\n",
            "    )\n",
            "    (2): _ReLUBatchNormLinear(\n",
            "      (layer): Sequential(\n",
            "        (0): Linear(in_features=7000, out_features=10000, bias=True)\n",
            "        (1): LeakyReLU(negative_slope=0.01)\n",
            "      )\n",
            "    )\n",
            "    (3): _ReLUBatchNormLinear(\n",
            "      (layer): Sequential(\n",
            "        (0): Linear(in_features=10000, out_features=15000, bias=True)\n",
            "        (1): LeakyReLU(negative_slope=0.01)\n",
            "      )\n",
            "    )\n",
            "    (4): _ReLUBatchNormLinear(\n",
            "      (layer): Sequential(\n",
            "        (0): Linear(in_features=15000, out_features=6360, bias=True)\n",
            "      )\n",
            "    )\n",
            "  )\n",
            ")\n"
          ]
        }
      ],
      "source": [
        "paramList = [train_data.shape[1], 15000, 10000, 7000, 4000, 2500]\n",
        "\n",
        "model = ReciMeEncoder(paramList, useBatchNorm=False, actFunc=torch.nn.LeakyReLU(), outFunc=None).to(device)\n",
        "print(model)\n",
        "optimizer = optim.Adam(model.parameters(), lr=1e-3)\n",
        "loss_mse = CustomLoss()"
      ]
    },
    {
      "cell_type": "markdown",
      "metadata": {
        "id": "CH1FyiqXwzMi"
      },
      "source": [
        "### Train Model"
      ]
    },
    {
      "cell_type": "code",
      "execution_count": 8,
      "metadata": {
        "id": "zkHZycy2wzMi"
      },
      "outputs": [],
      "source": [
        "epochs = 20\n",
        "log_interval = 5\n",
        "val_losses = []\n",
        "train_losses = []\n",
        "train_losses_MSE = []\n",
        "train_losses_KLD = []\n",
        "test_losses = []"
      ]
    },
    {
      "cell_type": "code",
      "execution_count": 12,
      "metadata": {
        "id": "_Nw6yXRbws6-"
      },
      "outputs": [],
      "source": [
        "def train_otherloss(epoch):\n",
        "    model.train()\n",
        "    for batch_idx, data in enumerate(trainloader):\n",
        "        data = data.to(device)\n",
        "        optimizer.zero_grad()\n",
        "        recon_batch, mu, logvar = model(data)\n",
        "        loss_MSE, loss_KLD, loss = loss_mse(recon_batch, data, mu, logvar)\n",
        "        loss.backward()\n",
        "        loss_itm = loss.item()\n",
        "        train_loss = loss_itm\n",
        "        train_loss_MSE = loss_MSE.item()\n",
        "        train_loss_KLD = loss_KLD.item()\n",
        "        train_losses.append(train_loss)\n",
        "        train_losses_MSE.append(train_loss_MSE)\n",
        "        train_losses_KLD.append(train_loss_KLD)\n",
        "        optimizer.step()\n",
        "    if epoch % log_interval == 0:        \n",
        "        print('====> Epoch: {} Average training loss: {:.5f}, MSE: {:.5f}, KLD: {:.5f}'.format(\n",
        "            epoch, train_loss, \n",
        "            train_loss_MSE , \n",
        "            train_loss_KLD))"
      ]
    },
    {
      "cell_type": "code",
      "execution_count": 13,
      "metadata": {
        "id": "2ROmciOcws6_"
      },
      "outputs": [],
      "source": [
        "def test_otherloss(epoch):\n",
        "    with torch.no_grad():\n",
        "        for batch_idx, data in enumerate(testloader):\n",
        "            data = data.to(device)\n",
        "            optimizer.zero_grad()\n",
        "            recon_batch, mu, logvar = model(data)\n",
        "            loss_MSE, loss_KLD, loss = loss_mse(recon_batch, data, mu, logvar)\n",
        "            loss_itm = loss.item()\n",
        "            test_loss = loss_itm\n",
        "            test_loss_MSE = loss_MSE\n",
        "            test_loss_KLD = loss_KLD\n",
        "            test_losses.append(test_loss)\n",
        "        if epoch % log_interval == 0:        \n",
        "            print('====> Epoch: {} Average test loss: {:.4f}, MSE: {:.4f}, KLD: {:.4f}'.format(\n",
        "                epoch, test_loss, \n",
        "                test_loss_MSE, \n",
        "                test_loss_KLD))"
      ]
    },
    {
      "cell_type": "code",
      "execution_count": 9,
      "metadata": {
        "id": "dyZzQCtwwzMj"
      },
      "outputs": [],
      "source": [
        "def train(epoch):\n",
        "    model.train()\n",
        "    train_loss = 0\n",
        "    train_loss_MSE = 0\n",
        "    train_loss_KLD = 0\n",
        "    for batch_idx, data in enumerate(trainloader):\n",
        "        data = data.to(device)\n",
        "        optimizer.zero_grad()\n",
        "        recon_batch, mu, logvar = model(data)\n",
        "        loss_MSE, loss_KLD, loss = loss_mse(recon_batch, data, mu, logvar)\n",
        "        loss.backward()\n",
        "        loss_itm = loss.item()\n",
        "        train_loss += loss_itm\n",
        "        train_loss_MSE += loss_MSE.item()\n",
        "        train_loss_KLD += loss_KLD.item()\n",
        "        optimizer.step()\n",
        "    if epoch % log_interval == 0:        \n",
        "        print('====> Epoch: {} Average training loss: {:.5f}, MSE: {:.5f}, KLD: {:.5f}'.format(\n",
        "            epoch, train_loss / len(trainloader.dataset), \n",
        "            train_loss_MSE / len(trainloader.dataset), \n",
        "            train_loss_KLD / len(trainloader.dataset)))\n",
        "        train_losses.append(train_loss / len(trainloader.dataset))\n",
        "        train_losses_MSE.append(train_loss_MSE / len(trainloader.dataset))\n",
        "        train_losses_KLD.append(train_loss_KLD / len(trainloader.dataset))\n"
      ]
    },
    {
      "cell_type": "code",
      "execution_count": 10,
      "metadata": {
        "id": "NtNNh601wzMj"
      },
      "outputs": [],
      "source": [
        "def test(epoch):\n",
        "    with torch.no_grad():\n",
        "        test_loss = 0\n",
        "        test_loss_MSE = 0\n",
        "        test_loss_KLD = 0\n",
        "        for batch_idx, data in enumerate(testloader):\n",
        "            data = data.to(device)\n",
        "            optimizer.zero_grad()\n",
        "            recon_batch, mu, logvar = model(data)\n",
        "            loss_MSE, loss_KLD, loss = loss_mse(recon_batch, data, mu, logvar)\n",
        "            loss_itm = loss.item()\n",
        "            test_loss += loss_itm\n",
        "            test_loss_MSE += loss_MSE.item()\n",
        "            test_loss_KLD += loss_KLD.item()\n",
        "        if epoch % log_interval == 0:        \n",
        "            print('====> Epoch: {} Average test loss: {:.4f}, MSE: {:.4f}, KLD: {:.4f}'.format(\n",
        "                epoch, test_loss / len(testloader.dataset), \n",
        "                test_loss_MSE / len(testloader.dataset), \n",
        "                test_loss_KLD / len(testloader.dataset)))\n",
        "            test_losses.append(test_loss / len(testloader.dataset))"
      ]
    },
    {
      "cell_type": "code",
      "execution_count": 11,
      "metadata": {
        "colab": {
          "base_uri": "https://localhost:8080/"
        },
        "id": "ascBDVv1wzMk",
        "outputId": "6df5452d-722d-4631-cdbf-851fedc16287"
      },
      "outputs": [
        {
          "ename": "KeyboardInterrupt",
          "evalue": "",
          "output_type": "error",
          "traceback": [
            "\u001b[0;31m---------------------------------------------------------------------------\u001b[0m",
            "\u001b[0;31mKeyboardInterrupt\u001b[0m                         Traceback (most recent call last)",
            "\u001b[0;32m/var/folders/5g/z367zl8d2rv5zv9py_m_j9f40000gn/T/ipykernel_93349/1304307501.py\u001b[0m in \u001b[0;36m<module>\u001b[0;34m\u001b[0m\n\u001b[1;32m      1\u001b[0m \u001b[0;32mfor\u001b[0m \u001b[0mepoch\u001b[0m \u001b[0;32min\u001b[0m \u001b[0mrange\u001b[0m\u001b[0;34m(\u001b[0m\u001b[0;36m1\u001b[0m\u001b[0;34m,\u001b[0m\u001b[0mepochs\u001b[0m\u001b[0;34m+\u001b[0m\u001b[0;36m1\u001b[0m\u001b[0;34m)\u001b[0m\u001b[0;34m:\u001b[0m\u001b[0;34m\u001b[0m\u001b[0;34m\u001b[0m\u001b[0m\n\u001b[0;32m----> 2\u001b[0;31m     \u001b[0mtrain\u001b[0m\u001b[0;34m(\u001b[0m\u001b[0mepoch\u001b[0m\u001b[0;34m)\u001b[0m\u001b[0;34m\u001b[0m\u001b[0;34m\u001b[0m\u001b[0m\n\u001b[0m\u001b[1;32m      3\u001b[0m     \u001b[0mtest\u001b[0m\u001b[0;34m(\u001b[0m\u001b[0mepoch\u001b[0m\u001b[0;34m)\u001b[0m\u001b[0;34m\u001b[0m\u001b[0;34m\u001b[0m\u001b[0m\n",
            "\u001b[0;32m/var/folders/5g/z367zl8d2rv5zv9py_m_j9f40000gn/T/ipykernel_93349/1708269945.py\u001b[0m in \u001b[0;36mtrain\u001b[0;34m(epoch)\u001b[0m\n\u001b[1;32m      9\u001b[0m         \u001b[0mrecon_batch\u001b[0m\u001b[0;34m,\u001b[0m \u001b[0mmu\u001b[0m\u001b[0;34m,\u001b[0m \u001b[0mlogvar\u001b[0m \u001b[0;34m=\u001b[0m \u001b[0mmodel\u001b[0m\u001b[0;34m(\u001b[0m\u001b[0mdata\u001b[0m\u001b[0;34m)\u001b[0m\u001b[0;34m\u001b[0m\u001b[0;34m\u001b[0m\u001b[0m\n\u001b[1;32m     10\u001b[0m         \u001b[0mloss_MSE\u001b[0m\u001b[0;34m,\u001b[0m \u001b[0mloss_KLD\u001b[0m\u001b[0;34m,\u001b[0m \u001b[0mloss\u001b[0m \u001b[0;34m=\u001b[0m \u001b[0mloss_mse\u001b[0m\u001b[0;34m(\u001b[0m\u001b[0mrecon_batch\u001b[0m\u001b[0;34m,\u001b[0m \u001b[0mdata\u001b[0m\u001b[0;34m,\u001b[0m \u001b[0mmu\u001b[0m\u001b[0;34m,\u001b[0m \u001b[0mlogvar\u001b[0m\u001b[0;34m)\u001b[0m\u001b[0;34m\u001b[0m\u001b[0;34m\u001b[0m\u001b[0m\n\u001b[0;32m---> 11\u001b[0;31m         \u001b[0mloss\u001b[0m\u001b[0;34m.\u001b[0m\u001b[0mbackward\u001b[0m\u001b[0;34m(\u001b[0m\u001b[0;34m)\u001b[0m\u001b[0;34m\u001b[0m\u001b[0;34m\u001b[0m\u001b[0m\n\u001b[0m\u001b[1;32m     12\u001b[0m         \u001b[0mloss_itm\u001b[0m \u001b[0;34m=\u001b[0m \u001b[0mloss\u001b[0m\u001b[0;34m.\u001b[0m\u001b[0mitem\u001b[0m\u001b[0;34m(\u001b[0m\u001b[0;34m)\u001b[0m\u001b[0;34m\u001b[0m\u001b[0;34m\u001b[0m\u001b[0m\n\u001b[1;32m     13\u001b[0m         \u001b[0mtrain_loss\u001b[0m \u001b[0;34m+=\u001b[0m \u001b[0mloss_itm\u001b[0m\u001b[0;34m\u001b[0m\u001b[0;34m\u001b[0m\u001b[0m\n",
            "\u001b[0;32m/opt/anaconda3/envs/recime_new/lib/python3.7/site-packages/torch/_tensor.py\u001b[0m in \u001b[0;36mbackward\u001b[0;34m(self, gradient, retain_graph, create_graph, inputs)\u001b[0m\n\u001b[1;32m    305\u001b[0m                 \u001b[0mcreate_graph\u001b[0m\u001b[0;34m=\u001b[0m\u001b[0mcreate_graph\u001b[0m\u001b[0;34m,\u001b[0m\u001b[0;34m\u001b[0m\u001b[0;34m\u001b[0m\u001b[0m\n\u001b[1;32m    306\u001b[0m                 inputs=inputs)\n\u001b[0;32m--> 307\u001b[0;31m         \u001b[0mtorch\u001b[0m\u001b[0;34m.\u001b[0m\u001b[0mautograd\u001b[0m\u001b[0;34m.\u001b[0m\u001b[0mbackward\u001b[0m\u001b[0;34m(\u001b[0m\u001b[0mself\u001b[0m\u001b[0;34m,\u001b[0m \u001b[0mgradient\u001b[0m\u001b[0;34m,\u001b[0m \u001b[0mretain_graph\u001b[0m\u001b[0;34m,\u001b[0m \u001b[0mcreate_graph\u001b[0m\u001b[0;34m,\u001b[0m \u001b[0minputs\u001b[0m\u001b[0;34m=\u001b[0m\u001b[0minputs\u001b[0m\u001b[0;34m)\u001b[0m\u001b[0;34m\u001b[0m\u001b[0;34m\u001b[0m\u001b[0m\n\u001b[0m\u001b[1;32m    308\u001b[0m \u001b[0;34m\u001b[0m\u001b[0m\n\u001b[1;32m    309\u001b[0m     \u001b[0;32mdef\u001b[0m \u001b[0mregister_hook\u001b[0m\u001b[0;34m(\u001b[0m\u001b[0mself\u001b[0m\u001b[0;34m,\u001b[0m \u001b[0mhook\u001b[0m\u001b[0;34m)\u001b[0m\u001b[0;34m:\u001b[0m\u001b[0;34m\u001b[0m\u001b[0;34m\u001b[0m\u001b[0m\n",
            "\u001b[0;32m/opt/anaconda3/envs/recime_new/lib/python3.7/site-packages/torch/autograd/__init__.py\u001b[0m in \u001b[0;36mbackward\u001b[0;34m(tensors, grad_tensors, retain_graph, create_graph, grad_variables, inputs)\u001b[0m\n\u001b[1;32m    154\u001b[0m     Variable._execution_engine.run_backward(\n\u001b[1;32m    155\u001b[0m         \u001b[0mtensors\u001b[0m\u001b[0;34m,\u001b[0m \u001b[0mgrad_tensors_\u001b[0m\u001b[0;34m,\u001b[0m \u001b[0mretain_graph\u001b[0m\u001b[0;34m,\u001b[0m \u001b[0mcreate_graph\u001b[0m\u001b[0;34m,\u001b[0m \u001b[0minputs\u001b[0m\u001b[0;34m,\u001b[0m\u001b[0;34m\u001b[0m\u001b[0;34m\u001b[0m\u001b[0m\n\u001b[0;32m--> 156\u001b[0;31m         allow_unreachable=True, accumulate_grad=True)  # allow_unreachable flag\n\u001b[0m\u001b[1;32m    157\u001b[0m \u001b[0;34m\u001b[0m\u001b[0m\n\u001b[1;32m    158\u001b[0m \u001b[0;34m\u001b[0m\u001b[0m\n",
            "\u001b[0;31mKeyboardInterrupt\u001b[0m: "
          ]
        }
      ],
      "source": [
        "for epoch in range(1,epochs+1):\n",
        "    train(epoch)\n",
        "    test(epoch)"
      ]
    },
    {
      "cell_type": "code",
      "execution_count": 36,
      "metadata": {
        "colab": {
          "base_uri": "https://localhost:8080/",
          "height": 282
        },
        "id": "NyRyzB8zws7B",
        "outputId": "408b614a-abeb-4ebc-cb16-a4b66597f8cc"
      },
      "outputs": [
        {
          "data": {
            "text/plain": [
              "<matplotlib.legend.Legend at 0x7f9fb07eda50>"
            ]
          },
          "execution_count": 36,
          "metadata": {},
          "output_type": "execute_result"
        },
        {
          "data": {
            "image/png": "[encoded data removed]",
            "text/plain": [
              "<Figure size 432x288 with 1 Axes>"
            ]
          },
          "metadata": {
            "needs_background": "light"
          },
          "output_type": "display_data"
        }
      ],
      "source": [
        "import matplotlib.pyplot as plt\n",
        "plt.plot(train_losses)\n",
        "plt.plot(train_losses_MSE)\n",
        "plt.plot(train_losses_KLD)\n",
        "plt.legend(['Train', 'Train_MSE', 'Train_KLD'])\n",
        "#plt.ylim([0,100])"
      ]
    },
    {
      "cell_type": "code",
      "execution_count": 13,
      "metadata": {
        "colab": {
          "base_uri": "https://localhost:8080/",
          "height": 283
        },
        "id": "stl8-ACfwzMk",
        "outputId": "917e51aa-e9fd-42bb-b879-e47f22f3e3bf"
      },
      "outputs": [
        {
          "data": {
            "text/plain": [
              "<matplotlib.legend.Legend at 0x7fdf5d775e50>"
            ]
          },
          "execution_count": 13,
          "metadata": {},
          "output_type": "execute_result"
        },
        {
          "data": {
            "image/png": "[encoded data removed]",
            "text/plain": [
              "<Figure size 432x288 with 1 Axes>"
            ]
          },
          "metadata": {
            "needs_background": "light"
          },
          "output_type": "display_data"
        }
      ],
      "source": [
        "import matplotlib.pyplot as plt\n",
        "plt.plot(test_losses)\n",
        "plt.plot(train_losses)\n",
        "plt.legend(['Test', 'Train'])"
      ]
    },
    {
      "cell_type": "markdown",
      "metadata": {
        "id": "YYvu9HekwzMm"
      },
      "source": [
        "### Draw random samples form latent space and generate new data"
      ]
    },
    {
      "cell_type": "code",
      "execution_count": 13,
      "metadata": {
        "id": "xxoWJ_IWEUPj"
      },
      "outputs": [],
      "source": [
        "with torch.no_grad():\n",
        "    for batch_idx, data in enumerate(testloader):\n",
        "        data = data.to(device)\n",
        "        optimizer.zero_grad()\n",
        "        recon_batch, mu, logvar = model(data)\n",
        "        break"
      ]
    },
    {
      "cell_type": "code",
      "execution_count": 14,
      "metadata": {
        "id": "o-l_00KswzMn"
      },
      "outputs": [
        {
          "data": {
            "text/html": [
              "<div>\n",
              "<style scoped>\n",
              "    .dataframe tbody tr th:only-of-type {\n",
              "        vertical-align: middle;\n",
              "    }\n",
              "\n",
              "    .dataframe tbody tr th {\n",
              "        vertical-align: top;\n",
              "    }\n",
              "\n",
              "    .dataframe thead th {\n",
              "        text-align: right;\n",
              "    }\n",
              "</style>\n",
              "<table border=\"1\" class=\"dataframe\">\n",
              "  <thead>\n",
              "    <tr style=\"text-align: right;\">\n",
              "      <th></th>\n",
              "      <th>amount</th>\n",
              "      <th>unit</th>\n",
              "      <th>ingredient</th>\n",
              "    </tr>\n",
              "  </thead>\n",
              "  <tbody>\n",
              "    <tr>\n",
              "      <th>0</th>\n",
              "      <td>-2816.3584</td>\n",
              "      <td>ounce</td>\n",
              "      <td>handed</td>\n",
              "    </tr>\n",
              "    <tr>\n",
              "      <th>1</th>\n",
              "      <td>-3470.0908</td>\n",
              "      <td>quart</td>\n",
              "      <td>coffeecake</td>\n",
              "    </tr>\n",
              "    <tr>\n",
              "      <th>2</th>\n",
              "      <td>-1735.2495</td>\n",
              "      <td></td>\n",
              "      <td>TEA</td>\n",
              "    </tr>\n",
              "    <tr>\n",
              "      <th>3</th>\n",
              "      <td>-1168.5161</td>\n",
              "      <td>tablespoon</td>\n",
              "      <td>Raw</td>\n",
              "    </tr>\n",
              "    <tr>\n",
              "      <th>4</th>\n",
              "      <td>-1088.3445</td>\n",
              "      <td>package</td>\n",
              "      <td>using</td>\n",
              "    </tr>\n",
              "    <tr>\n",
              "      <th>5</th>\n",
              "      <td>-1496.5492</td>\n",
              "      <td>millilitre</td>\n",
              "      <td>oil-free</td>\n",
              "    </tr>\n",
              "    <tr>\n",
              "      <th>6</th>\n",
              "      <td>-1533.7627</td>\n",
              "      <td>pint</td>\n",
              "      <td></td>\n",
              "    </tr>\n",
              "    <tr>\n",
              "      <th>7</th>\n",
              "      <td>-1266.0302</td>\n",
              "      <td></td>\n",
              "      <td></td>\n",
              "    </tr>\n",
              "    <tr>\n",
              "      <th>8</th>\n",
              "      <td>-1336.4442</td>\n",
              "      <td>pint</td>\n",
              "      <td></td>\n",
              "    </tr>\n",
              "    <tr>\n",
              "      <th>9</th>\n",
              "      <td>-399.28998</td>\n",
              "      <td>package</td>\n",
              "      <td></td>\n",
              "    </tr>\n",
              "    <tr>\n",
              "      <th>10</th>\n",
              "      <td>-706.4931</td>\n",
              "      <td>package</td>\n",
              "      <td></td>\n",
              "    </tr>\n",
              "    <tr>\n",
              "      <th>11</th>\n",
              "      <td>-616.1817</td>\n",
              "      <td>quart</td>\n",
              "      <td></td>\n",
              "    </tr>\n",
              "    <tr>\n",
              "      <th>12</th>\n",
              "      <td>-544.0959</td>\n",
              "      <td>gram</td>\n",
              "      <td></td>\n",
              "    </tr>\n",
              "    <tr>\n",
              "      <th>13</th>\n",
              "      <td>-42.441765</td>\n",
              "      <td>cup</td>\n",
              "      <td></td>\n",
              "    </tr>\n",
              "    <tr>\n",
              "      <th>14</th>\n",
              "      <td>-644.073</td>\n",
              "      <td>centimetre</td>\n",
              "      <td></td>\n",
              "    </tr>\n",
              "    <tr>\n",
              "      <th>15</th>\n",
              "      <td>-392.1298</td>\n",
              "      <td>pint</td>\n",
              "      <td></td>\n",
              "    </tr>\n",
              "    <tr>\n",
              "      <th>16</th>\n",
              "      <td>-22.339338</td>\n",
              "      <td>pound-mass</td>\n",
              "      <td></td>\n",
              "    </tr>\n",
              "    <tr>\n",
              "      <th>17</th>\n",
              "      <td>-57.609238</td>\n",
              "      <td>drop</td>\n",
              "      <td></td>\n",
              "    </tr>\n",
              "    <tr>\n",
              "      <th>18</th>\n",
              "      <td>-56.317253</td>\n",
              "      <td>pint</td>\n",
              "      <td></td>\n",
              "    </tr>\n",
              "    <tr>\n",
              "      <th>19</th>\n",
              "      <td>-16.047964</td>\n",
              "      <td>gram</td>\n",
              "      <td></td>\n",
              "    </tr>\n",
              "  </tbody>\n",
              "</table>\n",
              "</div>"
            ],
            "text/plain": [
              "        amount        unit  ingredient\n",
              "0   -2816.3584       ounce      handed\n",
              "1   -3470.0908       quart  coffeecake\n",
              "2   -1735.2495                     TEA\n",
              "3   -1168.5161  tablespoon         Raw\n",
              "4   -1088.3445     package       using\n",
              "5   -1496.5492  millilitre    oil-free\n",
              "6   -1533.7627        pint            \n",
              "7   -1266.0302                        \n",
              "8   -1336.4442        pint            \n",
              "9   -399.28998     package            \n",
              "10   -706.4931     package            \n",
              "11   -616.1817       quart            \n",
              "12   -544.0959        gram            \n",
              "13  -42.441765         cup            \n",
              "14    -644.073  centimetre            \n",
              "15   -392.1298        pint            \n",
              "16  -22.339338  pound-mass            \n",
              "17  -57.609238        drop            \n",
              "18  -56.317253        pint            \n",
              "19  -16.047964        gram            "
            ]
          },
          "execution_count": 14,
          "metadata": {},
          "output_type": "execute_result"
        }
      ],
      "source": [
        "sigma = torch.exp(logvar/2)\n",
        "# sample z from q\n",
        "no_samples = 20\n",
        "q = torch.distributions.Normal(mu.mean(axis=0), sigma.mean(axis=0))\n",
        "z = q.rsample(sample_shape=torch.Size([no_samples]))\n",
        "\n",
        "with torch.no_grad():\n",
        "    pred = model.decode(z).cpu().numpy()\n",
        "\n",
        "df = preprocessor.decodeOutput(pred)\n",
        "df[0]"
      ]
    }
  ],
  "metadata": {
    "accelerator": "GPU",
    "colab": {
      "include_colab_link": true,
      "machine_shape": "hm",
      "name": "cvae.ipynb",
      "provenance": []
    },
    "interpreter": {
      "hash": "bb875f4a3a3b27879a30076b84fa05114b199e04f8f3aeee4f2ba73a2af38a98"
    },
    "kernelspec": {
      "display_name": "Python 3.6.9 64-bit ('recime': conda)",
      "language": "python",
      "name": "python3"
    },
    "language_info": {
      "codemirror_mode": {
        "name": "ipython",
        "version": 3
      },
      "file_extension": ".py",
      "mimetype": "text/x-python",
      "name": "python",
      "nbconvert_exporter": "python",
      "pygments_lexer": "ipython3",
      "version": "3.7.11"
    },
    "orig_nbformat": 4
  },
  "nbformat": 4,
  "nbformat_minor": 0
}
