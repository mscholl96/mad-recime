{
  "cells": [
    {
      "cell_type": "markdown",
      "metadata": {
        "colab_type": "text",
        "id": "view-in-github"
      },
      "source": [
        "<a href=\"https://colab.research.google.com/github/mscholl96/mad-recime/blob/network_CVAE/network/CVAE/cvae.ipynb\" target=\"_parent\"><img src=\"https://colab.research.google.com/assets/colab-badge.svg\" alt=\"Open In Colab\"/></a>"
      ]
    },
    {
      "cell_type": "markdown",
      "metadata": {
        "id": "zapniU98wzMW"
      },
      "source": [
        "# Conditional variational autoencoder\n",
        "Variational autoencoder for tabular data, oriented upon: https://lschmiddey.github.io/fastpages_/2021/03/14/tabular-data-variational-autoencoder.html \n",
        "\n",
        "Adopted with one hot encoding for tabular data\n",
        "## Load Json Database of recipes"
      ]
    },
    {
      "cell_type": "code",
      "execution_count": 1,
      "metadata": {
        "colab": {
          "base_uri": "https://localhost:8080/"
        },
        "id": "2zTkqc12wzMc",
        "outputId": "940df7c9-ea9f-42f2-d53d-526fdae679df"
      },
      "outputs": [
        {
          "name": "stdout",
          "output_type": "stream",
          "text": [
            "Drive already mounted at /content/drive; to attempt to forcibly remount, call drive.mount(\"/content/drive\", force_remount=True).\n"
          ]
        }
      ],
      "source": [
        "from google.colab import drive\n",
        "drive.mount('/content/drive')"
      ]
    },
    {
      "cell_type": "code",
      "execution_count": 2,
      "metadata": {
        "id": "qDBTBpLsXtTO"
      },
      "outputs": [],
      "source": [
        "dataPath = '/content/drive/MyDrive/TP2/Datasets/Recipe1M/2022_03_19/ingredients_complete.pkl'\n",
        "embeddingPath = '/content/drive/MyDrive/TP2/Datasets/Recipe1M/vocab.bin'\n",
        "unitDictPath = '/content/drive/MyDrive/TP2/Datasets/Recipe1M/2022_03_19/ingredients_unitDict.pkl'\n",
        "modelOutPath = \"/content/drive/MyDrive/TP2/Network/VAE/cvae.pt\"\n",
        "import sys\n",
        "sys.path.append(dataPath)"
      ]
    },
    {
      "cell_type": "code",
      "execution_count": 1,
      "metadata": {
        "id": "_e61O0YAwzMd"
      },
      "outputs": [],
      "source": [
        "dataPath = 'data/ingredients_2k.pkl'\n",
        "embeddingPath = 'data/vocab.bin'\n",
        "unitDictPath = 'data/ingredients_unitDict.pkl'\n",
        "modelOutPath = 'model/cvae.pt'"
      ]
    },
    {
      "cell_type": "code",
      "execution_count": 2,
      "metadata": {
        "colab": {
          "base_uri": "https://localhost:8080/"
        },
        "id": "FkkejbegwzMd",
        "outputId": "96cf87f1-9f86-4142-b2de-2d7dd353eac8"
      },
      "outputs": [
        {
          "name": "stdout",
          "output_type": "stream",
          "text": [
            "Index(['000033e39b', '000035f7ed', '00003a70b1', '00004320bb', '0000631d90',\n",
            "       '000075604a', '00007bfd16', '000095fc1d', '0000973574', '0000b1e2b5',\n",
            "       ...\n",
            "       '009bbe9493', '009bdb7436', '009be03846', '009c23fd0f', '009c2aad25',\n",
            "       '009c37c59a', '009c4057dc', '009c764e2a', '009c79f532', '009c9b5d2e'],\n",
            "      dtype='object', name='id', length=2000)\n",
            "2000\n"
          ]
        }
      ],
      "source": [
        "import pickle\n",
        "\n",
        "with open(dataPath, 'rb') as f:\n",
        "    pklData = pickle.load(f)\n",
        "\n",
        "print(pklData.keys())\n",
        "print(len(pklData))"
      ]
    },
    {
      "cell_type": "markdown",
      "metadata": {
        "id": "3woTtbf9wzMe"
      },
      "source": [
        "## Convert list of ingredients to pandas dataframe and one hot encode the dataframe."
      ]
    },
    {
      "cell_type": "code",
      "execution_count": 4,
      "metadata": {
        "colab": {
          "base_uri": "https://localhost:8080/"
        },
        "id": "A7kjo-mMGYBU",
        "outputId": "3e0e57c2-3be5-4c8c-b5d4-e69c220b896a"
      },
      "outputs": [
        {
          "name": "stdout",
          "output_type": "stream",
          "text": [
            "Requirement already satisfied: word2vec in /usr/local/lib/python3.7/dist-packages (0.11.1)\n",
            "Requirement already satisfied: numpy>=1.9.2 in /usr/local/lib/python3.7/dist-packages (from word2vec) (1.21.5)\n",
            "Requirement already satisfied: joblib in /usr/local/lib/python3.7/dist-packages (from word2vec) (1.1.0)\n"
          ]
        }
      ],
      "source": [
        "!pip install word2vec"
      ]
    },
    {
      "cell_type": "code",
      "execution_count": 3,
      "metadata": {
        "id": "d1HzhTL5EUPd"
      },
      "outputs": [],
      "source": [
        "from src.ReciMePreprocessor import ReciMePreprocessor\n",
        "\n",
        "preprocessor = ReciMePreprocessor(embeddingPath, unitDictPath)"
      ]
    },
    {
      "cell_type": "markdown",
      "metadata": {
        "id": "CBKbgRf-wzMg"
      },
      "source": [
        "## VAE\n",
        "### Setup"
      ]
    },
    {
      "cell_type": "code",
      "execution_count": 4,
      "metadata": {
        "colab": {
          "base_uri": "https://localhost:8080/"
        },
        "id": "a5CjNvLnwzMg",
        "outputId": "38916bd7-461d-4bfe-b6b3-7b9c6b9bc1f7"
      },
      "outputs": [
        {
          "name": "stdout",
          "output_type": "stream",
          "text": [
            "cpu\n"
          ]
        }
      ],
      "source": [
        "# Import pytorch dependencies\n",
        "import torch\n",
        "from torch import optim\n",
        "from torch.utils.data import DataLoader\n",
        "\n",
        "# Import additional libraries\n",
        "import pandas as pd\n",
        "import numpy as np\n",
        "from sklearn.model_selection import train_test_split\n",
        "\n",
        "# Import custom autoencoder\n",
        "from src.ReciMeEncoder import ReciMeEncoder\n",
        "from src.ReciMeConditionalEncoder import ReciMeConditionalEncoder\n",
        "\n",
        "# Import custom helper functions\n",
        "from src.networkUtils import CustomLoss, DataBuilder, test, train\n",
        "\n",
        "device = torch.device('cuda' if torch.cuda.is_available() else 'cpu')\n",
        "print(device)"
      ]
    },
    {
      "cell_type": "markdown",
      "metadata": {
        "id": "DR6u1q3lwzMg"
      },
      "source": [
        "### Setup Datasets + Hyperparameters"
      ]
    },
    {
      "cell_type": "code",
      "execution_count": 5,
      "metadata": {
        "id": "yle-AZJ6wzMh"
      },
      "outputs": [],
      "source": [
        "# One hot encoding without embedding and using sparse frame\n",
        "train_data, test_data =  train_test_split(pklData, test_size=0.3, random_state=42)\n",
        "batch_size = 2048\n",
        "# Definition of batches\n",
        "train_builder = DataBuilder(train_data, preprocessor)\n",
        "test_builder = DataBuilder(test_data, preprocessor)\n",
        "\n",
        "trainloader=DataLoader(dataset=train_builder, batch_size=batch_size, collate_fn=train_builder.customCollate)\n",
        "testloader=DataLoader(dataset=test_builder, batch_size=batch_size, collate_fn=test_builder.customCollate)"
      ]
    },
    {
      "cell_type": "code",
      "execution_count": 6,
      "metadata": {
        "colab": {
          "base_uri": "https://localhost:8080/"
        },
        "id": "oD_T2VYFwzMh",
        "outputId": "e785f7d9-319f-470c-868b-f502d51f9948"
      },
      "outputs": [
        {
          "name": "stdout",
          "output_type": "stream",
          "text": [
            "ReciMeConditionalEncoder(\n",
            "  (encoderStack): Sequential(\n",
            "    (0): _BatchNormLinear(\n",
            "      (layer): Sequential(\n",
            "        (0): Linear(in_features=6660, out_features=3000, bias=True)\n",
            "        (1): BatchNorm1d(3000, eps=1e-05, momentum=0.1, affine=True, track_running_stats=True)\n",
            "        (2): ReLU()\n",
            "      )\n",
            "    )\n",
            "    (1): _BatchNormLinear(\n",
            "      (layer): Sequential(\n",
            "        (0): Linear(in_features=3000, out_features=2000, bias=True)\n",
            "        (1): BatchNorm1d(2000, eps=1e-05, momentum=0.1, affine=True, track_running_stats=True)\n",
            "        (2): ReLU()\n",
            "      )\n",
            "    )\n",
            "    (2): _BatchNormLinear(\n",
            "      (layer): Sequential(\n",
            "        (0): Linear(in_features=2000, out_features=1000, bias=True)\n",
            "        (1): BatchNorm1d(1000, eps=1e-05, momentum=0.1, affine=True, track_running_stats=True)\n",
            "        (2): ReLU()\n",
            "      )\n",
            "    )\n",
            "  )\n",
            "  (muStack): Linear(in_features=1000, out_features=1000, bias=True)\n",
            "  (logvarStack): Linear(in_features=1000, out_features=1000, bias=True)\n",
            "  (decoderStack): Sequential(\n",
            "    (0): _BatchNormLinear(\n",
            "      (layer): Sequential(\n",
            "        (0): Linear(in_features=1300, out_features=2000, bias=True)\n",
            "        (1): BatchNorm1d(2000, eps=1e-05, momentum=0.1, affine=True, track_running_stats=True)\n",
            "        (2): ReLU()\n",
            "      )\n",
            "    )\n",
            "    (1): _BatchNormLinear(\n",
            "      (layer): Sequential(\n",
            "        (0): Linear(in_features=2000, out_features=3000, bias=True)\n",
            "        (1): BatchNorm1d(3000, eps=1e-05, momentum=0.1, affine=True, track_running_stats=True)\n",
            "        (2): ReLU()\n",
            "      )\n",
            "    )\n",
            "    (2): _BatchNormLinear(\n",
            "      (layer): Sequential(\n",
            "        (0): Linear(in_features=3000, out_features=6360, bias=True)\n",
            "        (1): BatchNorm1d(6360, eps=1e-05, momentum=0.1, affine=True, track_running_stats=True)\n",
            "        (2): Tanh()\n",
            "      )\n",
            "    )\n",
            "  )\n",
            ")\n"
          ]
        }
      ],
      "source": [
        "paramList = [train_builder.customCollate([train_builder[0]]).shape[1], 3000, 2000, 1000]\n",
        "\n",
        "model = ReciMeConditionalEncoder(paramList, 300, useBatchNorm=True, actFunc=torch.nn.ReLU(), outFunc=torch.nn.Tanh()).to(device)\n",
        "print(model)\n",
        "optimizer = optim.Adam(model.parameters(), lr=1e-3)\n",
        "loss_fn = CustomLoss()"
      ]
    },
    {
      "cell_type": "markdown",
      "metadata": {
        "id": "CH1FyiqXwzMi"
      },
      "source": [
        "### Train Model"
      ]
    },
    {
      "cell_type": "code",
      "execution_count": 7,
      "metadata": {
        "id": "zkHZycy2wzMi"
      },
      "outputs": [],
      "source": [
        "epochs = 10\n",
        "log_interval = 5\n",
        "val_losses = []\n",
        "train_losses = []\n",
        "train_losses_MSE = []\n",
        "train_losses_KLD = []\n",
        "test_losses = []\n",
        "test_losses_MSE = []\n",
        "test_losses_KLD = []"
      ]
    },
    {
      "cell_type": "code",
      "execution_count": 8,
      "metadata": {
        "colab": {
          "base_uri": "https://localhost:8080/"
        },
        "id": "ascBDVv1wzMk",
        "outputId": "5366ce6c-463a-428e-94f6-96278d946e2f"
      },
      "outputs": [
        {
          "name": "stdout",
          "output_type": "stream",
          "text": [
            "1\n",
            "2\n",
            "3\n",
            "4\n",
            "5\n",
            "====> Epoch: 5 Average training loss: 1512.82929, MSE: 1351.62375, KLD: 161.20555\n",
            "====> Epoch: 5 Average test loss: 3394.5750, MSE: 2904.9273, KLD: 489.6477\n",
            "6\n",
            "7\n",
            "8\n",
            "9\n",
            "10\n",
            "====> Epoch: 10 Average training loss: 1122.11732, MSE: 976.99054, KLD: 145.12674\n",
            "====> Epoch: 10 Average test loss: 2561.8294, MSE: 2282.2331, KLD: 279.5962\n"
          ]
        }
      ],
      "source": [
        "for epoch in range(1,epochs+1):\n",
        "    print(epoch)\n",
        "    train_return = train(epoch, batch_size, log_interval, model, trainloader, device, optimizer, loss_fn, True)\n",
        "    train_losses.append(train_return[0])\n",
        "    train_losses_MSE.append(train_return[1])\n",
        "    train_losses_KLD.append(train_return[2])\n",
        "    test_return = test(epoch, batch_size, log_interval, model, testloader, device, optimizer, loss_fn, True)\n",
        "    test_losses.append(test_return[0])\n",
        "    test_losses_MSE.append(test_return[1])\n",
        "    test_losses_KLD.append(test_return[2])\n",
        "    if epoch % log_interval == 0:\n",
        "        torch.save({\n",
        "            'epoch': epoch,\n",
        "            'model_state_dict': model.state_dict(),\n",
        "            'optimizer_state_dict': optimizer.state_dict(),\n",
        "            'loss': (train_losses, test_losses),\n",
        "            }, modelOutPath)"
      ]
    },
    {
      "cell_type": "code",
      "execution_count": 11,
      "metadata": {
        "colab": {
          "base_uri": "https://localhost:8080/",
          "height": 286
        },
        "id": "NyRyzB8zws7B",
        "outputId": "4a552aec-dcb2-45da-d130-8ac396304f72"
      },
      "outputs": [
        {
          "data": {
            "text/plain": [
              "(0.0, 500.0)"
            ]
          },
          "execution_count": 11,
          "metadata": {},
          "output_type": "execute_result"
        },
        {
          "data": {
            "image/png": "[encoded data removed]",
            "text/plain": [
              "<Figure size 432x288 with 1 Axes>"
            ]
          },
          "metadata": {
            "needs_background": "light"
          },
          "output_type": "display_data"
        }
      ],
      "source": [
        "import matplotlib.pyplot as plt\n",
        "plt.plot(train_losses)\n",
        "plt.plot(train_losses_MSE)\n",
        "plt.plot(train_losses_KLD)\n",
        "plt.legend(['Train', 'Train_MSE', 'Train_KLD'])\n",
        "plt.ylim([0,500])"
      ]
    },
    {
      "cell_type": "code",
      "execution_count": 12,
      "metadata": {
        "colab": {
          "base_uri": "https://localhost:8080/",
          "height": 286
        },
        "id": "stl8-ACfwzMk",
        "outputId": "88735d11-436c-4119-97f3-f3a476fba80a"
      },
      "outputs": [
        {
          "data": {
            "text/plain": [
              "(0.0, 500.0)"
            ]
          },
          "execution_count": 12,
          "metadata": {},
          "output_type": "execute_result"
        },
        {
          "data": {
            "image/png": "[encoded data removed]",
            "text/plain": [
              "<Figure size 432x288 with 1 Axes>"
            ]
          },
          "metadata": {
            "needs_background": "light"
          },
          "output_type": "display_data"
        }
      ],
      "source": [
        "import matplotlib.pyplot as plt\n",
        "plt.plot(test_losses)\n",
        "plt.plot(train_losses)\n",
        "plt.legend(['Test', 'Train'])\n",
        "plt.ylim([0,500])"
      ]
    },
    {
      "cell_type": "code",
      "execution_count": 15,
      "metadata": {
        "id": "nw8EuDS5Gs-T"
      },
      "outputs": [],
      "source": [
        "torch.save({\n",
        "    'epoch': epoch,\n",
        "    'model_state_dict': model.state_dict(),\n",
        "    'optimizer_state_dict': optimizer.state_dict(),\n",
        "    'loss': (train_losses, test_losses),\n",
        "    }, \"/content/drive/MyDrive/TP2/Network/VAE/cvae_100epoch.pt\")"
      ]
    },
    {
      "cell_type": "markdown",
      "metadata": {
        "id": "YYvu9HekwzMm"
      },
      "source": [
        "### Draw random samples form latent space and generate new data"
      ]
    },
    {
      "cell_type": "code",
      "execution_count": 16,
      "metadata": {
        "id": "xxoWJ_IWEUPj"
      },
      "outputs": [],
      "source": [
        "with torch.no_grad():\n",
        "    for batch_idx, data in enumerate(testloader):\n",
        "        optimizer.zero_grad()\n",
        "        data = data.to(device)\n",
        "        recon_batch, mu, logvar = model(data)\n",
        "        break"
      ]
    },
    {
      "cell_type": "code",
      "execution_count": 17,
      "metadata": {
        "colab": {
          "base_uri": "https://localhost:8080/",
          "height": 669
        },
        "id": "o-l_00KswzMn",
        "outputId": "b1e82728-8f45-4b89-8738-1500cee38319"
      },
      "outputs": [
        {
          "data": {
            "text/html": [
              "\n",
              "  <div id=\"df-98a79bf6-2d4e-4c56-9b1b-7e61eed0f585\">\n",
              "    <div class=\"colab-df-container\">\n",
              "      <div>\n",
              "<style scoped>\n",
              "    .dataframe tbody tr th:only-of-type {\n",
              "        vertical-align: middle;\n",
              "    }\n",
              "\n",
              "    .dataframe tbody tr th {\n",
              "        vertical-align: top;\n",
              "    }\n",
              "\n",
              "    .dataframe thead th {\n",
              "        text-align: right;\n",
              "    }\n",
              "</style>\n",
              "<table border=\"1\" class=\"dataframe\">\n",
              "  <thead>\n",
              "    <tr style=\"text-align: right;\">\n",
              "      <th></th>\n",
              "      <th>amount</th>\n",
              "      <th>unit</th>\n",
              "      <th>ingredient</th>\n",
              "    </tr>\n",
              "  </thead>\n",
              "  <tbody>\n",
              "    <tr>\n",
              "      <th>0</th>\n",
              "      <td>0.046789646</td>\n",
              "      <td>teaspoon</td>\n",
              "      <td>flour</td>\n",
              "    </tr>\n",
              "    <tr>\n",
              "      <th>1</th>\n",
              "      <td>0.007748604</td>\n",
              "      <td>teaspoon</td>\n",
              "      <td>sugar</td>\n",
              "    </tr>\n",
              "    <tr>\n",
              "      <th>2</th>\n",
              "      <td>1.7422438</td>\n",
              "      <td>teaspoon</td>\n",
              "      <td>baking_powder</td>\n",
              "    </tr>\n",
              "    <tr>\n",
              "      <th>3</th>\n",
              "      <td>0.06824732</td>\n",
              "      <td>centimetre</td>\n",
              "      <td>&lt;/s&gt;</td>\n",
              "    </tr>\n",
              "    <tr>\n",
              "      <th>4</th>\n",
              "      <td>0.06556511</td>\n",
              "      <td>centimetre</td>\n",
              "      <td>eggs</td>\n",
              "    </tr>\n",
              "    <tr>\n",
              "      <th>5</th>\n",
              "      <td>0.068843365</td>\n",
              "      <td>centimetre</td>\n",
              "      <td>flour</td>\n",
              "    </tr>\n",
              "    <tr>\n",
              "      <th>6</th>\n",
              "      <td>0.08434057</td>\n",
              "      <td>centimetre</td>\n",
              "      <td>flour</td>\n",
              "    </tr>\n",
              "    <tr>\n",
              "      <th>7</th>\n",
              "      <td>0.97095966</td>\n",
              "      <td>tablespoon</td>\n",
              "      <td>baking_soda</td>\n",
              "    </tr>\n",
              "    <tr>\n",
              "      <th>8</th>\n",
              "      <td>0.035762787</td>\n",
              "      <td>tablespoon</td>\n",
              "      <td>salt</td>\n",
              "    </tr>\n",
              "    <tr>\n",
              "      <th>9</th>\n",
              "      <td>0.0834465</td>\n",
              "      <td>teaspoon</td>\n",
              "      <td>salt</td>\n",
              "    </tr>\n",
              "    <tr>\n",
              "      <th>10</th>\n",
              "      <td>0.19669533</td>\n",
              "      <td>teaspoon</td>\n",
              "      <td>&lt;/s&gt;</td>\n",
              "    </tr>\n",
              "    <tr>\n",
              "      <th>11</th>\n",
              "      <td>0.1963973</td>\n",
              "      <td>teaspoon</td>\n",
              "      <td>&lt;/s&gt;</td>\n",
              "    </tr>\n",
              "    <tr>\n",
              "      <th>12</th>\n",
              "      <td>0.15705824</td>\n",
              "      <td>teaspoon</td>\n",
              "      <td>crockpot</td>\n",
              "    </tr>\n",
              "    <tr>\n",
              "      <th>13</th>\n",
              "      <td>4.890561</td>\n",
              "      <td>teaspoon</td>\n",
              "      <td>buttered</td>\n",
              "    </tr>\n",
              "    <tr>\n",
              "      <th>14</th>\n",
              "      <td>3.1384826</td>\n",
              "      <td>teaspoon</td>\n",
              "      <td></td>\n",
              "    </tr>\n",
              "    <tr>\n",
              "      <th>15</th>\n",
              "      <td>0.1180172</td>\n",
              "      <td>teaspoon</td>\n",
              "      <td></td>\n",
              "    </tr>\n",
              "    <tr>\n",
              "      <th>16</th>\n",
              "      <td>0.09149313</td>\n",
              "      <td>teaspoon</td>\n",
              "      <td></td>\n",
              "    </tr>\n",
              "    <tr>\n",
              "      <th>17</th>\n",
              "      <td>0.14603138</td>\n",
              "      <td>teaspoon</td>\n",
              "      <td></td>\n",
              "    </tr>\n",
              "    <tr>\n",
              "      <th>18</th>\n",
              "      <td>0.07003546</td>\n",
              "      <td>tablespoon</td>\n",
              "      <td></td>\n",
              "    </tr>\n",
              "    <tr>\n",
              "      <th>19</th>\n",
              "      <td>0.15228987</td>\n",
              "      <td>teaspoon</td>\n",
              "      <td></td>\n",
              "    </tr>\n",
              "  </tbody>\n",
              "</table>\n",
              "</div>\n",
              "      <button class=\"colab-df-convert\" onclick=\"convertToInteractive('df-98a79bf6-2d4e-4c56-9b1b-7e61eed0f585')\"\n",
              "              title=\"Convert this dataframe to an interactive table.\"\n",
              "              style=\"display:none;\">\n",
              "        \n",
              "  <svg xmlns=\"http://www.w3.org/2000/svg\" height=\"24px\"viewBox=\"0 0 24 24\"\n",
              "       width=\"24px\">\n",
              "    <path d=\"M0 0h24v24H0V0z\" fill=\"none\"/>\n",
              "    <path d=\"M18.56 5.44l.94 2.06.94-2.06 2.06-.94-2.06-.94-.94-2.06-.94 2.06-2.06.94zm-11 1L8.5 8.5l.94-2.06 2.06-.94-2.06-.94L8.5 2.5l-.94 2.06-2.06.94zm10 10l.94 2.06.94-2.06 2.06-.94-2.06-.94-.94-2.06-.94 2.06-2.06.94z\"/><path d=\"M17.41 7.96l-1.37-1.37c-.4-.4-.92-.59-1.43-.59-.52 0-1.04.2-1.43.59L10.3 9.45l-7.72 7.72c-.78.78-.78 2.05 0 2.83L4 21.41c.39.39.9.59 1.41.59.51 0 1.02-.2 1.41-.59l7.78-7.78 2.81-2.81c.8-.78.8-2.07 0-2.86zM5.41 20L4 18.59l7.72-7.72 1.47 1.35L5.41 20z\"/>\n",
              "  </svg>\n",
              "      </button>\n",
              "      \n",
              "  <style>\n",
              "    .colab-df-container {\n",
              "      display:flex;\n",
              "      flex-wrap:wrap;\n",
              "      gap: 12px;\n",
              "    }\n",
              "\n",
              "    .colab-df-convert {\n",
              "      background-color: #E8F0FE;\n",
              "      border: none;\n",
              "      border-radius: 50%;\n",
              "      cursor: pointer;\n",
              "      display: none;\n",
              "      fill: #1967D2;\n",
              "      height: 32px;\n",
              "      padding: 0 0 0 0;\n",
              "      width: 32px;\n",
              "    }\n",
              "\n",
              "    .colab-df-convert:hover {\n",
              "      background-color: #E2EBFA;\n",
              "      box-shadow: 0px 1px 2px rgba(60, 64, 67, 0.3), 0px 1px 3px 1px rgba(60, 64, 67, 0.15);\n",
              "      fill: #174EA6;\n",
              "    }\n",
              "\n",
              "    [theme=dark] .colab-df-convert {\n",
              "      background-color: #3B4455;\n",
              "      fill: #D2E3FC;\n",
              "    }\n",
              "\n",
              "    [theme=dark] .colab-df-convert:hover {\n",
              "      background-color: #434B5C;\n",
              "      box-shadow: 0px 1px 3px 1px rgba(0, 0, 0, 0.15);\n",
              "      filter: drop-shadow(0px 1px 2px rgba(0, 0, 0, 0.3));\n",
              "      fill: #FFFFFF;\n",
              "    }\n",
              "  </style>\n",
              "\n",
              "      <script>\n",
              "        const buttonEl =\n",
              "          document.querySelector('#df-98a79bf6-2d4e-4c56-9b1b-7e61eed0f585 button.colab-df-convert');\n",
              "        buttonEl.style.display =\n",
              "          google.colab.kernel.accessAllowed ? 'block' : 'none';\n",
              "\n",
              "        async function convertToInteractive(key) {\n",
              "          const element = document.querySelector('#df-98a79bf6-2d4e-4c56-9b1b-7e61eed0f585');\n",
              "          const dataTable =\n",
              "            await google.colab.kernel.invokeFunction('convertToInteractive',\n",
              "                                                     [key], {});\n",
              "          if (!dataTable) return;\n",
              "\n",
              "          const docLinkHtml = 'Like what you see? Visit the ' +\n",
              "            '<a target=\"_blank\" href=https://colab.research.google.com/notebooks/data_table.ipynb>data table notebook</a>'\n",
              "            + ' to learn more about interactive tables.';\n",
              "          element.innerHTML = '';\n",
              "          dataTable['output_type'] = 'display_data';\n",
              "          await google.colab.output.renderOutput(dataTable, element);\n",
              "          const docLink = document.createElement('div');\n",
              "          docLink.innerHTML = docLinkHtml;\n",
              "          element.appendChild(docLink);\n",
              "        }\n",
              "      </script>\n",
              "    </div>\n",
              "  </div>\n",
              "  "
            ],
            "text/plain": [
              "         amount        unit     ingredient\n",
              "0   0.046789646    teaspoon          flour\n",
              "1   0.007748604    teaspoon          sugar\n",
              "2     1.7422438    teaspoon  baking_powder\n",
              "3    0.06824732  centimetre           </s>\n",
              "4    0.06556511  centimetre           eggs\n",
              "5   0.068843365  centimetre          flour\n",
              "6    0.08434057  centimetre          flour\n",
              "7    0.97095966  tablespoon    baking_soda\n",
              "8   0.035762787  tablespoon           salt\n",
              "9     0.0834465    teaspoon           salt\n",
              "10   0.19669533    teaspoon           </s>\n",
              "11    0.1963973    teaspoon           </s>\n",
              "12   0.15705824    teaspoon       crockpot\n",
              "13     4.890561    teaspoon       buttered\n",
              "14    3.1384826    teaspoon               \n",
              "15    0.1180172    teaspoon               \n",
              "16   0.09149313    teaspoon               \n",
              "17   0.14603138    teaspoon               \n",
              "18   0.07003546  tablespoon               \n",
              "19   0.15228987    teaspoon               "
            ]
          },
          "execution_count": 17,
          "metadata": {},
          "output_type": "execute_result"
        }
      ],
      "source": [
        "sigma = torch.exp(logvar/2)\n",
        "# sample z from q\n",
        "no_samples = 20\n",
        "q = torch.distributions.Normal(mu.mean(axis=0), sigma.mean(axis=0))\n",
        "z = q.rsample(sample_shape=torch.Size([no_samples]))\n",
        "\n",
        "with torch.no_grad():\n",
        "    pred = model.decode(z).cpu().numpy()\n",
        "\n",
        "df = preprocessor.decodeOutput(pred)\n",
        "df[0]"
      ]
    },
    {
      "cell_type": "code",
      "execution_count": 13,
      "metadata": {},
      "outputs": [],
      "source": [
        "with torch.no_grad():\n",
        "    for batch_idx, data in enumerate(testloader):\n",
        "        optimizer.zero_grad()\n",
        "        conditional = testloader.dataset.preProcessor.getConditional(data).to(device)\n",
        "        data = data.to(device)\n",
        "        recon_batch, mu, logvar = model(data, conditional)\n",
        "        break"
      ]
    },
    {
      "cell_type": "code",
      "execution_count": 17,
      "metadata": {},
      "outputs": [
        {
          "data": {
            "text/html": [
              "<div>\n",
              "<style scoped>\n",
              "    .dataframe tbody tr th:only-of-type {\n",
              "        vertical-align: middle;\n",
              "    }\n",
              "\n",
              "    .dataframe tbody tr th {\n",
              "        vertical-align: top;\n",
              "    }\n",
              "\n",
              "    .dataframe thead th {\n",
              "        text-align: right;\n",
              "    }\n",
              "</style>\n",
              "<table border=\"1\" class=\"dataframe\">\n",
              "  <thead>\n",
              "    <tr style=\"text-align: right;\">\n",
              "      <th></th>\n",
              "      <th>amount</th>\n",
              "      <th>unit</th>\n",
              "      <th>ingredient</th>\n",
              "    </tr>\n",
              "  </thead>\n",
              "  <tbody>\n",
              "    <tr>\n",
              "      <th>0</th>\n",
              "      <td>2466.8005</td>\n",
              "      <td>centimetre</td>\n",
              "      <td>knock</td>\n",
              "    </tr>\n",
              "    <tr>\n",
              "      <th>1</th>\n",
              "      <td>2454.6245</td>\n",
              "      <td>drop</td>\n",
              "      <td>Wood</td>\n",
              "    </tr>\n",
              "    <tr>\n",
              "      <th>2</th>\n",
              "      <td>1505.777</td>\n",
              "      <td></td>\n",
              "      <td>Tongs</td>\n",
              "    </tr>\n",
              "    <tr>\n",
              "      <th>3</th>\n",
              "      <td>2431.6052</td>\n",
              "      <td>gram</td>\n",
              "      <td></td>\n",
              "    </tr>\n",
              "    <tr>\n",
              "      <th>4</th>\n",
              "      <td>3278.5625</td>\n",
              "      <td>pinch</td>\n",
              "      <td></td>\n",
              "    </tr>\n",
              "    <tr>\n",
              "      <th>5</th>\n",
              "      <td>2260.8408</td>\n",
              "      <td>inch</td>\n",
              "      <td></td>\n",
              "    </tr>\n",
              "    <tr>\n",
              "      <th>6</th>\n",
              "      <td>3486.9548</td>\n",
              "      <td>quart</td>\n",
              "      <td></td>\n",
              "    </tr>\n",
              "    <tr>\n",
              "      <th>7</th>\n",
              "      <td>2498.17</td>\n",
              "      <td>inch</td>\n",
              "      <td></td>\n",
              "    </tr>\n",
              "    <tr>\n",
              "      <th>8</th>\n",
              "      <td>3252.4136</td>\n",
              "      <td>package</td>\n",
              "      <td></td>\n",
              "    </tr>\n",
              "    <tr>\n",
              "      <th>9</th>\n",
              "      <td>3474.937</td>\n",
              "      <td>package</td>\n",
              "      <td></td>\n",
              "    </tr>\n",
              "    <tr>\n",
              "      <th>10</th>\n",
              "      <td>1078.2015</td>\n",
              "      <td>gallon</td>\n",
              "      <td></td>\n",
              "    </tr>\n",
              "    <tr>\n",
              "      <th>11</th>\n",
              "      <td>1764.7106</td>\n",
              "      <td>gram</td>\n",
              "      <td></td>\n",
              "    </tr>\n",
              "    <tr>\n",
              "      <th>12</th>\n",
              "      <td>2751.46</td>\n",
              "      <td>cup</td>\n",
              "      <td></td>\n",
              "    </tr>\n",
              "    <tr>\n",
              "      <th>13</th>\n",
              "      <td>1001.8945</td>\n",
              "      <td></td>\n",
              "      <td></td>\n",
              "    </tr>\n",
              "    <tr>\n",
              "      <th>14</th>\n",
              "      <td>3046.0847</td>\n",
              "      <td>ounce</td>\n",
              "      <td></td>\n",
              "    </tr>\n",
              "    <tr>\n",
              "      <th>15</th>\n",
              "      <td>1841.0623</td>\n",
              "      <td>quart</td>\n",
              "      <td></td>\n",
              "    </tr>\n",
              "    <tr>\n",
              "      <th>16</th>\n",
              "      <td>2837.613</td>\n",
              "      <td>gallon</td>\n",
              "      <td></td>\n",
              "    </tr>\n",
              "    <tr>\n",
              "      <th>17</th>\n",
              "      <td>1841.7087</td>\n",
              "      <td>gram</td>\n",
              "      <td></td>\n",
              "    </tr>\n",
              "    <tr>\n",
              "      <th>18</th>\n",
              "      <td>1837.503</td>\n",
              "      <td>pound-mass</td>\n",
              "      <td></td>\n",
              "    </tr>\n",
              "    <tr>\n",
              "      <th>19</th>\n",
              "      <td>2852.9656</td>\n",
              "      <td>tablespoon</td>\n",
              "      <td></td>\n",
              "    </tr>\n",
              "  </tbody>\n",
              "</table>\n",
              "</div>"
            ],
            "text/plain": [
              "       amount        unit ingredient\n",
              "0   2466.8005  centimetre      knock\n",
              "1   2454.6245        drop       Wood\n",
              "2    1505.777                  Tongs\n",
              "3   2431.6052        gram           \n",
              "4   3278.5625       pinch           \n",
              "5   2260.8408        inch           \n",
              "6   3486.9548       quart           \n",
              "7     2498.17        inch           \n",
              "8   3252.4136     package           \n",
              "9    3474.937     package           \n",
              "10  1078.2015      gallon           \n",
              "11  1764.7106        gram           \n",
              "12    2751.46         cup           \n",
              "13  1001.8945                       \n",
              "14  3046.0847       ounce           \n",
              "15  1841.0623       quart           \n",
              "16   2837.613      gallon           \n",
              "17  1841.7087        gram           \n",
              "18   1837.503  pound-mass           \n",
              "19  2852.9656  tablespoon           "
            ]
          },
          "execution_count": 17,
          "metadata": {},
          "output_type": "execute_result"
        }
      ],
      "source": [
        "sigma = torch.exp(logvar/2)\n",
        "# sample z from q\n",
        "no_samples = 20\n",
        "q = torch.distributions.Normal(mu.mean(axis=0), sigma.mean(axis=0))\n",
        "z = q.rsample(sample_shape=torch.Size([no_samples]))\n",
        "\n",
        "ingredient_cond = 'strawberry'\n",
        "\n",
        "ingredient_cond_words = ingredient_cond.lower().split(\" \")\n",
        "for i in range(len(ingredient_cond_words)):\n",
        "    name_ind = preprocessor.ingredientDict.get(\"_\".join(ingredient_cond_words[i:]))\n",
        "    if name_ind:\n",
        "        ingredient_cond_int = name_ind\n",
        "        break\n",
        "ingredient_cond_emb = preprocessor.emb(torch.LongTensor([ingredient_cond_int]*no_samples))\n",
        "\n",
        "with torch.no_grad():\n",
        "    pred = model.decode(z, ingredient_cond_emb).cpu().numpy()\n",
        "\n",
        "df = preprocessor.decodeOutput(pred)\n",
        "df[0]"
      ]
    },
    {
      "cell_type": "code",
      "execution_count": null,
      "metadata": {},
      "outputs": [],
      "source": []
    }
  ],
  "metadata": {
    "accelerator": "GPU",
    "colab": {
      "include_colab_link": true,
      "machine_shape": "hm",
      "name": "cvae.ipynb",
      "provenance": []
    },
    "interpreter": {
      "hash": "bb875f4a3a3b27879a30076b84fa05114b199e04f8f3aeee4f2ba73a2af38a98"
    },
    "kernelspec": {
      "display_name": "Python 3.6.9 64-bit ('recime': conda)",
      "language": "python",
      "name": "python3"
    },
    "language_info": {
      "codemirror_mode": {
        "name": "ipython",
        "version": 3
      },
      "file_extension": ".py",
      "mimetype": "text/x-python",
      "name": "python",
      "nbconvert_exporter": "python",
      "pygments_lexer": "ipython3",
      "version": "3.7.11"
    },
    "orig_nbformat": 4
  },
  "nbformat": 4,
  "nbformat_minor": 0
}
