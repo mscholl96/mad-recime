{
  "cells": [
    {
      "cell_type": "markdown",
      "metadata": {
        "colab_type": "text",
        "id": "view-in-github"
      },
      "source": [
        "<a href=\"https://colab.research.google.com/github/mscholl96/mad-recime/blob/network_CVAE/network/CVAE/dataPreparation.ipynb\" target=\"_parent\"><img src=\"https://colab.research.google.com/assets/colab-badge.svg\" alt=\"Open In Colab\"/></a>"
      ]
    },
    {
      "cell_type": "code",
      "execution_count": 1,
      "metadata": {
        "colab": {
          "base_uri": "https://localhost:8080/"
        },
        "id": "S4ALY_WRieQZ",
        "outputId": "9b8b61f4-7947-4c1b-c462-6a94de350de6"
      },
      "outputs": [
        {
          "name": "stdout",
          "output_type": "stream",
          "text": [
            "Mounted at /content/drive\n"
          ]
        }
      ],
      "source": [
        "from google.colab import drive\n",
        "drive.mount('/content/drive')"
      ]
    },
    {
      "cell_type": "code",
      "execution_count": 2,
      "metadata": {
        "id": "WH4bMEV7ip-E"
      },
      "outputs": [],
      "source": [
        "dataPath = '/content/drive/MyDrive/TP2/Datasets/Recipe1M/2022_02_11/recipes_valid_0.pkl'\n",
        "import sys\n",
        "sys.path.append(dataPath)"
      ]
    },
    {
      "cell_type": "code",
      "execution_count": 15,
      "metadata": {
        "id": "Qt907SrRjZV5"
      },
      "outputs": [],
      "source": [
        "import glob\n",
        "\n",
        "files = glob.glob('/content/drive/MyDrive/TP2/Datasets/Recipe1M/2022_02_11/recipes_valid*.pkl')"
      ]
    },
    {
      "cell_type": "code",
      "execution_count": 20,
      "metadata": {
        "colab": {
          "base_uri": "https://localhost:8080/"
        },
        "id": "9tYzuYX2ir9_",
        "outputId": "8418b2e9-6503-4c20-e527-8ce5924e58fc"
      },
      "outputs": [
        {
          "name": "stdout",
          "output_type": "stream",
          "text": [
            "9\n"
          ]
        }
      ],
      "source": [
        "import pickle\n",
        "import pandas as pd\n",
        "\n",
        "ingredientsList = []\n",
        "\n",
        "for filePath in files:\n",
        "  with open(filePath, 'rb') as f:\n",
        "      ingredientsList.append(pickle.load(f)['ingredients'])\n",
        "\n",
        "print(len(ingredientsList))"
      ]
    },
    {
      "cell_type": "code",
      "execution_count": 21,
      "metadata": {
        "id": "hArFQGntlABi"
      },
      "outputs": [],
      "source": [
        "ingredients = pd.concat(ingredientsList)"
      ]
    },
    {
      "cell_type": "code",
      "execution_count": 23,
      "metadata": {
        "id": "Dx90SMXtm_3V"
      },
      "outputs": [],
      "source": [
        "ingredients.to_pickle('/content/drive/MyDrive/TP2/Datasets/Recipe1M/2022_02_11/ingredients_complete.pkl')"
      ]
    },
    {
      "cell_type": "code",
      "execution_count": 28,
      "metadata": {
        "colab": {
          "base_uri": "https://localhost:8080/"
        },
        "id": "3SjreNFsoVQM",
        "outputId": "f19d5c18-3a9c-41b2-9f3b-5c7806309a21"
      },
      "outputs": [
        {
          "name": "stdout",
          "output_type": "stream",
          "text": [
            "   amount        unit       ingredient\n",
            "0    1.00               elbow macaroni\n",
            "1    1.00              american cheese\n",
            "2    0.50                       celery\n",
            "3    0.50                green peppers\n",
            "4    3.00  tablespoon         pimentos\n",
            "5    0.50                   mayonnaise\n",
            "6    1.00  tablespoon          vinegar\n",
            "7    0.75    teaspoon             salt\n",
            "8    0.50    teaspoon    dry dill weed\n",
            "\n",
            "\n",
            "\n",
            "\n",
            "tablespoon\n",
            "\n",
            "tablespoon\n",
            "teaspoon\n",
            "teaspoon\n"
          ]
        }
      ],
      "source": [
        "for df in ingredients:\n",
        "    print(df)\n",
        "    for unit in df['unit']:\n",
        "      print(unit)\n",
        "    break"
      ]
    },
    {
      "cell_type": "code",
      "execution_count": 29,
      "metadata": {
        "colab": {
          "base_uri": "https://localhost:8080/"
        },
        "id": "svP7_LtIpLDc",
        "outputId": "49bf4dbb-8b53-4b6f-eb7f-587e8936ce40"
      },
      "outputs": [
        {
          "data": {
            "text/plain": [
              "834840"
            ]
          },
          "execution_count": 29,
          "metadata": {},
          "output_type": "execute_result"
        }
      ],
      "source": [
        "len(ingredients)"
      ]
    },
    {
      "cell_type": "code",
      "execution_count": 30,
      "metadata": {
        "colab": {
          "base_uri": "https://localhost:8080/"
        },
        "id": "sHOjX6YUnBVB",
        "outputId": "32ab3be9-1965-4b1a-c2c5-ff691c873c2e"
      },
      "outputs": [
        {
          "name": "stdout",
          "output_type": "stream",
          "text": [
            "> Progress: 99.99988021656844%"
          ]
        }
      ],
      "source": [
        "unitDict = {}\n",
        "\n",
        "for index, df in enumerate(ingredients):\n",
        "    print(\"\\r> Progress: {}%\".format(index*100/len(ingredients)), end='')\n",
        "    for unit in df['unit']:\n",
        "        # Offset by 1 so empty fields can be 0\n",
        "        unitDict.setdefault(unit, len(unitDict))"
      ]
    },
    {
      "cell_type": "code",
      "execution_count": 31,
      "metadata": {
        "colab": {
          "base_uri": "https://localhost:8080/"
        },
        "id": "n-GThWm8oF_j",
        "outputId": "3b74cfc6-3123-4b08-9e58-8c7e11da4bcc"
      },
      "outputs": [
        {
          "data": {
            "text/plain": [
              "{'': 0,\n",
              " 'centimetre': 16,\n",
              " 'cup': 3,\n",
              " 'drop': 13,\n",
              " 'fluid ounce': 15,\n",
              " 'gallon': 10,\n",
              " 'gram': 7,\n",
              " 'inch': 11,\n",
              " 'millilitre': 6,\n",
              " 'ounce': 4,\n",
              " 'package': 8,\n",
              " 'pinch': 9,\n",
              " 'pint': 14,\n",
              " 'pound-mass': 5,\n",
              " 'quart': 12,\n",
              " 'tablespoon': 1,\n",
              " 'teaspoon': 2}"
            ]
          },
          "execution_count": 31,
          "metadata": {},
          "output_type": "execute_result"
        }
      ],
      "source": [
        "unitDict"
      ]
    },
    {
      "cell_type": "code",
      "execution_count": 32,
      "metadata": {
        "id": "DcW64pjEpat5"
      },
      "outputs": [],
      "source": [
        "with open('/content/drive/MyDrive/TP2/Datasets/Recipe1M/2022_02_11/ingredients_unitDict.pkl', 'wb') as f:\n",
        "    pickle.dump(unitDict, f, protocol=pickle.HIGHEST_PROTOCOL)"
      ]
    },
    {
      "cell_type": "code",
      "execution_count": 35,
      "metadata": {
        "colab": {
          "base_uri": "https://localhost:8080/"
        },
        "id": "kMREfgx7r7P0",
        "outputId": "f282f9a0-0f38-4cb0-82d7-30b183813e24"
      },
      "outputs": [
        {
          "name": "stdout",
          "output_type": "stream",
          "text": [
            "Collecting word2vec\n",
            "  Downloading word2vec-0.11.1.tar.gz (42 kB)\n",
            "\u001b[?25l\r\u001b[K     |███████▊                        | 10 kB 24.9 MB/s eta 0:00:01\r\u001b[K     |███████████████▌                | 20 kB 12.3 MB/s eta 0:00:01\r\u001b[K     |███████████████████████▎        | 30 kB 8.9 MB/s eta 0:00:01\r\u001b[K     |███████████████████████████████ | 40 kB 3.8 MB/s eta 0:00:01\r\u001b[K     |████████████████████████████████| 42 kB 779 kB/s \n",
            "\u001b[?25h  Installing build dependencies ... \u001b[?25l\u001b[?25hdone\n",
            "  Getting requirements to build wheel ... \u001b[?25l\u001b[?25hdone\n",
            "    Preparing wheel metadata ... \u001b[?25l\u001b[?25hdone\n",
            "Requirement already satisfied: numpy>=1.9.2 in /usr/local/lib/python3.7/dist-packages (from word2vec) (1.21.5)\n",
            "Requirement already satisfied: joblib in /usr/local/lib/python3.7/dist-packages (from word2vec) (1.1.0)\n",
            "Building wheels for collected packages: word2vec\n",
            "  Building wheel for word2vec (PEP 517) ... \u001b[?25l\u001b[?25hdone\n",
            "  Created wheel for word2vec: filename=word2vec-0.11.1-py2.py3-none-any.whl size=156420 sha256=ec7a337c300fd013c4f9100a309d485b60808d02ed9ae418133e8d11106590eb\n",
            "  Stored in directory: /root/.cache/pip/wheels/c9/c0/d4/29d797817e268124a32b6cf8beb8b8fe87b86f099d5a049e61\n",
            "Successfully built word2vec\n",
            "Installing collected packages: word2vec\n",
            "Successfully installed word2vec-0.11.1\n"
          ]
        }
      ],
      "source": [
        "!pip install word2vec"
      ]
    },
    {
      "cell_type": "code",
      "execution_count": null,
      "metadata": {
        "id": "WEtqRoGgrUHE"
      },
      "outputs": [],
      "source": [
        "from ReciMePreprocessor import ReciMePreprocessor\n",
        "\n",
        "preproc = ReciMePreprocessor('/content/drive/MyDrive/TP2/Datasets/Recipe1M/vocab.bin')\n",
        "\n",
        "\n",
        "out = preproc.preProcessInput(ingredients)"
      ]
    },
    {
      "cell_type": "code",
      "execution_count": 2,
      "metadata": {},
      "outputs": [],
      "source": [
        "import pandas as pd"
      ]
    },
    {
      "cell_type": "code",
      "execution_count": 7,
      "metadata": {
        "id": "yqENHT1Zr5xf"
      },
      "outputs": [],
      "source": [
        "ds = pd.Series(\n",
        "    [\n",
        "        pd.DataFrame(\n",
        "            [\n",
        "                [0.35911798, \"teaspoon\", \"chicken\"],\n",
        "                [0.2554059, \"centimetre\", \"apples\"],\n",
        "                [0.18835068, \"centimetre\", \"salt\"],\n",
        "                [0.25898218, \"teaspoon\", \"salt\"],\n",
        "            ],\n",
        "            columns=[\"amount\", \"unit\", \"ingredient\"],\n",
        "        ),\n",
        "        pd.DataFrame(\n",
        "            [\n",
        "                [0.8124113, \"centimetre\", \"prosciutto\"],\n",
        "                [0.10848045, \"teaspoon\", \"prosciutto\"],\n",
        "                [12.51936, \"teaspoon\", \"sugar\"],\n",
        "                [0.08225441, \"teaspoon\", \"stick\"],\n",
        "                [0.09089708, \"teaspoon\", \"salt\"],\n",
        "                [0.06943941, \"tablespoon\", \"\"],\n",
        "                [0.058710575, \"centimetre\", \"salt\"],\n",
        "            ],\n",
        "            columns=[\"amount\", \"unit\", \"ingredient\"],\n",
        "        ),\n",
        "    ],\n",
        "    name=\"ingredients\",\n",
        ")\n"
      ]
    },
    {
      "cell_type": "code",
      "execution_count": 9,
      "metadata": {},
      "outputs": [
        {
          "name": "stdout",
          "output_type": "stream",
          "text": [
            "     amount        unit ingredient\n",
            "0  0.359118    teaspoon    chicken\n",
            "1  0.255406  centimetre     apples\n",
            "2  0.188351  centimetre       salt\n",
            "3  0.258982    teaspoon       salt\n",
            "      amount        unit  ingredient\n",
            "0   0.812411  centimetre  prosciutto\n",
            "1   0.108480    teaspoon  prosciutto\n",
            "2  12.519360    teaspoon       sugar\n",
            "3   0.082254    teaspoon       stick\n",
            "4   0.090897    teaspoon        salt\n",
            "5   0.069439  tablespoon            \n",
            "6   0.058711  centimetre        salt\n"
          ]
        }
      ],
      "source": [
        "for df in ds:\n",
        "    print(df)"
      ]
    },
    {
      "cell_type": "code",
      "execution_count": 10,
      "metadata": {},
      "outputs": [],
      "source": [
        "ds.to_pickle('data/generatedLists.pkl')"
      ]
    },
    {
      "cell_type": "code",
      "execution_count": null,
      "metadata": {},
      "outputs": [],
      "source": []
    }
  ],
  "metadata": {
    "colab": {
      "authorship_tag": "ABX9TyPMbl69vT3PWYYQFmPQOM43",
      "include_colab_link": true,
      "machine_shape": "hm",
      "name": "dataPreparation.ipynb",
      "provenance": []
    },
    "kernelspec": {
      "display_name": "Python 3",
      "name": "python3"
    },
    "language_info": {
      "codemirror_mode": {
        "name": "ipython",
        "version": 3
      },
      "file_extension": ".py",
      "mimetype": "text/x-python",
      "name": "python",
      "nbconvert_exporter": "python",
      "pygments_lexer": "ipython3",
      "version": "3.7.11"
    }
  },
  "nbformat": 4,
  "nbformat_minor": 0
}
