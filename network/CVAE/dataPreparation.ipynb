{
  "nbformat": 4,
  "nbformat_minor": 0,
  "metadata": {
    "colab": {
      "name": "dataPreparation.ipynb",
      "provenance": [],
      "machine_shape": "hm",
      "authorship_tag": "ABX9TyP8Il+q0HY2od4s9IR61vsi",
      "include_colab_link": true
    },
    "kernelspec": {
      "name": "python3",
      "display_name": "Python 3"
    },
    "language_info": {
      "name": "python"
    }
  },
  "cells": [
    {
      "cell_type": "markdown",
      "metadata": {
        "colab_type": "text",
        "id": "view-in-github"
      },
      "source": [
        "<a href=\"https://colab.research.google.com/github/mscholl96/mad-recime/blob/network_CVAE/network/CVAE/dataPreparation.ipynb\" target=\"_parent\"><img src=\"https://colab.research.google.com/assets/colab-badge.svg\" alt=\"Open In Colab\"/></a>"
      ]
    },
    {
      "cell_type": "code",
      "execution_count": 2,
      "metadata": {
        "colab": {
          "base_uri": "https://localhost:8080/"
        },
        "id": "S4ALY_WRieQZ",
        "outputId": "176ddbdf-206f-4b8f-d477-6974560f0a83"
      },
      "outputs": [
        {
          "name": "stdout",
          "output_type": "stream",
          "text": [
            "Mounted at /content/drive\n"
          ]
        }
      ],
      "source": [
        "from google.colab import drive\n",
        "drive.mount('/content/drive')"
      ]
    },
    {
      "cell_type": "code",
      "execution_count": 2,
      "metadata": {
        "id": "WH4bMEV7ip-E"
      },
      "outputs": [],
      "source": [
        "dataPath = '/content/drive/MyDrive/TP2/Datasets/Recipe1M/2022_02_11/recipes_valid_0.pkl'\n",
        "import sys\n",
        "sys.path.append(dataPath)"
      ],
      "metadata": {
        "id": "WH4bMEV7ip-E"
      },
      "execution_count": null,
      "outputs": []
    },
    {
      "cell_type": "code",
      "execution_count": 15,
      "metadata": {
        "id": "Qt907SrRjZV5"
      },
      "outputs": [],
      "source": [
        "import glob\n",
        "\n",
        "files = glob.glob('/content/drive/MyDrive/TP2/Datasets/Recipe1M/2022_03_30/recipes_valid*.pkl')"
      ],
      "metadata": {
        "id": "Qt907SrRjZV5"
      },
      "execution_count": 41,
      "outputs": []
    },
    {
      "cell_type": "code",
      "execution_count": 20,
      "metadata": {
        "colab": {
          "base_uri": "https://localhost:8080/"
        },
        "id": "9tYzuYX2ir9_",
        "outputId": "75bdc19d-4828-41f3-8dfb-a3692f83ee83"
      },
      "execution_count": 42,
      "outputs": [
        {
          "name": "stdout",
          "output_type": "stream",
          "text": [
            "9\n"
          ]
        }
      ],
      "source": [
        "import pickle\n",
        "import pandas as pd\n",
        "\n",
        "ingredientsList = []\n",
        "\n",
        "for filePath in files:\n",
        "  with open(filePath, 'rb') as f:\n",
        "      ingredientsList.append(pickle.load(f)['ingredients'])\n",
        "\n",
        "print(len(ingredientsList))"
      ]
    },
    {
      "cell_type": "code",
      "execution_count": 21,
      "metadata": {
        "id": "hArFQGntlABi"
      },
      "execution_count": 43,
      "outputs": []
    },
    {
      "cell_type": "code",
      "source": [
        "ingredients.to_pickle('/content/drive/MyDrive/TP2/Datasets/Recipe1M/2022_03_30/ingredients_complete.pkl')"
      ],
      "metadata": {
        "id": "Dx90SMXtm_3V"
      },
      "execution_count": 44,
      "outputs": []
    },
    {
      "cell_type": "code",
      "source": [
        "ingred_2k = ingredients[:2000]\n",
        "len(ingred_2k)"
      ],
      "metadata": {
        "id": "QgOxgWotStJb",
        "outputId": "a804f3d8-2fe0-40fb-e146-fc886b421979",
        "colab": {
          "base_uri": "https://localhost:8080/"
        }
      },
      "execution_count": 48,
      "outputs": [
        {
          "output_type": "execute_result",
          "data": {
            "text/plain": [
              "2000"
            ]
          },
          "metadata": {},
          "execution_count": 48
        }
      ]
    },
    {
      "cell_type": "code",
      "source": [
        "ingred_2k.to_pickle('/content/drive/MyDrive/TP2/Datasets/Recipe1M/2022_03_30/ingredients_2k.pkl')"
      ],
      "metadata": {
        "id": "LkqzITeHSxo6"
      },
      "execution_count": 49,
      "outputs": []
    },
    {
      "cell_type": "code",
      "execution_count": 28,
      "metadata": {
        "colab": {
          "base_uri": "https://localhost:8080/"
        },
        "id": "3SjreNFsoVQM",
        "outputId": "f19d5c18-3a9c-41b2-9f3b-5c7806309a21"
      },
      "execution_count": null,
      "outputs": [
        {
          "name": "stdout",
          "output_type": "stream",
          "text": [
            "   amount        unit       ingredient\n",
            "0    1.00               elbow macaroni\n",
            "1    1.00              american cheese\n",
            "2    0.50                       celery\n",
            "3    0.50                green peppers\n",
            "4    3.00  tablespoon         pimentos\n",
            "5    0.50                   mayonnaise\n",
            "6    1.00  tablespoon          vinegar\n",
            "7    0.75    teaspoon             salt\n",
            "8    0.50    teaspoon    dry dill weed\n",
            "\n",
            "\n",
            "\n",
            "\n",
            "tablespoon\n",
            "\n",
            "tablespoon\n",
            "teaspoon\n",
            "teaspoon\n"
          ]
        }
      ],
      "source": [
        "for df in ingredients:\n",
        "    print(df)\n",
        "    for unit in df['unit']:\n",
        "      print(unit)\n",
        "    break"
      ]
    },
    {
      "cell_type": "code",
      "execution_count": 29,
      "metadata": {
        "colab": {
          "base_uri": "https://localhost:8080/"
        },
        "id": "svP7_LtIpLDc",
        "outputId": "49bf4dbb-8b53-4b6f-eb7f-587e8936ce40"
      },
      "execution_count": null,
      "outputs": [
        {
          "data": {
            "text/plain": [
              "834840"
            ]
          },
          "execution_count": 29,
          "metadata": {},
          "output_type": "execute_result"
        }
      ],
      "source": [
        "len(ingredients)"
      ]
    },
    {
      "cell_type": "code",
      "execution_count": 30,
      "metadata": {
        "colab": {
          "base_uri": "https://localhost:8080/"
        },
        "id": "sHOjX6YUnBVB",
        "outputId": "4340b643-7d19-4118-8140-042a05f2c816"
      },
      "execution_count": 45,
      "outputs": [
        {
          "output_type": "stream",
          "name": "stdout",
          "text": [
            "> Progress: 99.99988027421993%"
          ]
        }
      ]
    },
    {
      "cell_type": "code",
      "source": [
        "ingredientDict = {}\n",
        "\n",
        "for index, df in enumerate(data):\n",
        "    print(\"\\r> Progress: {}%\".format(index*100/len(data)), end='')\n",
        "    for ingredient in df['ingredient']:\n",
        "        ingredientDict.setdefault(ingredient, len(ingredientDict))"
      ],
      "metadata": {
        "id": "Awx3MDHb2mIC",
        "outputId": "c9feffa0-336e-4651-dfe9-822cc0da45a4",
        "colab": {
          "base_uri": "https://localhost:8080/"
        }
      },
      "execution_count": 8,
      "outputs": [
        {
          "name": "stdout",
          "output_type": "stream",
          "text": [
            "> Progress: 99.99988027421993%"
          ]
        }
      ],
      "source": [
        "unitDict = {}\n",
        "\n",
        "for index, df in enumerate(ingredients):\n",
        "    print(\"\\r> Progress: {}%\".format(index*100/len(ingredients)), end='')\n",
        "    for unit in df['unit']:\n",
        "        # Offset by 1 so empty fields can be 0\n",
        "        unitDict.setdefault(unit, len(unitDict))"
      ]
    },
    {
      "cell_type": "code",
      "source": [
        "len(ingredientDict)"
      ],
      "metadata": {
        "id": "cfl6Rgsv23Af",
        "outputId": "d0a131b3-cc73-4271-98df-084214737eaf",
        "colab": {
          "base_uri": "https://localhost:8080/"
        }
      },
      "execution_count": 9,
      "outputs": [
        {
          "output_type": "execute_result",
          "data": {
            "text/plain": [
              "17936"
            ]
          },
          "metadata": {},
          "execution_count": 9
        }
      ]
    },
    {
      "cell_type": "code",
      "source": [
        "with open('/content/drive/MyDrive/TP2/Datasets/Recipe1M/2022_03_30/ingredients_ingredientDict.pkl', 'wb') as f:\n",
        "    pickle.dump(ingredientDict, f, protocol=pickle.HIGHEST_PROTOCOL)"
      ],
      "metadata": {
        "id": "oBh6itS024mQ"
      },
      "execution_count": 11,
      "outputs": []
    },
    {
      "cell_type": "code",
      "source": [
        "unitDict"
      ],
      "metadata": {
        "colab": {
          "base_uri": "https://localhost:8080/"
        },
        "id": "n-GThWm8oF_j",
        "outputId": "eba9a0cf-3f0e-46f7-dd6b-ded3a271ae43"
      },
      "execution_count": 46,
      "outputs": [
        {
          "data": {
            "text/plain": [
              "{'': 3,\n",
              " 'centimetre': 16,\n",
              " 'cup': 0,\n",
              " 'drop': 13,\n",
              " 'fluid ounce': 15,\n",
              " 'gallon': 11,\n",
              " 'gram': 7,\n",
              " 'inch': 8,\n",
              " 'millilitre': 6,\n",
              " 'ounce': 4,\n",
              " 'package': 9,\n",
              " 'pinch': 10,\n",
              " 'pint': 14,\n",
              " 'pound-mass': 5,\n",
              " 'quart': 12,\n",
              " 'tablespoon': 1,\n",
              " 'teaspoon': 2}"
            ]
          },
          "execution_count": 31,
          "metadata": {},
          "execution_count": 46
        }
      ],
      "source": [
        "unitDict"
      ]
    },
    {
      "cell_type": "code",
      "source": [
        "with open('/content/drive/MyDrive/TP2/Datasets/Recipe1M/2022_03_30/ingredients_unitDict.pkl', 'wb') as f:\n",
        "    pickle.dump(unitDict, f, protocol=pickle.HIGHEST_PROTOCOL)"
      ],
      "metadata": {
        "id": "DcW64pjEpat5"
      },
      "execution_count": 47,
      "outputs": []
    },
    {
      "cell_type": "code",
      "execution_count": 35,
      "metadata": {
        "colab": {
          "base_uri": "https://localhost:8080/"
        },
        "id": "kMREfgx7r7P0",
        "outputId": "f282f9a0-0f38-4cb0-82d7-30b183813e24"
      },
      "execution_count": null,
      "outputs": [
        {
          "name": "stdout",
          "output_type": "stream",
          "text": [
            "Collecting word2vec\n",
            "  Downloading word2vec-0.11.1.tar.gz (42 kB)\n",
            "\u001b[?25l\r\u001b[K     |███████▊                        | 10 kB 24.9 MB/s eta 0:00:01\r\u001b[K     |███████████████▌                | 20 kB 12.3 MB/s eta 0:00:01\r\u001b[K     |███████████████████████▎        | 30 kB 8.9 MB/s eta 0:00:01\r\u001b[K     |███████████████████████████████ | 40 kB 3.8 MB/s eta 0:00:01\r\u001b[K     |████████████████████████████████| 42 kB 779 kB/s \n",
            "\u001b[?25h  Installing build dependencies ... \u001b[?25l\u001b[?25hdone\n",
            "  Getting requirements to build wheel ... \u001b[?25l\u001b[?25hdone\n",
            "    Preparing wheel metadata ... \u001b[?25l\u001b[?25hdone\n",
            "Requirement already satisfied: numpy>=1.9.2 in /usr/local/lib/python3.7/dist-packages (from word2vec) (1.21.5)\n",
            "Requirement already satisfied: joblib in /usr/local/lib/python3.7/dist-packages (from word2vec) (1.1.0)\n",
            "Building wheels for collected packages: word2vec\n",
            "  Building wheel for word2vec (PEP 517) ... \u001b[?25l\u001b[?25hdone\n",
            "  Created wheel for word2vec: filename=word2vec-0.11.1-py2.py3-none-any.whl size=156420 sha256=ec7a337c300fd013c4f9100a309d485b60808d02ed9ae418133e8d11106590eb\n",
            "  Stored in directory: /root/.cache/pip/wheels/c9/c0/d4/29d797817e268124a32b6cf8beb8b8fe87b86f099d5a049e61\n",
            "Successfully built word2vec\n",
            "Installing collected packages: word2vec\n",
            "Successfully installed word2vec-0.11.1\n"
          ]
        }
      ],
      "source": [
        "!pip install word2vec"
      ]
    },
    {
      "cell_type": "code",
      "execution_count": null,
      "metadata": {
        "id": "WEtqRoGgrUHE"
      },
      "outputs": [],
      "source": [
        "from ReciMePreprocessor import ReciMePreprocessor\n",
        "\n",
        "preproc = ReciMePreprocessor('/content/drive/MyDrive/TP2/Datasets/Recipe1M/vocab.bin')\n",
        "\n",
        "\n",
        "out = preproc.preProcessInput(ingredients)"
      ]
    },
    {
      "cell_type": "code",
      "execution_count": 2,
      "metadata": {},
      "outputs": [],
      "source": [
        "import pickle \n",
        "import pandas as pd\n",
        "\n",
        "path = '/content/drive/MyDrive/TP2/Datasets/Recipe1M/2022_03_30/ingredients_complete.pkl'\n",
        "\n",
        "with open(path, 'rb') as f:\n",
        "    data = pickle.load(f)"
      ],
      "metadata": {
        "id": "yqENHT1Zr5xf"
      },
      "execution_count": 3,
      "outputs": []
    },
    {
      "cell_type": "code",
      "source": [
        "for index, word in enumerate(data[0]['ingredient'].to_list()):\n",
        "    print(index, word)"
      ],
      "metadata": {
        "id": "IgSFqv0bh03I",
        "outputId": "f4bc1eb9-0801-4322-ddf0-fa5c370bb37e",
        "colab": {
          "base_uri": "https://localhost:8080/"
        }
      },
      "execution_count": 36,
      "outputs": [
        {
          "output_type": "stream",
          "name": "stdout",
          "text": [
            "0 elbow macaroni\n",
            "1 american cheese\n",
            "2 celery\n",
            "3 green peppers\n",
            "4 pimentos\n",
            "5 mayonnaise\n",
            "6 vinegar\n",
            "7 salt\n",
            "8 dry dill weed\n"
          ]
        }
      ]
    },
    {
      "cell_type": "code",
      "source": [
        "list_of_dicts = []\n",
        "\n",
        "for ind in range(0,20):\n",
        "    list_of_dicts.append(dict())\n",
        "\n",
        "for element in data:\n",
        "    for index, word in enumerate(element['ingredient'].to_list()):\n",
        "        list_of_dicts[index][word] = list_of_dicts[index].setdefault(word, 0) + 1"
      ],
      "metadata": {
        "id": "Dl6gN3GYCMRq"
      },
      "execution_count": 41,
      "outputs": []
    },
    {
      "cell_type": "code",
      "source": [
        "list(list_of_dicts[0].keys()).index('chicken')"
      ],
      "metadata": {
        "id": "cBLDinHFfsNZ",
        "outputId": "e1360635-b036-4197-f841-e87cd7b4b91a",
        "colab": {
          "base_uri": "https://localhost:8080/"
        }
      },
      "execution_count": 8,
      "outputs": [
        {
          "output_type": "execute_result",
          "data": {
            "text/plain": [
              "583"
            ]
          },
          "metadata": {},
          "execution_count": 8
        }
      ]
    },
    {
      "cell_type": "code",
      "source": [
        "list_of_dicts[2]['chicken']"
      ],
      "metadata": {
        "id": "2jdQbacigeN9",
        "outputId": "49013dcc-cbda-403e-e820-51c2c1fa6cd5",
        "colab": {
          "base_uri": "https://localhost:8080/"
        }
      },
      "execution_count": 18,
      "outputs": [
        {
          "output_type": "execute_result",
          "data": {
            "text/plain": [
              "9513"
            ]
          },
          "metadata": {},
          "execution_count": 18
        }
      ]
    },
    {
      "cell_type": "code",
      "source": [
        "word_list = []\n",
        "for di in list_of_dicts:\n",
        "    word_list.append(di['chicken'])"
      ],
      "metadata": {
        "id": "p7QttLJHfKtC"
      },
      "execution_count": 42,
      "outputs": []
    },
    {
      "cell_type": "code",
      "source": [
        "word_list"
      ],
      "metadata": {
        "id": "RCfzB1aXgJb_",
        "outputId": "bd4da9fd-8fa7-4692-924c-c57287987c6c",
        "colab": {
          "base_uri": "https://localhost:8080/"
        }
      },
      "execution_count": 43,
      "outputs": [
        {
          "output_type": "execute_result",
          "data": {
            "text/plain": [
              "[3894,\n",
              " 1098,\n",
              " 570,\n",
              " 574,\n",
              " 577,\n",
              " 548,\n",
              " 451,\n",
              " 437,\n",
              " 404,\n",
              " 296,\n",
              " 196,\n",
              " 135,\n",
              " 141,\n",
              " 78,\n",
              " 51,\n",
              " 29,\n",
              " 21,\n",
              " 4,\n",
              " 7,\n",
              " 2]"
            ]
          },
          "metadata": {},
          "execution_count": 43
        }
      ]
    },
    {
      "cell_type": "code",
      "source": [
        "import matplotlib.pyplot as plt\n",
        "\n",
        "plt.figure(figsize=(15,5), dpi=100, facecolor='w')\n",
        "ax = plt.bar([str(x) for x in range(0,20)], word_list, align='center')\n",
        "highlight = 'chicken'\n",
        "plt.xticks(rotation='vertical')\n",
        "plt.show()"
      ],
      "metadata": {
        "id": "ks0BeUEgfmp8",
        "outputId": "88699408-59f1-4578-b033-2467944a5dca",
        "colab": {
          "base_uri": "https://localhost:8080/",
          "height": 441
        }
      },
      "execution_count": 46,
      "outputs": [
        {
          "output_type": "display_data",
          "data": {
            "text/plain": [
              "<Figure size 1500x500 with 1 Axes>"
            ],
            "image/png": "[encoded data removed]"
          },
          "metadata": {}
        }
      ]
    },
    {
      "cell_type": "code",
      "source": [
        "import matplotlib.pyplot as plt\n",
        "\n",
        "words = sorted(list_of_dicts[0].items(), key=lambda x:x[1], reverse=True)\n",
        "words_keys, words_values = zip(*words)\n",
        "plt.figure(figsize=(15,5), dpi=100, facecolor='w')\n",
        "ax = plt.bar(words_keys[:25], words_values[:25], align='center')\n",
        "highlight = 'chicken'\n",
        "pos = words_keys.index(('chicken'))\n",
        "\n",
        "ax.patches[pos].set_facecolor('#aa3333')\n",
        "plt.xticks(rotation='vertical')\n",
        "plt.show()"
      ],
      "metadata": {
        "id": "8JQUQSeXCbea",
        "outputId": "a0189f18-5f66-4751-b5e7-fd5a849f8d9a",
        "colab": {
          "base_uri": "https://localhost:8080/",
          "height": 657
        }
      },
      "execution_count": 47,
      "outputs": [
        {
          "output_type": "display_data",
          "data": {
            "text/plain": [
              "<Figure size 1500x500 with 1 Axes>"
            ],
            "image/png": "[encoded data removed]"
          },
          "metadata": {}
        }
      ]
    },
    {
      "cell_type": "code",
      "source": [
        "words_keys.index(('chicken'))"
      ],
      "metadata": {
        "id": "9sgny1JbDo2p",
        "outputId": "6c760950-f34f-4c7a-f2b5-cfa27956bb7c",
        "colab": {
          "base_uri": "https://localhost:8080/"
        }
      },
      "execution_count": 25,
      "outputs": [
        {
          "output_type": "execute_result",
          "data": {
            "text/plain": [
              "130"
            ]
          },
          "metadata": {},
          "execution_count": 25
        }
      ]
    },
    {
      "cell_type": "code",
      "source": [
        "words[21][1]*100/len(data)"
      ],
      "metadata": {
        "id": "npf_cG3tEVN6",
        "outputId": "ab96126b-45c9-49bb-bfdc-c0d68aa40395",
        "colab": {
          "base_uri": "https://localhost:8080/"
        }
      },
      "execution_count": 20,
      "outputs": [
        {
          "output_type": "execute_result",
          "data": {
            "text/plain": [
              "0.4661409851855579"
            ]
          },
          "metadata": {},
          "execution_count": 20
        }
      ]
    },
    {
      "cell_type": "code",
      "source": [
        "sum(words_values[:25])*100/len(data)"
      ],
      "metadata": {
        "id": "_MtaohKSEv1L",
        "outputId": "c1947a5d-6b63-42e7-9b76-3a2dfc708136",
        "colab": {
          "base_uri": "https://localhost:8080/"
        }
      },
      "execution_count": 24,
      "outputs": [
        {
          "output_type": "execute_result",
          "data": {
            "text/plain": [
              "29.831226055016856"
            ]
          },
          "metadata": {},
          "execution_count": 24
        }
      ]
    },
    {
      "cell_type": "code",
      "source": [
        "words_dict_comp = {}\n",
        "\n",
        "for element in data:\n",
        "    for word in element['ingredient']:\n",
        "        words_dict_comp[word] = words_dict_comp.setdefault(word, 0) + 1"
      ],
      "metadata": {
        "id": "rHj5tQwZG1sU"
      },
      "execution_count": 4,
      "outputs": []
    },
    {
      "cell_type": "code",
      "source": [
        "len(words_dict_comp)"
      ],
      "metadata": {
        "id": "swq6LZmFzQUk",
        "outputId": "23f767ed-7d43-4f20-b772-dd968a254d22",
        "colab": {
          "base_uri": "https://localhost:8080/"
        }
      },
      "execution_count": 5,
      "outputs": [
        {
          "output_type": "execute_result",
          "data": {
            "text/plain": [
              "17936"
            ]
          },
          "metadata": {},
          "execution_count": 5
        }
      ]
    },
    {
      "cell_type": "code",
      "source": [
        "words_comp = sorted(words_dict_comp.items(), key=lambda x:x[1], reverse=True)\n",
        "words_comp_keys, words_comp_values = zip(*words_comp)\n",
        "plt.figure(figsize=(15,5), dpi=100, facecolor='w')\n",
        "ax = plt.bar(words_comp_keys[:25], words_comp_values[:25], align='center')\n",
        "highlight = 'chicken'\n",
        "#pos = words_comp_keys.index(('chicken'))\n",
        "\n",
        "#ax.patches[pos].set_facecolor('#aa3333')\n",
        "plt.xticks(rotation='vertical')\n",
        "plt.show()"
      ],
      "metadata": {
        "id": "zimgQCLVHoaH",
        "outputId": "3995dfe0-c095-40e6-9f1f-c579caabb5ad",
        "colab": {
          "base_uri": "https://localhost:8080/",
          "height": 547
        }
      },
      "execution_count": 51,
      "outputs": [
        {
          "output_type": "display_data",
          "data": {
            "text/plain": [
              "<Figure size 1500x500 with 1 Axes>"
            ],
            "image/png": "[encoded data removed]"
          },
          "metadata": {}
        }
      ]
    },
    {
      "cell_type": "code",
      "source": [
        "words_comp_keys.index(('chicken'))"
      ],
      "metadata": {
        "id": "fvT2ddvNHyzf",
        "outputId": "473bc57e-0ca4-4b68-e266-860b21c30812",
        "colab": {
          "base_uri": "https://localhost:8080/"
        }
      },
      "execution_count": 37,
      "outputs": [
        {
          "output_type": "execute_result",
          "data": {
            "text/plain": [
              "130"
            ]
          },
          "metadata": {},
          "execution_count": 37
        }
      ]
    },
    {
      "cell_type": "code",
      "source": [
        "words_comp[130][1]*100/len(data)"
      ],
      "metadata": {
        "id": "54X4JK9XIfzp",
        "outputId": "381c02d0-48f2-405d-99bf-8280c35baa23",
        "colab": {
          "base_uri": "https://localhost:8080/"
        }
      },
      "execution_count": 40,
      "outputs": [
        {
          "output_type": "execute_result",
          "data": {
            "text/plain": [
              "1.1389366091388071"
            ]
          },
          "metadata": {},
          "execution_count": 40
        }
      ]
    },
    {
      "cell_type": "code",
      "source": [
        ""
      ],
      "metadata": {
        "id": "U0eVC3RgIl2y"
      },
      "execution_count": null,
      "metadata": {},
      "outputs": [],
      "source": []
    }
  ],
  "metadata": {
    "colab": {
      "authorship_tag": "ABX9TyPMbl69vT3PWYYQFmPQOM43",
      "include_colab_link": true,
      "machine_shape": "hm",
      "name": "dataPreparation.ipynb",
      "provenance": []
    },
    "kernelspec": {
      "display_name": "Python 3",
      "name": "python3"
    },
    "language_info": {
      "codemirror_mode": {
        "name": "ipython",
        "version": 3
      },
      "file_extension": ".py",
      "mimetype": "text/x-python",
      "name": "python",
      "nbconvert_exporter": "python",
      "pygments_lexer": "ipython3",
      "version": "3.7.11"
    }
  },
  "nbformat": 4,
  "nbformat_minor": 0
}
