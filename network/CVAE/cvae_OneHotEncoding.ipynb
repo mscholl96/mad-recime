{
  "cells": [
    {
      "cell_type": "markdown",
      "metadata": {
        "id": "zapniU98wzMW"
      },
      "source": [
        "# Conditional variational autoencoder\n",
        "Variational autoencoder for tabular data, oriented upon: https://lschmiddey.github.io/fastpages_/2021/03/14/tabular-data-variational-autoencoder.html \n",
        "\n",
        "Adopted with one hot encoding for tabular data\n",
        "## Load Json Database of recipes"
      ]
    },
    {
      "cell_type": "code",
      "execution_count": 1,
      "metadata": {
        "colab": {
          "base_uri": "https://localhost:8080/"
        },
        "id": "2zTkqc12wzMc",
        "outputId": "7890cde5-ae13-49f9-f9e1-fbb6d5758573"
      },
      "outputs": [
        {
          "output_type": "stream",
          "name": "stdout",
          "text": [
            "Drive already mounted at /content/drive; to attempt to forcibly remount, call drive.mount(\"/content/drive\", force_remount=True).\n"
          ]
        }
      ],
      "source": [
        "from google.colab import drive\n",
        "drive.mount('/content/drive')\n",
        "dataPath = '/content/drive/MyDrive/TP2/Datasets/Recipe1M/'\n",
        "import sys\n",
        "sys.path.append(dataPath)"
      ]
    },
    {
      "cell_type": "code",
      "execution_count": null,
      "metadata": {
        "id": "_e61O0YAwzMd"
      },
      "outputs": [],
      "source": [
        "dataPath = 'data/'"
      ]
    },
    {
      "cell_type": "code",
      "execution_count": 2,
      "metadata": {
        "colab": {
          "base_uri": "https://localhost:8080/"
        },
        "id": "FkkejbegwzMd",
        "outputId": "cb43cd35-8254-4d08-9609-b317cb34581c"
      },
      "outputs": [
        {
          "output_type": "stream",
          "name": "stdout",
          "text": [
            "Index(['title', 'ingredients', 'instructions'], dtype='object')\n",
            "100000\n"
          ]
        }
      ],
      "source": [
        "import pickle\n",
        "import pandas as pd\n",
        "\n",
        "with open(dataPath + '2022_02_11/recipes_valid_0.pkl', 'rb') as f:\n",
        "    pklData = pd.DataFrame(pickle.load(f))\n",
        "\n",
        "print(pklData.keys())\n",
        "print(len(pklData))"
      ]
    },
    {
      "cell_type": "markdown",
      "metadata": {
        "id": "3woTtbf9wzMe"
      },
      "source": [
        "## Convert list of ingredients to pandas dataframe and one hot encode the dataframe."
      ]
    },
    {
      "cell_type": "code",
      "source": [
        "!pip install word2vec"
      ],
      "metadata": {
        "colab": {
          "base_uri": "https://localhost:8080/"
        },
        "id": "A7kjo-mMGYBU",
        "outputId": "54160442-e7cb-427b-f880-d89ce5db641d"
      },
      "execution_count": 3,
      "outputs": [
        {
          "output_type": "stream",
          "name": "stdout",
          "text": [
            "Requirement already satisfied: word2vec in /usr/local/lib/python3.7/dist-packages (0.11.1)\n",
            "Requirement already satisfied: joblib in /usr/local/lib/python3.7/dist-packages (from word2vec) (1.1.0)\n",
            "Requirement already satisfied: numpy>=1.9.2 in /usr/local/lib/python3.7/dist-packages (from word2vec) (1.21.5)\n"
          ]
        }
      ]
    },
    {
      "cell_type": "code",
      "execution_count": 4,
      "metadata": {
        "id": "d1HzhTL5EUPd"
      },
      "outputs": [],
      "source": [
        "from ReciMePreprocessor import ReciMePreprocessor\n",
        "\n",
        "preprocessor = ReciMePreprocessor(dataPath + '/vocab.bin')\n",
        "\n",
        "out = preprocessor.preProcessInput(pklData['ingredients'])"
      ]
    },
    {
      "cell_type": "markdown",
      "metadata": {
        "id": "CBKbgRf-wzMg"
      },
      "source": [
        "## VAE\n",
        "### Setup"
      ]
    },
    {
      "cell_type": "code",
      "execution_count": 5,
      "metadata": {
        "colab": {
          "base_uri": "https://localhost:8080/"
        },
        "id": "a5CjNvLnwzMg",
        "outputId": "a636b2c0-a3cf-4d1a-ffe4-3ffe6f43d5ad"
      },
      "outputs": [
        {
          "output_type": "stream",
          "name": "stdout",
          "text": [
            "cuda\n"
          ]
        }
      ],
      "source": [
        "# Import pytorch dependencies\n",
        "import torch\n",
        "from torch import optim\n",
        "from torch.utils.data import DataLoader\n",
        "\n",
        "# Import additional libraries\n",
        "import pandas as pd\n",
        "import numpy as np\n",
        "\n",
        "# Import custom autoencoder\n",
        "from ReciMeEncoder import ReciMeEncoder, RmeParameters\n",
        "\n",
        "# Import custom helper functions\n",
        "from networkUtils import DataBuilder, CustomLoss, standardize_data, sparse_batch_collate\n",
        "\n",
        "device = torch.device('cuda' if torch.cuda.is_available() else 'cpu')\n",
        "print(device)"
      ]
    },
    {
      "cell_type": "markdown",
      "metadata": {
        "id": "DR6u1q3lwzMg"
      },
      "source": [
        "### Setup Datasets + Hyperparameters"
      ]
    },
    {
      "cell_type": "code",
      "execution_count": 6,
      "metadata": {
        "id": "yle-AZJ6wzMh"
      },
      "outputs": [],
      "source": [
        "# One hot encoding without embedding and using sparse frame\n",
        "train_data, test_data, scaler =  standardize_data(out)\n",
        "batch_size = 1024\n",
        "# Train/Testdataset split is defined in the DataBuilder\n",
        "traindata_set=DataBuilder(train_data, standardizer=scaler)\n",
        "testdata_set=DataBuilder(test_data, standardizer=scaler)\n",
        "# Definition of batches\n",
        "trainloader=DataLoader(dataset=traindata_set,batch_size=batch_size)\n",
        "testloader=DataLoader(dataset=testdata_set,batch_size=batch_size)"
      ]
    },
    {
      "cell_type": "code",
      "source": [
        "testdata_set.x.shape[1]"
      ],
      "metadata": {
        "colab": {
          "base_uri": "https://localhost:8080/"
        },
        "id": "1n_eBmw9Pgp4",
        "outputId": "39f228f4-c111-4f7d-a316-b230213441fa"
      },
      "execution_count": 7,
      "outputs": [
        {
          "output_type": "execute_result",
          "data": {
            "text/plain": [
              "6360"
            ]
          },
          "metadata": {},
          "execution_count": 7
        }
      ]
    },
    {
      "cell_type": "code",
      "execution_count": 8,
      "metadata": {
        "id": "oD_T2VYFwzMh"
      },
      "outputs": [],
      "source": [
        "params = RmeParameters(testdata_set.x.shape[1], 8192, 4096, 2048, 512)\n",
        "\n",
        "model = ReciMeEncoder(params).to(device)\n",
        "optimizer = optim.Adam(model.parameters(), lr=1e-4)\n",
        "loss_mse = CustomLoss()"
      ]
    },
    {
      "cell_type": "markdown",
      "metadata": {
        "id": "CH1FyiqXwzMi"
      },
      "source": [
        "### Train Model"
      ]
    },
    {
      "cell_type": "code",
      "execution_count": 9,
      "metadata": {
        "id": "zkHZycy2wzMi"
      },
      "outputs": [],
      "source": [
        "epochs = 50\n",
        "log_interval = 5\n",
        "val_losses = []\n",
        "train_losses = []\n",
        "test_losses = []"
      ]
    },
    {
      "cell_type": "code",
      "execution_count": 10,
      "metadata": {
        "id": "dyZzQCtwwzMj"
      },
      "outputs": [],
      "source": [
        "def train(epoch):\n",
        "    model.train()\n",
        "    train_loss = 0\n",
        "    train_loss_MSE = 0\n",
        "    train_loss_KLD = 0\n",
        "    for batch_idx, data in enumerate(trainloader):\n",
        "        data = data.to(device)\n",
        "        optimizer.zero_grad()\n",
        "        recon_batch, mu, logvar = model(data)\n",
        "        loss_MSE, loss_KLD, loss = loss_mse(recon_batch, data, mu, logvar)\n",
        "        loss.backward()\n",
        "        loss_itm = loss.item()\n",
        "        train_loss += loss_itm\n",
        "        train_loss_MSE += loss_MSE\n",
        "        train_loss_KLD += loss_KLD\n",
        "        optimizer.step()\n",
        "    if epoch % log_interval == 0:        \n",
        "        print('====> Epoch: {} Average training loss: {:.5f}, MSE: {:.5f}, KLD: {:.5f}'.format(\n",
        "            epoch, train_loss / len(trainloader.dataset), \n",
        "            train_loss_MSE / len(trainloader.dataset), \n",
        "            train_loss_KLD / len(trainloader.dataset)))\n",
        "        train_losses.append(train_loss / len(trainloader.dataset))\n"
      ]
    },
    {
      "cell_type": "code",
      "execution_count": 11,
      "metadata": {
        "id": "NtNNh601wzMj"
      },
      "outputs": [],
      "source": [
        "def test(epoch):\n",
        "    with torch.no_grad():\n",
        "        test_loss = 0\n",
        "        test_loss_MSE = 0\n",
        "        test_loss_KLD = 0\n",
        "        for batch_idx, data in enumerate(testloader):\n",
        "            data = data.to(device)\n",
        "            optimizer.zero_grad()\n",
        "            recon_batch, mu, logvar = model(data)\n",
        "            loss_MSE, loss_KLD, loss = loss_mse(recon_batch, data, mu, logvar)\n",
        "            loss_itm = loss.item()\n",
        "            test_loss += loss_itm\n",
        "            test_loss_MSE += loss_MSE\n",
        "            test_loss_KLD += loss_KLD\n",
        "        if epoch % log_interval == 0:        \n",
        "            print('====> Epoch: {} Average training loss: {:.4f}, MSE: {:.4f}, KLD: {:.4f}'.format(\n",
        "                epoch, test_loss / len(testloader.dataset), \n",
        "                test_loss_MSE / len(testloader.dataset), \n",
        "                test_loss_KLD / len(testloader.dataset)))\n",
        "            test_losses.append(test_loss / len(testloader.dataset))"
      ]
    },
    {
      "cell_type": "code",
      "execution_count": 12,
      "metadata": {
        "colab": {
          "base_uri": "https://localhost:8080/"
        },
        "id": "ascBDVv1wzMk",
        "outputId": "e863e643-76af-4040-80c1-28afc6697987"
      },
      "outputs": [
        {
          "output_type": "stream",
          "name": "stdout",
          "text": [
            "====> Epoch: 5 Average training loss: 0.03682, MSE: 0.00841, KLD: 0.02841\n",
            "====> Epoch: 5 Average training loss: 0.0355, MSE: 0.0085, KLD: 0.0269\n",
            "====> Epoch: 10 Average training loss: 0.02297, MSE: 0.00841, KLD: 0.01456\n",
            "====> Epoch: 10 Average training loss: 0.0232, MSE: 0.0085, KLD: 0.0146\n",
            "====> Epoch: 15 Average training loss: 0.01735, MSE: 0.00841, KLD: 0.00893\n",
            "====> Epoch: 15 Average training loss: 0.0177, MSE: 0.0085, KLD: 0.0092\n",
            "====> Epoch: 20 Average training loss: 0.01417, MSE: 0.00841, KLD: 0.00575\n",
            "====> Epoch: 20 Average training loss: 0.0147, MSE: 0.0085, KLD: 0.0061\n",
            "====> Epoch: 25 Average training loss: 0.01224, MSE: 0.00841, KLD: 0.00382\n",
            "====> Epoch: 25 Average training loss: 0.0127, MSE: 0.0085, KLD: 0.0042\n",
            "====> Epoch: 30 Average training loss: 0.01102, MSE: 0.00841, KLD: 0.00261\n",
            "====> Epoch: 30 Average training loss: 0.0115, MSE: 0.0085, KLD: 0.0029\n",
            "====> Epoch: 35 Average training loss: 0.01023, MSE: 0.00841, KLD: 0.00181\n",
            "====> Epoch: 35 Average training loss: 0.0106, MSE: 0.0085, KLD: 0.0021\n",
            "====> Epoch: 40 Average training loss: 0.00969, MSE: 0.00841, KLD: 0.00128\n",
            "====> Epoch: 40 Average training loss: 0.0100, MSE: 0.0085, KLD: 0.0015\n",
            "====> Epoch: 45 Average training loss: 0.00933, MSE: 0.00841, KLD: 0.00092\n",
            "====> Epoch: 45 Average training loss: 0.0096, MSE: 0.0085, KLD: 0.0010\n",
            "====> Epoch: 50 Average training loss: 0.00907, MSE: 0.00841, KLD: 0.00066\n",
            "====> Epoch: 50 Average training loss: 0.0093, MSE: 0.0085, KLD: 0.0008\n"
          ]
        }
      ],
      "source": [
        "for epoch in range(1,epochs+1):\n",
        "    train(epoch)\n",
        "    test(epoch)"
      ]
    },
    {
      "cell_type": "code",
      "execution_count": 13,
      "metadata": {
        "colab": {
          "base_uri": "https://localhost:8080/",
          "height": 282
        },
        "id": "stl8-ACfwzMk",
        "outputId": "69aacce2-6238-45ca-92ab-4e7c6b6ec598"
      },
      "outputs": [
        {
          "output_type": "execute_result",
          "data": {
            "text/plain": [
              "<matplotlib.legend.Legend at 0x7fd600184510>"
            ]
          },
          "metadata": {},
          "execution_count": 13
        },
        {
          "output_type": "display_data",
          "data": {
            "image/png": "[encoded data removed]",
            "text/plain": [
              "<Figure size 432x288 with 1 Axes>"
            ]
          },
          "metadata": {
            "needs_background": "light"
          }
        }
      ],
      "source": [
        "import matplotlib.pyplot as plt\n",
        "plt.plot(test_losses)\n",
        "plt.plot(train_losses)\n",
        "plt.legend(['Test', 'Train'])"
      ]
    },
    {
      "cell_type": "markdown",
      "metadata": {
        "id": "YYvu9HekwzMm"
      },
      "source": [
        "### Draw random samples form latent space and generate new data"
      ]
    },
    {
      "cell_type": "code",
      "execution_count": 14,
      "metadata": {
        "id": "xxoWJ_IWEUPj"
      },
      "outputs": [],
      "source": [
        "with torch.no_grad():\n",
        "    for batch_idx, data in enumerate(testloader):\n",
        "        data = data.to(device)\n",
        "        optimizer.zero_grad()\n",
        "        recon_batch, mu, logvar = model(data)\n",
        "        break"
      ]
    },
    {
      "cell_type": "code",
      "execution_count": 15,
      "metadata": {
        "id": "o-l_00KswzMn"
      },
      "outputs": [],
      "source": [
        "sigma = torch.exp(logvar/2)\n",
        "# sample z from q\n",
        "no_samples = 20\n",
        "q = torch.distributions.Normal(mu.mean(axis=0), sigma.mean(axis=0))\n",
        "z = q.rsample(sample_shape=torch.Size([no_samples]))"
      ]
    },
    {
      "cell_type": "code",
      "execution_count": 16,
      "metadata": {
        "id": "hXeISFOtwzMn"
      },
      "outputs": [],
      "source": [
        "scaler = trainloader.dataset.standardizer\n",
        "\n",
        "with torch.no_grad():\n",
        "    pred = model.decode(z).cpu().numpy()\n",
        "\n",
        "fake_data = scaler.inverse_transform(pred)\n",
        "df_fake = pd.DataFrame(fake_data)"
      ]
    },
    {
      "cell_type": "code",
      "execution_count": 17,
      "metadata": {
        "colab": {
          "base_uri": "https://localhost:8080/"
        },
        "id": "QQxp_k9FEUPk",
        "outputId": "155120e7-a471-436e-d2c0-c63e6a53b243"
      },
      "outputs": [
        {
          "output_type": "stream",
          "name": "stdout",
          "text": [
            "(20, 6360)\n",
            "<class 'numpy.ndarray'>\n"
          ]
        }
      ],
      "source": [
        "print(fake_data.shape)\n",
        "print(type(fake_data))"
      ]
    },
    {
      "cell_type": "code",
      "execution_count": 18,
      "metadata": {
        "id": "fGIuz8vJEUPk"
      },
      "outputs": [],
      "source": [
        "def inverseOneHotEncoding(encoded: np.ndarray, dictionary: dict) -> np.ndarray:\n",
        "    output = []\n",
        "    for row in encoded:\n",
        "        rowTransformed = np.reshape(row, (20,-1))\n",
        "        rowString = []\n",
        "        indexTransformed = np.argmax(rowTransformed, axis=1) + 1\n",
        "        for index in indexTransformed:\n",
        "            if (index in dictionary.values()):\n",
        "                rowString.append(list(dictionary.keys())[list(dictionary.values()).index(index)])\n",
        "            else:\n",
        "                rowString.append(\"\")\n",
        "        output.append(rowString)\n",
        "    return np.array(output)"
      ]
    },
    {
      "cell_type": "code",
      "execution_count": 19,
      "metadata": {
        "id": "cX5P1wV6EUPl"
      },
      "outputs": [],
      "source": [
        "def inverseEmbedding(embedded: np.ndarray, dictionary: dict) -> np.ndarray:\n",
        "    output = []\n",
        "    for row in embedded:\n",
        "        outputRows = []\n",
        "        for rowTransformed in np.reshape(row, (20,-1)):\n",
        "            rowTransformed = torch.Tensor(rowTransformed)\n",
        "            distance = torch.norm(preprocessor.emb.weight.data - rowTransformed, dim=1)\n",
        "            nearest = torch.argmin(distance)\n",
        "            index = nearest.item()\n",
        "            if index:\n",
        "                outputRows.append(list(dictionary.keys())[list(dictionary.values()).index(index)])\n",
        "            else:\n",
        "                outputRows.append(\"\")\n",
        "        output.append(outputRows)\n",
        "\n",
        "    return np.array(output)"
      ]
    },
    {
      "cell_type": "code",
      "execution_count": 20,
      "metadata": {
        "colab": {
          "base_uri": "https://localhost:8080/",
          "height": 669
        },
        "id": "nz90yVggEUPm",
        "outputId": "23e5742c-d2d5-45fc-8586-232a6dceb155"
      },
      "outputs": [
        {
          "output_type": "execute_result",
          "data": {
            "text/html": [
              "\n",
              "  <div id=\"df-e8cf0c35-d9e8-4357-831e-03b7ef478c06\">\n",
              "    <div class=\"colab-df-container\">\n",
              "      <div>\n",
              "<style scoped>\n",
              "    .dataframe tbody tr th:only-of-type {\n",
              "        vertical-align: middle;\n",
              "    }\n",
              "\n",
              "    .dataframe tbody tr th {\n",
              "        vertical-align: top;\n",
              "    }\n",
              "\n",
              "    .dataframe thead th {\n",
              "        text-align: right;\n",
              "    }\n",
              "</style>\n",
              "<table border=\"1\" class=\"dataframe\">\n",
              "  <thead>\n",
              "    <tr style=\"text-align: right;\">\n",
              "      <th></th>\n",
              "      <th>amount</th>\n",
              "      <th>unit</th>\n",
              "      <th>ingredient</th>\n",
              "    </tr>\n",
              "  </thead>\n",
              "  <tbody>\n",
              "    <tr>\n",
              "      <th>0</th>\n",
              "      <td>14.512605</td>\n",
              "      <td></td>\n",
              "      <td>&lt;/s&gt;</td>\n",
              "    </tr>\n",
              "    <tr>\n",
              "      <th>1</th>\n",
              "      <td>4.1505537</td>\n",
              "      <td></td>\n",
              "      <td>&lt;/s&gt;</td>\n",
              "    </tr>\n",
              "    <tr>\n",
              "      <th>2</th>\n",
              "      <td>4.859861</td>\n",
              "      <td></td>\n",
              "      <td>&lt;/s&gt;</td>\n",
              "    </tr>\n",
              "    <tr>\n",
              "      <th>3</th>\n",
              "      <td>5.5665226</td>\n",
              "      <td>cup</td>\n",
              "      <td>&lt;/s&gt;</td>\n",
              "    </tr>\n",
              "    <tr>\n",
              "      <th>4</th>\n",
              "      <td>4.3212204</td>\n",
              "      <td></td>\n",
              "      <td>&lt;/s&gt;</td>\n",
              "    </tr>\n",
              "    <tr>\n",
              "      <th>5</th>\n",
              "      <td>3.545336</td>\n",
              "      <td></td>\n",
              "      <td></td>\n",
              "    </tr>\n",
              "    <tr>\n",
              "      <th>6</th>\n",
              "      <td>4.467539</td>\n",
              "      <td></td>\n",
              "      <td></td>\n",
              "    </tr>\n",
              "    <tr>\n",
              "      <th>7</th>\n",
              "      <td>2.66823</td>\n",
              "      <td></td>\n",
              "      <td></td>\n",
              "    </tr>\n",
              "    <tr>\n",
              "      <th>8</th>\n",
              "      <td>2.3120317</td>\n",
              "      <td>cup</td>\n",
              "      <td></td>\n",
              "    </tr>\n",
              "    <tr>\n",
              "      <th>9</th>\n",
              "      <td>1.4997869</td>\n",
              "      <td>cup</td>\n",
              "      <td></td>\n",
              "    </tr>\n",
              "    <tr>\n",
              "      <th>10</th>\n",
              "      <td>1.4018304</td>\n",
              "      <td>cup</td>\n",
              "      <td></td>\n",
              "    </tr>\n",
              "    <tr>\n",
              "      <th>11</th>\n",
              "      <td>1.2331572</td>\n",
              "      <td>cup</td>\n",
              "      <td></td>\n",
              "    </tr>\n",
              "    <tr>\n",
              "      <th>12</th>\n",
              "      <td>0.5899901</td>\n",
              "      <td></td>\n",
              "      <td></td>\n",
              "    </tr>\n",
              "    <tr>\n",
              "      <th>13</th>\n",
              "      <td>0.56562585</td>\n",
              "      <td></td>\n",
              "      <td></td>\n",
              "    </tr>\n",
              "    <tr>\n",
              "      <th>14</th>\n",
              "      <td>0.23948711</td>\n",
              "      <td></td>\n",
              "      <td></td>\n",
              "    </tr>\n",
              "    <tr>\n",
              "      <th>15</th>\n",
              "      <td>0.25971645</td>\n",
              "      <td></td>\n",
              "      <td></td>\n",
              "    </tr>\n",
              "    <tr>\n",
              "      <th>16</th>\n",
              "      <td>0.25741327</td>\n",
              "      <td>cup</td>\n",
              "      <td></td>\n",
              "    </tr>\n",
              "    <tr>\n",
              "      <th>17</th>\n",
              "      <td>0.072627455</td>\n",
              "      <td></td>\n",
              "      <td></td>\n",
              "    </tr>\n",
              "    <tr>\n",
              "      <th>18</th>\n",
              "      <td>0.046913236</td>\n",
              "      <td></td>\n",
              "      <td></td>\n",
              "    </tr>\n",
              "    <tr>\n",
              "      <th>19</th>\n",
              "      <td>0.011221401</td>\n",
              "      <td>fluid ounce</td>\n",
              "      <td></td>\n",
              "    </tr>\n",
              "  </tbody>\n",
              "</table>\n",
              "</div>\n",
              "      <button class=\"colab-df-convert\" onclick=\"convertToInteractive('df-e8cf0c35-d9e8-4357-831e-03b7ef478c06')\"\n",
              "              title=\"Convert this dataframe to an interactive table.\"\n",
              "              style=\"display:none;\">\n",
              "        \n",
              "  <svg xmlns=\"http://www.w3.org/2000/svg\" height=\"24px\"viewBox=\"0 0 24 24\"\n",
              "       width=\"24px\">\n",
              "    <path d=\"M0 0h24v24H0V0z\" fill=\"none\"/>\n",
              "    <path d=\"M18.56 5.44l.94 2.06.94-2.06 2.06-.94-2.06-.94-.94-2.06-.94 2.06-2.06.94zm-11 1L8.5 8.5l.94-2.06 2.06-.94-2.06-.94L8.5 2.5l-.94 2.06-2.06.94zm10 10l.94 2.06.94-2.06 2.06-.94-2.06-.94-.94-2.06-.94 2.06-2.06.94z\"/><path d=\"M17.41 7.96l-1.37-1.37c-.4-.4-.92-.59-1.43-.59-.52 0-1.04.2-1.43.59L10.3 9.45l-7.72 7.72c-.78.78-.78 2.05 0 2.83L4 21.41c.39.39.9.59 1.41.59.51 0 1.02-.2 1.41-.59l7.78-7.78 2.81-2.81c.8-.78.8-2.07 0-2.86zM5.41 20L4 18.59l7.72-7.72 1.47 1.35L5.41 20z\"/>\n",
              "  </svg>\n",
              "      </button>\n",
              "      \n",
              "  <style>\n",
              "    .colab-df-container {\n",
              "      display:flex;\n",
              "      flex-wrap:wrap;\n",
              "      gap: 12px;\n",
              "    }\n",
              "\n",
              "    .colab-df-convert {\n",
              "      background-color: #E8F0FE;\n",
              "      border: none;\n",
              "      border-radius: 50%;\n",
              "      cursor: pointer;\n",
              "      display: none;\n",
              "      fill: #1967D2;\n",
              "      height: 32px;\n",
              "      padding: 0 0 0 0;\n",
              "      width: 32px;\n",
              "    }\n",
              "\n",
              "    .colab-df-convert:hover {\n",
              "      background-color: #E2EBFA;\n",
              "      box-shadow: 0px 1px 2px rgba(60, 64, 67, 0.3), 0px 1px 3px 1px rgba(60, 64, 67, 0.15);\n",
              "      fill: #174EA6;\n",
              "    }\n",
              "\n",
              "    [theme=dark] .colab-df-convert {\n",
              "      background-color: #3B4455;\n",
              "      fill: #D2E3FC;\n",
              "    }\n",
              "\n",
              "    [theme=dark] .colab-df-convert:hover {\n",
              "      background-color: #434B5C;\n",
              "      box-shadow: 0px 1px 3px 1px rgba(0, 0, 0, 0.15);\n",
              "      filter: drop-shadow(0px 1px 2px rgba(0, 0, 0, 0.3));\n",
              "      fill: #FFFFFF;\n",
              "    }\n",
              "  </style>\n",
              "\n",
              "      <script>\n",
              "        const buttonEl =\n",
              "          document.querySelector('#df-e8cf0c35-d9e8-4357-831e-03b7ef478c06 button.colab-df-convert');\n",
              "        buttonEl.style.display =\n",
              "          google.colab.kernel.accessAllowed ? 'block' : 'none';\n",
              "\n",
              "        async function convertToInteractive(key) {\n",
              "          const element = document.querySelector('#df-e8cf0c35-d9e8-4357-831e-03b7ef478c06');\n",
              "          const dataTable =\n",
              "            await google.colab.kernel.invokeFunction('convertToInteractive',\n",
              "                                                     [key], {});\n",
              "          if (!dataTable) return;\n",
              "\n",
              "          const docLinkHtml = 'Like what you see? Visit the ' +\n",
              "            '<a target=\"_blank\" href=https://colab.research.google.com/notebooks/data_table.ipynb>data table notebook</a>'\n",
              "            + ' to learn more about interactive tables.';\n",
              "          element.innerHTML = '';\n",
              "          dataTable['output_type'] = 'display_data';\n",
              "          await google.colab.output.renderOutput(dataTable, element);\n",
              "          const docLink = document.createElement('div');\n",
              "          docLink.innerHTML = docLinkHtml;\n",
              "          element.appendChild(docLink);\n",
              "        }\n",
              "      </script>\n",
              "    </div>\n",
              "  </div>\n",
              "  "
            ],
            "text/plain": [
              "         amount         unit ingredient\n",
              "0     14.512605                    </s>\n",
              "1     4.1505537                    </s>\n",
              "2      4.859861                    </s>\n",
              "3     5.5665226          cup       </s>\n",
              "4     4.3212204                    </s>\n",
              "5      3.545336                        \n",
              "6      4.467539                        \n",
              "7       2.66823                        \n",
              "8     2.3120317          cup           \n",
              "9     1.4997869          cup           \n",
              "10    1.4018304          cup           \n",
              "11    1.2331572          cup           \n",
              "12    0.5899901                        \n",
              "13   0.56562585                        \n",
              "14   0.23948711                        \n",
              "15   0.25971645                        \n",
              "16   0.25741327          cup           \n",
              "17  0.072627455                        \n",
              "18  0.046913236                        \n",
              "19  0.011221401  fluid ounce           "
            ]
          },
          "metadata": {},
          "execution_count": 20
        }
      ],
      "source": [
        "def decodeOutput(output: np.ndarray):\n",
        "    # Split output into amounts, units and ingredients \n",
        "    amounts = output[:, :20]\n",
        "    amountColumns = ['amount_' + str(sub) for sub in list(range(0,20))]\n",
        "    units = output[:, 20:len(preprocessor.unitDict)*20+20]\n",
        "    unitColumns = ['unit_' + str(sub) for sub in list(range(0,20))]\n",
        "    ingredients = output[:, len(preprocessor.unitDict)*20+20:]\n",
        "    ingredientColumns = ['ingredient_' + str(sub) for sub in list(range(0,20))]\n",
        "    unitsDecoded = inverseOneHotEncoding(units, preprocessor.unitDict)\n",
        "    ingredientsDecoded = inverseEmbedding(ingredients, preprocessor.ingredientDict)\n",
        "    outputFrame = []\n",
        "    for index in range(len(amounts)):\n",
        "        array = np.stack((amounts[index], unitsDecoded[index], ingredientsDecoded[index]),axis=1)\n",
        "        outputFrame.append(pd.DataFrame(array, columns=[\"amount\", \"unit\", \"ingredient\"]))\n",
        "    return outputFrame\n",
        "\n",
        "df = decodeOutput(fake_data)\n",
        "df[0]"
      ]
    },
    {
      "cell_type": "code",
      "execution_count": 21,
      "metadata": {
        "colab": {
          "base_uri": "https://localhost:8080/",
          "height": 669
        },
        "id": "2dh-6TeiEUPm",
        "outputId": "8787c28b-9503-4444-833a-fdb216a50a46"
      },
      "outputs": [
        {
          "output_type": "execute_result",
          "data": {
            "text/html": [
              "\n",
              "  <div id=\"df-b94e24de-41d5-46c2-8b00-eb6a147be44c\">\n",
              "    <div class=\"colab-df-container\">\n",
              "      <div>\n",
              "<style scoped>\n",
              "    .dataframe tbody tr th:only-of-type {\n",
              "        vertical-align: middle;\n",
              "    }\n",
              "\n",
              "    .dataframe tbody tr th {\n",
              "        vertical-align: top;\n",
              "    }\n",
              "\n",
              "    .dataframe thead th {\n",
              "        text-align: right;\n",
              "    }\n",
              "</style>\n",
              "<table border=\"1\" class=\"dataframe\">\n",
              "  <thead>\n",
              "    <tr style=\"text-align: right;\">\n",
              "      <th></th>\n",
              "      <th>amount</th>\n",
              "      <th>unit</th>\n",
              "      <th>ingredient</th>\n",
              "      <th>orig_amount</th>\n",
              "      <th>orig_unit</th>\n",
              "      <th>orig_ingredient</th>\n",
              "    </tr>\n",
              "  </thead>\n",
              "  <tbody>\n",
              "    <tr>\n",
              "      <th>0</th>\n",
              "      <td>1.0</td>\n",
              "      <td></td>\n",
              "      <td>elbow_macaroni</td>\n",
              "      <td>1.00</td>\n",
              "      <td></td>\n",
              "      <td>elbow macaroni</td>\n",
              "    </tr>\n",
              "    <tr>\n",
              "      <th>1</th>\n",
              "      <td>1.0</td>\n",
              "      <td></td>\n",
              "      <td>cheese</td>\n",
              "      <td>1.00</td>\n",
              "      <td></td>\n",
              "      <td>american cheese</td>\n",
              "    </tr>\n",
              "    <tr>\n",
              "      <th>2</th>\n",
              "      <td>0.5</td>\n",
              "      <td></td>\n",
              "      <td>celery</td>\n",
              "      <td>0.50</td>\n",
              "      <td></td>\n",
              "      <td>celery</td>\n",
              "    </tr>\n",
              "    <tr>\n",
              "      <th>3</th>\n",
              "      <td>0.5</td>\n",
              "      <td></td>\n",
              "      <td>green_peppers</td>\n",
              "      <td>0.50</td>\n",
              "      <td></td>\n",
              "      <td>green peppers</td>\n",
              "    </tr>\n",
              "    <tr>\n",
              "      <th>4</th>\n",
              "      <td>3.0</td>\n",
              "      <td>tablespoon</td>\n",
              "      <td>pimentos</td>\n",
              "      <td>3.00</td>\n",
              "      <td>tablespoon</td>\n",
              "      <td>pimentos</td>\n",
              "    </tr>\n",
              "    <tr>\n",
              "      <th>5</th>\n",
              "      <td>0.5</td>\n",
              "      <td></td>\n",
              "      <td>mayonnaise</td>\n",
              "      <td>0.50</td>\n",
              "      <td></td>\n",
              "      <td>mayonnaise</td>\n",
              "    </tr>\n",
              "    <tr>\n",
              "      <th>6</th>\n",
              "      <td>1.0</td>\n",
              "      <td>tablespoon</td>\n",
              "      <td>vinegar</td>\n",
              "      <td>1.00</td>\n",
              "      <td>tablespoon</td>\n",
              "      <td>vinegar</td>\n",
              "    </tr>\n",
              "    <tr>\n",
              "      <th>7</th>\n",
              "      <td>0.75</td>\n",
              "      <td>teaspoon</td>\n",
              "      <td>salt</td>\n",
              "      <td>0.75</td>\n",
              "      <td>teaspoon</td>\n",
              "      <td>salt</td>\n",
              "    </tr>\n",
              "    <tr>\n",
              "      <th>8</th>\n",
              "      <td>0.5</td>\n",
              "      <td>teaspoon</td>\n",
              "      <td>dill_weed</td>\n",
              "      <td>0.50</td>\n",
              "      <td>teaspoon</td>\n",
              "      <td>dry dill weed</td>\n",
              "    </tr>\n",
              "    <tr>\n",
              "      <th>9</th>\n",
              "      <td>0.0</td>\n",
              "      <td></td>\n",
              "      <td></td>\n",
              "      <td>NaN</td>\n",
              "      <td>NaN</td>\n",
              "      <td>NaN</td>\n",
              "    </tr>\n",
              "    <tr>\n",
              "      <th>10</th>\n",
              "      <td>0.0</td>\n",
              "      <td></td>\n",
              "      <td></td>\n",
              "      <td>NaN</td>\n",
              "      <td>NaN</td>\n",
              "      <td>NaN</td>\n",
              "    </tr>\n",
              "    <tr>\n",
              "      <th>11</th>\n",
              "      <td>0.0</td>\n",
              "      <td></td>\n",
              "      <td></td>\n",
              "      <td>NaN</td>\n",
              "      <td>NaN</td>\n",
              "      <td>NaN</td>\n",
              "    </tr>\n",
              "    <tr>\n",
              "      <th>12</th>\n",
              "      <td>0.0</td>\n",
              "      <td></td>\n",
              "      <td></td>\n",
              "      <td>NaN</td>\n",
              "      <td>NaN</td>\n",
              "      <td>NaN</td>\n",
              "    </tr>\n",
              "    <tr>\n",
              "      <th>13</th>\n",
              "      <td>0.0</td>\n",
              "      <td></td>\n",
              "      <td></td>\n",
              "      <td>NaN</td>\n",
              "      <td>NaN</td>\n",
              "      <td>NaN</td>\n",
              "    </tr>\n",
              "    <tr>\n",
              "      <th>14</th>\n",
              "      <td>0.0</td>\n",
              "      <td></td>\n",
              "      <td></td>\n",
              "      <td>NaN</td>\n",
              "      <td>NaN</td>\n",
              "      <td>NaN</td>\n",
              "    </tr>\n",
              "    <tr>\n",
              "      <th>15</th>\n",
              "      <td>0.0</td>\n",
              "      <td></td>\n",
              "      <td></td>\n",
              "      <td>NaN</td>\n",
              "      <td>NaN</td>\n",
              "      <td>NaN</td>\n",
              "    </tr>\n",
              "    <tr>\n",
              "      <th>16</th>\n",
              "      <td>0.0</td>\n",
              "      <td></td>\n",
              "      <td></td>\n",
              "      <td>NaN</td>\n",
              "      <td>NaN</td>\n",
              "      <td>NaN</td>\n",
              "    </tr>\n",
              "    <tr>\n",
              "      <th>17</th>\n",
              "      <td>0.0</td>\n",
              "      <td></td>\n",
              "      <td></td>\n",
              "      <td>NaN</td>\n",
              "      <td>NaN</td>\n",
              "      <td>NaN</td>\n",
              "    </tr>\n",
              "    <tr>\n",
              "      <th>18</th>\n",
              "      <td>0.0</td>\n",
              "      <td></td>\n",
              "      <td></td>\n",
              "      <td>NaN</td>\n",
              "      <td>NaN</td>\n",
              "      <td>NaN</td>\n",
              "    </tr>\n",
              "    <tr>\n",
              "      <th>19</th>\n",
              "      <td>0.0</td>\n",
              "      <td></td>\n",
              "      <td></td>\n",
              "      <td>NaN</td>\n",
              "      <td>NaN</td>\n",
              "      <td>NaN</td>\n",
              "    </tr>\n",
              "  </tbody>\n",
              "</table>\n",
              "</div>\n",
              "      <button class=\"colab-df-convert\" onclick=\"convertToInteractive('df-b94e24de-41d5-46c2-8b00-eb6a147be44c')\"\n",
              "              title=\"Convert this dataframe to an interactive table.\"\n",
              "              style=\"display:none;\">\n",
              "        \n",
              "  <svg xmlns=\"http://www.w3.org/2000/svg\" height=\"24px\"viewBox=\"0 0 24 24\"\n",
              "       width=\"24px\">\n",
              "    <path d=\"M0 0h24v24H0V0z\" fill=\"none\"/>\n",
              "    <path d=\"M18.56 5.44l.94 2.06.94-2.06 2.06-.94-2.06-.94-.94-2.06-.94 2.06-2.06.94zm-11 1L8.5 8.5l.94-2.06 2.06-.94-2.06-.94L8.5 2.5l-.94 2.06-2.06.94zm10 10l.94 2.06.94-2.06 2.06-.94-2.06-.94-.94-2.06-.94 2.06-2.06.94z\"/><path d=\"M17.41 7.96l-1.37-1.37c-.4-.4-.92-.59-1.43-.59-.52 0-1.04.2-1.43.59L10.3 9.45l-7.72 7.72c-.78.78-.78 2.05 0 2.83L4 21.41c.39.39.9.59 1.41.59.51 0 1.02-.2 1.41-.59l7.78-7.78 2.81-2.81c.8-.78.8-2.07 0-2.86zM5.41 20L4 18.59l7.72-7.72 1.47 1.35L5.41 20z\"/>\n",
              "  </svg>\n",
              "      </button>\n",
              "      \n",
              "  <style>\n",
              "    .colab-df-container {\n",
              "      display:flex;\n",
              "      flex-wrap:wrap;\n",
              "      gap: 12px;\n",
              "    }\n",
              "\n",
              "    .colab-df-convert {\n",
              "      background-color: #E8F0FE;\n",
              "      border: none;\n",
              "      border-radius: 50%;\n",
              "      cursor: pointer;\n",
              "      display: none;\n",
              "      fill: #1967D2;\n",
              "      height: 32px;\n",
              "      padding: 0 0 0 0;\n",
              "      width: 32px;\n",
              "    }\n",
              "\n",
              "    .colab-df-convert:hover {\n",
              "      background-color: #E2EBFA;\n",
              "      box-shadow: 0px 1px 2px rgba(60, 64, 67, 0.3), 0px 1px 3px 1px rgba(60, 64, 67, 0.15);\n",
              "      fill: #174EA6;\n",
              "    }\n",
              "\n",
              "    [theme=dark] .colab-df-convert {\n",
              "      background-color: #3B4455;\n",
              "      fill: #D2E3FC;\n",
              "    }\n",
              "\n",
              "    [theme=dark] .colab-df-convert:hover {\n",
              "      background-color: #434B5C;\n",
              "      box-shadow: 0px 1px 3px 1px rgba(0, 0, 0, 0.15);\n",
              "      filter: drop-shadow(0px 1px 2px rgba(0, 0, 0, 0.3));\n",
              "      fill: #FFFFFF;\n",
              "    }\n",
              "  </style>\n",
              "\n",
              "      <script>\n",
              "        const buttonEl =\n",
              "          document.querySelector('#df-b94e24de-41d5-46c2-8b00-eb6a147be44c button.colab-df-convert');\n",
              "        buttonEl.style.display =\n",
              "          google.colab.kernel.accessAllowed ? 'block' : 'none';\n",
              "\n",
              "        async function convertToInteractive(key) {\n",
              "          const element = document.querySelector('#df-b94e24de-41d5-46c2-8b00-eb6a147be44c');\n",
              "          const dataTable =\n",
              "            await google.colab.kernel.invokeFunction('convertToInteractive',\n",
              "                                                     [key], {});\n",
              "          if (!dataTable) return;\n",
              "\n",
              "          const docLinkHtml = 'Like what you see? Visit the ' +\n",
              "            '<a target=\"_blank\" href=https://colab.research.google.com/notebooks/data_table.ipynb>data table notebook</a>'\n",
              "            + ' to learn more about interactive tables.';\n",
              "          element.innerHTML = '';\n",
              "          dataTable['output_type'] = 'display_data';\n",
              "          await google.colab.output.renderOutput(dataTable, element);\n",
              "          const docLink = document.createElement('div');\n",
              "          docLink.innerHTML = docLinkHtml;\n",
              "          element.appendChild(docLink);\n",
              "        }\n",
              "      </script>\n",
              "    </div>\n",
              "  </div>\n",
              "  "
            ],
            "text/plain": [
              "   amount        unit      ingredient  orig_amount   orig_unit  orig_ingredient\n",
              "0     1.0              elbow_macaroni         1.00               elbow macaroni\n",
              "1     1.0                      cheese         1.00              american cheese\n",
              "2     0.5                      celery         0.50                       celery\n",
              "3     0.5               green_peppers         0.50                green peppers\n",
              "4     3.0  tablespoon        pimentos         3.00  tablespoon         pimentos\n",
              "5     0.5                  mayonnaise         0.50                   mayonnaise\n",
              "6     1.0  tablespoon         vinegar         1.00  tablespoon          vinegar\n",
              "7    0.75    teaspoon            salt         0.75    teaspoon             salt\n",
              "8     0.5    teaspoon       dill_weed         0.50    teaspoon    dry dill weed\n",
              "9     0.0                                      NaN         NaN              NaN\n",
              "10    0.0                                      NaN         NaN              NaN\n",
              "11    0.0                                      NaN         NaN              NaN\n",
              "12    0.0                                      NaN         NaN              NaN\n",
              "13    0.0                                      NaN         NaN              NaN\n",
              "14    0.0                                      NaN         NaN              NaN\n",
              "15    0.0                                      NaN         NaN              NaN\n",
              "16    0.0                                      NaN         NaN              NaN\n",
              "17    0.0                                      NaN         NaN              NaN\n",
              "18    0.0                                      NaN         NaN              NaN\n",
              "19    0.0                                      NaN         NaN              NaN"
            ]
          },
          "metadata": {},
          "execution_count": 21
        }
      ],
      "source": [
        "data = pklData[:1]['ingredients']\n",
        "\n",
        "dataEmbedded = np.array(preprocessor.preProcessInput(data))\n",
        "\n",
        "dataReconverted = decodeOutput(dataEmbedded)\n",
        "pd.concat([dataReconverted[0], data[0].add_prefix(\"orig_\")], axis=1)"
      ]
    },
    {
      "cell_type": "code",
      "execution_count": 22,
      "metadata": {
        "colab": {
          "base_uri": "https://localhost:8080/"
        },
        "id": "V6pqjuU7EUPm",
        "outputId": "d6a17114-e7be-4141-950a-430664a20db8"
      },
      "outputs": [
        {
          "output_type": "stream",
          "name": "stdout",
          "text": [
            "dry_dill_weed\n",
            "dill_weed\n",
            "weed\n"
          ]
        }
      ],
      "source": [
        "string = \"dry dill weed\"\n",
        "name_words = string.lower().split(' ')\n",
        "for i in range(len(name_words)):\n",
        "    print('_'.join(name_words[i:]))"
      ]
    },
    {
      "cell_type": "code",
      "execution_count": 23,
      "metadata": {
        "colab": {
          "base_uri": "https://localhost:8080/"
        },
        "id": "XlXnAae3EUPn",
        "outputId": "f375967d-b038-47e4-a679-74c9560579aa"
      },
      "outputs": [
        {
          "output_type": "stream",
          "name": "stdout",
          "text": [
            "torch.Size([1, 100])\n",
            "torch.Size([1000, 100])\n"
          ]
        }
      ],
      "source": [
        "embeddings = torch.nn.Embedding(1000, 100)\n",
        "my_sample = torch.randn(1, 100)\n",
        "distance = torch.norm(embeddings.weight.data - my_sample, dim=1)\n",
        "nearest = torch.argmin(distance)\n",
        "print(my_sample.shape)\n",
        "print(embeddings.weight.data.shape)"
      ]
    },
    {
      "cell_type": "code",
      "execution_count": 24,
      "metadata": {
        "colab": {
          "base_uri": "https://localhost:8080/",
          "height": 249
        },
        "id": "NQ6kN0hQwzMo",
        "outputId": "24965326-6d74-4404-b2b2-a17b3d31c806"
      },
      "outputs": [
        {
          "output_type": "error",
          "ename": "NameError",
          "evalue": "ignored",
          "traceback": [
            "\u001b[0;31m---------------------------------------------------------------------------\u001b[0m",
            "\u001b[0;31mNameError\u001b[0m                                 Traceback (most recent call last)",
            "\u001b[0;32m<ipython-input-24-48604f2e68b7>\u001b[0m in \u001b[0;36m<module>\u001b[0;34m()\u001b[0m\n\u001b[0;32m----> 1\u001b[0;31m \u001b[0mdf_fake_stripped\u001b[0m \u001b[0;34m=\u001b[0m \u001b[0mdf_fake\u001b[0m\u001b[0;34m.\u001b[0m\u001b[0mdrop\u001b[0m\u001b[0;34m(\u001b[0m\u001b[0mcolumns\u001b[0m\u001b[0;34m=\u001b[0m\u001b[0mdropColumns\u001b[0m\u001b[0;34m)\u001b[0m\u001b[0;34m\u001b[0m\u001b[0;34m\u001b[0m\u001b[0m\n\u001b[0m\u001b[1;32m      2\u001b[0m \u001b[0mdf_fake_stripped_decoded\u001b[0m \u001b[0;34m=\u001b[0m \u001b[0mpd\u001b[0m\u001b[0;34m.\u001b[0m\u001b[0mDataFrame\u001b[0m\u001b[0;34m(\u001b[0m\u001b[0mdata\u001b[0m\u001b[0;34m=\u001b[0m\u001b[0menc\u001b[0m\u001b[0;34m.\u001b[0m\u001b[0minverse_transform\u001b[0m\u001b[0;34m(\u001b[0m\u001b[0mdf_fake_stripped\u001b[0m\u001b[0;34m)\u001b[0m\u001b[0;34m,\u001b[0m \u001b[0mcolumns\u001b[0m\u001b[0;34m=\u001b[0m\u001b[0mframeStripped_cols\u001b[0m\u001b[0;34m)\u001b[0m\u001b[0;34m\u001b[0m\u001b[0;34m\u001b[0m\u001b[0m\n\u001b[1;32m      3\u001b[0m \u001b[0mdf_fake_decoded\u001b[0m \u001b[0;34m=\u001b[0m \u001b[0mpd\u001b[0m\u001b[0;34m.\u001b[0m\u001b[0mconcat\u001b[0m\u001b[0;34m(\u001b[0m\u001b[0;34m[\u001b[0m\u001b[0mdf_fake\u001b[0m\u001b[0;34m[\u001b[0m\u001b[0mdropColumns\u001b[0m\u001b[0;34m]\u001b[0m\u001b[0;34m,\u001b[0m \u001b[0mdf_fake_stripped_decoded\u001b[0m\u001b[0;34m]\u001b[0m\u001b[0;34m,\u001b[0m \u001b[0maxis\u001b[0m\u001b[0;34m=\u001b[0m\u001b[0;36m1\u001b[0m\u001b[0;34m)\u001b[0m\u001b[0;34m\u001b[0m\u001b[0;34m\u001b[0m\u001b[0m\n\u001b[1;32m      4\u001b[0m \u001b[0mdf_fake_decoded\u001b[0m\u001b[0;34m\u001b[0m\u001b[0;34m\u001b[0m\u001b[0m\n",
            "\u001b[0;31mNameError\u001b[0m: name 'dropColumns' is not defined"
          ]
        }
      ],
      "source": [
        "df_fake_stripped = df_fake.drop(columns=dropColumns)\n",
        "df_fake_stripped_decoded = pd.DataFrame(data=enc.inverse_transform(df_fake_stripped), columns=frameStripped_cols)\n",
        "df_fake_decoded = pd.concat([df_fake[dropColumns], df_fake_stripped_decoded], axis=1)\n",
        "df_fake_decoded"
      ]
    },
    {
      "cell_type": "code",
      "execution_count": null,
      "metadata": {
        "id": "Jbh1MGDCwzMo"
      },
      "outputs": [],
      "source": [
        "class Ingredient:\n",
        "    def __init__(self, amount, unit, ingredient) -> None:\n",
        "        self.amount = amount\n",
        "        self.unit = unit\n",
        "        self.ingredient = ingredient\n",
        "\n",
        "    def __repr__(self) -> str:\n",
        "        return \"\\nAmount: \" + str(self.amount) + \"\\n Unit: \" + str(self.unit) + \"\\n Ingredient: \" + str(self.ingredient)\n",
        "\n",
        "recipes = []\n",
        "lenIngredients = int(len(df_fake_decoded.columns)/3)\n",
        "for value in df_fake_decoded.values:\n",
        "    ingredients = []\n",
        "    for index in range(0,lenIngredients):\n",
        "        frame = []\n",
        "        frame.append(value[index])\n",
        "        frame.append(value[(2*index)+lenIngredients])\n",
        "        frame.append(value[(2*index+1)+lenIngredients])\n",
        "        ingredients.append(frame)\n",
        "    recipes.append(ingredients)\n",
        "\n",
        "pd.DataFrame(recipes)"
      ]
    },
    {
      "cell_type": "code",
      "execution_count": null,
      "metadata": {
        "id": "lNbXCbGPwzMp"
      },
      "outputs": [],
      "source": [
        ""
      ]
    }
  ],
  "metadata": {
    "accelerator": "GPU",
    "colab": {
      "machine_shape": "hm",
      "name": "cvae.ipynb",
      "provenance": []
    },
    "interpreter": {
      "hash": "bb875f4a3a3b27879a30076b84fa05114b199e04f8f3aeee4f2ba73a2af38a98"
    },
    "kernelspec": {
      "display_name": "Python 3.6.9 64-bit ('recime': conda)",
      "language": "python",
      "name": "python3"
    },
    "language_info": {
      "codemirror_mode": {
        "name": "ipython",
        "version": 3
      },
      "file_extension": ".py",
      "mimetype": "text/x-python",
      "name": "python",
      "nbconvert_exporter": "python",
      "pygments_lexer": "ipython3",
      "version": "3.7.11"
    },
    "orig_nbformat": 4
  },
  "nbformat": 4,
  "nbformat_minor": 0
}