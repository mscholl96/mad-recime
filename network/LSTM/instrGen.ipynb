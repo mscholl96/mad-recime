{
  "cells": [
    {
      "cell_type": "markdown",
      "metadata": {
        "colab_type": "text",
        "id": "view-in-github"
      },
      "source": [
        "<a href=\"https://colab.research.google.com/github/mscholl96/mad-recime/blob/network_LSTM/network/LSTM/instrGen.ipynb\" target=\"_parent\"><img src=\"https://colab.research.google.com/assets/colab-badge.svg\" alt=\"Open In Colab\"/></a>"
      ]
    },
    {
      "cell_type": "markdown",
      "metadata": {},
      "source": [
        "# Instruction Generation"
      ]
    },
    {
      "cell_type": "markdown",
      "metadata": {
        "id": "8R3yLJ1_xBA2"
      },
      "source": [
        "## Basic includes"
      ]
    },
    {
      "cell_type": "code",
      "execution_count": null,
      "metadata": {
        "colab": {
          "base_uri": "https://localhost:8080/"
        },
        "id": "1XN0Eb2xPKgV",
        "outputId": "e2248dec-5930-4cc3-aa93-dc2f184e9c45"
      },
      "outputs": [],
      "source": [
        "!pip install ipython-autotime\n",
        "%load_ext autotime\n",
        "!pip install word2vec\n",
        "!pip install ray[tune]"
      ]
    },
    {
      "cell_type": "markdown",
      "metadata": {},
      "source": [
        "## Connect colab and set paths"
      ]
    },
    {
      "cell_type": "code",
      "execution_count": null,
      "metadata": {
        "colab": {
          "base_uri": "https://localhost:8080/"
        },
        "id": "06MHgolQxDOM",
        "outputId": "78e0000d-a14d-4715-87f1-92a57bb34e7d"
      },
      "outputs": [],
      "source": [
        "from google.colab import drive\n",
        "drive.mount('/content/drive/')\n",
        "\n",
        "rootDir = '/content/drive/MyDrive/'\n",
        "\n",
        "TIMESTAMP = '2022_03_19'\n",
        "\n",
        "dataPath = rootDir + 'TP2/Datasets/Recipe1M/' + TIMESTAMP\n",
        "tarPath = rootDir + 'Colab Notebooks/recime/data/' + TIMESTAMP\n",
        "\n",
        "\n",
        "import sys\n",
        "sys.path.append(rootDir + 'Colab Notebooks/recime/LSTM')\n"
      ]
    },
    {
      "cell_type": "code",
      "execution_count": 1,
      "metadata": {},
      "outputs": [],
      "source": [
        "# local exec\n",
        "tarPath = 'D:/02_Studium/SBX/mad-recime/data/2022_03_19'\n",
        "\n",
        "import os\n",
        "sys.path.append(os.getcwd())"
      ]
    },
    {
      "cell_type": "markdown",
      "metadata": {
        "id": "lf20_SrBw-i-"
      },
      "source": [
        "## Basic includes"
      ]
    },
    {
      "cell_type": "code",
      "execution_count": 2,
      "metadata": {
        "colab": {
          "background_save": true
        },
        "id": "5pwzWep0k_99",
        "outputId": "6b4ced3b-9595-4178-f8b6-bb941cea90e8"
      },
      "outputs": [],
      "source": [
        "import pandas as pd\n",
        "import numpy as np\n",
        "\n",
        "import torch\n",
        "\n",
        "# Model\n",
        "import torch.nn as nn\n",
        "import torch.nn.functional as F\n",
        "from torch.autograd import Variable \n",
        "from torchsummary import summary\n",
        "\n",
        "# Optimizer\n",
        "import torch.optim as optim\n",
        "from torch.utils.data import Dataset, DataLoader, random_split\n",
        "\n",
        "\n",
        "# PyTorch TensorBoard support\n",
        "from torch.utils.tensorboard import SummaryWriter\n",
        "from datetime import datetime\n",
        "\n",
        "# hyperparameter tuning\n",
        "from ray import tune\n",
        "from ray.tune import CLIReporter\n",
        "from ray.tune.schedulers import ASHAScheduler"
      ]
    },
    {
      "cell_type": "code",
      "execution_count": 3,
      "metadata": {},
      "outputs": [],
      "source": [
        "import src.instGen as instGen\n",
        "import src.preProc as preProc\n",
        "import importlib"
      ]
    },
    {
      "cell_type": "markdown",
      "metadata": {
        "id": "5pOeZxpgBOaY"
      },
      "source": [
        "## Seed"
      ]
    },
    {
      "cell_type": "code",
      "execution_count": 4,
      "metadata": {
        "colab": {
          "background_save": true
        },
        "id": "Jjrp4aPbBL-r",
        "outputId": "c361fcd4-1ef4-4ec0-81c1-a410658cc68f"
      },
      "outputs": [],
      "source": [
        "torch.manual_seed(0)\n",
        "np.random.seed(0)"
      ]
    },
    {
      "cell_type": "markdown",
      "metadata": {},
      "source": [
        "## Training execution\n",
        "mixture of \n",
        "* https://pytorch.org/tutorials/beginner/introyt/trainingyt.html\n",
        "* https://pytorch.org/tutorials/beginner/hyperparameter_tuning_tutorial.html\n",
        "* https://stackoverflow.com/questions/67295494/correct-validation-loss-in-pytorch\n"
      ]
    },
    {
      "cell_type": "markdown",
      "metadata": {},
      "source": [
        "### Set device"
      ]
    },
    {
      "cell_type": "code",
      "execution_count": 5,
      "metadata": {
        "colab": {
          "background_save": true
        },
        "id": "7cAHwy4Y13_r"
      },
      "outputs": [],
      "source": [
        "device = torch.device(\"cuda\" if torch.cuda.is_available() else \"cpu\")\n",
        "if device == \"cuda\":\n",
        "    print(torch.cuda.get_device_name(0))"
      ]
    },
    {
      "cell_type": "markdown",
      "metadata": {
        "id": "fdDLkBBLbNiz"
      },
      "source": [
        "### Set hyperparams"
      ]
    },
    {
      "cell_type": "code",
      "execution_count": 6,
      "metadata": {
        "colab": {
          "background_save": true
        },
        "id": "dHdjyULcN1d1",
        "outputId": "c78e20ff-a87a-4e3c-c634-849b91843d37"
      },
      "outputs": [
        {
          "name": "stdout",
          "output_type": "stream",
          "text": [
            "epochs 1\n",
            "batchSize 2\n",
            "lr 0.001\n",
            "ratio train|val [0.7, 0.3]\n",
            "hiddenDim 10\n",
            "numLayers 1\n",
            "embeddingDim 100\n",
            "\n"
          ]
        }
      ],
      "source": [
        "importlib.reload(instGen)\n",
        "\n",
        "hyperParams = instGen.HyperParams(epochs=1, batchSize=2, hiddenDim=10, numLayers=1, embeddingDim=100)\n",
        "print(hyperParams)"
      ]
    },
    {
      "cell_type": "markdown",
      "metadata": {},
      "source": [
        "### Set dataset"
      ]
    },
    {
      "cell_type": "code",
      "execution_count": 7,
      "metadata": {
        "colab": {
          "background_save": true
        },
        "id": "xWe4t2xp_Ieg",
        "outputId": "69a2a511-b47d-491b-81ab-bc134a039057"
      },
      "outputs": [
        {
          "name": "stderr",
          "output_type": "stream",
          "text": [
            "d:\\02_Studium\\SBX\\mad-recime\\network\\LSTM\\src\\preProc.py:39: FutureWarning: The frame.append method is deprecated and will be removed from pandas in a future version. Use pandas.concat instead.\n",
            "  baseFrame = baseFrame.append(pd.read_pickle(dataSetSplits[split]))\n",
            "d:\\02_Studium\\SBX\\mad-recime\\network\\LSTM\\src\\preProc.py:39: FutureWarning: The frame.append method is deprecated and will be removed from pandas in a future version. Use pandas.concat instead.\n",
            "  baseFrame = baseFrame.append(pd.read_pickle(dataSetSplits[split]))\n"
          ]
        }
      ],
      "source": [
        "importlib.reload(instGen)\n",
        "importlib.reload(preProc)\n",
        "\n",
        "instSet = instGen.InstructionSet(tarPath, setSize=2)\n",
        "\n",
        "# split data set\n",
        "trainNum = int(hyperParams.ratio[0] * len(instSet))\n",
        "valNum = int(hyperParams.ratio[1] * len(instSet))\n",
        "\n",
        "\n",
        "splitSet = random_split(\n",
        "    instSet, [trainNum, valNum], generator=torch.Generator().manual_seed(0))\n",
        "    \n",
        "splitSet = {'train': splitSet[0], 'val': splitSet[1]}\n",
        "\n",
        "testSet = instGen.getPreProcData(tarPath, range(-1,0))"
      ]
    },
    {
      "cell_type": "code",
      "execution_count": 8,
      "metadata": {},
      "outputs": [
        {
          "data": {
            "text/html": [
              "<div>\n",
              "<style scoped>\n",
              "    .dataframe tbody tr th:only-of-type {\n",
              "        vertical-align: middle;\n",
              "    }\n",
              "\n",
              "    .dataframe tbody tr th {\n",
              "        vertical-align: top;\n",
              "    }\n",
              "\n",
              "    .dataframe thead th {\n",
              "        text-align: right;\n",
              "    }\n",
              "</style>\n",
              "<table border=\"1\" class=\"dataframe\">\n",
              "  <thead>\n",
              "    <tr style=\"text-align: right;\">\n",
              "      <th></th>\n",
              "      <th>0</th>\n",
              "    </tr>\n",
              "  </thead>\n",
              "  <tbody>\n",
              "    <tr>\n",
              "      <th>OOV</th>\n",
              "      <td>1</td>\n",
              "    </tr>\n",
              "    <tr>\n",
              "      <th>the</th>\n",
              "      <td>2</td>\n",
              "    </tr>\n",
              "    <tr>\n",
              "      <th>and</th>\n",
              "      <td>3</td>\n",
              "    </tr>\n",
              "    <tr>\n",
              "      <th>in</th>\n",
              "      <td>4</td>\n",
              "    </tr>\n",
              "    <tr>\n",
              "      <th>a</th>\n",
              "      <td>5</td>\n",
              "    </tr>\n",
              "    <tr>\n",
              "      <th>...</th>\n",
              "      <td>...</td>\n",
              "    </tr>\n",
              "    <tr>\n",
              "      <th>verde</th>\n",
              "      <td>1604</td>\n",
              "    </tr>\n",
              "    <tr>\n",
              "      <th>curd</th>\n",
              "      <td>1605</td>\n",
              "    </tr>\n",
              "    <tr>\n",
              "      <th>dj's</th>\n",
              "      <td>1606</td>\n",
              "    </tr>\n",
              "    <tr>\n",
              "      <th>dishes</th>\n",
              "      <td>1607</td>\n",
              "    </tr>\n",
              "    <tr>\n",
              "      <th>deg</th>\n",
              "      <td>1608</td>\n",
              "    </tr>\n",
              "  </tbody>\n",
              "</table>\n",
              "<p>1608 rows × 1 columns</p>\n",
              "</div>"
            ],
            "text/plain": [
              "           0\n",
              "OOV        1\n",
              "the        2\n",
              "and        3\n",
              "in         4\n",
              "a          5\n",
              "...      ...\n",
              "verde   1604\n",
              "curd    1605\n",
              "dj's    1606\n",
              "dishes  1607\n",
              "deg     1608\n",
              "\n",
              "[1608 rows x 1 columns]"
            ]
          },
          "execution_count": 8,
          "metadata": {},
          "output_type": "execute_result"
        }
      ],
      "source": [
        "pd.DataFrame.from_dict(pd.Series(instSet.tokenizer.word_index))"
      ]
    },
    {
      "cell_type": "markdown",
      "metadata": {},
      "source": [
        "### Set model"
      ]
    },
    {
      "cell_type": "code",
      "execution_count": 9,
      "metadata": {
        "colab": {
          "background_save": true
        },
        "id": "oOYpjAPHE3HY"
      },
      "outputs": [
        {
          "name": "stdout",
          "output_type": "stream",
          "text": [
            "EmbedLSTM(\n",
            "  (word_embeddings): Embedding(1608, 100, padding_idx=0)\n",
            "  (lstm): LSTM(100, 10, batch_first=True)\n",
            "  (linear): Linear(in_features=10, out_features=1608, bias=True)\n",
            ")\n"
          ]
        }
      ],
      "source": [
        "importlib.reload(instGen)\n",
        "\n",
        "model = instGen.EmbedLSTM(hyperParams, instSet, device)\n",
        "model.to(device)\n",
        "print(model)\n"
      ]
    },
    {
      "cell_type": "markdown",
      "metadata": {},
      "source": [
        "### Train"
      ]
    },
    {
      "cell_type": "code",
      "execution_count": 10,
      "metadata": {
        "colab": {
          "background_save": true
        },
        "id": "CL4vqYn0aXXk",
        "outputId": "b0cf007d-3585-464d-9ebe-c3f91225a90b"
      },
      "outputs": [
        {
          "name": "stdout",
          "output_type": "stream",
          "text": [
            "Epoch: 1, loss: 7.296695790972028, acc: 0.0185064935064935\n"
          ]
        }
      ],
      "source": [
        "importlib.reload(instGen)\n",
        "\n",
        "instGen.train(splitSet, model, hyperParams, device)"
      ]
    },
    {
      "cell_type": "markdown",
      "metadata": {},
      "source": [
        "### Test"
      ]
    },
    {
      "cell_type": "code",
      "execution_count": 17,
      "metadata": {
        "colab": {
          "background_save": true
        },
        "id": "foZTcBSWXDGp",
        "outputId": "c5ee5e74-792e-439b-a60a-3bf37b5843ce"
      },
      "outputs": [
        {
          "name": "stdout",
          "output_type": "stream",
          "text": [
            "['boneless skinless chicken breasts', 'mustard seeds', 'cumin seeds', 'garam masala', 'olive oil', 'sweet potatoes', 'garlic cloves', 'mustard seeds', 'cumin seeds', 'garam masala', 'cayenne pepper', 'ginger', 'curry powder', 'red curry paste', 'tomato paste', 'cinnamon stick', 'heavy cream', 'salt and pepper']\n",
            "['Chicken', 'and', 'Sweet', 'Potato', 'Curry']\n",
            "[724, 725, 28, 261, 199, 101, 165, 101, 366, 367, 72, 29, 181, 79, 44, 147, 199, 101, 165, 101, 366, 367, 368, 24, 369, 331, 48, 138, 331, 370, 180, 370, 74, 424, 262, 35, 14, 3, 24, 28, 3, 181, 425, 331]\n",
            "36\n",
            "691\n",
            "955\n",
            "36\n",
            "1493\n",
            "955\n",
            "84\n",
            "955\n",
            "960\n",
            "200\n",
            "226\n",
            "1493\n",
            "893\n",
            "1054\n",
            "45\n",
            "1406\n",
            "1493\n",
            "955\n",
            "84\n",
            "955\n",
            "960\n",
            "1394\n",
            "1406\n",
            "1141\n",
            "955\n",
            "955\n",
            "83\n",
            "83\n",
            "955\n",
            "83\n",
            "83\n",
            "83\n",
            "83\n",
            "247\n",
            "1121\n",
            "1054\n",
            "1257\n",
            "1054\n",
            "1141\n",
            "955\n",
            "955\n",
            "1273\n",
            "1273\n",
            "955\n",
            "1013\n",
            "642\n",
            "1055\n",
            "932\n",
            "297\n",
            "667\n",
            "503\n",
            "1394\n",
            "863\n",
            "36\n",
            "1533\n",
            "231\n",
            "133\n",
            "960\n",
            "833\n",
            "1578\n",
            "955\n",
            "1013\n",
            "642\n",
            "1055\n",
            "932\n",
            "297\n",
            "667\n",
            "503\n",
            "1394\n",
            "863\n",
            "36\n",
            "1533\n",
            "231\n",
            "133\n",
            "960\n",
            "833\n",
            "1578\n",
            "955\n",
            "1013\n",
            "642\n",
            "1055\n",
            "932\n",
            "297\n",
            "667\n",
            "503\n",
            "1394\n",
            "863\n",
            "36\n",
            "1533\n",
            "231\n",
            "133\n",
            "960\n",
            "833\n",
            "1578\n",
            "955\n",
            "1013\n",
            "642\n",
            "1055\n",
            "932\n",
            "297\n",
            "667\n",
            "503\n",
            "1394\n",
            "863\n",
            "36\n",
            "1533\n",
            "231\n",
            "133\n",
            "960\n",
            "833\n",
            "1578\n",
            "955\n",
            "1013\n",
            "642\n",
            "1055\n",
            "932\n",
            "297\n",
            "667\n",
            "503\n",
            "1394\n",
            "863\n",
            "36\n",
            "1533\n",
            "231\n",
            "133\n",
            "960\n",
            "833\n",
            "1578\n",
            "955\n",
            "1013\n",
            "642\n",
            "1055\n",
            "932\n",
            "297\n",
            "667\n",
            "503\n",
            "1394\n",
            "863\n",
            "36\n",
            "1533\n",
            "231\n",
            "133\n",
            "960\n",
            "833\n",
            "1578\n",
            "955\n",
            "1013\n",
            "642\n",
            "1055\n",
            "932\n",
            "297\n",
            "667\n",
            "503\n",
            "1394\n",
            "863\n",
            "36\n",
            "1533\n",
            "231\n",
            "133\n",
            "960\n",
            "833\n",
            "1578\n",
            "955\n",
            "1013\n",
            "642\n",
            "1055\n",
            "932\n",
            "297\n",
            "667\n",
            "503\n",
            "1394\n",
            "863\n",
            "36\n",
            "1533\n",
            "231\n",
            "133\n",
            "960\n",
            "833\n",
            "1578\n",
            "955\n",
            "1013\n",
            "642\n",
            "1055\n",
            "932\n",
            "297\n",
            "667\n",
            "503\n",
            "1394\n",
            "863\n",
            "36\n",
            "1533\n",
            "231\n",
            "133\n",
            "960\n",
            "833\n",
            "1578\n",
            "955\n",
            "1013\n",
            "642\n",
            "1055\n",
            "932\n",
            "297\n",
            "667\n",
            "503\n",
            "1394\n",
            "863\n",
            "36\n",
            "1533\n",
            "231\n",
            "133\n",
            "960\n",
            "833\n",
            "1578\n",
            "955\n",
            "1013\n",
            "642\n",
            "1055\n",
            "932\n",
            "297\n",
            "667\n",
            "503\n",
            "1394\n",
            "863\n",
            "36\n",
            "1533\n",
            "231\n",
            "133\n",
            "960\n",
            "833\n",
            "1578\n",
            "955\n",
            "1013\n",
            "642\n",
            "1055\n",
            "932\n",
            "297\n",
            "667\n",
            "503\n",
            "1394\n",
            "863\n",
            "36\n",
            "1533\n",
            "231\n",
            "133\n",
            "960\n",
            "833\n",
            "1578\n",
            "955\n",
            "1013\n",
            "642\n",
            "1055\n",
            "932\n",
            "297\n",
            "667\n",
            "503\n",
            "1394\n",
            "863\n",
            "36\n",
            "1533\n",
            "231\n",
            "133\n",
            "960\n",
            "833\n",
            "1578\n",
            "955\n",
            "1013\n",
            "642\n",
            "1055\n",
            "932\n",
            "297\n",
            "667\n",
            "503\n",
            "1394\n",
            "863\n",
            "36\n",
            "1533\n",
            "231\n",
            "133\n",
            "960\n",
            "833\n",
            "1578\n",
            "955\n",
            "1013\n",
            "642\n",
            "1055\n",
            "932\n",
            "297\n",
            "667\n",
            "503\n",
            "1394\n",
            "863\n",
            "36\n",
            "1533\n",
            "231\n",
            "133\n",
            "960\n",
            "833\n",
            "1578\n",
            "955\n",
            "1013\n",
            "642\n",
            "1055\n",
            "932\n",
            "297\n",
            "667\n",
            "503\n",
            "1394\n",
            "863\n",
            "36\n",
            "1533\n",
            "231\n",
            "133\n",
            "960\n",
            "833\n",
            "1578\n",
            "955\n",
            "1013\n",
            "642\n",
            "1055\n",
            "932\n",
            "297\n",
            "667\n",
            "503\n",
            "1394\n",
            "863\n",
            "36\n",
            "1533\n",
            "231\n",
            "133\n",
            "960\n",
            "833\n",
            "1578\n",
            "955\n",
            "1013\n",
            "642\n",
            "1055\n",
            "932\n",
            "297\n",
            "667\n",
            "503\n",
            "1394\n",
            "863\n",
            "36\n"
          ]
        },
        {
          "data": {
            "text/plain": [
              "'cheesie flatbread beaten drained biscuit so cabbage form thickened chilled large cm side roll fried olives chunk cheesie flatbread beaten drained biscuit so cabbage form thickened chilled large cm side roll fried olives chunk cheesie flatbread beaten drained biscuit so cabbage form thickened chilled large cm side roll fried olives chunk cheesie flatbread beaten drained biscuit so cabbage form thickened chilled large cm side roll fried olives chunk cheesie flatbread beaten drained biscuit so cabbage form thickened chilled large cm side roll fried olives chunk cheesie flatbread beaten drained biscuit so cabbage form thickened chilled large cm side roll fried olives chunk cheesie flatbread beaten drained biscuit so cabbage form thickened chilled large cm side roll fried olives chunk cheesie flatbread beaten drained biscuit so cabbage form thickened chilled large cm side roll fried olives chunk cheesie flatbread beaten drained biscuit so cabbage form thickened chilled large cm side roll fried olives chunk cheesie flatbread beaten drained biscuit so cabbage form thickened chilled large cm side roll fried olives chunk cheesie flatbread beaten drained biscuit so cabbage form thickened chilled large cm side roll fried olives chunk cheesie flatbread beaten drained biscuit so cabbage form thickened chilled large cm side roll fried olives chunk cheesie flatbread beaten drained biscuit so cabbage form thickened chilled large cm side roll fried olives chunk cheesie flatbread beaten drained biscuit so cabbage form thickened chilled large cm side roll fried olives chunk cheesie flatbread beaten drained biscuit so cabbage form thickened chilled large cm side roll fried olives chunk cheesie flatbread beaten drained biscuit so cabbage form thickened chilled large cm side roll fried olives chunk cheesie flatbread beaten drained biscuit so cabbage form thickened chilled large cm side roll fried olives chunk cheesie flatbread beaten drained biscuit so cabbage form thickened chilled large'"
            ]
          },
          "execution_count": 17,
          "metadata": {},
          "output_type": "execute_result"
        }
      ],
      "source": [
        "importlib.reload(instGen)\n",
        "\n",
        "idx = np.random.randint(0, len(testSet))\n",
        "inputIngs = testSet['ingredient'].values[idx]\n",
        "inputTitle = testSet['title'].values[idx].split()\n",
        "seq = instGen.testInputPrep(inputIngs + inputTitle, instSet.tokenizer)\n",
        "print(inputIngs)\n",
        "print(inputTitle)\n",
        "print(seq)\n",
        "instGen.sample(model, instSet, 300, device, initial=seq)\n",
        "# todo: get avg length of instructions"
      ]
    },
    {
      "cell_type": "markdown",
      "metadata": {},
      "source": [
        "## Save model"
      ]
    },
    {
      "cell_type": "code",
      "execution_count": 12,
      "metadata": {},
      "outputs": [
        {
          "ename": "NameError",
          "evalue": "name 'rootDir' is not defined",
          "output_type": "error",
          "traceback": [
            "\u001b[1;31m---------------------------------------------------------------------------\u001b[0m",
            "\u001b[1;31mNameError\u001b[0m                                 Traceback (most recent call last)",
            "\u001b[1;32md:\\02_Studium\\SBX\\mad-recime\\network\\LSTM\\instrGen.ipynb Cell 28'\u001b[0m in \u001b[0;36m<cell line: 1>\u001b[1;34m()\u001b[0m\n\u001b[0;32m      <a href='vscode-notebook-cell:/d%3A/02_Studium/SBX/mad-recime/network/LSTM/instrGen.ipynb#ch0000026?line=0'>1</a>\u001b[0m torch\u001b[39m.\u001b[39msave(model\u001b[39m.\u001b[39mstate_dict(),\n\u001b[1;32m----> <a href='vscode-notebook-cell:/d%3A/02_Studium/SBX/mad-recime/network/LSTM/instrGen.ipynb#ch0000026?line=1'>2</a>\u001b[0m            rootDir \u001b[39m+\u001b[39m \u001b[39m'\u001b[39m\u001b[39mweights/instGenerator_model.pt\u001b[39m\u001b[39m'\u001b[39m)\n",
            "\u001b[1;31mNameError\u001b[0m: name 'rootDir' is not defined"
          ]
        }
      ],
      "source": [
        "torch.save(model.state_dict(),\n",
        "           rootDir + 'weights/instGenerator_model.pt')\n"
      ]
    },
    {
      "cell_type": "markdown",
      "metadata": {
        "id": "XG3G4d4KYlxj"
      },
      "source": [
        "# Tensorboard visualization"
      ]
    },
    {
      "cell_type": "code",
      "execution_count": null,
      "metadata": {
        "colab": {
          "background_save": true
        },
        "id": "NgcJKS4lfsY0",
        "outputId": "8b1fae5d-d406-45af-9c9b-e8de01116936"
      },
      "outputs": [],
      "source": [
        "%load_ext tensorboard\n",
        "%tensorboard --logdir=/content/drive/MyDrive/runs/instTrainer"
      ]
    },
    {
      "cell_type": "code",
      "execution_count": null,
      "metadata": {
        "colab": {
          "background_save": true
        },
        "id": "DhDetWcvllGW"
      },
      "outputs": [],
      "source": []
    }
  ],
  "metadata": {
    "accelerator": "GPU",
    "colab": {
      "authorship_tag": "ABX9TyPSgLtn3eqTae4YUZKrpVBR",
      "background_execution": "on",
      "collapsed_sections": [],
      "include_colab_link": true,
      "machine_shape": "hm",
      "name": "instrGen.ipynb",
      "provenance": []
    },
    "interpreter": {
      "hash": "212bd27585ac1557bfa5ceb5c5ef7b9901e07084b14c30f3b6e0fbf0790365d6"
    },
    "kernelspec": {
      "display_name": "Python 3.8.5 64-bit ('madEnv': conda)",
      "language": "python",
      "name": "python3"
    },
    "language_info": {
      "codemirror_mode": {
        "name": "ipython",
        "version": 3
      },
      "file_extension": ".py",
      "mimetype": "text/x-python",
      "name": "python",
      "nbconvert_exporter": "python",
      "pygments_lexer": "ipython3",
      "version": "3.9.7"
    }
  },
  "nbformat": 4,
  "nbformat_minor": 0
}
