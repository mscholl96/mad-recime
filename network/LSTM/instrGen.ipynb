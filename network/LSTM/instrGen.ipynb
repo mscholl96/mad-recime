{
  "cells": [
    {
      "cell_type": "markdown",
      "metadata": {
        "colab_type": "text",
        "id": "view-in-github"
      },
      "source": [
        "<a href=\"https://colab.research.google.com/github/mscholl96/mad-recime/blob/network_LSTM/network/LSTM/instrGen.ipynb\" target=\"_parent\"><img src=\"https://colab.research.google.com/assets/colab-badge.svg\" alt=\"Open In Colab\"/></a>"
      ]
    },
    {
      "cell_type": "markdown",
      "metadata": {},
      "source": [
        "# Instruction Generation"
      ]
    },
    {
      "cell_type": "markdown",
      "metadata": {
        "id": "8R3yLJ1_xBA2"
      },
      "source": [
        "## Basic includes"
      ]
    },
    {
      "cell_type": "code",
      "execution_count": null,
      "metadata": {
        "colab": {
          "base_uri": "https://localhost:8080/"
        },
        "id": "1XN0Eb2xPKgV",
        "outputId": "e2248dec-5930-4cc3-aa93-dc2f184e9c45"
      },
      "outputs": [],
      "source": [
        "!pip install ipython-autotime\n",
        "%load_ext autotime\n",
        "!pip install word2vec\n",
        "!pip install ray[tune]"
      ]
    },
    {
      "cell_type": "markdown",
      "metadata": {},
      "source": [
        "## Connect colab and set paths"
      ]
    },
    {
      "cell_type": "code",
      "execution_count": null,
      "metadata": {
        "colab": {
          "base_uri": "https://localhost:8080/"
        },
        "id": "06MHgolQxDOM",
        "outputId": "78e0000d-a14d-4715-87f1-92a57bb34e7d"
      },
      "outputs": [],
      "source": [
        "from google.colab import drive\n",
        "drive.mount('/content/drive/')\n",
        "\n",
        "rootDir = '/content/drive/MyDrive/'\n",
        "\n",
        "TIMESTAMP = '2022_03_19'\n",
        "\n",
        "dataPath = rootDir + 'TP2/Datasets/Recipe1M/' + TIMESTAMP\n",
        "tarPath = rootDir + 'Colab Notebooks/recime/data/' + TIMESTAMP\n",
        "\n",
        "\n",
        "import sys\n",
        "sys.path.append(rootDir + 'Colab Notebooks/recime/LSTM')\n"
      ]
    },
    {
      "cell_type": "code",
      "execution_count": null,
      "metadata": {},
      "outputs": [],
      "source": [
        "# local exec\n",
        "tarPath = 'D:/02_Studium/SBX/mad-recime/data/2022_03_19'\n",
        "\n",
        "import os\n",
        "sys.path.append(os.getcwd())"
      ]
    },
    {
      "cell_type": "markdown",
      "metadata": {
        "id": "lf20_SrBw-i-"
      },
      "source": [
        "## Basic includes"
      ]
    },
    {
      "cell_type": "code",
      "execution_count": null,
      "metadata": {
        "colab": {
          "background_save": true
        },
        "id": "5pwzWep0k_99",
        "outputId": "6b4ced3b-9595-4178-f8b6-bb941cea90e8"
      },
      "outputs": [],
      "source": [
        "import pandas as pd\n",
        "import numpy as np\n",
        "\n",
        "import torch\n",
        "\n",
        "# Model\n",
        "import torch.nn as nn\n",
        "import torch.nn.functional as F\n",
        "from torch.autograd import Variable \n",
        "from torchsummary import summary\n",
        "\n",
        "# Optimizer\n",
        "import torch.optim as optim\n",
        "from torch.utils.data import Dataset, DataLoader, random_split\n",
        "\n",
        "\n",
        "# PyTorch TensorBoard support\n",
        "from torch.utils.tensorboard import SummaryWriter\n",
        "from datetime import datetime\n",
        "\n",
        "# hyperparameter tuning\n",
        "from ray import tune\n",
        "from ray.tune import CLIReporter\n",
        "from ray.tune.schedulers import ASHAScheduler"
      ]
    },
    {
      "cell_type": "code",
      "execution_count": null,
      "metadata": {},
      "outputs": [],
      "source": [
        "import src.instGen as instGen\n",
        "import src.preProc as preProc\n",
        "import importlib"
      ]
    },
    {
      "cell_type": "markdown",
      "metadata": {
        "id": "5pOeZxpgBOaY"
      },
      "source": [
        "## Seed"
      ]
    },
    {
      "cell_type": "code",
      "execution_count": null,
      "metadata": {
        "colab": {
          "background_save": true
        },
        "id": "Jjrp4aPbBL-r",
        "outputId": "c361fcd4-1ef4-4ec0-81c1-a410658cc68f"
      },
      "outputs": [],
      "source": [
        "torch.manual_seed(0)\n",
        "np.random.seed(0)"
      ]
    },
    {
      "cell_type": "markdown",
      "metadata": {},
      "source": [
        "## Training execution\n",
        "mixture of \n",
        "* https://pytorch.org/tutorials/beginner/introyt/trainingyt.html\n",
        "* https://pytorch.org/tutorials/beginner/hyperparameter_tuning_tutorial.html\n",
        "* https://stackoverflow.com/questions/67295494/correct-validation-loss-in-pytorch\n"
      ]
    },
    {
      "cell_type": "markdown",
      "metadata": {},
      "source": [
        "### Set device"
      ]
    },
    {
      "cell_type": "code",
      "execution_count": null,
      "metadata": {
        "colab": {
          "background_save": true
        },
        "id": "7cAHwy4Y13_r"
      },
      "outputs": [],
      "source": [
        "device = torch.device(\"cuda\" if torch.cuda.is_available() else \"cpu\")\n",
        "if device == \"cuda\":\n",
        "    print(torch.cuda.get_device_name(0))"
      ]
    },
    {
      "cell_type": "markdown",
      "metadata": {
        "id": "fdDLkBBLbNiz"
      },
      "source": [
        "### Set hyperparams"
      ]
    },
    {
      "cell_type": "code",
      "execution_count": null,
      "metadata": {
        "colab": {
          "background_save": true
        },
        "id": "dHdjyULcN1d1",
        "outputId": "c78e20ff-a87a-4e3c-c634-849b91843d37"
      },
      "outputs": [],
      "source": [
        "importlib.reload(instGen)\n",
        "\n",
        "hyperParams = instGen.HyperParams(epochs=1, batchSize=2, hiddenDim=10, numLayers=1, embeddingDim=100)\n",
        "print(hyperParams)"
      ]
    },
    {
      "cell_type": "markdown",
      "metadata": {},
      "source": [
        "### Set dataset"
      ]
    },
    {
      "cell_type": "code",
      "execution_count": null,
      "metadata": {
        "colab": {
          "background_save": true
        },
        "id": "xWe4t2xp_Ieg",
        "outputId": "69a2a511-b47d-491b-81ab-bc134a039057"
      },
      "outputs": [],
      "source": [
        "importlib.reload(instGen)\n",
        "importlib.reload(preProc)\n",
        "\n",
        "instSet = instGen.InstructionSet(tarPath, setSize=2)\n",
        "\n",
        "# split data set\n",
        "trainNum = int(hyperParams.ratio[0] * len(instSet))\n",
        "valNum = int(hyperParams.ratio[1] * len(instSet))\n",
        "\n",
        "\n",
        "splitSet = random_split(\n",
        "    instSet, [trainNum, valNum], generator=torch.Generator().manual_seed(0))\n",
        "    \n",
        "splitSet = {'train': splitSet[0], 'val': splitSet[1]}\n",
        "\n",
        "testSet = instGen.getPreProcData(tarPath, range(-1,0))"
      ]
    },
    {
      "cell_type": "code",
      "execution_count": null,
      "metadata": {},
      "outputs": [],
      "source": [
        "wordCount = pd.DataFrame.from_dict(pd.Series(instSet.tokenizer.word_counts).sort_values())\n",
        "wordCount"
      ]
    },
    {
      "cell_type": "code",
      "execution_count": null,
      "metadata": {},
      "outputs": [],
      "source": [
        "pd.DataFrame.from_dict(pd.Series(instSet.tokenizer.word_index))"
      ]
    },
    {
      "cell_type": "markdown",
      "metadata": {},
      "source": [
        "### Set model"
      ]
    },
    {
      "cell_type": "code",
      "execution_count": null,
      "metadata": {
        "colab": {
          "background_save": true
        },
        "id": "oOYpjAPHE3HY"
      },
      "outputs": [],
      "source": [
        "importlib.reload(instGen)\n",
        "\n",
        "model = instGen.EmbedLSTM(hyperParams, instSet, device)\n",
        "model.to(device)\n",
        "print(model)\n"
      ]
    },
    {
      "cell_type": "markdown",
      "metadata": {},
      "source": [
        "### Train"
      ]
    },
    {
      "cell_type": "code",
      "execution_count": null,
      "metadata": {
        "colab": {
          "background_save": true
        },
        "id": "CL4vqYn0aXXk",
        "outputId": "b0cf007d-3585-464d-9ebe-c3f91225a90b"
      },
      "outputs": [],
      "source": [
        "importlib.reload(instGen)\n",
        "\n",
        "instGen.train(splitSet, model, hyperParams, device)"
      ]
    },
    {
      "cell_type": "markdown",
      "metadata": {},
      "source": [
        "### Test"
      ]
    },
    {
      "cell_type": "code",
      "execution_count": null,
      "metadata": {
        "colab": {
          "background_save": true
        },
        "id": "foZTcBSWXDGp",
        "outputId": "c5ee5e74-792e-439b-a60a-3bf37b5843ce"
      },
      "outputs": [],
      "source": [
        "importlib.reload(instGen)\n",
        "\n",
        "idx = np.random.randint(0, len(testSet))\n",
        "inputIngs = testSet['ingredient'].values[idx]\n",
        "inputTitle = testSet['title'].values[idx].split()\n",
        "seq = instGen.testInputPrep(inputIngs + inputTitle, instSet.tokenizer)\n",
        "print(inputIngs)\n",
        "print(inputTitle)\n",
        "print(seq)\n",
        "instGen.sample(model, instSet, 300, device, initial=seq).split(instSet.delimiter)\n",
        "# todo: get avg length of instructions"
      ]
    },
    {
      "cell_type": "markdown",
      "metadata": {},
      "source": [
        "## Save model"
      ]
    },
    {
      "cell_type": "code",
      "execution_count": null,
      "metadata": {},
      "outputs": [],
      "source": [
        "torch.save(model.state_dict(),\n",
        "           rootDir + 'weights/instGenerator_model.pt')\n"
      ]
    },
    {
      "cell_type": "markdown",
      "metadata": {
        "id": "XG3G4d4KYlxj"
      },
      "source": [
        "# Tensorboard visualization"
      ]
    },
    {
      "cell_type": "code",
      "execution_count": null,
      "metadata": {
        "colab": {
          "background_save": true
        },
        "id": "NgcJKS4lfsY0",
        "outputId": "8b1fae5d-d406-45af-9c9b-e8de01116936"
      },
      "outputs": [],
      "source": [
        "%load_ext tensorboard\n",
        "%tensorboard --logdir=/content/drive/MyDrive/runs/instTrainer"
      ]
    },
    {
      "cell_type": "code",
      "execution_count": null,
      "metadata": {
        "colab": {
          "background_save": true
        },
        "id": "DhDetWcvllGW"
      },
      "outputs": [],
      "source": []
    }
  ],
  "metadata": {
    "accelerator": "GPU",
    "colab": {
      "authorship_tag": "ABX9TyPSgLtn3eqTae4YUZKrpVBR",
      "background_execution": "on",
      "collapsed_sections": [],
      "include_colab_link": true,
      "machine_shape": "hm",
      "name": "instrGen.ipynb",
      "provenance": []
    },
    "interpreter": {
      "hash": "212bd27585ac1557bfa5ceb5c5ef7b9901e07084b14c30f3b6e0fbf0790365d6"
    },
    "kernelspec": {
      "display_name": "Python 3.8.5 64-bit ('madEnv': conda)",
      "language": "python",
      "name": "python3"
    },
    "language_info": {
      "codemirror_mode": {
        "name": "ipython",
        "version": 3
      },
      "file_extension": ".py",
      "mimetype": "text/x-python",
      "name": "python",
      "nbconvert_exporter": "python",
      "pygments_lexer": "ipython3",
      "version": "3.9.7"
    }
  },
  "nbformat": 4,
  "nbformat_minor": 0
}
