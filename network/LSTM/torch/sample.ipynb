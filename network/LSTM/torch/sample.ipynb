{
  "cells": [
    {
      "cell_type": "code",
      "execution_count": 1,
      "metadata": {
        "colab": {
          "base_uri": "https://localhost:8080/"
        },
        "id": "nPypOzGTMRSW",
        "outputId": "b9f690c5-57cc-4803-acf5-a5244ca4c701"
      },
      "outputs": [
        {
          "name": "stdout",
          "output_type": "stream",
          "text": [
            "time: 0 ns (started: 2022-04-04 18:43:05 +02:00)\n"
          ]
        }
      ],
      "source": [
        "!pip install ipython-autotime --quiet\n",
        "%load_ext autotime"
      ]
    },
    {
      "cell_type": "code",
      "execution_count": 2,
      "metadata": {},
      "outputs": [
        {
          "name": "stdout",
          "output_type": "stream",
          "text": [
            "time: 2.27 s (started: 2022-04-04 18:43:06 +02:00)\n"
          ]
        }
      ],
      "source": [
        "import torch\n",
        "import pandas as pd\n",
        "import random\n",
        "import pickle"
      ]
    },
    {
      "cell_type": "code",
      "execution_count": 3,
      "metadata": {
        "colab": {
          "base_uri": "https://localhost:8080/"
        },
        "id": "rbaav_xh21oK",
        "outputId": "b94475d8-701b-403f-ad27-fcbf0588ca0f"
      },
      "outputs": [
        {
          "name": "stdout",
          "output_type": "stream",
          "text": [
            "time: 15 ms (started: 2022-04-04 18:43:08 +02:00)\n"
          ]
        }
      ],
      "source": [
        "import sys\n",
        "import os\n",
        "\n",
        "try:\n",
        "    from google.colab import drive\n",
        "    drive.mount('/content/drive/')\n",
        "except:\n",
        "    # local exec\n",
        "    logDir = os.path.join(os.getcwd(), 'logs/')\n",
        "    saveDir = os.path.join(os.getcwd(), 'model/')\n",
        "\n",
        "    genIngList = os.path.join(os.getcwd(), 'generatedLists.pkl')\n",
        "\n",
        "\n",
        "    sys.path.append(os.getcwd())\n",
        "else: \n",
        "    rootDir = '/content/drive/MyDrive/'\n",
        "\n",
        "    TIMESTAMP = '2022_03_30'\n",
        "\n",
        "    logDir = rootDir + 'Colab Notebooks/recime/LSTM/torch/logs/'\n",
        "    saveDir = rootDir + 'Colab Notebooks/recime/LSTM/torch/model/'\n",
        "\n",
        "    genIngList = rootDir + 'TP2/Network/VAE/generatedLists.pkl'\n",
        "\n",
        "\n",
        "    sys.path.append(rootDir + 'Colab Notebooks/recime/LSTM/torch')\n",
        "\n",
        "\n",
        "if not os.path.exists(logDir):\n",
        "  print('ERROR: No run logs available')\n",
        "if not os.path.exists(saveDir):\n",
        "  print('ERROR: No saved model available')"
      ]
    },
    {
      "cell_type": "code",
      "execution_count": 4,
      "metadata": {},
      "outputs": [
        {
          "name": "stdout",
          "output_type": "stream",
          "text": [
            "time: 8.52 s (started: 2022-04-04 18:43:08 +02:00)\n"
          ]
        }
      ],
      "source": [
        "import src.instGen as instGen\n",
        "import src.titleGen as titleGen"
      ]
    },
    {
      "cell_type": "code",
      "execution_count": 5,
      "metadata": {
        "colab": {
          "base_uri": "https://localhost:8080/"
        },
        "id": "bW2_f48wLzL0",
        "outputId": "03fc3dc9-4510-4254-81f5-a8c7fa516270"
      },
      "outputs": [
        {
          "name": "stdout",
          "output_type": "stream",
          "text": [
            "time: 62 ms (started: 2022-04-04 18:43:17 +02:00)\n"
          ]
        }
      ],
      "source": [
        "hpTitle = titleGen.HyperParams()\n",
        "hpTitle.setHyperParams(saveDir + 'title/hp.yml')\n",
        "\n",
        "hpInst = instGen.HyperParams()\n",
        "hpInst.setHyperParams(saveDir + 'instruction/hp.yml')\n",
        "\n",
        "device='cpu'\n",
        "\n",
        "with open(saveDir + 'title/titleTok.pkl', 'rb') as inp:\n",
        "    titleTok = pickle.load(inp)\n",
        "\n",
        "with open(saveDir + 'instruction/instTok.pkl', 'rb') as inp:\n",
        "    instTok = pickle.load(inp)"
      ]
    },
    {
      "cell_type": "code",
      "execution_count": 6,
      "metadata": {
        "colab": {
          "base_uri": "https://localhost:8080/"
        },
        "id": "D4MEB7FpLzFv",
        "outputId": "ae7af614-0c5f-4dbf-aea8-d294cb24e39e"
      },
      "outputs": [
        {
          "data": {
            "text/plain": [
              "<All keys matched successfully>"
            ]
          },
          "execution_count": 6,
          "metadata": {},
          "output_type": "execute_result"
        },
        {
          "name": "stdout",
          "output_type": "stream",
          "text": [
            "time: 141 ms (started: 2022-04-04 18:43:18 +02:00)\n"
          ]
        }
      ],
      "source": [
        "titleModel = titleGen.EmbedLSTM(hpTitle, titleTok, device)\n",
        "titleModel.load_state_dict(torch.load(saveDir + 'title/titleGenerator_model_state_dict.pt', map_location=torch.device(device)))\n",
        "\n",
        "instModel = instGen.EmbedLSTM(hpInst, instTok, device)\n",
        "instModel.load_state_dict(torch.load(saveDir + 'instruction/instGenerator_model_state_dict.pt', map_location=torch.device(device)))"
      ]
    },
    {
      "cell_type": "code",
      "execution_count": 7,
      "metadata": {
        "colab": {
          "base_uri": "https://localhost:8080/"
        },
        "id": "JBLGYeFfLzC9",
        "outputId": "983e1659-3693-4135-b8c5-55833db4376f"
      },
      "outputs": [
        {
          "name": "stdout",
          "output_type": "stream",
          "text": [
            "time: 31 ms (started: 2022-04-04 18:43:18 +02:00)\n"
          ]
        }
      ],
      "source": [
        "genIng = pd.read_pickle(genIngList)"
      ]
    },
    {
      "cell_type": "code",
      "execution_count": 8,
      "metadata": {
        "colab": {
          "base_uri": "https://localhost:8080/"
        },
        "id": "FOt8jVKkLy9a",
        "outputId": "2a791777-b8c3-4c40-c331-59c20703152e"
      },
      "outputs": [
        {
          "name": "stdout",
          "output_type": "stream",
          "text": [
            "Amount: [0.35911798, 0.2554059, 0.18835068, 0.25898218] \n",
            "Unit: ['teaspoon', 'centimetre', 'centimetre', 'teaspoon'] \n",
            "Ingredients: ['chicken', 'apples', 'salt', 'salt'] \n",
            "Title: cranberries cranberries cranberries cranberries cranberries \n",
            "Instructions: ['individual individual individual individual individual individual individual individual individual individual individual individual individual individual individual individual individual individual individual individual individual individual individual individual individual individual individual individual individual individual individual individual individual individual individual individual individual individual individual individual individual individual individual individual individual individual individual individual individual individual individual individual individual individual individual individual individual individual individual individual individual individual individual individual individual individual individual individual individual individual individual individual individual individual individual individual individual individual individual individual individual individual individual individual individual individual individual individual individual individual individual individual individual individual individual individual individual individual individual individual individual individual individual individual individual individual individual individual individual individual individual individual individual individual individual individual individual individual individual individual individual individual individual individual individual individual individual individual individual individual individual individual individual individual individual individual individual individual individual individual individual individual individual individual individual individual individual individual individual individual individual individual individual individual individual individual individual individual individual individual individual individual individual individual individual individual individual individual individual individual individual individual individual individual individual individual individual individual individual individual individual individual individual individual individual individual individual individual individual individual individual individual individual individual individual individual individual individual individual individual']\n",
            "\n",
            "Amount: [0.8124113, 0.10848045, 12.51936, 0.08225441, 0.09089708, 0.06943941, 0.058710575] \n",
            "Unit: ['centimetre', 'teaspoon', 'teaspoon', 'teaspoon', 'teaspoon', 'tablespoon', 'centimetre'] \n",
            "Ingredients: ['salt', 'stick', 'prosciutto', 'salt', 'sugar', '', 'prosciutto'] \n",
            "Title: steaks sticks vanilla steaks sticks \n",
            "Instructions: ['actually 2 overnight baking 2-quart simply 2-quart simply 2-quart simply 2-quart simply 2-quart simply 2-quart simply 2-quart simply 2-quart simply 2-quart simply 2-quart simply 2-quart simply 2-quart simply 2-quart simply 2-quart simply 2-quart simply 2-quart simply 2-quart simply 2-quart simply 2-quart simply 2-quart simply 2-quart simply 2-quart simply 2-quart simply 2-quart simply 2-quart simply 2-quart simply 2-quart simply 2-quart simply 2-quart simply 2-quart simply 2-quart simply 2-quart simply 2-quart simply 2-quart simply 2-quart simply 2-quart simply 2-quart simply 2-quart simply 2-quart simply 2-quart simply 2-quart simply 2-quart simply 2-quart simply 2-quart simply 2-quart simply 2-quart simply 2-quart simply 2-quart simply 2-quart simply 2-quart simply 2-quart simply 2-quart simply 2-quart simply 2-quart simply 2-quart simply 2-quart simply 2-quart simply 2-quart simply 2-quart simply 2-quart simply 2-quart simply 2-quart simply 2-quart simply 2-quart simply 2-quart simply 2-quart simply 2-quart simply 2-quart simply 2-quart simply 2-quart simply 2-quart simply 2-quart simply 2-quart simply 2-quart simply 2-quart simply 2-quart simply 2-quart simply 2-quart simply 2-quart simply 2-quart simply 2-quart simply 2-quart simply 2-quart simply 2-quart simply 2-quart simply 2-quart simply 2-quart simply 2-quart simply 2-quart simply 2-quart simply 2-quart simply 2-quart simply 2-quart simply 2-quart simply 2-quart simply 2-quart simply 2-quart simply 2-quart simply']\n",
            "\n",
            "time: 469 ms (started: 2022-04-04 18:43:19 +02:00)\n"
          ]
        }
      ],
      "source": [
        "for idx in range(len(genIng)):\n",
        "  # inputIngs = genIng.loc[idx]['ingredient'].tolist()\n",
        "  inputIngs = random.sample(genIng.loc[idx]['ingredient'].tolist(), len(genIng.loc[idx]['ingredient'].tolist()))\n",
        "  amounts = genIng.loc[idx]['amount'].tolist()\n",
        "  units = genIng.loc[idx]['unit'].tolist()\n",
        "\n",
        "  titleSeq = titleGen.testInputPrep(inputIngs, titleTok)\n",
        "  titleSample = titleGen.sample(titleModel, titleTok, 5, device, initial=titleSeq)\n",
        "\n",
        "  instSeq  = instGen.testInputPrep(inputIngs + titleSample.split(), instTok)\n",
        "  instSample = instGen.sample(instModel, instTok, 200, device, initial=instSeq).split('\\n')\n",
        "\n",
        "  print('Amount: {} \\nUnit: {} \\nIngredients: {} \\nTitle: {} \\nInstructions: {}\\n'.format(amounts, units, inputIngs, titleSample, instSample))"
      ]
    },
    {
      "cell_type": "code",
      "execution_count": null,
      "metadata": {},
      "outputs": [],
      "source": []
    }
  ],
  "metadata": {
    "colab": {
      "collapsed_sections": [],
      "machine_shape": "hm",
      "name": "sample.ipynb",
      "provenance": []
    },
    "kernelspec": {
      "display_name": "Python 3",
      "name": "python3"
    },
    "language_info": {
      "codemirror_mode": {
        "name": "ipython",
        "version": 3
      },
      "file_extension": ".py",
      "mimetype": "text/x-python",
      "name": "python",
      "nbconvert_exporter": "python",
      "pygments_lexer": "ipython3",
      "version": "3.9.7"
    }
  },
  "nbformat": 4,
  "nbformat_minor": 0
}
